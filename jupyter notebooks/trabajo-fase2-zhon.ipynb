{
 "cells": [
  {
   "cell_type": "markdown",
   "metadata": {},
   "source": [
    "<a name=Indice></a>\n",
    "# Índice\n",
    "1. [Análisis de datos](#Análisisdedatos)\n",
    " 1. [Análisis de la variable dependiente](#Análisisdelavariabledependiente)\n",
    " 2. [Análisis de las variables explicativas](#Análisisdelasvariablesexplicativas)\n",
    "2. [Entrenamiento de modelos](#Entrenamientodemodelos)\n",
    "    1. [Preparación de datos](#Preparacióndedatos)\n",
    "    2. [Experimentos](#Experimentos)\n",
    "    3. [Comparación de modelos](#Comparacióndemodelos)\n",
    "    4. [Optimización y combinación de modelos](#Optimizacion)\n",
    "3. [Predicción](#Predicción)\n",
    "4. [Anexo 1: Otros modelos considerados](#Anexo1)\n"
   ]
  },
  {
   "cell_type": "code",
   "execution_count": 3,
   "metadata": {},
   "outputs": [],
   "source": [
    "import pandas as pd\n",
    "import matplotlib.pyplot as plt\n",
    "import seaborn as sns\n",
    "import numpy as np\n",
    "import math\n",
    "import xgboost as xgb\n",
    "from bayes_opt import BayesianOptimization\n",
    "from tpot import TPOTRegressor\n",
    "from mlens.ensemble import SuperLearner,BlendEnsemble\n",
    "from sklearn.metrics import make_scorer,precision_score,accuracy_score,recall_score\n",
    "from sklearn.linear_model import LinearRegression,Lasso,Ridge,ElasticNet,HuberRegressor,SGDRegressor\n",
    "from sklearn.neural_network import MLPRegressor\n",
    "from sklearn.ensemble import RandomForestRegressor,RandomForestClassifier, GradientBoostingRegressor, BaggingRegressor\n",
    "from sklearn.metrics import mean_squared_error,mean_absolute_error,median_absolute_error\n",
    "from sklearn.preprocessing import MinMaxScaler,StandardScaler,RobustScaler\n",
    "from sklearn.model_selection import KFold,cross_val_score\n",
    "from sklearn.tree import DecisionTreeRegressor"
   ]
  },
  {
   "cell_type": "code",
   "execution_count": 4,
   "metadata": {
    "scrolled": true
   },
   "outputs": [
    {
     "name": "stderr",
     "output_type": "stream",
     "text": [
      "c:\\users\\zhon\\appdata\\local\\programs\\python\\python36\\lib\\site-packages\\IPython\\core\\interactiveshell.py:2728: DtypeWarning: Columns (83) have mixed types. Specify dtype option on import or set low_memory=False.\n",
      "  interactivity=interactivity, compiler=compiler, result=result)\n"
     ]
    }
   ],
   "source": [
    "#Cargamos los datos de entrenamiento\n",
    "train_df = pd.read_csv(\"data/original/Dataset_Salesforce_Predictive_Modelling_TRAIN.txt\")"
   ]
  },
  {
   "cell_type": "markdown",
   "metadata": {},
   "source": [
    "El objetivo de este reto es es desarollo de un modelo capaz de predecir el poder adquisitivo de un cliente a partir de una serie de variables disponibles para la entidad financiera. Contar con un modelo preciso que pueda llevar a cabo estars predicciones sin duda conllevaría muchas ventajas a la hora de recomendar productos al cliente que se adecuen a sus necesidades y capacidades."
   ]
  },
  {
   "cell_type": "markdown",
   "metadata": {},
   "source": [
    "<a name=Análisisdedatos></a>\n",
    "# Análisis de datos\n",
    "[Volver al Indice](#Indice)"
   ]
  },
  {
   "cell_type": "markdown",
   "metadata": {},
   "source": [
    " Veamos un ejemplo de los datos con los que contamos."
   ]
  },
  {
   "cell_type": "code",
   "execution_count": 5,
   "metadata": {},
   "outputs": [
    {
     "data": {
      "text/html": [
       "<div>\n",
       "<style scoped>\n",
       "    .dataframe tbody tr th:only-of-type {\n",
       "        vertical-align: middle;\n",
       "    }\n",
       "\n",
       "    .dataframe tbody tr th {\n",
       "        vertical-align: top;\n",
       "    }\n",
       "\n",
       "    .dataframe thead th {\n",
       "        text-align: right;\n",
       "    }\n",
       "</style>\n",
       "<table border=\"1\" class=\"dataframe\">\n",
       "  <thead>\n",
       "    <tr style=\"text-align: right;\">\n",
       "      <th></th>\n",
       "      <th>ID_Customer</th>\n",
       "      <th>Imp_Cons_01</th>\n",
       "      <th>Imp_Cons_02</th>\n",
       "      <th>Imp_Cons_03</th>\n",
       "      <th>Imp_Cons_04</th>\n",
       "      <th>Imp_Cons_05</th>\n",
       "      <th>Imp_Cons_06</th>\n",
       "      <th>Imp_Cons_07</th>\n",
       "      <th>Imp_Cons_08</th>\n",
       "      <th>Imp_Cons_09</th>\n",
       "      <th>...</th>\n",
       "      <th>Num_Oper_17</th>\n",
       "      <th>Num_Oper_18</th>\n",
       "      <th>Num_Oper_19</th>\n",
       "      <th>Num_Oper_20</th>\n",
       "      <th>Socio_Demo_01</th>\n",
       "      <th>Socio_Demo_02</th>\n",
       "      <th>Socio_Demo_03</th>\n",
       "      <th>Socio_Demo_04</th>\n",
       "      <th>Socio_Demo_05</th>\n",
       "      <th>Poder_Adquisitivo</th>\n",
       "    </tr>\n",
       "  </thead>\n",
       "  <tbody>\n",
       "    <tr>\n",
       "      <th>0</th>\n",
       "      <td>TR000001</td>\n",
       "      <td>0.0</td>\n",
       "      <td>0.00</td>\n",
       "      <td>0.000000</td>\n",
       "      <td>63.067778</td>\n",
       "      <td>0.0</td>\n",
       "      <td>52.196667</td>\n",
       "      <td>0.0</td>\n",
       "      <td>0.000000</td>\n",
       "      <td>0.00</td>\n",
       "      <td>...</td>\n",
       "      <td>2</td>\n",
       "      <td>0</td>\n",
       "      <td>0</td>\n",
       "      <td>0</td>\n",
       "      <td>09991</td>\n",
       "      <td>1</td>\n",
       "      <td>70.44</td>\n",
       "      <td>3</td>\n",
       "      <td>20</td>\n",
       "      <td>19709.915000</td>\n",
       "    </tr>\n",
       "    <tr>\n",
       "      <th>1</th>\n",
       "      <td>TR000002</td>\n",
       "      <td>0.0</td>\n",
       "      <td>100.58</td>\n",
       "      <td>595.454545</td>\n",
       "      <td>10.899000</td>\n",
       "      <td>0.0</td>\n",
       "      <td>39.473636</td>\n",
       "      <td>0.0</td>\n",
       "      <td>62.268571</td>\n",
       "      <td>42.61</td>\n",
       "      <td>...</td>\n",
       "      <td>4</td>\n",
       "      <td>1</td>\n",
       "      <td>0</td>\n",
       "      <td>0</td>\n",
       "      <td>09991</td>\n",
       "      <td>2</td>\n",
       "      <td>71.87</td>\n",
       "      <td>3</td>\n",
       "      <td>29</td>\n",
       "      <td>37497.492167</td>\n",
       "    </tr>\n",
       "    <tr>\n",
       "      <th>2</th>\n",
       "      <td>TR000003</td>\n",
       "      <td>0.0</td>\n",
       "      <td>0.00</td>\n",
       "      <td>0.000000</td>\n",
       "      <td>0.000000</td>\n",
       "      <td>0.0</td>\n",
       "      <td>0.000000</td>\n",
       "      <td>0.0</td>\n",
       "      <td>0.000000</td>\n",
       "      <td>0.00</td>\n",
       "      <td>...</td>\n",
       "      <td>2</td>\n",
       "      <td>0</td>\n",
       "      <td>0</td>\n",
       "      <td>0</td>\n",
       "      <td>0X301</td>\n",
       "      <td>2</td>\n",
       "      <td>72.48</td>\n",
       "      <td>2</td>\n",
       "      <td>41</td>\n",
       "      <td>4802.970000</td>\n",
       "    </tr>\n",
       "    <tr>\n",
       "      <th>3</th>\n",
       "      <td>TR000004</td>\n",
       "      <td>0.0</td>\n",
       "      <td>0.00</td>\n",
       "      <td>0.000000</td>\n",
       "      <td>0.000000</td>\n",
       "      <td>0.0</td>\n",
       "      <td>0.000000</td>\n",
       "      <td>0.0</td>\n",
       "      <td>0.000000</td>\n",
       "      <td>0.00</td>\n",
       "      <td>...</td>\n",
       "      <td>0</td>\n",
       "      <td>0</td>\n",
       "      <td>0</td>\n",
       "      <td>0</td>\n",
       "      <td>0X301</td>\n",
       "      <td>2</td>\n",
       "      <td>86.60</td>\n",
       "      <td>3</td>\n",
       "      <td>38</td>\n",
       "      <td>8295.770000</td>\n",
       "    </tr>\n",
       "    <tr>\n",
       "      <th>4</th>\n",
       "      <td>TR000005</td>\n",
       "      <td>0.0</td>\n",
       "      <td>0.00</td>\n",
       "      <td>0.000000</td>\n",
       "      <td>0.000000</td>\n",
       "      <td>0.0</td>\n",
       "      <td>0.000000</td>\n",
       "      <td>0.0</td>\n",
       "      <td>0.000000</td>\n",
       "      <td>0.00</td>\n",
       "      <td>...</td>\n",
       "      <td>0</td>\n",
       "      <td>0</td>\n",
       "      <td>0</td>\n",
       "      <td>0</td>\n",
       "      <td>09991</td>\n",
       "      <td>2</td>\n",
       "      <td>92.48</td>\n",
       "      <td>4</td>\n",
       "      <td>35</td>\n",
       "      <td>24149.321667</td>\n",
       "    </tr>\n",
       "  </tbody>\n",
       "</table>\n",
       "<p>5 rows × 89 columns</p>\n",
       "</div>"
      ],
      "text/plain": [
       "  ID_Customer  Imp_Cons_01  Imp_Cons_02  Imp_Cons_03  Imp_Cons_04  \\\n",
       "0    TR000001          0.0         0.00     0.000000    63.067778   \n",
       "1    TR000002          0.0       100.58   595.454545    10.899000   \n",
       "2    TR000003          0.0         0.00     0.000000     0.000000   \n",
       "3    TR000004          0.0         0.00     0.000000     0.000000   \n",
       "4    TR000005          0.0         0.00     0.000000     0.000000   \n",
       "\n",
       "   Imp_Cons_05  Imp_Cons_06  Imp_Cons_07  Imp_Cons_08  Imp_Cons_09  \\\n",
       "0          0.0    52.196667          0.0     0.000000         0.00   \n",
       "1          0.0    39.473636          0.0    62.268571        42.61   \n",
       "2          0.0     0.000000          0.0     0.000000         0.00   \n",
       "3          0.0     0.000000          0.0     0.000000         0.00   \n",
       "4          0.0     0.000000          0.0     0.000000         0.00   \n",
       "\n",
       "         ...          Num_Oper_17  Num_Oper_18  Num_Oper_19  Num_Oper_20  \\\n",
       "0        ...                    2            0            0            0   \n",
       "1        ...                    4            1            0            0   \n",
       "2        ...                    2            0            0            0   \n",
       "3        ...                    0            0            0            0   \n",
       "4        ...                    0            0            0            0   \n",
       "\n",
       "   Socio_Demo_01  Socio_Demo_02  Socio_Demo_03  Socio_Demo_04  Socio_Demo_05  \\\n",
       "0          09991              1          70.44              3             20   \n",
       "1          09991              2          71.87              3             29   \n",
       "2          0X301              2          72.48              2             41   \n",
       "3          0X301              2          86.60              3             38   \n",
       "4          09991              2          92.48              4             35   \n",
       "\n",
       "   Poder_Adquisitivo  \n",
       "0       19709.915000  \n",
       "1       37497.492167  \n",
       "2        4802.970000  \n",
       "3        8295.770000  \n",
       "4       24149.321667  \n",
       "\n",
       "[5 rows x 89 columns]"
      ]
     },
     "execution_count": 5,
     "metadata": {},
     "output_type": "execute_result"
    }
   ],
   "source": [
    "train_df.head()"
   ]
  },
  {
   "cell_type": "code",
   "execution_count": 6,
   "metadata": {
    "scrolled": false
   },
   "outputs": [
    {
     "data": {
      "text/plain": [
       "Index(['ID_Customer', 'Imp_Cons_01', 'Imp_Cons_02', 'Imp_Cons_03',\n",
       "       'Imp_Cons_04', 'Imp_Cons_05', 'Imp_Cons_06', 'Imp_Cons_07',\n",
       "       'Imp_Cons_08', 'Imp_Cons_09', 'Imp_Cons_10', 'Imp_Cons_11',\n",
       "       'Imp_Cons_12', 'Imp_Cons_13', 'Imp_Cons_14', 'Imp_Cons_15',\n",
       "       'Imp_Cons_16', 'Imp_Cons_17', 'Imp_Sal_01', 'Imp_Sal_02', 'Imp_Sal_03',\n",
       "       'Imp_Sal_04', 'Imp_Sal_05', 'Imp_Sal_06', 'Imp_Sal_07', 'Imp_Sal_08',\n",
       "       'Imp_Sal_09', 'Imp_Sal_10', 'Imp_Sal_11', 'Imp_Sal_12', 'Imp_Sal_13',\n",
       "       'Imp_Sal_14', 'Imp_Sal_15', 'Imp_Sal_16', 'Imp_Sal_17', 'Imp_Sal_18',\n",
       "       'Imp_Sal_19', 'Imp_Sal_20', 'Imp_Sal_21', 'Ind_Prod_01', 'Ind_Prod_02',\n",
       "       'Ind_Prod_03', 'Ind_Prod_04', 'Ind_Prod_05', 'Ind_Prod_06',\n",
       "       'Ind_Prod_07', 'Ind_Prod_08', 'Ind_Prod_09', 'Ind_Prod_10',\n",
       "       'Ind_Prod_11', 'Ind_Prod_12', 'Ind_Prod_13', 'Ind_Prod_14',\n",
       "       'Ind_Prod_15', 'Ind_Prod_16', 'Ind_Prod_17', 'Ind_Prod_18',\n",
       "       'Ind_Prod_19', 'Ind_Prod_20', 'Ind_Prod_21', 'Ind_Prod_22',\n",
       "       'Ind_Prod_23', 'Ind_Prod_24', 'Num_Oper_01', 'Num_Oper_02',\n",
       "       'Num_Oper_03', 'Num_Oper_04', 'Num_Oper_05', 'Num_Oper_06',\n",
       "       'Num_Oper_07', 'Num_Oper_08', 'Num_Oper_09', 'Num_Oper_10',\n",
       "       'Num_Oper_11', 'Num_Oper_12', 'Num_Oper_13', 'Num_Oper_14',\n",
       "       'Num_Oper_15', 'Num_Oper_16', 'Num_Oper_17', 'Num_Oper_18',\n",
       "       'Num_Oper_19', 'Num_Oper_20', 'Socio_Demo_01', 'Socio_Demo_02',\n",
       "       'Socio_Demo_03', 'Socio_Demo_04', 'Socio_Demo_05', 'Poder_Adquisitivo'],\n",
       "      dtype='object')"
      ]
     },
     "execution_count": 6,
     "metadata": {},
     "output_type": "execute_result"
    }
   ],
   "source": [
    "train_df.columns"
   ]
  },
  {
   "cell_type": "code",
   "execution_count": 7,
   "metadata": {},
   "outputs": [
    {
     "data": {
      "text/plain": [
       "ID_Customer           object\n",
       "Imp_Cons_01          float64\n",
       "Imp_Cons_02          float64\n",
       "Imp_Cons_03          float64\n",
       "Imp_Cons_04          float64\n",
       "Imp_Cons_05          float64\n",
       "Imp_Cons_06          float64\n",
       "Imp_Cons_07          float64\n",
       "Imp_Cons_08          float64\n",
       "Imp_Cons_09          float64\n",
       "Imp_Cons_10          float64\n",
       "Imp_Cons_11          float64\n",
       "Imp_Cons_12          float64\n",
       "Imp_Cons_13          float64\n",
       "Imp_Cons_14          float64\n",
       "Imp_Cons_15          float64\n",
       "Imp_Cons_16          float64\n",
       "Imp_Cons_17          float64\n",
       "Imp_Sal_01           float64\n",
       "Imp_Sal_02           float64\n",
       "Imp_Sal_03           float64\n",
       "Imp_Sal_04           float64\n",
       "Imp_Sal_05           float64\n",
       "Imp_Sal_06           float64\n",
       "Imp_Sal_07           float64\n",
       "Imp_Sal_08           float64\n",
       "Imp_Sal_09           float64\n",
       "Imp_Sal_10           float64\n",
       "Imp_Sal_11           float64\n",
       "Imp_Sal_12           float64\n",
       "                      ...   \n",
       "Ind_Prod_21            int64\n",
       "Ind_Prod_22            int64\n",
       "Ind_Prod_23            int64\n",
       "Ind_Prod_24            int64\n",
       "Num_Oper_01            int64\n",
       "Num_Oper_02            int64\n",
       "Num_Oper_03            int64\n",
       "Num_Oper_04            int64\n",
       "Num_Oper_05            int64\n",
       "Num_Oper_06            int64\n",
       "Num_Oper_07            int64\n",
       "Num_Oper_08            int64\n",
       "Num_Oper_09            int64\n",
       "Num_Oper_10            int64\n",
       "Num_Oper_11            int64\n",
       "Num_Oper_12            int64\n",
       "Num_Oper_13            int64\n",
       "Num_Oper_14            int64\n",
       "Num_Oper_15            int64\n",
       "Num_Oper_16            int64\n",
       "Num_Oper_17            int64\n",
       "Num_Oper_18            int64\n",
       "Num_Oper_19            int64\n",
       "Num_Oper_20            int64\n",
       "Socio_Demo_01         object\n",
       "Socio_Demo_02          int64\n",
       "Socio_Demo_03        float64\n",
       "Socio_Demo_04          int64\n",
       "Socio_Demo_05          int64\n",
       "Poder_Adquisitivo    float64\n",
       "Length: 89, dtype: object"
      ]
     },
     "execution_count": 7,
     "metadata": {},
     "output_type": "execute_result"
    }
   ],
   "source": [
    "train_df.dtypes"
   ]
  },
  {
   "cell_type": "code",
   "execution_count": 8,
   "metadata": {},
   "outputs": [
    {
     "data": {
      "text/plain": [
       "363834"
      ]
     },
     "execution_count": 8,
     "metadata": {},
     "output_type": "execute_result"
    }
   ],
   "source": [
    "len(train_df)"
   ]
  },
  {
   "cell_type": "markdown",
   "metadata": {},
   "source": [
    "Tal y como se explica en el enunciado, contamos con 88 variables que usar para predecir el poder adquisitivo y la información de cerca de 363.000 clientes con los que entrenar nuestro modelo. Esto hace que contemos con un número importante de datos que nos puede ayudar a desarrollar un modelo que tenga un rendimiento adecuado."
   ]
  },
  {
   "cell_type": "markdown",
   "metadata": {},
   "source": [
    "<a name=Análisisdelavariabledependiente> </a>\n",
    "## Análisis de la variable dependiente \n",
    "Miremos con más detenimiento la variable a predecir.\n"
   ]
  },
  {
   "cell_type": "code",
   "execution_count": 9,
   "metadata": {
    "scrolled": true
   },
   "outputs": [
    {
     "data": {
      "text/plain": [
       "count    3.638340e+05\n",
       "mean     1.642141e+04\n",
       "std      2.436773e+04\n",
       "min      3.600960e+03\n",
       "25%      9.300933e+03\n",
       "50%      1.292517e+04\n",
       "75%      1.894854e+04\n",
       "max      5.040000e+06\n",
       "Name: Poder_Adquisitivo, dtype: float64"
      ]
     },
     "execution_count": 9,
     "metadata": {},
     "output_type": "execute_result"
    }
   ],
   "source": [
    "train_df[\"Poder_Adquisitivo\"].describe()"
   ]
  },
  {
   "cell_type": "code",
   "execution_count": 10,
   "metadata": {},
   "outputs": [
    {
     "data": {
      "text/plain": [
       "<matplotlib.axes._subplots.AxesSubplot at 0x1dd01142128>"
      ]
     },
     "execution_count": 10,
     "metadata": {},
     "output_type": "execute_result"
    },
    {
     "data": {
      "image/png": "[encoded data removed]",
      "text/plain": [
       "<matplotlib.figure.Figure at 0x1dd5fd6f128>"
      ]
     },
     "metadata": {},
     "output_type": "display_data"
    }
   ],
   "source": [
    "sns.distplot(train_df[\"Poder_Adquisitivo\"])"
   ]
  },
  {
   "cell_type": "code",
   "execution_count": 11,
   "metadata": {},
   "outputs": [
    {
     "name": "stdout",
     "output_type": "stream",
     "text": [
      "Skewness: 55.919866\n",
      "Kurtosis: 7106.469270\n"
     ]
    }
   ],
   "source": [
    "print(\"Skewness: %f\" % train_df[\"Poder_Adquisitivo\"].skew())\n",
    "print(\"Kurtosis: %f\" % train_df[\"Poder_Adquisitivo\"].kurt())"
   ]
  },
  {
   "cell_type": "raw",
   "metadata": {},
   "source": [
    "Tal y como se puede observar en el gráfico, esta variable presenta valores extremos de skewness y kurtosis, que se manifiestan en la larga cola derecha que presenta. Esto quiere decir que existe algunos clientes que presentan valores extremadamente altos de poder adquisitivo que están muy lejos del resto. Será necesario tener en cuenta este hecho para evitar que los valores extremos puedan afectar negativamente a nuestro sistema.\n",
    "\n",
    "Veamos de manera más detallada aquellos valores que tradicionalmente no se considerarían outliers."
   ]
  },
  {
   "cell_type": "code",
   "execution_count": 12,
   "metadata": {},
   "outputs": [
    {
     "data": {
      "text/plain": [
       "<matplotlib.axes._subplots.AxesSubplot at 0x1dd000ba0b8>"
      ]
     },
     "execution_count": 12,
     "metadata": {},
     "output_type": "execute_result"
    },
    {
     "data": {
      "image/png": "[encoded data removed]",
      "text/plain": [
       "<matplotlib.figure.Figure at 0x1dd00090320>"
      ]
     },
     "metadata": {},
     "output_type": "display_data"
    }
   ],
   "source": [
    "q1 = train_df[\"Poder_Adquisitivo\"].quantile(0.25)\n",
    "q3 = train_df[\"Poder_Adquisitivo\"].quantile(0.75)\n",
    "iqr = q3 - q1\n",
    "fence_low  = q1 - 1.5 * iqr\n",
    "fence_high = q3 + 1.5 * iqr\n",
    "\n",
    "train_df_no_outliers = train_df.loc[(train_df[\"Poder_Adquisitivo\"] > fence_low) & (train_df[\"Poder_Adquisitivo\"] < fence_high)]\n",
    "sns.distplot(train_df_no_outliers[\"Poder_Adquisitivo\"])"
   ]
  },
  {
   "cell_type": "code",
   "execution_count": 13,
   "metadata": {},
   "outputs": [
    {
     "name": "stdout",
     "output_type": "stream",
     "text": [
      "Skewness: 0.823076\n",
      "Kurtosis: 0.098508\n"
     ]
    }
   ],
   "source": [
    "print(\"Skewness: %f\" % train_df_no_outliers[\"Poder_Adquisitivo\"].skew())\n",
    "print(\"Kurtosis: %f\" % train_df_no_outliers[\"Poder_Adquisitivo\"].kurt())"
   ]
  },
  {
   "cell_type": "code",
   "execution_count": 14,
   "metadata": {},
   "outputs": [
    {
     "name": "stdout",
     "output_type": "stream",
     "text": [
      "Porcentaje de datos eliminados:\n",
      "0.057278868934733974\n"
     ]
    }
   ],
   "source": [
    "print(\"Porcentaje de datos eliminados:\")\n",
    "print((len(train_df.index)-len(train_df_no_outliers.index))/len(train_df.index))"
   ]
  },
  {
   "cell_type": "markdown",
   "metadata": {},
   "source": [
    "Eliminando de esta manera los valores extremos, que representan alrededor del 5% de los datos totales, la distribución ahora presenta unos valores de skewness y kurtosis mucho más aceptables que permitan el entrenamiento de un modelo.\n",
    "\n",
    "Evidentemente esta eliminación se va a realizar únicamente a la hora de entrenar, nunca a la hora de evaluar"
   ]
  },
  {
   "cell_type": "markdown",
   "metadata": {},
   "source": [
    "<a name=Análisisdelasvariablesexplicativas></a>\n",
    "## Análisis de las variables explicativas"
   ]
  },
  {
   "cell_type": "markdown",
   "metadata": {},
   "source": [
    "De las variables explicativas, sabemos que contamos con algunas que son de tipo categórico en vez de númerico. Empezemos explorando estas variables."
   ]
  },
  {
   "cell_type": "code",
   "execution_count": 15,
   "metadata": {
    "scrolled": true
   },
   "outputs": [
    {
     "data": {
      "text/plain": [
       "09991     97865\n",
       "09992     26997\n",
       "09994     20758\n",
       "09993     15307\n",
       "0X301     15232\n",
       "09511     13078\n",
       "05220      8303\n",
       "06110      7633\n",
       "09512      7098\n",
       "06120      4987\n",
       "07121      4530\n",
       "04500      3986\n",
       "05120      3554\n",
       "08432      2732\n",
       "09210      2596\n",
       "9992.0     2586\n",
       "06300      2501\n",
       "9991.0     2443\n",
       "09602      2324\n",
       "04111      2221\n",
       "04309      2181\n",
       "09700      1914\n",
       "05000      1595\n",
       "03613      1565\n",
       "02240      1527\n",
       "02230      1491\n",
       "9512.0     1481\n",
       "9994.0     1407\n",
       "03611      1328\n",
       "05110      1326\n",
       "          ...  \n",
       "2936.0        1\n",
       "2933.0        1\n",
       "2462.0        1\n",
       "2463.0        1\n",
       "2473.0        1\n",
       "2653          1\n",
       "2325          1\n",
       "2324.0        1\n",
       "2323.0        1\n",
       "3316.0        1\n",
       "7891.0        1\n",
       "3539          1\n",
       "7894.0        1\n",
       "9812          1\n",
       "3533          1\n",
       "3531.0        1\n",
       "2640.0        1\n",
       "8114          1\n",
       "2154          1\n",
       "8132          1\n",
       "2156          1\n",
       "2157          1\n",
       "2158.0        1\n",
       "8141          1\n",
       "9542.0        1\n",
       "3403.0        1\n",
       "3323          1\n",
       "2311          1\n",
       "3317          1\n",
       "5892.0        1\n",
       "Name: Socio_Demo_01, Length: 912, dtype: int64"
      ]
     },
     "execution_count": 15,
     "metadata": {},
     "output_type": "execute_result"
    }
   ],
   "source": [
    "train_df_no_outliers[\"Socio_Demo_01\"].value_counts()"
   ]
  },
  {
   "cell_type": "markdown",
   "metadata": {},
   "source": [
    "Podemos observar como Socio_Demo_01 que cuenta que muchos valores que solo aparecen un número muy bajo de veces. A la hora de transformar para su uso, es probable que la inclusión de los 921 valores posibles no aporte información discriminativa y solo sirva para aumentar el número de dimensiones. Una primera aproximación que mantenga un equilibrio entre complejidad y utilidad puede ser usar solo un número de estos valores, aquellos que aparezcan un mayor número de veces, y condensar el resto en una categoría \"Other\"."
   ]
  },
  {
   "cell_type": "code",
   "execution_count": 16,
   "metadata": {},
   "outputs": [
    {
     "data": {
      "text/plain": [
       "09991    97865\n",
       "09992    26997\n",
       "09994    20758\n",
       "09993    15307\n",
       "0X301    15232\n",
       "09511    13078\n",
       "05220     8303\n",
       "06110     7633\n",
       "09512     7098\n",
       "06120     4987\n",
       "Name: Socio_Demo_01, dtype: int64"
      ]
     },
     "execution_count": 16,
     "metadata": {},
     "output_type": "execute_result"
    }
   ],
   "source": [
    "topk_socio_01 = train_df_no_outliers[\"Socio_Demo_01\"].value_counts()[:10]\n",
    "topk_socio_01"
   ]
  },
  {
   "cell_type": "code",
   "execution_count": 17,
   "metadata": {},
   "outputs": [
    {
     "data": {
      "text/plain": [
       "<matplotlib.axes._subplots.AxesSubplot at 0x1dd00132518>"
      ]
     },
     "execution_count": 17,
     "metadata": {},
     "output_type": "execute_result"
    },
    {
     "data": {
      "image/png": "[encoded data removed]",
      "text/plain": [
       "<matplotlib.figure.Figure at 0x1dd003c26a0>"
      ]
     },
     "metadata": {},
     "output_type": "display_data"
    }
   ],
   "source": [
    "socio_01_keys = list(topk_socio_01.keys())\n",
    "condition_array = [False] * len(train_df_no_outliers[\"Socio_Demo_01\"])\n",
    "for i in range(len(condition_array)):\n",
    "    condition_array[i] = str(train_df_no_outliers[\"Socio_Demo_01\"].iloc[i]) in socio_01_keys\n",
    "\n",
    "sns.violinplot(x=train_df_no_outliers[\"Socio_Demo_01\"].loc[condition_array],y=train_df_no_outliers[\"Poder_Adquisitivo\"].loc[condition_array])"
   ]
  },
  {
   "cell_type": "markdown",
   "metadata": {},
   "source": [
    "Es interesante ver como algunos valores como 09992 parecen concentrar la mayor parte de clientes en valores diferentes del resto, lo cual puede aportar información importante."
   ]
  },
  {
   "cell_type": "code",
   "execution_count": 18,
   "metadata": {},
   "outputs": [
    {
     "data": {
      "text/plain": [
       "1    206781\n",
       "2    136213\n",
       "Name: Socio_Demo_02, dtype: int64"
      ]
     },
     "execution_count": 18,
     "metadata": {},
     "output_type": "execute_result"
    }
   ],
   "source": [
    "train_df_no_outliers[\"Socio_Demo_02\"].value_counts()"
   ]
  },
  {
   "cell_type": "code",
   "execution_count": 19,
   "metadata": {},
   "outputs": [
    {
     "data": {
      "text/plain": [
       "<matplotlib.axes._subplots.AxesSubplot at 0x1dd0017afd0>"
      ]
     },
     "execution_count": 19,
     "metadata": {},
     "output_type": "execute_result"
    },
    {
     "data": {
      "image/png": "[encoded data removed]",
      "text/plain": [
       "<matplotlib.figure.Figure at 0x1dd0015c518>"
      ]
     },
     "metadata": {},
     "output_type": "display_data"
    }
   ],
   "source": [
    "sns.violinplot(x=train_df_no_outliers[\"Socio_Demo_02\"],y=train_df_no_outliers[\"Poder_Adquisitivo\"])"
   ]
  },
  {
   "cell_type": "markdown",
   "metadata": {},
   "source": [
    "Veamos el resto de variables socio demográficas."
   ]
  },
  {
   "cell_type": "code",
   "execution_count": 20,
   "metadata": {},
   "outputs": [
    {
     "data": {
      "text/plain": [
       "<matplotlib.axes._subplots.AxesSubplot at 0x1dd00274e10>"
      ]
     },
     "execution_count": 20,
     "metadata": {},
     "output_type": "execute_result"
    },
    {
     "data": {
      "image/png": "[encoded data removed]",
      "text/plain": [
       "<matplotlib.figure.Figure at 0x1dd002cfe80>"
      ]
     },
     "metadata": {},
     "output_type": "display_data"
    }
   ],
   "source": [
    "sns.distplot(train_df_no_outliers[\"Socio_Demo_03\"])"
   ]
  },
  {
   "cell_type": "code",
   "execution_count": 21,
   "metadata": {},
   "outputs": [
    {
     "data": {
      "text/plain": [
       "<seaborn.axisgrid.JointGrid at 0x1dd002eea20>"
      ]
     },
     "execution_count": 21,
     "metadata": {},
     "output_type": "execute_result"
    },
    {
     "data": {
      "image/png": "[encoded data removed]",
      "text/plain": [
       "<matplotlib.figure.Figure at 0x1dd002e56a0>"
      ]
     },
     "metadata": {},
     "output_type": "display_data"
    }
   ],
   "source": [
    "sns.jointplot(x=train_df_no_outliers[\"Socio_Demo_03\"], y=train_df_no_outliers[\"Poder_Adquisitivo\"],kind='kde')"
   ]
  },
  {
   "cell_type": "code",
   "execution_count": 22,
   "metadata": {
    "scrolled": true
   },
   "outputs": [
    {
     "data": {
      "text/plain": [
       "<matplotlib.axes._subplots.AxesSubplot at 0x1dd002c0b38>"
      ]
     },
     "execution_count": 22,
     "metadata": {},
     "output_type": "execute_result"
    },
    {
     "data": {
      "image/png": "[encoded data removed]",
      "text/plain": [
       "<matplotlib.figure.Figure at 0x1dd002ee278>"
      ]
     },
     "metadata": {},
     "output_type": "display_data"
    }
   ],
   "source": [
    "sns.distplot(train_df_no_outliers[\"Socio_Demo_04\"])"
   ]
  },
  {
   "cell_type": "code",
   "execution_count": 23,
   "metadata": {},
   "outputs": [
    {
     "data": {
      "text/plain": [
       "<seaborn.axisgrid.JointGrid at 0x1dd01ead048>"
      ]
     },
     "execution_count": 23,
     "metadata": {},
     "output_type": "execute_result"
    },
    {
     "data": {
      "image/png": "[encoded data removed]",
      "text/plain": [
       "<matplotlib.figure.Figure at 0x1dd01ead1d0>"
      ]
     },
     "metadata": {},
     "output_type": "display_data"
    }
   ],
   "source": [
    "sns.jointplot(x=train_df_no_outliers[\"Socio_Demo_04\"], y=train_df_no_outliers[\"Poder_Adquisitivo\"],kind='kde')"
   ]
  },
  {
   "cell_type": "code",
   "execution_count": 24,
   "metadata": {},
   "outputs": [
    {
     "data": {
      "text/plain": [
       "1       118943\n",
       "2       111652\n",
       "3        67361\n",
       "4        33141\n",
       "5         8747\n",
       "6         2004\n",
       "7          504\n",
       "7097       280\n",
       "8          149\n",
       "9           56\n",
       "70          42\n",
       "10          21\n",
       "33          20\n",
       "46          20\n",
       "30          14\n",
       "11          11\n",
       "414         10\n",
       "13           8\n",
       "151          6\n",
       "27           2\n",
       "28           2\n",
       "18           1\n",
       "Name: Socio_Demo_04, dtype: int64"
      ]
     },
     "execution_count": 24,
     "metadata": {},
     "output_type": "execute_result"
    }
   ],
   "source": [
    "train_df_no_outliers[\"Socio_Demo_04\"].value_counts()"
   ]
  },
  {
   "cell_type": "markdown",
   "metadata": {},
   "source": [
    "De nuevo, observamos que una serie pequeña de valores concentra la gran mayoría de ocurrencias. Veamos si existe una relación aparente entre cada valor de esta variable y el poder adquisitivo."
   ]
  },
  {
   "cell_type": "code",
   "execution_count": 25,
   "metadata": {},
   "outputs": [
    {
     "data": {
      "text/plain": [
       "<matplotlib.axes._subplots.AxesSubplot at 0x1dd1fafa4e0>"
      ]
     },
     "execution_count": 25,
     "metadata": {},
     "output_type": "execute_result"
    },
    {
     "data": {
      "image/png": "[encoded data removed]",
      "text/plain": [
       "<matplotlib.figure.Figure at 0x1dd01f017b8>"
      ]
     },
     "metadata": {},
     "output_type": "display_data"
    }
   ],
   "source": [
    "fig, ax = plt.subplots(figsize=(16,10))\n",
    "sns.boxplot(x=train_df_no_outliers[\"Socio_Demo_04\"], y=train_df_no_outliers[\"Poder_Adquisitivo\"],ax=ax)"
   ]
  },
  {
   "cell_type": "markdown",
   "metadata": {},
   "source": [
    "Algunos valores muestran distribuciones que son diferentes a las demás, pero aparecen un número casi insignificante de veces respecto a la totalidad de los datos, por lo que no consideremos que sea necesario complicar el modelo con esos casos."
   ]
  },
  {
   "cell_type": "code",
   "execution_count": 26,
   "metadata": {},
   "outputs": [
    {
     "data": {
      "text/plain": [
       "<matplotlib.axes._subplots.AxesSubplot at 0x1dd1fcb4080>"
      ]
     },
     "execution_count": 26,
     "metadata": {},
     "output_type": "execute_result"
    },
    {
     "data": {
      "image/png": "[encoded data removed]",
      "text/plain": [
       "<matplotlib.figure.Figure at 0x1dd0103ad68>"
      ]
     },
     "metadata": {},
     "output_type": "display_data"
    }
   ],
   "source": [
    "sns.distplot(train_df_no_outliers[\"Socio_Demo_05\"])"
   ]
  },
  {
   "cell_type": "code",
   "execution_count": 27,
   "metadata": {},
   "outputs": [
    {
     "data": {
      "text/plain": [
       "<seaborn.axisgrid.JointGrid at 0x1dd202c5390>"
      ]
     },
     "execution_count": 27,
     "metadata": {},
     "output_type": "execute_result"
    },
    {
     "data": {
      "image/png": "[encoded data removed]",
      "text/plain": [
       "<matplotlib.figure.Figure at 0x1dd202c5470>"
      ]
     },
     "metadata": {},
     "output_type": "display_data"
    }
   ],
   "source": [
    "sns.jointplot(x=train_df_no_outliers[\"Socio_Demo_05\"], y=train_df_no_outliers[\"Poder_Adquisitivo\"],kind='kde')"
   ]
  },
  {
   "cell_type": "markdown",
   "metadata": {},
   "source": [
    "Veamos ahora la correlación de las variables explicativas con el poder adquisitivo, medida mediante el coeficiente de Pearson."
   ]
  },
  {
   "cell_type": "code",
   "execution_count": 28,
   "metadata": {
    "scrolled": false
   },
   "outputs": [
    {
     "data": {
      "text/plain": [
       "Imp_Sal_21       0.446199\n",
       "Num_Oper_05      0.377380\n",
       "Imp_Sal_19       0.364050\n",
       "Ind_Prod_24      0.333431\n",
       "Ind_Prod_08      0.271821\n",
       "Imp_Sal_12       0.268169\n",
       "Num_Oper_18      0.267717\n",
       "Ind_Prod_11      0.263711\n",
       "Imp_Cons_02      0.254591\n",
       "Imp_Sal_08       0.254518\n",
       "Imp_Cons_12      0.251392\n",
       "Imp_Cons_06      0.243734\n",
       "Imp_Sal_20       0.235902\n",
       "Ind_Prod_05      0.229769\n",
       "Imp_Cons_04      0.228519\n",
       "Imp_Sal_09       0.224180\n",
       "Ind_Prod_21      0.223633\n",
       "Imp_Sal_04       0.221237\n",
       "Imp_Cons_09      0.221097\n",
       "Imp_Cons_01      0.219669\n",
       "Imp_Cons_16      0.218312\n",
       "Num_Oper_06      0.218307\n",
       "Num_Oper_15      0.207412\n",
       "Imp_Cons_03      0.203556\n",
       "Ind_Prod_09      0.203247\n",
       "Imp_Sal_15       0.202924\n",
       "Num_Oper_02      0.196814\n",
       "Imp_Sal_16       0.196771\n",
       "Imp_Cons_08      0.191842\n",
       "Num_Oper_08      0.190259\n",
       "                   ...   \n",
       "Imp_Sal_18       0.052718\n",
       "Ind_Prod_04      0.051391\n",
       "Ind_Prod_13      0.050400\n",
       "Num_Oper_20      0.050110\n",
       "Imp_Cons_14      0.049796\n",
       "Num_Oper_13      0.049279\n",
       "Num_Oper_09      0.042742\n",
       "Num_Oper_14      0.041123\n",
       "Ind_Prod_01      0.037822\n",
       "Imp_Sal_17       0.034002\n",
       "Num_Oper_04      0.032202\n",
       "Num_Oper_12      0.031361\n",
       "Imp_Sal_10       0.030442\n",
       "Ind_Prod_20      0.029056\n",
       "Imp_Sal_02       0.028809\n",
       "Ind_Prod_07      0.027105\n",
       "Ind_Prod_15      0.024015\n",
       "Imp_Sal_11       0.021255\n",
       "Ind_Prod_06      0.020455\n",
       "Num_Oper_16      0.019392\n",
       "Imp_Sal_06       0.017361\n",
       "Num_Oper_11      0.014869\n",
       "Imp_Sal_03       0.013781\n",
       "Ind_Prod_19      0.013330\n",
       "Imp_Sal_01       0.008663\n",
       "Socio_Demo_04    0.008363\n",
       "Imp_Sal_07       0.004509\n",
       "Ind_Prod_18     -0.001017\n",
       "Socio_Demo_02   -0.135780\n",
       "Imp_Sal_14            NaN\n",
       "Name: Poder_Adquisitivo, Length: 86, dtype: float64"
      ]
     },
     "execution_count": 28,
     "metadata": {},
     "output_type": "execute_result"
    }
   ],
   "source": [
    "train_df_no_outliers.corr(method='pearson').iloc[-1].sort_values(ascending=False,axis=0)[1:]"
   ]
  },
  {
   "cell_type": "markdown",
   "metadata": {},
   "source": [
    "Vemos como algunas variables presentan coeficientes de correlación medios, lo que indica que serán útiles para los modelos."
   ]
  },
  {
   "cell_type": "markdown",
   "metadata": {},
   "source": [
    "<a name=Entrenamientodemodelos></a>\n",
    "# Entrenamiento de modelos\n",
    "[Volver al Indice](#Indice)"
   ]
  },
  {
   "cell_type": "markdown",
   "metadata": {},
   "source": [
    "<a name=Preparacióndedatos></a>\n",
    "## Preparación de datos\n",
    "Con todo lo visto anteriormente estamos listos para preparar los datos para la experimentación. Vamos a definir una función que realize este pre-procesado de los datos. \n",
    "\n",
    "La transformación básica consiste en convertir las variables categóricas a valores one-hot, y eliminar la columna ID_Customer que no es más que un identificador del cliente.\n",
    "\n",
    "\n",
    "Con processing_type = 1 se puede indicar además que queremos filtrar los outliers (pero únicamente en tiempo de entrenamiento)\n",
    "\n"
   ]
  },
  {
   "cell_type": "code",
   "execution_count": 29,
   "metadata": {},
   "outputs": [],
   "source": [
    "def process_df(df,processing_type,train = True):\n",
    "    if processing_type == 1:\n",
    "        return process_df_1(df,train)\n",
    "    else:\n",
    "        return process_df_1(df,False)\n",
    "    \n",
    "def process_df_1(df,train = True):\n",
    "    df = df.drop(labels=[\"ID_Customer\"],axis=1)\n",
    "    \n",
    "    if train:\n",
    "        # Eliminamos los outliers solo en el caso de que estemos entrenando\n",
    "        q1 = df[\"Poder_Adquisitivo\"].quantile(0.25)\n",
    "        q3 = df[\"Poder_Adquisitivo\"].quantile(0.75)\n",
    "        iqr = q3 - q1\n",
    "        fence_low  = q1 - 1.5 * iqr\n",
    "        fence_high = q3 + 1.5 * iqr\n",
    "\n",
    "        df = df.loc[(df[\"Poder_Adquisitivo\"] > fence_low) & (df[\"Poder_Adquisitivo\"] < fence_high)]\n",
    "    \n",
    "        \n",
    "    \n",
    "    # Convertimos las variables a one-hot\n",
    "\n",
    "    # Socio_Demo_01\n",
    "    \n",
    "    topk_socio_01 = df[\"Socio_Demo_01\"].value_counts()[:10]\n",
    "    socio_01_keys = list(topk_socio_01.keys())\n",
    "    \n",
    "    for key in socio_01_keys:\n",
    "        on = df[\"Socio_Demo_01\"] == key\n",
    "        df.insert(loc=len(df.columns), column=\"Socio_Demo_01_\"+str(key), value=on.astype(int))\n",
    "    \n",
    "    # El resto lso agrupamos en 'Other'\n",
    "    condition_array = [False] * len(df[\"Socio_Demo_01\"])\n",
    "    for i in range(len(condition_array)):\n",
    "        condition_array[i] = str(df[\"Socio_Demo_01\"].iloc[i]) not in socio_01_keys\n",
    "    df.insert(loc=len(df.columns), column=\"Socio_Demo_01_Other\", value=condition_array)\n",
    "    df[\"Socio_Demo_01_Other\"] = df[\"Socio_Demo_01_Other\"].astype(int)\n",
    "    \n",
    "    df = df.drop(axis=1, columns=[\"Socio_Demo_01\"])\n",
    "    \n",
    "    # Socio_Demo_02\n",
    "    c1=df[\"Socio_Demo_02\"] == 1\n",
    "    c2=df[\"Socio_Demo_02\"] == 2\n",
    "    df.insert(loc=len(df.columns), column=\"Socio_Demo_02_01\", value=c1.astype(int))\n",
    "    df.insert(loc=len(df.columns), column=\"Socio_Demo_02_02\", value=c2.astype(int))\n",
    "    \n",
    "    df = df.drop(axis=1, columns=[\"Socio_Demo_02\"])\n",
    "\n",
    "    \n",
    "    # Convertimos todas las columnas Ind_prod a one-hot\n",
    "    \n",
    "    for i in range(1,25):\n",
    "        column_name = \"Ind_Prod_\" + str(i).zfill(2)\n",
    "        c0=df[column_name] == 0\n",
    "        c1=df[column_name] == 1\n",
    "        c2=df[column_name] == 2\n",
    "        \n",
    "        df.insert(loc=len(df.columns), column=column_name + \"_00\", value=c0.astype(int))\n",
    "        df.insert(loc=len(df.columns), column=column_name + \"_01\", value=c1.astype(int))\n",
    "        df.insert(loc=len(df.columns), column=column_name + \"_02\", value=c2.astype(int))\n",
    "    \n",
    "        df = df.drop(axis=1, columns=[column_name])\n",
    "    \n",
    "    \n",
    "    \n",
    "    return df"
   ]
  },
  {
   "cell_type": "markdown",
   "metadata": {},
   "source": [
    "En primer lugar vamos a barajar los datos, y a continuación vamos a realizar una partición de los datos para realizar **validación cruzada** en 5 bloques, con el objetivo de realizar un análisis de resultados de los diferentes modelos de manera correcta y fiable.\n",
    "\n",
    "Este método divide los datos en los conjustos de entrenamiento y test para cada partición, y los almacena en la variable splits."
   ]
  },
  {
   "cell_type": "code",
   "execution_count": 30,
   "metadata": {},
   "outputs": [],
   "source": [
    "SEED = 4\n",
    "K = 5\n",
    "\n",
    "shuffled_data = train_df.sample(frac=1,replace=False,random_state=SEED)\n",
    "\n",
    "kf = KFold(n_splits=K)\n",
    "kf.get_n_splits(shuffled_data)\n",
    "\n",
    "def get_splits(kf,processing_type):\n",
    "    splits=[]\n",
    "    for train_index, test_index in kf.split(shuffled_data):\n",
    "        train_data = shuffled_data.loc[train_index]\n",
    "        test_data = shuffled_data.loc[test_index]\n",
    "\n",
    "        train_data_proc = process_df(train_data,processing_type,train=True)\n",
    "        test_data_proc = process_df(test_data,processing_type,train=False)\n",
    "\n",
    "\n",
    "        splits.append((train_data_proc,test_data_proc))\n",
    "    return splits\n"
   ]
  },
  {
   "cell_type": "markdown",
   "metadata": {},
   "source": [
    "Dado un modelo y los splits que hemos realizado a los datos, a continuación definimos una función que, para cada partición de entrenamiento y test, entrene un modelo con los datos de entrenamiento correspondiente y calcule métricas sobre el conjunto de validación."
   ]
  },
  {
   "cell_type": "markdown",
   "metadata": {},
   "source": [
    "En lo que se refiere a métricas, en primer lugar hemos escogido la **ráiz del error cuadrático medio (RMSE)**, una de las métricas más comunes para evaluar modelos de regresión. El problema que tiene esta métrica es que penaliza de manera desmedida fallos grandes. Resulta mucho más interesante medir el funcionamiento del algoritmo con una métrica que refleje mejor su funcionamiento con la mayoría de clientes, cosa que consideramos más útil a la hora de decidirnos por un modelo u otro. Por eso medimos los resultados con respecto a la **media del error absoluto (MAE)** y a la **mediana del error (MAD).** Esta última métrica no es susceptible a outliers y nos permite conocer mejor cual es el comportamiento \"medio\" de cada modelo."
   ]
  },
  {
   "cell_type": "code",
   "execution_count": 31,
   "metadata": {},
   "outputs": [],
   "source": [
    "def train_and_evaluate(model,splits,skcompat=False,scaler=None):\n",
    "    rmse = []\n",
    "    mae = []\n",
    "    mad = []\n",
    "    # Para cada iteración de validación cruzada\n",
    "    for s in range(len(splits)):\n",
    "        train_data_proc,test_data_proc = splits[s]\n",
    "        \n",
    "        # Obtenemos los datos de entrenamiento\n",
    "        x_train = train_data_proc.drop(labels=[\"Poder_Adquisitivo\"],axis=1).as_matrix()\n",
    "        y_train = train_data_proc[\"Poder_Adquisitivo\"].as_matrix()\n",
    "\n",
    "        # Obtenemos los datos de test\n",
    "        x_test = test_data_proc.drop(labels=[\"Poder_Adquisitivo\"], axis=1).as_matrix()\n",
    "        y_test = test_data_proc[\"Poder_Adquisitivo\"].as_matrix()\n",
    "        \n",
    "        # Damos la posiblidad de usar un scaler\n",
    "        if scaler is not None:\n",
    "            x_train = scaler.fit_transform(x_train)\n",
    "            x_test = scaler.transform(x_test)\n",
    "           \n",
    "        # Caso base, entrenamos un modelo y obtenemos las predicciones\n",
    "        if not skcompat:\n",
    "            model.fit(X=x_train,y=y_train)\n",
    "            \n",
    "            # For compatibility with XGBoost\n",
    "            # yhat = model.predict(X=x_test)\n",
    "            yhat = model.predict(x_test)\n",
    "        \n",
    "        # En el caso de que sea un objeto skcompat, las llamadas a los métodos son ligeramente diferentes.\n",
    "        else:\n",
    "            model.fit(x=x_train,y=y_train,steps=STEPS)\n",
    "            yhat = model.predict(x=x_test)['scores']\n",
    "        \n",
    "        # Calculamos métricas \n",
    "        rmse.append(math.sqrt(mean_squared_error(y_true=y_test, y_pred=yhat)))\n",
    "        mae.append(mean_absolute_error(y_true=y_test,y_pred=yhat))\n",
    "        mad.append(median_absolute_error(y_true=y_test,y_pred=yhat))\n",
    "        \n",
    "    return (rmse,mae,mad)"
   ]
  },
  {
   "cell_type": "markdown",
   "metadata": {},
   "source": [
    "Por último, nos definimos un método para guardar los resultados para su posterior visualización."
   ]
  },
  {
   "cell_type": "code",
   "execution_count": 32,
   "metadata": {},
   "outputs": [],
   "source": [
    "scores = {'modelo':[], 'rmse':[],'mae':[],'mad':[]}\n",
    "\n",
    "def record_scores(name,rmse,mae,mad):\n",
    "    scores['modelo'].append(name)\n",
    "    scores['rmse'].append(rmse)\n",
    "    scores['mae'].append(mae)\n",
    "    scores['mad'].append(mad)"
   ]
  },
  {
   "cell_type": "markdown",
   "metadata": {},
   "source": [
    "<a name=Experimentos></a>\n",
    "## Experimentos"
   ]
  },
  {
   "cell_type": "markdown",
   "metadata": {},
   "source": [
    "A continuación vamos a exponer una serie de resultados que hemos obtenido evaluando diferentes modelos. Cabe destacar que la cantidad de experimentos realizada es mucho mayor de la mostrada aquí, pero se ha llevado a cabo una selección de aquellos que, a nuestro juicio, son más interesantes. En caso contrario este documento hubiera sido todavía más largo de lo que ya es."
   ]
  },
  {
   "cell_type": "markdown",
   "metadata": {},
   "source": [
    "En primer lugar probaremos diferentes modelos tras aplicar el preproceso en el que eliminamos **outliers.**"
   ]
  },
  {
   "cell_type": "code",
   "execution_count": 33,
   "metadata": {},
   "outputs": [],
   "source": [
    "splits = []\n",
    "splits = get_splits(kf,1)"
   ]
  },
  {
   "cell_type": "markdown",
   "metadata": {},
   "source": [
    "Inicialmente probamos diferentes modelos de regresión lineal."
   ]
  },
  {
   "cell_type": "code",
   "execution_count": 34,
   "metadata": {},
   "outputs": [
    {
     "name": "stdout",
     "output_type": "stream",
     "text": [
      "RMSE: 21866.239828\n",
      "MAE: 5257.209822\n",
      "MAD: 3039.409075\n"
     ]
    }
   ],
   "source": [
    "model = LinearRegression()\n",
    "scores_rmse,scores_mae,scores_mad = train_and_evaluate(model,splits)\n",
    "\n",
    "\n",
    "print(\"RMSE: %f\" % np.mean(scores_rmse))\n",
    "print(\"MAE: %f\" % np.mean(scores_mae))\n",
    "print(\"MAD: %f\" % np.mean(scores_mad))\n",
    "\n",
    "record_scores('Linear Regresion',np.mean(scores_rmse),np.mean(scores_mae),np.mean(scores_mad))"
   ]
  },
  {
   "cell_type": "code",
   "execution_count": 35,
   "metadata": {},
   "outputs": [
    {
     "name": "stdout",
     "output_type": "stream",
     "text": [
      "RMSE: 21702.603384\n",
      "MAE: 4728.631802\n",
      "MAD: 2397.541365\n"
     ]
    }
   ],
   "source": [
    "model = MLPRegressor(max_iter=200,hidden_layer_sizes=(50,50,50,50),early_stopping=True,random_state=SEED)\n",
    "scores_rmse,scores_mae,scores_mad = train_and_evaluate(model,splits)\n",
    "\n",
    "\n",
    "print(\"RMSE: %f\" % np.mean(scores_rmse))\n",
    "print(\"MAE: %f\" % np.mean(scores_mae))\n",
    "print(\"MAD: %f\" % np.mean(scores_mad))\n",
    "\n",
    "record_scores('ANN50*4',np.mean(scores_rmse),np.mean(scores_mae),np.mean(scores_mad))"
   ]
  },
  {
   "cell_type": "markdown",
   "metadata": {},
   "source": [
    "Probamos ahora diferentes modelos basados en árboles."
   ]
  },
  {
   "cell_type": "code",
   "execution_count": 36,
   "metadata": {},
   "outputs": [
    {
     "name": "stdout",
     "output_type": "stream",
     "text": [
      "RMSE: 22670.479224\n",
      "MAE: 4802.948535\n",
      "MAD: 2223.817397\n"
     ]
    }
   ],
   "source": [
    "model = DecisionTreeRegressor(min_samples_split=200, min_samples_leaf=50, random_state=SEED)\n",
    "scores_rmse,scores_mae,scores_mad = train_and_evaluate(model,splits)\n",
    "\n",
    "\n",
    "print(\"RMSE: %f\" % np.mean(scores_rmse))\n",
    "print(\"MAE: %f\" % np.mean(scores_mae))\n",
    "print(\"MAD: %f\" % np.mean(scores_mad))\n",
    "\n",
    "record_scores('RegressionTree',np.mean(scores_rmse),np.mean(scores_mae),np.mean(scores_mad))"
   ]
  },
  {
   "cell_type": "code",
   "execution_count": 37,
   "metadata": {},
   "outputs": [
    {
     "name": "stdout",
     "output_type": "stream",
     "text": [
      "RMSE: 22861.309229\n",
      "MAE: 5112.145407\n",
      "MAD: 2549.585133\n"
     ]
    }
   ],
   "source": [
    "model = RandomForestRegressor(n_estimators=50, criterion='mse', max_depth=23, max_features='log2',min_samples_leaf=5,random_state=SEED)\n",
    "scores_rmse,scores_mae,scores_mad = train_and_evaluate(model,splits)\n",
    "\n",
    "\n",
    "print(\"RMSE: %f\" % np.mean(scores_rmse))\n",
    "print(\"MAE: %f\" % np.mean(scores_mae))\n",
    "print(\"MAD: %f\" % np.mean(scores_mad))\n",
    "\n",
    "record_scores('RF_d23',np.mean(scores_rmse),np.mean(scores_mae),np.mean(scores_mad))"
   ]
  },
  {
   "cell_type": "code",
   "execution_count": 38,
   "metadata": {},
   "outputs": [
    {
     "name": "stdout",
     "output_type": "stream",
     "text": [
      "RMSE: 22655.050330\n",
      "MAE: 4621.045433\n",
      "MAD: 2059.083895\n"
     ]
    }
   ],
   "source": [
    "model = RandomForestRegressor(n_estimators=50, criterion='mse', max_depth=23, max_features='auto',min_samples_leaf=5,random_state=SEED)\n",
    "scores_rmse,scores_mae,scores_mad = train_and_evaluate(model,splits)\n",
    "\n",
    "\n",
    "print(\"RMSE: %f\" % np.mean(scores_rmse))\n",
    "print(\"MAE: %f\" % np.mean(scores_mae))\n",
    "print(\"MAD: %f\" % np.mean(scores_mad))\n",
    "record_scores('RF_d23_FULL',np.mean(scores_rmse),np.mean(scores_mae),np.mean(scores_mad))"
   ]
  },
  {
   "cell_type": "markdown",
   "metadata": {},
   "source": [
    "El permitir que se hagan splits sobre todas las features incrementa sustancialmente el tiempo de entrenamiento, pero hace que este modelo supere al rest."
   ]
  },
  {
   "cell_type": "markdown",
   "metadata": {},
   "source": [
    "Probamos ahora con la técnica de Gradient Boosting."
   ]
  },
  {
   "cell_type": "code",
   "execution_count": 39,
   "metadata": {},
   "outputs": [
    {
     "name": "stdout",
     "output_type": "stream",
     "text": [
      "RMSE: 22660.424748\n",
      "MAE: 4675.047281\n",
      "MAD: 2163.067239\n"
     ]
    }
   ],
   "source": [
    "model = GradientBoostingRegressor(random_state=SEED,min_samples_leaf=5,max_depth=5)\n",
    "scores_rmse,scores_mae,scores_mad = train_and_evaluate(model,splits)\n",
    "\n",
    "\n",
    "print(\"RMSE: %f\" % np.mean(scores_rmse))\n",
    "print(\"MAE: %f\" % np.mean(scores_mae))\n",
    "print(\"MAD: %f\" % np.mean(scores_mad))\n",
    "\n",
    "record_scores('Gradient Boost_d5',np.mean(scores_rmse),np.mean(scores_mae),np.mean(scores_mad))"
   ]
  },
  {
   "cell_type": "code",
   "execution_count": 40,
   "metadata": {},
   "outputs": [
    {
     "name": "stdout",
     "output_type": "stream",
     "text": [
      "RMSE: 22657.066140\n",
      "MAE: 4597.104610\n",
      "MAD: 2070.359545\n"
     ]
    }
   ],
   "source": [
    "model = GradientBoostingRegressor(random_state=SEED,min_samples_leaf=5,max_depth=7)\n",
    "scores_rmse,scores_mae,scores_mad = train_and_evaluate(model,splits)\n",
    "\n",
    "\n",
    "print(\"RMSE: %f\" % np.mean(scores_rmse))\n",
    "print(\"MAE: %f\" % np.mean(scores_mae))\n",
    "print(\"MAD: %f\" % np.mean(scores_mad))\n",
    "\n",
    "record_scores('Gradient Boost_d7',np.mean(scores_rmse),np.mean(scores_mae),np.mean(scores_mad))"
   ]
  },
  {
   "cell_type": "markdown",
   "metadata": {},
   "source": [
    "De nuevo, llegados a este punto los modelos empiezan a requerar un tiempo de entrenamiento elevado a medida que se aumenta la profundidad máxima."
   ]
  },
  {
   "cell_type": "markdown",
   "metadata": {},
   "source": [
    "Una comparación importante a realizar es comprobar si nuestra idea inicial de eliminar outliers ha dado sus frutos. Probamos ahora a entrenar una serie de modelos ***sin eliminar outliers***."
   ]
  },
  {
   "cell_type": "code",
   "execution_count": 41,
   "metadata": {},
   "outputs": [],
   "source": [
    "splits = []\n",
    "splits = get_splits(kf,0)"
   ]
  },
  {
   "cell_type": "code",
   "execution_count": 42,
   "metadata": {},
   "outputs": [
    {
     "name": "stdout",
     "output_type": "stream",
     "text": [
      "RMSE: 20453.694566\n",
      "MAE: 5780.098872\n",
      "MAD: 3266.257244\n"
     ]
    }
   ],
   "source": [
    "model = LinearRegression()\n",
    "scores_rmse,scores_mae,scores_mad = train_and_evaluate(model,splits)\n",
    "\n",
    "\n",
    "print(\"RMSE: %f\" % np.mean(scores_rmse))\n",
    "print(\"MAE: %f\" % np.mean(scores_mae))\n",
    "print(\"MAD: %f\" % np.mean(scores_mad))\n",
    "\n",
    "record_scores('raw Linear Regression',np.mean(scores_rmse),np.mean(scores_mae),np.mean(scores_mad))"
   ]
  },
  {
   "cell_type": "code",
   "execution_count": 43,
   "metadata": {
    "scrolled": true
   },
   "outputs": [
    {
     "name": "stdout",
     "output_type": "stream",
     "text": [
      "RMSE: 20525.062038\n",
      "MAE: 6248.621772\n",
      "MAD: 3751.984974\n"
     ]
    }
   ],
   "source": [
    "model = MLPRegressor(max_iter=200,hidden_layer_sizes=(50,50,50,50),early_stopping=True,random_state=SEED)\n",
    "scores_rmse,scores_mae,scores_mad = train_and_evaluate(model,splits)\n",
    "\n",
    "\n",
    "print(\"RMSE: %f\" % np.mean(scores_rmse))\n",
    "print(\"MAE: %f\" % np.mean(scores_mae))\n",
    "print(\"MAD: %f\" % np.mean(scores_mad))\n",
    "\n",
    "record_scores('raw ANN50*4',np.mean(scores_rmse),np.mean(scores_mae),np.mean(scores_mad))"
   ]
  },
  {
   "cell_type": "code",
   "execution_count": 44,
   "metadata": {},
   "outputs": [
    {
     "name": "stdout",
     "output_type": "stream",
     "text": [
      "RMSE: 19442.444211\n",
      "MAE: 4790.685370\n",
      "MAD: 2522.061022\n"
     ]
    }
   ],
   "source": [
    "model = GradientBoostingRegressor(random_state=SEED,min_samples_leaf=5,max_depth=5)\n",
    "scores_rmse,scores_mae,scores_mad = train_and_evaluate(model,splits)\n",
    "\n",
    "\n",
    "print(\"RMSE: %f\" % np.mean(scores_rmse))\n",
    "print(\"MAE: %f\" % np.mean(scores_mae))\n",
    "print(\"MAD: %f\" % np.mean(scores_mad))\n",
    "\n",
    "record_scores('raw Gradient Boost_d5',np.mean(scores_rmse),np.mean(scores_mae),np.mean(scores_mad))"
   ]
  },
  {
   "cell_type": "code",
   "execution_count": 45,
   "metadata": {},
   "outputs": [
    {
     "name": "stdout",
     "output_type": "stream",
     "text": [
      "RMSE: 19659.521910\n",
      "MAE: 4686.435566\n",
      "MAD: 2390.403421\n"
     ]
    },
    {
     "data": {
      "text/plain": [
       "' Y un  montón de tiempo'"
      ]
     },
     "execution_count": 45,
     "metadata": {},
     "output_type": "execute_result"
    }
   ],
   "source": [
    "model = GradientBoostingRegressor(random_state=SEED,min_samples_leaf=5,max_depth=7)\n",
    "scores_rmse,scores_mae,scores_mad = train_and_evaluate(model,splits)\n",
    "\n",
    "\n",
    "print(\"RMSE: %f\" % np.mean(scores_rmse))\n",
    "print(\"MAE: %f\" % np.mean(scores_mae))\n",
    "print(\"MAD: %f\" % np.mean(scores_mad))\n",
    "\n",
    "record_scores('raw Gradient Boost_d7',np.mean(scores_rmse),np.mean(scores_mae),np.mean(scores_mad))\n",
    "\n",
    "\"\"\"\n",
    "RMSE: 19659.521910\n",
    "MAE: 4686.435566\n",
    "MAD: 2390.403421\n",
    "\"\"\"\n",
    "\"\"\" Y un  montón de tiempo\"\"\""
   ]
  },
  {
   "cell_type": "code",
   "execution_count": null,
   "metadata": {},
   "outputs": [],
   "source": []
  },
  {
   "cell_type": "code",
   "execution_count": 46,
   "metadata": {},
   "outputs": [
    {
     "ename": "NameError",
     "evalue": "name 'XGBoostModel' is not defined",
     "output_type": "error",
     "traceback": [
      "\u001b[1;31m---------------------------------------------------------------------------\u001b[0m",
      "\u001b[1;31mNameError\u001b[0m                                 Traceback (most recent call last)",
      "\u001b[1;32m<timed exec>\u001b[0m in \u001b[0;36m<module>\u001b[1;34m()\u001b[0m\n",
      "\u001b[1;31mNameError\u001b[0m: name 'XGBoostModel' is not defined"
     ]
    }
   ],
   "source": [
    "%%time\n",
    "params =  {'max_depth': 13, 'eta': 0.1, 'silent': 1, 'objective': 'reg:linear', 'subsample':0.8,'eval_metric':'rmse','nthread':4,'seed':SEED}\n",
    "model = XGBoostModel(params,100)\n",
    "scores_rmse,scores_mae,scores_mad = train_and_evaluate(model,splits)\n",
    "\n",
    "\n",
    "print(\"RMSE: %f\" % np.mean(scores_rmse))\n",
    "print(\"MAE: %f\" % np.mean(scores_mae))\n",
    "print(\"MAD: %f\" % np.mean(scores_mad))\n",
    "record_scores('raw_XGB_d13_eta0.1_n100_sbspl',np.mean(scores_rmse),np.mean(scores_mae),np.mean(scores_mad))"
   ]
  },
  {
   "cell_type": "code",
   "execution_count": 47,
   "metadata": {},
   "outputs": [
    {
     "name": "stdout",
     "output_type": "stream",
     "text": [
      "RMSE: 18624.512787\n",
      "MAE: 4408.208644\n",
      "MAD: 2097.194139\n"
     ]
    }
   ],
   "source": [
    "\n",
    "model = RandomForestRegressor(n_estimators=50, criterion='mse', max_depth=23, max_features='auto',min_samples_leaf=5,random_state=SEED)\n",
    "scores_rmse,scores_mae,scores_mad = train_and_evaluate(model,splits)\n",
    "\n",
    "\n",
    "print(\"RMSE: %f\" % np.mean(scores_rmse))\n",
    "print(\"MAE: %f\" % np.mean(scores_mae))\n",
    "print(\"MAD: %f\" % np.mean(scores_mad))\n",
    "record_scores('raw RF_d23_FULL',np.mean(scores_rmse),np.mean(scores_mae),np.mean(scores_mad))"
   ]
  },
  {
   "cell_type": "code",
   "execution_count": 48,
   "metadata": {},
   "outputs": [
    {
     "name": "stdout",
     "output_type": "stream",
     "text": [
      "RMSE: 19112.578472\n",
      "MAE: 4439.002901\n",
      "MAD: 2157.203059\n",
      "Wall time: 3min 25s\n"
     ]
    }
   ],
   "source": [
    "%%time\n",
    "model = xgb.XGBRegressor(max_depth=13, learning_rate=0.1, alpha=0,n_estimators=30, silent=True, objective='reg:linear', \n",
    "                         n_jobs=4, subsample=0.8,colsample_bytree=1.0,random_state=SEED)\n",
    "scores_rmse,scores_mae,scores_mad = train_and_evaluate(model,splits)\n",
    "\n",
    "\n",
    "print(\"RMSE: %f\" % np.mean(scores_rmse))\n",
    "print(\"MAE: %f\" % np.mean(scores_mae))\n",
    "print(\"MAD: %f\" % np.mean(scores_mad))\n",
    "record_scores('raw_XGB_d13_eta0.1_n100_sbspl',np.mean(scores_rmse),np.mean(scores_mae),np.mean(scores_mad))"
   ]
  },
  {
   "cell_type": "code",
   "execution_count": 49,
   "metadata": {},
   "outputs": [
    {
     "name": "stdout",
     "output_type": "stream",
     "text": [
      "RMSE: 19155.746115\n",
      "MAE: 4457.608207\n",
      "MAD: 2175.099049\n",
      "Wall time: 5min 29s\n"
     ]
    }
   ],
   "source": [
    "%%time\n",
    "model = xgb.XGBRegressor(max_depth=13, learning_rate=0.1, alpha=0,n_estimators=50, silent=True, objective='reg:linear', \n",
    "                         n_jobs=4, subsample=0.8,colsample_bytree=1.0,random_state=SEED)\n",
    "scores_rmse,scores_mae,scores_mad = train_and_evaluate(model,splits)\n",
    "\n",
    "\n",
    "print(\"RMSE: %f\" % np.mean(scores_rmse))\n",
    "print(\"MAE: %f\" % np.mean(scores_mae))\n",
    "print(\"MAD: %f\" % np.mean(scores_mad))\n",
    "record_scores('raw_XGB_d13_eta0.1_n100_sbspl',np.mean(scores_rmse),np.mean(scores_mae),np.mean(scores_mad))"
   ]
  },
  {
   "cell_type": "markdown",
   "metadata": {},
   "source": [
    "Sorprendentemente, si bien para el resto de modelos si que apreciamos que el filtrado de outliers supone sustanciales ganancias en términos de MAE y MAD, en el caso del Random Forest la pequeña diferencia en MAD se ve compensado por una reducción muy importante en RMSE y MAE. "
   ]
  },
  {
   "cell_type": "markdown",
   "metadata": {},
   "source": [
    "<a name=Comparacióndemodelos></a>\n",
    "## Comparación de modelos"
   ]
  },
  {
   "cell_type": "code",
   "execution_count": 50,
   "metadata": {},
   "outputs": [
    {
     "data": {
      "text/html": [
       "<div>\n",
       "<style scoped>\n",
       "    .dataframe tbody tr th:only-of-type {\n",
       "        vertical-align: middle;\n",
       "    }\n",
       "\n",
       "    .dataframe tbody tr th {\n",
       "        vertical-align: top;\n",
       "    }\n",
       "\n",
       "    .dataframe thead th {\n",
       "        text-align: right;\n",
       "    }\n",
       "</style>\n",
       "<table border=\"1\" class=\"dataframe\">\n",
       "  <thead>\n",
       "    <tr style=\"text-align: right;\">\n",
       "      <th></th>\n",
       "      <th>mad</th>\n",
       "      <th>mae</th>\n",
       "      <th>rmse</th>\n",
       "    </tr>\n",
       "    <tr>\n",
       "      <th>modelo</th>\n",
       "      <th></th>\n",
       "      <th></th>\n",
       "      <th></th>\n",
       "    </tr>\n",
       "  </thead>\n",
       "  <tbody>\n",
       "    <tr>\n",
       "      <th>Linear Regresion</th>\n",
       "      <td>3039.409075</td>\n",
       "      <td>5257.209822</td>\n",
       "      <td>21866.239828</td>\n",
       "    </tr>\n",
       "    <tr>\n",
       "      <th>ANN50*4</th>\n",
       "      <td>2397.541365</td>\n",
       "      <td>4728.631802</td>\n",
       "      <td>21702.603384</td>\n",
       "    </tr>\n",
       "    <tr>\n",
       "      <th>RegressionTree</th>\n",
       "      <td>2223.817397</td>\n",
       "      <td>4802.948535</td>\n",
       "      <td>22670.479224</td>\n",
       "    </tr>\n",
       "    <tr>\n",
       "      <th>RF_d23</th>\n",
       "      <td>2549.585133</td>\n",
       "      <td>5112.145407</td>\n",
       "      <td>22861.309229</td>\n",
       "    </tr>\n",
       "    <tr>\n",
       "      <th>RF_d23_FULL</th>\n",
       "      <td>2059.083895</td>\n",
       "      <td>4621.045433</td>\n",
       "      <td>22655.050330</td>\n",
       "    </tr>\n",
       "    <tr>\n",
       "      <th>Gradient Boost_d5</th>\n",
       "      <td>2163.067239</td>\n",
       "      <td>4675.047281</td>\n",
       "      <td>22660.424748</td>\n",
       "    </tr>\n",
       "    <tr>\n",
       "      <th>Gradient Boost_d7</th>\n",
       "      <td>2070.359545</td>\n",
       "      <td>4597.104610</td>\n",
       "      <td>22657.066140</td>\n",
       "    </tr>\n",
       "    <tr>\n",
       "      <th>raw Linear Regression</th>\n",
       "      <td>3266.257244</td>\n",
       "      <td>5780.098872</td>\n",
       "      <td>20453.694566</td>\n",
       "    </tr>\n",
       "    <tr>\n",
       "      <th>raw ANN50*4</th>\n",
       "      <td>3751.984974</td>\n",
       "      <td>6248.621772</td>\n",
       "      <td>20525.062038</td>\n",
       "    </tr>\n",
       "    <tr>\n",
       "      <th>raw Gradient Boost_d5</th>\n",
       "      <td>2522.061022</td>\n",
       "      <td>4790.685370</td>\n",
       "      <td>19442.444211</td>\n",
       "    </tr>\n",
       "    <tr>\n",
       "      <th>raw Gradient Boost_d7</th>\n",
       "      <td>2390.403421</td>\n",
       "      <td>4686.435566</td>\n",
       "      <td>19659.521910</td>\n",
       "    </tr>\n",
       "    <tr>\n",
       "      <th>raw RF_d23_FULL</th>\n",
       "      <td>2097.194139</td>\n",
       "      <td>4408.208644</td>\n",
       "      <td>18624.512787</td>\n",
       "    </tr>\n",
       "    <tr>\n",
       "      <th>raw_XGB_d13_eta0.1_n100_sbspl</th>\n",
       "      <td>2157.203059</td>\n",
       "      <td>4439.002901</td>\n",
       "      <td>19112.578472</td>\n",
       "    </tr>\n",
       "    <tr>\n",
       "      <th>raw_XGB_d13_eta0.1_n100_sbspl</th>\n",
       "      <td>2175.099049</td>\n",
       "      <td>4457.608207</td>\n",
       "      <td>19155.746115</td>\n",
       "    </tr>\n",
       "  </tbody>\n",
       "</table>\n",
       "</div>"
      ],
      "text/plain": [
       "                                       mad          mae          rmse\n",
       "modelo                                                               \n",
       "Linear Regresion               3039.409075  5257.209822  21866.239828\n",
       "ANN50*4                        2397.541365  4728.631802  21702.603384\n",
       "RegressionTree                 2223.817397  4802.948535  22670.479224\n",
       "RF_d23                         2549.585133  5112.145407  22861.309229\n",
       "RF_d23_FULL                    2059.083895  4621.045433  22655.050330\n",
       "Gradient Boost_d5              2163.067239  4675.047281  22660.424748\n",
       "Gradient Boost_d7              2070.359545  4597.104610  22657.066140\n",
       "raw Linear Regression          3266.257244  5780.098872  20453.694566\n",
       "raw ANN50*4                    3751.984974  6248.621772  20525.062038\n",
       "raw Gradient Boost_d5          2522.061022  4790.685370  19442.444211\n",
       "raw Gradient Boost_d7          2390.403421  4686.435566  19659.521910\n",
       "raw RF_d23_FULL                2097.194139  4408.208644  18624.512787\n",
       "raw_XGB_d13_eta0.1_n100_sbspl  2157.203059  4439.002901  19112.578472\n",
       "raw_XGB_d13_eta0.1_n100_sbspl  2175.099049  4457.608207  19155.746115"
      ]
     },
     "metadata": {},
     "output_type": "display_data"
    }
   ],
   "source": [
    "scores_df = pd.DataFrame(data=scores)\n",
    "\n",
    "scores_df = scores_df.set_index('modelo')\n",
    "\n",
    "display(scores_df)"
   ]
  },
  {
   "cell_type": "code",
   "execution_count": 51,
   "metadata": {
    "scrolled": true
   },
   "outputs": [
    {
     "data": {
      "text/plain": [
       "<matplotlib.axes._subplots.AxesSubplot at 0x1dd20d2ad30>"
      ]
     },
     "execution_count": 51,
     "metadata": {},
     "output_type": "execute_result"
    },
    {
     "data": {
      "image/png": "[encoded data removed]",
      "text/plain": [
       "<matplotlib.figure.Figure at 0x1dd20916668>"
      ]
     },
     "metadata": {},
     "output_type": "display_data"
    }
   ],
   "source": [
    "scores_df = scores_df.sort_values(by=\"mad\")\n",
    "scores_df.plot(kind='bar',y='mad',colormap='Blues_r',figsize=(12, 8))"
   ]
  },
  {
   "cell_type": "code",
   "execution_count": 52,
   "metadata": {
    "scrolled": true
   },
   "outputs": [
    {
     "data": {
      "text/plain": [
       "<matplotlib.axes._subplots.AxesSubplot at 0x1dd20e63b70>"
      ]
     },
     "execution_count": 52,
     "metadata": {},
     "output_type": "execute_result"
    },
    {
     "data": {
      "image/png": "[encoded data removed]",
      "text/plain": [
       "<matplotlib.figure.Figure at 0x1dd20cee080>"
      ]
     },
     "metadata": {},
     "output_type": "display_data"
    }
   ],
   "source": [
    "scores_df = scores_df.sort_values(by=\"mae\")\n",
    "scores_df.plot(kind='bar',y='mae',colormap='Oranges_r',figsize=(12, 8))"
   ]
  },
  {
   "cell_type": "code",
   "execution_count": 53,
   "metadata": {
    "scrolled": true
   },
   "outputs": [
    {
     "data": {
      "text/plain": [
       "<matplotlib.axes._subplots.AxesSubplot at 0x1dd20c79d68>"
      ]
     },
     "execution_count": 53,
     "metadata": {},
     "output_type": "execute_result"
    },
    {
     "data": {
      "image/png": "[encoded data removed]",
      "text/plain": [
       "<matplotlib.figure.Figure at 0x1dd2087c358>"
      ]
     },
     "metadata": {},
     "output_type": "display_data"
    }
   ],
   "source": [
    "scores_df = scores_df.sort_values(by=\"rmse\")\n",
    "scores_df.plot(kind='bar',y='rmse',colormap='Greens_r',figsize=(12, 8))"
   ]
  },
  {
   "cell_type": "markdown",
   "metadata": {},
   "source": [
    "Teniendo en cuenta todo esto, finalmente nos hemos decidido por el modelo **raw RF_d23_n100_FULL**. Inicialmente, y con la mayoría de modelos, nuestra idea inicial de eliminar outliers había obtenido mejoras muy grandes en MAE y MAD que, a nuestro juicio, compensaban de sobra pequeñas pérdidas en RMSE ya que mejoraban el conjunto de las predicciones. Sin embargo, los modelos de Random Forest profundos han demostrado que son capaces de reducir de enorme manera los grandes errores cometidos en algunos clientes puntuales, a cambio de una pequeña pérdida de MAD. Si bien el rendimiento se reducirá muy ligeramente en general (en realidad se reduce de manera ínfima, si nos fijamos en el MAD, significa que el error mediano empeora sólo en 30€), esto nos va a permitir cometer fallos mucho más pequeños en clientes atípicos, ya que reducimos en más de 4000€ el RMSE, por lo que finalmente hemos optado por este modelo. "
   ]
  },
  {
   "cell_type": "markdown",
   "metadata": {},
   "source": [
    "<a name=Optimizacion></a>\n",
    "## Optimización y combinación de modelos"
   ]
  },
  {
   "cell_type": "markdown",
   "metadata": {},
   "source": [
    "De todos estos experimentos, se puede observar como los modelos más prometedores son el RandomForest y el GradientBoosting implementado sobre XGBoost. Ahora lo que nos gustaría hacer es encontrar los mejores hiperparámetros para estos problemas. Dado un cierto modelo, se puede entender el proceso de encontrar los **hiperparámetros óptimos** como un proceso de optimización de una **función**, que devuelve las métricas de validación cruzada del modelo, y cuyos **argumentos** son los hiperparámetros del modelo. Esta función es difícil de optimizar ya que:"
   ]
  },
  {
   "cell_type": "markdown",
   "metadata": {},
   "source": [
    "* Es una función **muy costosa** de evaluar, tenemos que entrenar por completo un modelo cada vez que queramos extraer un punto.\n",
    "* Tiene un **espacio grande** de posibles parámetros/argumentos.\n",
    "* **Desconocemos la estructura** de este espacio y las **interacciones entre los diferentes argumentos**."
   ]
  },
  {
   "cell_type": "markdown",
   "metadata": {},
   "source": [
    "La **Optimización Bayesiana** nos ofrece una solución a este problema, ya que es una técnica pensada para optimizar funciones de tipo **caja-negra** como la que tenemos entre manos."
   ]
  },
  {
   "cell_type": "code",
   "execution_count": null,
   "metadata": {},
   "outputs": [],
   "source": []
  },
  {
   "cell_type": "code",
   "execution_count": 54,
   "metadata": {},
   "outputs": [
    {
     "name": "stdout",
     "output_type": "stream",
     "text": [
      "Initialization\n",
      "---------------------------------------------------------------------------------------------------------------------------\n",
      " Step |   Time |      Value |     alpha |   colsample_bytree |     gamma |   max_depth |   min_child_weight |   subsample | \n",
      "Multiple eval metrics have been passed: 'test-mae' will be used for early stopping.\n",
      "\n",
      "Will train until test-mae hasn't improved in 5 rounds.\n",
      "    1 | 02m29s | -4856.00176 |    6.6560 |             0.5238 |    3.2767 |      5.7410 |            10.1451 |      0.8893 | \n",
      "Multiple eval metrics have been passed: 'test-mae' will be used for early stopping.\n",
      "\n",
      "Will train until test-mae hasn't improved in 5 rounds.\n",
      "Stopping. Best iteration:\n",
      "[32]\ttrain-mae:4252.69+43.7159\ttest-mae:4621.37+59.2871\n",
      "\n",
      "    2 | 01m50s | -4621.36797 |    2.8667 |             0.3331 |    9.5405 |     13.6173 |            14.2446 |      0.7408 | \n",
      "Multiple eval metrics have been passed: 'test-mae' will be used for early stopping.\n",
      "\n",
      "Will train until test-mae hasn't improved in 5 rounds.\n",
      "    3 | 03m07s | -4607.48701 |    0.5008 |             0.3008 |    9.0705 |     10.4889 |             4.6269 |      0.9064 | \n",
      "Multiple eval metrics have been passed: 'test-mae' will be used for early stopping.\n",
      "\n",
      "Will train until test-mae hasn't improved in 5 rounds.\n",
      "Stopping. Best iteration:\n",
      "[32]\ttrain-mae:4299.82+43.9815\ttest-mae:4596.59+64.2336\n",
      "\n",
      "    4 | 02m05s | -4596.59297 |   10.2277 |             0.3744 |   13.7609 |     13.7897 |            18.5055 |      0.6079 | \n",
      "Multiple eval metrics have been passed: 'test-mae' will be used for early stopping.\n",
      "\n",
      "Will train until test-mae hasn't improved in 5 rounds.\n",
      "Stopping. Best iteration:\n",
      "[30]\ttrain-mae:4163.93+48.6535\ttest-mae:4535.7+58.9101\n",
      "\n",
      "    5 | 02m19s | -4535.70303 |    2.4529 |             0.5771 |    4.1784 |     11.6660 |             4.2112 |      0.6678 | \n",
      "Multiple eval metrics have been passed: 'test-mae' will be used for early stopping.\n",
      "\n",
      "Will train until test-mae hasn't improved in 5 rounds.\n",
      "Stopping. Best iteration:\n",
      "[32]\ttrain-mae:4761.85+56.0438\ttest-mae:4856.46+41.1798\n",
      "\n",
      "    6 | 01m57s | -4856.45684 |    7.6283 |             0.8883 |    1.0351 |      6.7586 |            11.5316 |      0.5420 | \n",
      "Multiple eval metrics have been passed: 'test-mae' will be used for early stopping.\n",
      "\n",
      "Will train until test-mae hasn't improved in 5 rounds.\n",
      "    7 | 04m36s | -4490.68564 |   13.6597 |             0.3846 |   10.4349 |     12.1088 |             2.4281 |      0.8520 | \n",
      "Multiple eval metrics have been passed: 'test-mae' will be used for early stopping.\n",
      "\n",
      "Will train until test-mae hasn't improved in 5 rounds.\n",
      "Stopping. Best iteration:\n",
      "[34]\ttrain-mae:2923.65+55.2322\ttest-mae:4344.74+79.474\n",
      "\n",
      "    8 | 05m11s | -4344.73975 |    0.0203 |             0.8314 |    2.2813 |     17.1064 |             1.3272 |      0.9134 | \n",
      "Multiple eval metrics have been passed: 'test-mae' will be used for early stopping.\n",
      "\n",
      "Will train until test-mae hasn't improved in 5 rounds.\n",
      "Stopping. Best iteration:\n",
      "[36]\ttrain-mae:3474.18+61.0489\ttest-mae:4665.01+70.2836\n",
      "\n",
      "    9 | 03m18s | -4665.01201 |    4.3077 |             0.3385 |    3.9154 |     19.3673 |             4.0031 |      0.5793 | \n",
      "Multiple eval metrics have been passed: 'test-mae' will be used for early stopping.\n",
      "\n",
      "Will train until test-mae hasn't improved in 5 rounds.\n",
      "Stopping. Best iteration:\n",
      "[29]\ttrain-mae:4577.92+37.8576\ttest-mae:4716.75+60.089\n",
      "\n",
      "   10 | 01m37s | -4716.75361 |   13.3375 |             0.5571 |    4.5364 |      8.6658 |            10.0610 |      0.5366 | \n",
      "Multiple eval metrics have been passed: 'test-mae' will be used for early stopping.\n",
      "\n",
      "Will train until test-mae hasn't improved in 5 rounds.\n",
      "Stopping. Best iteration:\n",
      "[32]\ttrain-mae:4118.86+56.8367\ttest-mae:4643.64+58.9088\n",
      "\n",
      "   11 | 02m16s | -4643.63584 |   10.8425 |             0.3564 |    1.8935 |     14.5198 |             6.4248 |      0.5571 | \n",
      "Multiple eval metrics have been passed: 'test-mae' will be used for early stopping.\n",
      "\n",
      "Will train until test-mae hasn't improved in 5 rounds.\n",
      "   12 | 04m28s | -4642.66387 |   11.7529 |             0.2551 |    7.2775 |     15.0216 |             3.1073 |      0.6877 | \n",
      "Multiple eval metrics have been passed: 'test-mae' will be used for early stopping.\n",
      "\n",
      "Will train until test-mae hasn't improved in 5 rounds.\n",
      "Stopping. Best iteration:\n",
      "[29]\ttrain-mae:3869.04+45.3915\ttest-mae:4398.23+60.4389\n",
      "\n",
      "   13 | 04m12s | -4398.23359 |    3.0832 |             0.7940 |   14.3089 |     16.1821 |            14.3404 |      0.6945 | \n",
      "Multiple eval metrics have been passed: 'test-mae' will be used for early stopping.\n",
      "\n",
      "Will train until test-mae hasn't improved in 5 rounds.\n",
      "Stopping. Best iteration:\n",
      "[39]\ttrain-mae:4209.83+48.926\ttest-mae:4639.97+64.0757\n",
      "\n",
      "   14 | 02m01s | -4639.96973 |   13.5929 |             0.3349 |    3.3934 |     12.2539 |             9.6109 |      0.7880 | \n",
      "Multiple eval metrics have been passed: 'test-mae' will be used for early stopping.\n",
      "\n",
      "Will train until test-mae hasn't improved in 5 rounds.\n",
      "Stopping. Best iteration:\n",
      "[32]\ttrain-mae:4105.94+48.9439\ttest-mae:4540.67+53.3115\n",
      "\n",
      "   15 | 01m59s | -4540.66602 |    5.8481 |             0.4254 |    8.9637 |     12.4593 |             8.6477 |      0.8849 | \n",
      "Multiple eval metrics have been passed: 'test-mae' will be used for early stopping.\n",
      "\n",
      "Will train until test-mae hasn't improved in 5 rounds.\n",
      "Stopping. Best iteration:\n",
      "[28]\ttrain-mae:4453.22+49.604\ttest-mae:4608.08+64.8133\n",
      "\n",
      "   16 | 02m04s | -4608.07979 |    3.0432 |             0.6028 |    6.1145 |     10.5004 |            15.0996 |      0.5005 | \n",
      "Multiple eval metrics have been passed: 'test-mae' will be used for early stopping.\n",
      "\n",
      "Will train until test-mae hasn't improved in 5 rounds.\n",
      "   17 | 02m47s | -4748.37363 |   10.9981 |             0.2567 |   11.7482 |      9.7205 |             3.9851 |      0.5678 | \n",
      "Multiple eval metrics have been passed: 'test-mae' will be used for early stopping.\n",
      "\n",
      "Will train until test-mae hasn't improved in 5 rounds.\n",
      "Stopping. Best iteration:\n",
      "[33]\ttrain-mae:3244.28+65.0334\ttest-mae:4424.11+72.2061\n",
      "\n",
      "   18 | 03m50s | -4424.10596 |   12.6550 |             0.5437 |    8.7569 |     19.2666 |             8.3528 |      0.9147 | \n",
      "Multiple eval metrics have been passed: 'test-mae' will be used for early stopping.\n",
      "\n",
      "Will train until test-mae hasn't improved in 5 rounds.\n",
      "Stopping. Best iteration:\n",
      "[30]\ttrain-mae:3951.28+53.1241\ttest-mae:4393.35+66.637\n",
      "\n",
      "   19 | 04m19s | -4393.34678 |    0.8696 |             0.9037 |   12.4145 |     15.8836 |            19.1700 |      0.7572 | \n",
      "Multiple eval metrics have been passed: 'test-mae' will be used for early stopping.\n",
      "\n",
      "Will train until test-mae hasn't improved in 5 rounds.\n",
      "Stopping. Best iteration:\n",
      "[30]\ttrain-mae:4335.1+54.2534\ttest-mae:4555+51.5823\n",
      "\n",
      "   20 | 02m21s | -4554.99775 |   11.0974 |             0.7178 |   12.1215 |     10.5701 |            13.2203 |      0.7853 | \n",
      "Multiple eval metrics have been passed: 'test-mae' will be used for early stopping.\n",
      "\n",
      "Will train until test-mae hasn't improved in 5 rounds.\n",
      "Stopping. Best iteration:\n",
      "[39]\ttrain-mae:4485.45+43.081\ttest-mae:4764.25+71.332\n",
      "\n",
      "   21 | 01m28s | -4764.24590 |   10.3437 |             0.3468 |   11.1933 |      8.0195 |             3.5682 |      0.6008 | \n",
      "Multiple eval metrics have been passed: 'test-mae' will be used for early stopping.\n",
      "\n",
      "Will train until test-mae hasn't improved in 5 rounds.\n",
      "Stopping. Best iteration:\n",
      "[52]\ttrain-mae:4429.12+41.046\ttest-mae:4710.06+58.3906\n",
      "\n",
      "   22 | 01m51s | -4710.06406 |    4.2888 |             0.2521 |   13.8661 |     11.0076 |            18.9479 |      0.7496 | \n",
      "Multiple eval metrics have been passed: 'test-mae' will be used for early stopping.\n",
      "\n",
      "Will train until test-mae hasn't improved in 5 rounds.\n",
      "Stopping. Best iteration:\n",
      "[30]\ttrain-mae:4890.15+58.8889\ttest-mae:4963.71+43.5236\n",
      "\n",
      "   23 | 01m42s | -4963.70879 |    7.2976 |             0.9864 |   13.2589 |      5.9568 |            17.8386 |      0.6356 | \n",
      "Multiple eval metrics have been passed: 'test-mae' will be used for early stopping.\n",
      "\n",
      "Will train until test-mae hasn't improved in 5 rounds.\n",
      "   24 | 02m49s | -4709.01729 |    8.1626 |             0.3211 |    8.9441 |      8.6046 |             2.0141 |      0.6615 | \n",
      "Multiple eval metrics have been passed: 'test-mae' will be used for early stopping.\n",
      "\n"
     ]
    },
    {
     "name": "stdout",
     "output_type": "stream",
     "text": [
      "Will train until test-mae hasn't improved in 5 rounds.\n",
      "   25 | 01m42s | -4824.07822 |   10.0745 |             0.1712 |    5.5886 |      8.8006 |            16.3455 |      0.9420 | \n",
      "Bayesian Optimization\n",
      "---------------------------------------------------------------------------------------------------------------------------\n",
      " Step |   Time |      Value |     alpha |   colsample_bytree |     gamma |   max_depth |   min_child_weight |   subsample | \n",
      "Multiple eval metrics have been passed: 'test-mae' will be used for early stopping.\n",
      "\n",
      "Will train until test-mae hasn't improved in 5 rounds.\n",
      "Stopping. Best iteration:\n",
      "[30]\ttrain-mae:3392.57+68.7942\ttest-mae:4339.84+64.1586\n",
      "\n",
      "   26 | 05m53s | -4339.84082 |    0.0000 |             1.0000 |    0.0000 |     20.0000 |            20.0000 |      1.0000 | \n",
      "Multiple eval metrics have been passed: 'test-mae' will be used for early stopping.\n",
      "\n",
      "Will train until test-mae hasn't improved in 5 rounds.\n",
      "Stopping. Best iteration:\n",
      "[35]\ttrain-mae:2171.18+84.9442\ttest-mae:4380.48+98.6288\n",
      "\n",
      "   27 | 07m16s | -4380.47520 |   15.0000 |             1.0000 |   15.0000 |     20.0000 |             1.0000 |      1.0000 | \n",
      "Multiple eval metrics have been passed: 'test-mae' will be used for early stopping.\n",
      "\n",
      "Will train until test-mae hasn't improved in 5 rounds.\n",
      "   28 | 03m59s | -4697.75225 |   15.0000 |             1.0000 |    0.0000 |      5.0000 |             1.0000 |      1.0000 | \n",
      "Multiple eval metrics have been passed: 'test-mae' will be used for early stopping.\n",
      "\n",
      "Will train until test-mae hasn't improved in 5 rounds.\n",
      "Stopping. Best iteration:\n",
      "[30]\ttrain-mae:3398.59+72.9055\ttest-mae:4344.37+61.3755\n",
      "\n",
      "   29 | 05m56s | -4344.36953 |   15.0000 |             1.0000 |   15.0000 |     20.0000 |            20.0000 |      1.0000 | \n",
      "Multiple eval metrics have been passed: 'test-mae' will be used for early stopping.\n",
      "\n",
      "Will train until test-mae hasn't improved in 5 rounds.\n",
      "Stopping. Best iteration:\n",
      "[29]\ttrain-mae:3823.36+55.311\ttest-mae:4369.29+65.8738\n",
      "\n",
      "   30 | 06m20s | -4369.28936 |    0.0000 |             1.0000 |   15.0000 |     20.0000 |            20.0000 |      0.5000 | \n",
      "Multiple eval metrics have been passed: 'test-mae' will be used for early stopping.\n",
      "\n",
      "Will train until test-mae hasn't improved in 5 rounds.\n",
      "Stopping. Best iteration:\n",
      "[30]\ttrain-mae:4928.64+63.6481\ttest-mae:4983.7+29.6654\n",
      "\n",
      "   31 | 01m46s | -4983.69648 |    0.0000 |             1.0000 |    0.0000 |      5.0000 |            20.0000 |      0.5000 | \n",
      "Multiple eval metrics have been passed: 'test-mae' will be used for early stopping.\n",
      "\n",
      "Will train until test-mae hasn't improved in 5 rounds.\n",
      "Stopping. Best iteration:\n",
      "[30]\ttrain-mae:3820.07+52.3832\ttest-mae:4373.87+68.4434\n",
      "\n",
      "   32 | 06m34s | -4373.86543 |   15.0000 |             1.0000 |    0.0000 |     20.0000 |            20.0000 |      0.5000 | \n",
      "Multiple eval metrics have been passed: 'test-mae' will be used for early stopping.\n",
      "\n",
      "Will train until test-mae hasn't improved in 5 rounds.\n",
      "Stopping. Best iteration:\n",
      "[35]\ttrain-mae:4843.81+47.8084\ttest-mae:5004.58+70.6392\n",
      "\n",
      "   33 | 02m01s | -5004.58135 |    0.0000 |             1.0000 |    0.0000 |      5.0000 |             1.0000 |      0.5000 | \n",
      "Multiple eval metrics have been passed: 'test-mae' will be used for early stopping.\n",
      "\n",
      "Will train until test-mae hasn't improved in 5 rounds.\n",
      "   34 | 04m03s | -4697.75225 |   15.0000 |             1.0000 |   15.0000 |      5.0000 |             1.0000 |      1.0000 | \n",
      "Multiple eval metrics have been passed: 'test-mae' will be used for early stopping.\n",
      "\n",
      "Will train until test-mae hasn't improved in 5 rounds.\n",
      "Stopping. Best iteration:\n",
      "[33]\ttrain-mae:2218.33+71.6995\ttest-mae:4387.57+98.0097\n",
      "\n",
      "   35 | 06m54s | -4387.56865 |    0.0000 |             1.0000 |    0.0000 |     20.0000 |             1.0000 |      1.0000 | \n",
      "Multiple eval metrics have been passed: 'test-mae' will be used for early stopping.\n",
      "\n",
      "Will train until test-mae hasn't improved in 5 rounds.\n",
      "Stopping. Best iteration:\n",
      "[33]\ttrain-mae:2218.33+71.6995\ttest-mae:4387.57+98.0097\n",
      "\n",
      "   36 | 06m54s | -4387.56865 |    0.0000 |             1.0000 |   15.0000 |     20.0000 |             1.0000 |      1.0000 | \n",
      "Multiple eval metrics have been passed: 'test-mae' will be used for early stopping.\n",
      "\n",
      "Will train until test-mae hasn't improved in 5 rounds.\n",
      "Stopping. Best iteration:\n",
      "[30]\ttrain-mae:3137.04+75.9604\ttest-mae:4360.68+69.5325\n",
      "\n",
      "   37 | 06m02s | -4360.67930 |   15.0000 |             1.0000 |   15.0000 |     20.0000 |            11.4879 |      1.0000 | \n",
      "Multiple eval metrics have been passed: 'test-mae' will be used for early stopping.\n",
      "\n",
      "Will train until test-mae hasn't improved in 5 rounds.\n",
      "Stopping. Best iteration:\n",
      "[35]\ttrain-mae:2171.18+84.9442\ttest-mae:4380.48+98.6288\n",
      "\n",
      "   38 | 07m20s | -4380.47520 |   15.0000 |             1.0000 |    0.0000 |     20.0000 |             1.0000 |      1.0000 | \n",
      "Multiple eval metrics have been passed: 'test-mae' will be used for early stopping.\n",
      "\n",
      "Will train until test-mae hasn't improved in 5 rounds.\n",
      "Stopping. Best iteration:\n",
      "[30]\ttrain-mae:3878.73+71.4629\ttest-mae:4386.02+62.762\n",
      "\n",
      "   39 | 04m20s | -4386.02012 |    0.0000 |             1.0000 |   15.0000 |     15.3171 |            20.0000 |      1.0000 | \n",
      "Multiple eval metrics have been passed: 'test-mae' will be used for early stopping.\n",
      "\n",
      "Will train until test-mae hasn't improved in 5 rounds.\n",
      "Stopping. Best iteration:\n",
      "[30]\ttrain-mae:3039.31+91.908\ttest-mae:4370.46+69.0591\n",
      "\n",
      "   40 | 06m06s | -4370.46113 |   15.0000 |             1.0000 |    9.1608 |     20.0000 |             9.8750 |      1.0000 | \n",
      "Multiple eval metrics have been passed: 'test-mae' will be used for early stopping.\n",
      "\n",
      "Will train until test-mae hasn't improved in 5 rounds.\n",
      "Stopping. Best iteration:\n",
      "[30]\ttrain-mae:3209.1+76.9619\ttest-mae:4358.22+67.1932\n",
      "\n",
      "   41 | 05m59s | -4358.21934 |    0.0000 |             1.0000 |   15.0000 |     20.0000 |            13.1078 |      1.0000 | \n",
      "Multiple eval metrics have been passed: 'test-mae' will be used for early stopping.\n",
      "\n",
      "Will train until test-mae hasn't improved in 5 rounds.\n",
      "Stopping. Best iteration:\n",
      "[33]\ttrain-mae:3244.5+68.9233\ttest-mae:4384.83+91.1184\n",
      "\n",
      "   42 | 04m55s | -4384.82705 |    0.0000 |             1.0000 |    3.1446 |     15.9210 |             1.0000 |      1.0000 | \n",
      "Multiple eval metrics have been passed: 'test-mae' will be used for early stopping.\n",
      "\n",
      "Will train until test-mae hasn't improved in 5 rounds.\n",
      "   43 | 02m42s | -5199.85850 |    0.0000 |             0.1000 |    0.0000 |     16.1809 |             5.3579 |      0.5000 | \n",
      "Multiple eval metrics have been passed: 'test-mae' will be used for early stopping.\n",
      "\n",
      "Will train until test-mae hasn't improved in 5 rounds.\n",
      "   44 | 03m32s | -5247.12686 |    0.0000 |             0.1000 |    4.2628 |     20.0000 |             1.0000 |      0.5000 | \n",
      "Multiple eval metrics have been passed: 'test-mae' will be used for early stopping.\n",
      "\n",
      "Will train until test-mae hasn't improved in 5 rounds.\n",
      "   45 | 04m00s | -4699.17441 |    0.0000 |             1.0000 |   15.0000 |      5.0000 |             1.0000 |      1.0000 | \n",
      "Multiple eval metrics have been passed: 'test-mae' will be used for early stopping.\n",
      "\n",
      "Will train until test-mae hasn't improved in 5 rounds.\n",
      "   46 | 03m59s | -4834.96113 |   15.0000 |             1.0000 |    0.0000 |      5.0000 |            20.0000 |      1.0000 | \n",
      "Multiple eval metrics have been passed: 'test-mae' will be used for early stopping.\n",
      "\n",
      "Will train until test-mae hasn't improved in 5 rounds.\n",
      "Stopping. Best iteration:\n",
      "[34]\ttrain-mae:3040.19+76.5312\ttest-mae:4374.57+94.9714\n",
      "\n",
      "   47 | 05m29s | -4374.57227 |    3.2148 |             1.0000 |    0.0000 |     16.5533 |             1.0000 |      1.0000 | \n",
      "Multiple eval metrics have been passed: 'test-mae' will be used for early stopping.\n",
      "\n",
      "Will train until test-mae hasn't improved in 5 rounds.\n",
      "   48 | 01m08s | -5142.13232 |   15.0000 |             0.1000 |   15.0000 |      5.0000 |            20.0000 |      0.5000 | \n",
      "Multiple eval metrics have been passed: 'test-mae' will be used for early stopping.\n",
      "\n",
      "Will train until test-mae hasn't improved in 5 rounds.\n",
      "Stopping. Best iteration:\n",
      "[30]\ttrain-mae:4928.64+63.6481\ttest-mae:4983.7+29.6654\n",
      "\n"
     ]
    },
    {
     "name": "stdout",
     "output_type": "stream",
     "text": [
      "   49 | 01m48s | -4983.69648 |    0.0000 |             1.0000 |   15.0000 |      5.0000 |            20.0000 |      0.5000 | \n",
      "Multiple eval metrics have been passed: 'test-mae' will be used for early stopping.\n",
      "\n",
      "Will train until test-mae hasn't improved in 5 rounds.\n",
      "Stopping. Best iteration:\n",
      "[34]\ttrain-mae:3041.78+79.0828\ttest-mae:4376.95+97.4871\n",
      "\n",
      "   50 | 05m25s | -4376.95186 |    0.0000 |             1.0000 |    0.2007 |     16.9640 |             1.0000 |      1.0000 | \n",
      "Multiple eval metrics have been passed: 'test-mae' will be used for early stopping.\n",
      "\n",
      "Will train until test-mae hasn't improved in 5 rounds.\n",
      "Stopping. Best iteration:\n",
      "[34]\ttrain-mae:2839.46+87.2431\ttest-mae:4367.33+95.3721\n",
      "\n",
      "   51 | 05m53s | -4367.32949 |    1.8822 |             1.0000 |    1.6612 |     17.2188 |             1.0264 |      1.0000 | \n",
      "Multiple eval metrics have been passed: 'test-mae' will be used for early stopping.\n",
      "\n",
      "Will train until test-mae hasn't improved in 5 rounds.\n",
      "Stopping. Best iteration:\n",
      "[33]\ttrain-mae:2861.91+74.9708\ttest-mae:4371.37+96.0223\n",
      "\n",
      "   52 | 05m42s | -4371.36709 |    0.0000 |             1.0000 |    1.7743 |     17.0625 |             1.2368 |      1.0000 | \n",
      "Multiple eval metrics have been passed: 'test-mae' will be used for early stopping.\n",
      "\n",
      "Will train until test-mae hasn't improved in 5 rounds.\n",
      "   53 | 02m53s | -5100.56602 |    0.6849 |             0.1000 |    2.0274 |     16.4815 |             1.0000 |      0.5000 | \n",
      "Multiple eval metrics have been passed: 'test-mae' will be used for early stopping.\n",
      "\n",
      "Will train until test-mae hasn't improved in 5 rounds.\n",
      "Stopping. Best iteration:\n",
      "[32]\ttrain-mae:3227.45+109.095\ttest-mae:4368.09+87.144\n",
      "\n",
      "   54 | 05m06s | -4368.09414 |    0.0000 |             1.0000 |    5.4508 |     16.5521 |             3.7955 |      1.0000 | \n",
      "Multiple eval metrics have been passed: 'test-mae' will be used for early stopping.\n",
      "\n",
      "Will train until test-mae hasn't improved in 5 rounds.\n",
      "Stopping. Best iteration:\n",
      "[31]\ttrain-mae:3083.48+82.6284\ttest-mae:4371.92+64.6604\n",
      "\n",
      "   55 | 06m11s | -4371.92139 |   15.0000 |             1.0000 |    0.0000 |     20.0000 |            10.1133 |      1.0000 | \n"
     ]
    },
    {
     "name": "stderr",
     "output_type": "stream",
     "text": [
      "c:\\users\\zhon\\appdata\\local\\programs\\python\\python36\\lib\\site-packages\\sklearn\\gaussian_process\\gpr.py:457: UserWarning: fmin_l_bfgs_b terminated abnormally with the  state: {'grad': array([-54.58791709]), 'task': b'ABNORMAL_TERMINATION_IN_LNSRCH', 'funcalls': 49, 'nit': 4, 'warnflag': 2}\n",
      "  \" state: %s\" % convergence_dict)\n"
     ]
    },
    {
     "name": "stdout",
     "output_type": "stream",
     "text": [
      "Multiple eval metrics have been passed: 'test-mae' will be used for early stopping.\n",
      "\n",
      "Will train until test-mae hasn't improved in 5 rounds.\n",
      "Stopping. Best iteration:\n",
      "[33]\ttrain-mae:2861.91+74.9708\ttest-mae:4371.37+96.0223\n",
      "\n",
      "   56 | 05m41s | -4371.36709 |    0.0000 |             1.0000 |    3.7159 |     17.3637 |             1.9830 |      1.0000 | \n",
      "Multiple eval metrics have been passed: 'test-mae' will be used for early stopping.\n",
      "\n",
      "Will train until test-mae hasn't improved in 5 rounds.\n",
      "Stopping. Best iteration:\n",
      "[36]\ttrain-mae:2147.82+82.9323\ttest-mae:4385.95+97.9062\n",
      "\n",
      "   57 | 07m29s | -4385.94795 |    6.4396 |             1.0000 |    0.0000 |     20.0000 |             1.0000 |      1.0000 | \n",
      "Multiple eval metrics have been passed: 'test-mae' will be used for early stopping.\n",
      "\n",
      "Will train until test-mae hasn't improved in 5 rounds.\n",
      "   58 | 01m09s | -5136.97090 |   15.0000 |             0.1000 |   15.0000 |      5.0000 |             9.9421 |      0.5000 | \n",
      "Multiple eval metrics have been passed: 'test-mae' will be used for early stopping.\n",
      "\n",
      "Will train until test-mae hasn't improved in 5 rounds.\n",
      "Stopping. Best iteration:\n",
      "[30]\ttrain-mae:3846.35+77.8383\ttest-mae:4438.63+69.7235\n",
      "\n",
      "   59 | 03m49s | -4438.62842 |    0.0000 |             1.0000 |    6.3851 |     13.7956 |             6.3797 |      1.0000 | \n",
      "Multiple eval metrics have been passed: 'test-mae' will be used for early stopping.\n",
      "\n",
      "Will train until test-mae hasn't improved in 5 rounds.\n",
      "   60 | 03m08s | -5146.26729 |    0.0000 |             0.1000 |    8.0348 |     20.0000 |            20.0000 |      0.5000 | \n",
      "Multiple eval metrics have been passed: 'test-mae' will be used for early stopping.\n",
      "\n",
      "Will train until test-mae hasn't improved in 5 rounds.\n",
      "   61 | 00m58s | -5067.43486 |    0.0000 |             0.1000 |   15.0000 |      5.0000 |            10.2307 |      1.0000 | \n",
      "Multiple eval metrics have been passed: 'test-mae' will be used for early stopping.\n",
      "\n",
      "Will train until test-mae hasn't improved in 5 rounds.\n",
      "Stopping. Best iteration:\n",
      "[29]\ttrain-mae:3819.86+52.0397\ttest-mae:4372.34+65.2429\n",
      "\n",
      "   62 | 06m28s | -4372.34287 |    6.9288 |             1.0000 |   15.0000 |     20.0000 |            20.0000 |      0.5000 | \n",
      "Multiple eval metrics have been passed: 'test-mae' will be used for early stopping.\n",
      "\n",
      "Will train until test-mae hasn't improved in 5 rounds.\n",
      "Stopping. Best iteration:\n",
      "[31]\ttrain-mae:3617.33+84.0682\ttest-mae:4397.51+76.4937\n",
      "\n",
      "   63 | 04m18s | -4397.51338 |    4.3977 |             1.0000 |    5.7337 |     14.2352 |             4.6452 |      1.0000 | \n",
      "Multiple eval metrics have been passed: 'test-mae' will be used for early stopping.\n",
      "\n",
      "Will train until test-mae hasn't improved in 5 rounds.\n",
      "Stopping. Best iteration:\n",
      "[35]\ttrain-mae:2615.87+85.3906\ttest-mae:4375.49+95.9011\n",
      "\n",
      "   64 | 06m27s | -4375.48730 |    3.1842 |             1.0000 |    0.0000 |     18.4525 |             1.0000 |      1.0000 | \n",
      "Multiple eval metrics have been passed: 'test-mae' will be used for early stopping.\n",
      "\n",
      "Will train until test-mae hasn't improved in 5 rounds.\n",
      "   65 | 02m51s | -5112.18916 |    7.0056 |             0.1000 |   15.0000 |     20.0000 |             9.7877 |      1.0000 | \n",
      "Multiple eval metrics have been passed: 'test-mae' will be used for early stopping.\n",
      "\n",
      "Will train until test-mae hasn't improved in 5 rounds.\n",
      "Stopping. Best iteration:\n",
      "[35]\ttrain-mae:2171.18+84.9442\ttest-mae:4380.48+98.6288\n",
      "\n",
      "   66 | 07m20s | -4380.47520 |   15.0000 |             1.0000 |    7.5284 |     20.0000 |             1.0000 |      1.0000 | \n",
      "Multiple eval metrics have been passed: 'test-mae' will be used for early stopping.\n",
      "\n",
      "Will train until test-mae hasn't improved in 5 rounds.\n",
      "   67 | 01m09s | -5141.42832 |   15.0000 |             0.1000 |    0.0000 |      5.0000 |            10.2137 |      0.5000 | \n",
      "Multiple eval metrics have been passed: 'test-mae' will be used for early stopping.\n",
      "\n",
      "Will train until test-mae hasn't improved in 5 rounds.\n",
      "   68 | 02m22s | -5011.80254 |   15.0000 |             0.1000 |   15.0000 |     13.1499 |             1.0000 |      0.5000 | \n",
      "Multiple eval metrics have been passed: 'test-mae' will be used for early stopping.\n",
      "\n",
      "Will train until test-mae hasn't improved in 5 rounds.\n",
      "Stopping. Best iteration:\n",
      "[33]\ttrain-mae:3834.3+50.4536\ttest-mae:4472.92+80.945\n",
      "\n",
      "   69 | 03m36s | -4472.91875 |   15.0000 |             1.0000 |    7.7445 |     11.1634 |             1.0000 |      1.0000 | \n",
      "Multiple eval metrics have been passed: 'test-mae' will be used for early stopping.\n",
      "\n",
      "Will train until test-mae hasn't improved in 5 rounds.\n",
      "Stopping. Best iteration:\n",
      "[31]\ttrain-mae:3551.67+85.4602\ttest-mae:4390.13+78.3044\n",
      "\n",
      "   70 | 04m18s | -4390.13291 |    0.0000 |             1.0000 |    6.3561 |     14.3185 |             3.5419 |      1.0000 | \n",
      "Multiple eval metrics have been passed: 'test-mae' will be used for early stopping.\n",
      "\n",
      "Will train until test-mae hasn't improved in 5 rounds.\n",
      "Stopping. Best iteration:\n",
      "[33]\ttrain-mae:2861.91+74.9708\ttest-mae:4371.37+96.0223\n",
      "\n",
      "   71 | 05m42s | -4371.36709 |    0.0000 |             1.0000 |    2.8256 |     17.4284 |             1.0000 |      1.0000 | \n",
      "Multiple eval metrics have been passed: 'test-mae' will be used for early stopping.\n",
      "\n",
      "Will train until test-mae hasn't improved in 5 rounds.\n",
      "Stopping. Best iteration:\n",
      "[32]\ttrain-mae:3143.81+96.9974\ttest-mae:4354.29+79.5191\n",
      "\n",
      "   72 | 05m09s | -4354.29453 |    0.0000 |             1.0000 |    2.7863 |     16.7002 |             2.5649 |      1.0000 | \n",
      "Multiple eval metrics have been passed: 'test-mae' will be used for early stopping.\n",
      "\n",
      "Will train until test-mae hasn't improved in 5 rounds.\n",
      "   73 | 03m59s | -4803.75518 |    0.0000 |             1.0000 |    0.0000 |      5.0000 |            10.3410 |      1.0000 | \n",
      "Multiple eval metrics have been passed: 'test-mae' will be used for early stopping.\n",
      "\n",
      "Will train until test-mae hasn't improved in 5 rounds.\n",
      "Stopping. Best iteration:\n",
      "[29]\ttrain-mae:4044.27+53.4489\ttest-mae:4434.92+50.7006\n",
      "\n",
      "   74 | 05m03s | -4434.91816 |    0.0000 |             1.0000 |   15.0000 |     15.2237 |            13.4877 |      0.5000 | \n"
     ]
    },
    {
     "name": "stderr",
     "output_type": "stream",
     "text": [
      "c:\\users\\zhon\\appdata\\local\\programs\\python\\python36\\lib\\site-packages\\sklearn\\gaussian_process\\gpr.py:457: UserWarning: fmin_l_bfgs_b terminated abnormally with the  state: {'grad': array([18.68002131]), 'task': b'ABNORMAL_TERMINATION_IN_LNSRCH', 'funcalls': 47, 'nit': 3, 'warnflag': 2}\n",
      "  \" state: %s\" % convergence_dict)\n"
     ]
    },
    {
     "name": "stdout",
     "output_type": "stream",
     "text": [
      "Multiple eval metrics have been passed: 'test-mae' will be used for early stopping.\n",
      "\n",
      "Will train until test-mae hasn't improved in 5 rounds.\n",
      "   75 | 02m46s | -5054.46367 |    7.5008 |             0.1000 |    0.0000 |     20.0000 |            20.0000 |      1.0000 | \n",
      "{'max_val': -4339.8408204, 'max_params': {'min_child_weight': 20.0, 'colsample_bytree': 1.0, 'max_depth': 20.0, 'subsample': 1.0, 'gamma': 0.0, 'alpha': 0.0}}\n"
     ]
    }
   ],
   "source": [
    "f_train_df = process_df(shuffled_data,0,train = True)\n",
    "\n",
    "X_train = f_train_df.drop(labels=[\"Poder_Adquisitivo\"],axis=1).as_matrix()\n",
    "y_train = f_train_df[\"Poder_Adquisitivo\"].as_matrix()\n",
    "\n",
    "xgtrain = xgb.DMatrix(X_train, label=y_train)\n",
    "\n",
    "\n",
    "def xgb_evaluate(min_child_weight,\n",
    "                 colsample_bytree,\n",
    "                 max_depth,\n",
    "                 subsample,\n",
    "                 gamma,\n",
    "                 alpha):\n",
    "\n",
    "    params['min_child_weight'] = int(min_child_weight)\n",
    "    params['colsample_bytree'] = max(min(colsample_bytree, 1), 0)\n",
    "    params['max_depth'] = int(max_depth)\n",
    "    params['subsample'] = max(min(subsample, 1), 0)\n",
    "    params['gamma'] = max(gamma, 0)\n",
    "    params['alpha'] = max(alpha, 0)\n",
    "\n",
    "\n",
    "    cv_result = xgb.cv(params, xgtrain, num_boost_round=100, nfold=5,\n",
    "             seed=random_state,\n",
    "             callbacks=[xgb.callback.early_stop(5)])\n",
    "\n",
    "    return -cv_result['test-mae-mean'].values[-1]\n",
    "\n",
    "\n",
    "\n",
    "\n",
    "\n",
    "random_state = SEED\n",
    "num_iter = 50\n",
    "init_points = 25\n",
    "params = {\n",
    "    'eta': 0.1,\n",
    "    'silent': 1,\n",
    "    'eval_metric': 'mae',\n",
    "    'verbose_eval': True,\n",
    "    'seed': random_state\n",
    "}\n",
    "\n",
    "xgbBO = BayesianOptimization(xgb_evaluate, {'min_child_weight': (1, 20),\n",
    "                                            'colsample_bytree': (0.1, 1),\n",
    "                                            'max_depth': (5, 20),\n",
    "                                            'subsample': (0.5, 1),\n",
    "                                            'gamma': (0, 15),\n",
    "                                            'alpha': (0, 15),\n",
    "                                            })\n",
    "\n",
    "xgbBO.maximize(init_points=init_points, n_iter=num_iter)\n",
    "\n",
    "print(xgbBO.res['max'])"
   ]
  },
  {
   "cell_type": "code",
   "execution_count": 55,
   "metadata": {},
   "outputs": [
    {
     "name": "stdout",
     "output_type": "stream",
     "text": [
      "Initialization\n",
      "--------------------------------------------------------------------------------------------------\n",
      " Step |   Time |      Value |   max_depth |   max_features |   min_samples_leaf |   n_estimators | \n",
      "    1 | 08m14s | -2133.33987 |     24.5365 |         0.5463 |            61.2404 |        76.5974 | \n",
      "    2 | 12m26s | -2132.06977 |     20.5245 |         0.6838 |            70.1359 |        94.2930 | \n",
      "    3 | 15m00s | -2122.46885 |     26.7903 |         0.8317 |            76.1536 |        94.6255 | \n",
      "    4 | 08m12s | -2103.50133 |     22.3752 |         0.6929 |            46.6645 |        57.0253 | \n",
      "    5 | 09m32s | -2064.39884 |     23.7545 |         0.7277 |            20.4162 |        60.9400 | \n",
      "    6 | 10m48s | -2184.08364 |     26.3420 |         0.7556 |           147.9716 |        80.5580 | \n",
      "    7 | 06m17s | -2168.82851 |     19.3052 |         0.5562 |            96.3172 |        58.0007 | \n",
      "    8 | 07m03s | -2179.35403 |     22.7526 |         0.9151 |           152.8695 |        41.6517 | \n",
      "    9 | 12m31s | -2092.91919 |     23.5979 |         0.8655 |            48.4240 |        70.8379 | \n",
      "   10 | 05m02s | -2221.77577 |     25.2603 |         0.5344 |           184.5022 |        51.7305 | \n",
      "Bayesian Optimization\n",
      "--------------------------------------------------------------------------------------------------\n",
      " Step |   Time |      Value |   max_depth |   max_features |   min_samples_leaf |   n_estimators | \n",
      "   11 | 25m06s | -2034.13458 |     27.0000 |         1.0000 |             5.0000 |       100.0000 | \n",
      "   12 | 17m10s | -2208.06224 |     17.0000 |         1.0000 |           200.0000 |       100.0000 | \n",
      "   13 | 08m02s | -2051.99325 |     27.0000 |         1.0000 |             5.0000 |        30.0000 | \n"
     ]
    },
    {
     "name": "stderr",
     "output_type": "stream",
     "text": [
      "c:\\users\\zhon\\appdata\\local\\programs\\python\\python36\\lib\\site-packages\\sklearn\\gaussian_process\\gpr.py:457: UserWarning: fmin_l_bfgs_b terminated abnormally with the  state: {'grad': array([0.01461258]), 'task': b'ABNORMAL_TERMINATION_IN_LNSRCH', 'funcalls': 51, 'nit': 2, 'warnflag': 2}\n",
      "  \" state: %s\" % convergence_dict)\n"
     ]
    },
    {
     "name": "stdout",
     "output_type": "stream",
     "text": [
      "   14 | 25m03s | -2033.62012 |     27.0000 |         1.0000 |             5.0000 |       100.0000 | \n"
     ]
    },
    {
     "name": "stderr",
     "output_type": "stream",
     "text": [
      "c:\\users\\zhon\\appdata\\local\\programs\\python\\python36\\lib\\site-packages\\sklearn\\gaussian_process\\gpr.py:457: UserWarning: fmin_l_bfgs_b terminated abnormally with the  state: {'grad': array([-0.15966797]), 'task': b'ABNORMAL_TERMINATION_IN_LNSRCH', 'funcalls': 52, 'nit': 3, 'warnflag': 2}\n",
      "  \" state: %s\" % convergence_dict)\n",
      "c:\\users\\zhon\\appdata\\local\\programs\\python\\python36\\lib\\site-packages\\sklearn\\gaussian_process\\gpr.py:457: UserWarning: fmin_l_bfgs_b terminated abnormally with the  state: {'grad': array([-950.32775879]), 'task': b'ABNORMAL_TERMINATION_IN_LNSRCH', 'funcalls': 55, 'nit': 6, 'warnflag': 2}\n",
      "  \" state: %s\" % convergence_dict)\n",
      "c:\\users\\zhon\\appdata\\local\\programs\\python\\python36\\lib\\site-packages\\sklearn\\gaussian_process\\gpr.py:457: UserWarning: fmin_l_bfgs_b terminated abnormally with the  state: {'grad': array([-1209.11816406]), 'task': b'ABNORMAL_TERMINATION_IN_LNSRCH', 'funcalls': 49, 'nit': 5, 'warnflag': 2}\n",
      "  \" state: %s\" % convergence_dict)\n"
     ]
    },
    {
     "name": "stdout",
     "output_type": "stream",
     "text": [
      "   15 | 05m00s | -2158.01573 |     19.9778 |         0.5818 |            81.8090 |        44.2513 | \n"
     ]
    },
    {
     "name": "stderr",
     "output_type": "stream",
     "text": [
      "c:\\users\\zhon\\appdata\\local\\programs\\python\\python36\\lib\\site-packages\\sklearn\\gaussian_process\\gpr.py:457: UserWarning: fmin_l_bfgs_b terminated abnormally with the  state: {'grad': array([-57.671875]), 'task': b'ABNORMAL_TERMINATION_IN_LNSRCH', 'funcalls': 86, 'nit': 4, 'warnflag': 2}\n",
      "  \" state: %s\" % convergence_dict)\n",
      "c:\\users\\zhon\\appdata\\local\\programs\\python\\python36\\lib\\site-packages\\sklearn\\gaussian_process\\gpr.py:457: UserWarning: fmin_l_bfgs_b terminated abnormally with the  state: {'grad': array([-158855.52734375]), 'task': b'ABNORMAL_TERMINATION_IN_LNSRCH', 'funcalls': 78, 'nit': 6, 'warnflag': 2}\n",
      "  \" state: %s\" % convergence_dict)\n",
      "c:\\users\\zhon\\appdata\\local\\programs\\python\\python36\\lib\\site-packages\\sklearn\\gaussian_process\\gpr.py:457: UserWarning: fmin_l_bfgs_b terminated abnormally with the  state: {'grad': array([-84119.39453125]), 'task': b'ABNORMAL_TERMINATION_IN_LNSRCH', 'funcalls': 69, 'nit': 3, 'warnflag': 2}\n",
      "  \" state: %s\" % convergence_dict)\n",
      "c:\\users\\zhon\\appdata\\local\\programs\\python\\python36\\lib\\site-packages\\sklearn\\gaussian_process\\gpr.py:457: UserWarning: fmin_l_bfgs_b terminated abnormally with the  state: {'grad': array([-9345.640625]), 'task': b'ABNORMAL_TERMINATION_IN_LNSRCH', 'funcalls': 45, 'nit': 2, 'warnflag': 2}\n",
      "  \" state: %s\" % convergence_dict)\n"
     ]
    },
    {
     "name": "stdout",
     "output_type": "stream",
     "text": [
      "   16 | 08m43s | -2169.95208 |     18.2775 |         0.6193 |           102.1630 |        73.2457 | \n"
     ]
    },
    {
     "name": "stderr",
     "output_type": "stream",
     "text": [
      "c:\\users\\zhon\\appdata\\local\\programs\\python\\python36\\lib\\site-packages\\sklearn\\gaussian_process\\gpr.py:457: UserWarning: fmin_l_bfgs_b terminated abnormally with the  state: {'grad': array([-115.01708984]), 'task': b'ABNORMAL_TERMINATION_IN_LNSRCH', 'funcalls': 69, 'nit': 4, 'warnflag': 2}\n",
      "  \" state: %s\" % convergence_dict)\n",
      "c:\\users\\zhon\\appdata\\local\\programs\\python\\python36\\lib\\site-packages\\sklearn\\gaussian_process\\gpr.py:457: UserWarning: fmin_l_bfgs_b terminated abnormally with the  state: {'grad': array([0.03955078]), 'task': b'ABNORMAL_TERMINATION_IN_LNSRCH', 'funcalls': 52, 'nit': 9, 'warnflag': 2}\n",
      "  \" state: %s\" % convergence_dict)\n",
      "c:\\users\\zhon\\appdata\\local\\programs\\python\\python36\\lib\\site-packages\\sklearn\\gaussian_process\\gpr.py:457: UserWarning: fmin_l_bfgs_b terminated abnormally with the  state: {'grad': array([-11867.98291016]), 'task': b'ABNORMAL_TERMINATION_IN_LNSRCH', 'funcalls': 53, 'nit': 3, 'warnflag': 2}\n",
      "  \" state: %s\" % convergence_dict)\n"
     ]
    },
    {
     "name": "stdout",
     "output_type": "stream",
     "text": [
      "   17 | 05m40s | -2191.68064 |     26.7105 |         0.7964 |           167.5736 |        37.1487 | \n"
     ]
    },
    {
     "name": "stderr",
     "output_type": "stream",
     "text": [
      "c:\\users\\zhon\\appdata\\local\\programs\\python\\python36\\lib\\site-packages\\sklearn\\gaussian_process\\gpr.py:457: UserWarning: fmin_l_bfgs_b terminated abnormally with the  state: {'grad': array([-24912.76953125]), 'task': b'ABNORMAL_TERMINATION_IN_LNSRCH', 'funcalls': 57, 'nit': 3, 'warnflag': 2}\n",
      "  \" state: %s\" % convergence_dict)\n",
      "c:\\users\\zhon\\appdata\\local\\programs\\python\\python36\\lib\\site-packages\\sklearn\\gaussian_process\\gpr.py:457: UserWarning: fmin_l_bfgs_b terminated abnormally with the  state: {'grad': array([0.99928713]), 'task': b'ABNORMAL_TERMINATION_IN_LNSRCH', 'funcalls': 26, 'nit': 1, 'warnflag': 2}\n",
      "  \" state: %s\" % convergence_dict)\n",
      "c:\\users\\zhon\\appdata\\local\\programs\\python\\python36\\lib\\site-packages\\sklearn\\gaussian_process\\gpr.py:457: UserWarning: fmin_l_bfgs_b terminated abnormally with the  state: {'grad': array([-4.63085938]), 'task': b'ABNORMAL_TERMINATION_IN_LNSRCH', 'funcalls': 50, 'nit': 3, 'warnflag': 2}\n",
      "  \" state: %s\" % convergence_dict)\n"
     ]
    },
    {
     "name": "stdout",
     "output_type": "stream",
     "text": [
      "   18 | 06m21s | -2236.35234 |     21.9705 |         0.5248 |           195.6083 |        67.0209 | \n"
     ]
    },
    {
     "name": "stderr",
     "output_type": "stream",
     "text": [
      "c:\\users\\zhon\\appdata\\local\\programs\\python\\python36\\lib\\site-packages\\sklearn\\gaussian_process\\gpr.py:457: UserWarning: fmin_l_bfgs_b terminated abnormally with the  state: {'grad': array([-26546.16670625]), 'task': b'ABNORMAL_TERMINATION_IN_LNSRCH', 'funcalls': 67, 'nit': 3, 'warnflag': 2}\n",
      "  \" state: %s\" % convergence_dict)\n",
      "c:\\users\\zhon\\appdata\\local\\programs\\python\\python36\\lib\\site-packages\\sklearn\\gaussian_process\\gpr.py:457: UserWarning: fmin_l_bfgs_b terminated abnormally with the  state: {'grad': array([-901.43251025]), 'task': b'ABNORMAL_TERMINATION_IN_LNSRCH', 'funcalls': 53, 'nit': 4, 'warnflag': 2}\n",
      "  \" state: %s\" % convergence_dict)\n",
      "c:\\users\\zhon\\appdata\\local\\programs\\python\\python36\\lib\\site-packages\\sklearn\\gaussian_process\\gpr.py:457: UserWarning: fmin_l_bfgs_b terminated abnormally with the  state: {'grad': array([-0.57855474]), 'task': b'ABNORMAL_TERMINATION_IN_LNSRCH', 'funcalls': 47, 'nit': 4, 'warnflag': 2}\n",
      "  \" state: %s\" % convergence_dict)\n",
      "c:\\users\\zhon\\appdata\\local\\programs\\python\\python36\\lib\\site-packages\\sklearn\\gaussian_process\\gpr.py:457: UserWarning: fmin_l_bfgs_b terminated abnormally with the  state: {'grad': array([-8991.8943564]), 'task': b'ABNORMAL_TERMINATION_IN_LNSRCH', 'funcalls': 51, 'nit': 5, 'warnflag': 2}\n",
      "  \" state: %s\" % convergence_dict)\n"
     ]
    },
    {
     "name": "stdout",
     "output_type": "stream",
     "text": [
      "   19 | 04m33s | -2147.68288 |     21.9358 |         0.5953 |            74.8553 |        37.5276 | \n"
     ]
    },
    {
     "name": "stderr",
     "output_type": "stream",
     "text": [
      "c:\\users\\zhon\\appdata\\local\\programs\\python\\python36\\lib\\site-packages\\sklearn\\gaussian_process\\gpr.py:457: UserWarning: fmin_l_bfgs_b terminated abnormally with the  state: {'grad': array([-160.29898216]), 'task': b'ABNORMAL_TERMINATION_IN_LNSRCH', 'funcalls': 50, 'nit': 7, 'warnflag': 2}\n",
      "  \" state: %s\" % convergence_dict)\n",
      "c:\\users\\zhon\\appdata\\local\\programs\\python\\python36\\lib\\site-packages\\sklearn\\gaussian_process\\gpr.py:457: UserWarning: fmin_l_bfgs_b terminated abnormally with the  state: {'grad': array([-247.30654562]), 'task': b'ABNORMAL_TERMINATION_IN_LNSRCH', 'funcalls': 53, 'nit': 4, 'warnflag': 2}\n",
      "  \" state: %s\" % convergence_dict)\n"
     ]
    },
    {
     "name": "stdout",
     "output_type": "stream",
     "text": [
      "   20 | 05m52s | -2198.22262 |     20.3314 |         0.9541 |           180.1742 |        33.8349 | \n"
     ]
    },
    {
     "name": "stderr",
     "output_type": "stream",
     "text": [
      "c:\\users\\zhon\\appdata\\local\\programs\\python\\python36\\lib\\site-packages\\sklearn\\gaussian_process\\gpr.py:457: UserWarning: fmin_l_bfgs_b terminated abnormally with the  state: {'grad': array([-82903.30566406]), 'task': b'ABNORMAL_TERMINATION_IN_LNSRCH', 'funcalls': 51, 'nit': 7, 'warnflag': 2}\n",
      "  \" state: %s\" % convergence_dict)\n",
      "c:\\users\\zhon\\appdata\\local\\programs\\python\\python36\\lib\\site-packages\\sklearn\\gaussian_process\\gpr.py:457: UserWarning: fmin_l_bfgs_b terminated abnormally with the  state: {'grad': array([-8267.0390625]), 'task': b'ABNORMAL_TERMINATION_IN_LNSRCH', 'funcalls': 57, 'nit': 4, 'warnflag': 2}\n",
      "  \" state: %s\" % convergence_dict)\n"
     ]
    },
    {
     "name": "stdout",
     "output_type": "stream",
     "text": [
      "   21 | 09m24s | -2157.93670 |     24.4464 |         0.7786 |           109.0879 |        64.6651 | \n"
     ]
    },
    {
     "name": "stderr",
     "output_type": "stream",
     "text": [
      "c:\\users\\zhon\\appdata\\local\\programs\\python\\python36\\lib\\site-packages\\sklearn\\gaussian_process\\gpr.py:457: UserWarning: fmin_l_bfgs_b terminated abnormally with the  state: {'grad': array([-318.49228909]), 'task': b'ABNORMAL_TERMINATION_IN_LNSRCH', 'funcalls': 62, 'nit': 3, 'warnflag': 2}\n",
      "  \" state: %s\" % convergence_dict)\n",
      "c:\\users\\zhon\\appdata\\local\\programs\\python\\python36\\lib\\site-packages\\sklearn\\gaussian_process\\gpr.py:457: UserWarning: fmin_l_bfgs_b terminated abnormally with the  state: {'grad': array([-1027.9546272]), 'task': b'ABNORMAL_TERMINATION_IN_LNSRCH', 'funcalls': 50, 'nit': 8, 'warnflag': 2}\n",
      "  \" state: %s\" % convergence_dict)\n"
     ]
    },
    {
     "name": "stdout",
     "output_type": "stream",
     "text": [
      "   22 | 13m10s | -2132.02125 |     19.2106 |         0.9002 |            79.2229 |        76.2453 | \n"
     ]
    },
    {
     "name": "stderr",
     "output_type": "stream",
     "text": [
      "c:\\users\\zhon\\appdata\\local\\programs\\python\\python36\\lib\\site-packages\\sklearn\\gaussian_process\\gpr.py:457: UserWarning: fmin_l_bfgs_b terminated abnormally with the  state: {'grad': array([-13147.09578868]), 'task': b'ABNORMAL_TERMINATION_IN_LNSRCH', 'funcalls': 50, 'nit': 2, 'warnflag': 2}\n",
      "  \" state: %s\" % convergence_dict)\n",
      "c:\\users\\zhon\\appdata\\local\\programs\\python\\python36\\lib\\site-packages\\sklearn\\gaussian_process\\gpr.py:457: UserWarning: fmin_l_bfgs_b terminated abnormally with the  state: {'grad': array([-43892.02342364]), 'task': b'ABNORMAL_TERMINATION_IN_LNSRCH', 'funcalls': 87, 'nit': 8, 'warnflag': 2}\n",
      "  \" state: %s\" % convergence_dict)\n"
     ]
    },
    {
     "name": "stdout",
     "output_type": "stream",
     "text": [
      "   23 | 09m20s | -2053.14598 |     24.8756 |         0.9634 |             6.4541 |        39.0047 | \n",
      "   24 | 09m00s | -2226.53195 |     22.8474 |         0.5710 |           197.3313 |        88.1890 | \n",
      "   25 | 11m03s | -2093.36170 |     18.2805 |         0.7643 |            10.5527 |        65.6093 | \n"
     ]
    },
    {
     "name": "stderr",
     "output_type": "stream",
     "text": [
      "c:\\users\\zhon\\appdata\\local\\programs\\python\\python36\\lib\\site-packages\\sklearn\\gaussian_process\\gpr.py:457: UserWarning: fmin_l_bfgs_b terminated abnormally with the  state: {'grad': array([-18391.20703125]), 'task': b'ABNORMAL_TERMINATION_IN_LNSRCH', 'funcalls': 77, 'nit': 7, 'warnflag': 2}\n",
      "  \" state: %s\" % convergence_dict)\n"
     ]
    },
    {
     "name": "stdout",
     "output_type": "stream",
     "text": [
      "   26 | 17m09s | -2091.78108 |     22.4466 |         0.9636 |            46.8209 |        88.9752 | \n",
      "   27 | 06m14s | -2100.73574 |     19.1833 |         0.9656 |            46.8945 |        32.1207 | \n"
     ]
    },
    {
     "name": "stderr",
     "output_type": "stream",
     "text": [
      "c:\\users\\zhon\\appdata\\local\\programs\\python\\python36\\lib\\site-packages\\sklearn\\gaussian_process\\gpr.py:457: UserWarning: fmin_l_bfgs_b terminated abnormally with the  state: {'grad': array([-6911.21210232]), 'task': b'ABNORMAL_TERMINATION_IN_LNSRCH', 'funcalls': 54, 'nit': 4, 'warnflag': 2}\n",
      "  \" state: %s\" % convergence_dict)\n"
     ]
    },
    {
     "name": "stdout",
     "output_type": "stream",
     "text": [
      "   28 | 06m03s | -2179.97847 |     20.6696 |         0.5714 |           116.1026 |        55.9804 | \n"
     ]
    },
    {
     "name": "stderr",
     "output_type": "stream",
     "text": [
      "c:\\users\\zhon\\appdata\\local\\programs\\python\\python36\\lib\\site-packages\\sklearn\\gaussian_process\\gpr.py:457: UserWarning: fmin_l_bfgs_b terminated abnormally with the  state: {'grad': array([-103274.00439453]), 'task': b'ABNORMAL_TERMINATION_IN_LNSRCH', 'funcalls': 60, 'nit': 3, 'warnflag': 2}\n",
      "  \" state: %s\" % convergence_dict)\n",
      "c:\\users\\zhon\\appdata\\local\\programs\\python\\python36\\lib\\site-packages\\sklearn\\gaussian_process\\gpr.py:457: UserWarning: fmin_l_bfgs_b terminated abnormally with the  state: {'grad': array([-95251.88964844]), 'task': b'ABNORMAL_TERMINATION_IN_LNSRCH', 'funcalls': 68, 'nit': 9, 'warnflag': 2}\n",
      "  \" state: %s\" % convergence_dict)\n"
     ]
    },
    {
     "name": "stdout",
     "output_type": "stream",
     "text": [
      "   29 | 08m23s | -2080.35480 |     20.9819 |         0.9868 |            27.0664 |        40.4330 | \n",
      "   30 | 08m54s | -2192.18430 |     20.5406 |         0.6334 |           146.1306 |        76.1181 | \n",
      "   31 | 14m50s | -2167.50870 |     25.3696 |         0.8115 |           128.3468 |        99.6100 | \n"
     ]
    },
    {
     "name": "stderr",
     "output_type": "stream",
     "text": [
      "c:\\users\\zhon\\appdata\\local\\programs\\python\\python36\\lib\\site-packages\\sklearn\\gaussian_process\\gpr.py:457: UserWarning: fmin_l_bfgs_b terminated abnormally with the  state: {'grad': array([-80672.4765625]), 'task': b'ABNORMAL_TERMINATION_IN_LNSRCH', 'funcalls': 80, 'nit': 4, 'warnflag': 2}\n",
      "  \" state: %s\" % convergence_dict)\n",
      "c:\\users\\zhon\\appdata\\local\\programs\\python\\python36\\lib\\site-packages\\sklearn\\gaussian_process\\gpr.py:457: UserWarning: fmin_l_bfgs_b terminated abnormally with the  state: {'grad': array([-93217.21484375]), 'task': b'ABNORMAL_TERMINATION_IN_LNSRCH', 'funcalls': 54, 'nit': 8, 'warnflag': 2}\n",
      "  \" state: %s\" % convergence_dict)\n"
     ]
    },
    {
     "name": "stdout",
     "output_type": "stream",
     "text": [
      "   32 | 04m42s | -2229.06927 |     18.2366 |         0.5484 |           185.8037 |        46.5041 | \n"
     ]
    },
    {
     "name": "stderr",
     "output_type": "stream",
     "text": [
      "c:\\users\\zhon\\appdata\\local\\programs\\python\\python36\\lib\\site-packages\\sklearn\\gaussian_process\\gpr.py:457: UserWarning: fmin_l_bfgs_b terminated abnormally with the  state: {'grad': array([-43965.265625]), 'task': b'ABNORMAL_TERMINATION_IN_LNSRCH', 'funcalls': 53, 'nit': 5, 'warnflag': 2}\n",
      "  \" state: %s\" % convergence_dict)\n"
     ]
    },
    {
     "name": "stdout",
     "output_type": "stream",
     "text": [
      "   33 | 10m04s | -2200.77467 |     26.6147 |         0.5762 |           156.0981 |        95.5526 | \n",
      "   34 | 05m53s | -2127.59537 |     23.4614 |         0.9586 |            76.4866 |        31.6484 | \n"
     ]
    },
    {
     "name": "stderr",
     "output_type": "stream",
     "text": [
      "c:\\users\\zhon\\appdata\\local\\programs\\python\\python36\\lib\\site-packages\\sklearn\\gaussian_process\\gpr.py:457: UserWarning: fmin_l_bfgs_b terminated abnormally with the  state: {'grad': array([-102983.99111787]), 'task': b'ABNORMAL_TERMINATION_IN_LNSRCH', 'funcalls': 57, 'nit': 4, 'warnflag': 2}\n",
      "  \" state: %s\" % convergence_dict)\n",
      "c:\\users\\zhon\\appdata\\local\\programs\\python\\python36\\lib\\site-packages\\sklearn\\gaussian_process\\gpr.py:457: UserWarning: fmin_l_bfgs_b terminated abnormally with the  state: {'grad': array([0.59246694]), 'task': b'ABNORMAL_TERMINATION_IN_LNSRCH', 'funcalls': 28, 'nit': 1, 'warnflag': 2}\n",
      "  \" state: %s\" % convergence_dict)\n",
      "c:\\users\\zhon\\appdata\\local\\programs\\python\\python36\\lib\\site-packages\\sklearn\\gaussian_process\\gpr.py:457: UserWarning: fmin_l_bfgs_b terminated abnormally with the  state: {'grad': array([-0.03435297]), 'task': b'ABNORMAL_TERMINATION_IN_LNSRCH', 'funcalls': 70, 'nit': 5, 'warnflag': 2}\n",
      "  \" state: %s\" % convergence_dict)\n",
      "c:\\users\\zhon\\appdata\\local\\programs\\python\\python36\\lib\\site-packages\\sklearn\\gaussian_process\\gpr.py:457: UserWarning: fmin_l_bfgs_b terminated abnormally with the  state: {'grad': array([0.03387154]), 'task': b'ABNORMAL_TERMINATION_IN_LNSRCH', 'funcalls': 63, 'nit': 6, 'warnflag': 2}\n",
      "  \" state: %s\" % convergence_dict)\n"
     ]
    },
    {
     "name": "stdout",
     "output_type": "stream",
     "text": [
      "   35 | 05m52s | -2144.85332 |     18.0940 |         0.7663 |            80.7048 |        39.1475 | \n"
     ]
    },
    {
     "name": "stderr",
     "output_type": "stream",
     "text": [
      "c:\\users\\zhon\\appdata\\local\\programs\\python\\python36\\lib\\site-packages\\sklearn\\gaussian_process\\gpr.py:457: UserWarning: fmin_l_bfgs_b terminated abnormally with the  state: {'grad': array([-113.61664237]), 'task': b'ABNORMAL_TERMINATION_IN_LNSRCH', 'funcalls': 48, 'nit': 5, 'warnflag': 2}\n",
      "  \" state: %s\" % convergence_dict)\n",
      "c:\\users\\zhon\\appdata\\local\\programs\\python\\python36\\lib\\site-packages\\sklearn\\gaussian_process\\gpr.py:457: UserWarning: fmin_l_bfgs_b terminated abnormally with the  state: {'grad': array([-112965.98699596]), 'task': b'ABNORMAL_TERMINATION_IN_LNSRCH', 'funcalls': 72, 'nit': 8, 'warnflag': 2}\n",
      "  \" state: %s\" % convergence_dict)\n"
     ]
    },
    {
     "name": "stdout",
     "output_type": "stream",
     "text": [
      "   36 | 07m57s | -2157.46545 |     26.0632 |         0.8916 |           112.1999 |        46.3485 | \n"
     ]
    },
    {
     "name": "stderr",
     "output_type": "stream",
     "text": [
      "c:\\users\\zhon\\appdata\\local\\programs\\python\\python36\\lib\\site-packages\\sklearn\\gaussian_process\\gpr.py:457: UserWarning: fmin_l_bfgs_b terminated abnormally with the  state: {'grad': array([-118135.34765625]), 'task': b'ABNORMAL_TERMINATION_IN_LNSRCH', 'funcalls': 87, 'nit': 4, 'warnflag': 2}\n",
      "  \" state: %s\" % convergence_dict)\n",
      "c:\\users\\zhon\\appdata\\local\\programs\\python\\python36\\lib\\site-packages\\sklearn\\gaussian_process\\gpr.py:457: UserWarning: fmin_l_bfgs_b terminated abnormally with the  state: {'grad': array([-95857.40039062]), 'task': b'ABNORMAL_TERMINATION_IN_LNSRCH', 'funcalls': 56, 'nit': 3, 'warnflag': 2}\n",
      "  \" state: %s\" % convergence_dict)\n",
      "c:\\users\\zhon\\appdata\\local\\programs\\python\\python36\\lib\\site-packages\\sklearn\\gaussian_process\\gpr.py:457: UserWarning: fmin_l_bfgs_b terminated abnormally with the  state: {'grad': array([-661.67773438]), 'task': b'ABNORMAL_TERMINATION_IN_LNSRCH', 'funcalls': 60, 'nit': 5, 'warnflag': 2}\n",
      "  \" state: %s\" % convergence_dict)\n",
      "c:\\users\\zhon\\appdata\\local\\programs\\python\\python36\\lib\\site-packages\\sklearn\\gaussian_process\\gpr.py:457: UserWarning: fmin_l_bfgs_b terminated abnormally with the  state: {'grad': array([-325.08984375]), 'task': b'ABNORMAL_TERMINATION_IN_LNSRCH', 'funcalls': 47, 'nit': 5, 'warnflag': 2}\n",
      "  \" state: %s\" % convergence_dict)\n",
      "c:\\users\\zhon\\appdata\\local\\programs\\python\\python36\\lib\\site-packages\\sklearn\\gaussian_process\\gpr.py:457: UserWarning: fmin_l_bfgs_b terminated abnormally with the  state: {'grad': array([-51373.2734375]), 'task': b'ABNORMAL_TERMINATION_IN_LNSRCH', 'funcalls': 61, 'nit': 5, 'warnflag': 2}\n",
      "  \" state: %s\" % convergence_dict)\n"
     ]
    },
    {
     "name": "stdout",
     "output_type": "stream",
     "text": [
      "   37 | 04m27s | -2135.33915 |     20.1963 |         0.7057 |            73.2978 |        31.0507 | \n"
     ]
    },
    {
     "name": "stderr",
     "output_type": "stream",
     "text": [
      "c:\\users\\zhon\\appdata\\local\\programs\\python\\python36\\lib\\site-packages\\sklearn\\gaussian_process\\gpr.py:457: UserWarning: fmin_l_bfgs_b terminated abnormally with the  state: {'grad': array([-0.88691103]), 'task': b'ABNORMAL_TERMINATION_IN_LNSRCH', 'funcalls': 74, 'nit': 6, 'warnflag': 2}\n",
      "  \" state: %s\" % convergence_dict)\n",
      "c:\\users\\zhon\\appdata\\local\\programs\\python\\python36\\lib\\site-packages\\sklearn\\gaussian_process\\gpr.py:457: UserWarning: fmin_l_bfgs_b terminated abnormally with the  state: {'grad': array([-13594.89678134]), 'task': b'ABNORMAL_TERMINATION_IN_LNSRCH', 'funcalls': 29, 'nit': 1, 'warnflag': 2}\n",
      "  \" state: %s\" % convergence_dict)\n"
     ]
    },
    {
     "name": "stdout",
     "output_type": "stream",
     "text": [
      "   38 | 05m57s | -2214.46378 |     23.2129 |         0.5999 |           180.5909 |        53.6372 | \n"
     ]
    },
    {
     "name": "stderr",
     "output_type": "stream",
     "text": [
      "c:\\users\\zhon\\appdata\\local\\programs\\python\\python36\\lib\\site-packages\\sklearn\\gaussian_process\\gpr.py:457: UserWarning: fmin_l_bfgs_b terminated abnormally with the  state: {'grad': array([-782.53878421]), 'task': b'ABNORMAL_TERMINATION_IN_LNSRCH', 'funcalls': 53, 'nit': 4, 'warnflag': 2}\n",
      "  \" state: %s\" % convergence_dict)\n",
      "c:\\users\\zhon\\appdata\\local\\programs\\python\\python36\\lib\\site-packages\\sklearn\\gaussian_process\\gpr.py:457: UserWarning: fmin_l_bfgs_b terminated abnormally with the  state: {'grad': array([-9934.44481394]), 'task': b'ABNORMAL_TERMINATION_IN_LNSRCH', 'funcalls': 48, 'nit': 4, 'warnflag': 2}\n",
      "  \" state: %s\" % convergence_dict)\n"
     ]
    },
    {
     "name": "stdout",
     "output_type": "stream",
     "text": [
      "   39 | 09m21s | -2095.52682 |     21.8086 |         0.8253 |            45.9145 |        54.5562 | \n"
     ]
    },
    {
     "name": "stderr",
     "output_type": "stream",
     "text": [
      "c:\\users\\zhon\\appdata\\local\\programs\\python\\python36\\lib\\site-packages\\sklearn\\gaussian_process\\gpr.py:457: UserWarning: fmin_l_bfgs_b terminated abnormally with the  state: {'grad': array([-16564.6875]), 'task': b'ABNORMAL_TERMINATION_IN_LNSRCH', 'funcalls': 49, 'nit': 2, 'warnflag': 2}\n",
      "  \" state: %s\" % convergence_dict)\n"
     ]
    },
    {
     "name": "stdout",
     "output_type": "stream",
     "text": [
      "   40 | 12m18s | -2143.03410 |     25.1183 |         0.7318 |            91.6944 |        88.7682 | \n"
     ]
    },
    {
     "name": "stderr",
     "output_type": "stream",
     "text": [
      "c:\\users\\zhon\\appdata\\local\\programs\\python\\python36\\lib\\site-packages\\sklearn\\gaussian_process\\gpr.py:457: UserWarning: fmin_l_bfgs_b terminated abnormally with the  state: {'grad': array([-615.171875]), 'task': b'ABNORMAL_TERMINATION_IN_LNSRCH', 'funcalls': 61, 'nit': 6, 'warnflag': 2}\n",
      "  \" state: %s\" % convergence_dict)\n",
      "c:\\users\\zhon\\appdata\\local\\programs\\python\\python36\\lib\\site-packages\\sklearn\\gaussian_process\\gpr.py:457: UserWarning: fmin_l_bfgs_b terminated abnormally with the  state: {'grad': array([-7558.59375]), 'task': b'ABNORMAL_TERMINATION_IN_LNSRCH', 'funcalls': 48, 'nit': 6, 'warnflag': 2}\n",
      "  \" state: %s\" % convergence_dict)\n"
     ]
    },
    {
     "name": "stdout",
     "output_type": "stream",
     "text": [
      "   41 | 07m22s | -2101.99594 |     25.9206 |         0.5198 |            35.5725 |        65.1397 | \n"
     ]
    },
    {
     "name": "stderr",
     "output_type": "stream",
     "text": [
      "c:\\users\\zhon\\appdata\\local\\programs\\python\\python36\\lib\\site-packages\\sklearn\\gaussian_process\\gpr.py:457: UserWarning: fmin_l_bfgs_b terminated abnormally with the  state: {'grad': array([-1109.59375]), 'task': b'ABNORMAL_TERMINATION_IN_LNSRCH', 'funcalls': 50, 'nit': 3, 'warnflag': 2}\n",
      "  \" state: %s\" % convergence_dict)\n",
      "c:\\users\\zhon\\appdata\\local\\programs\\python\\python36\\lib\\site-packages\\sklearn\\gaussian_process\\gpr.py:457: UserWarning: fmin_l_bfgs_b terminated abnormally with the  state: {'grad': array([0.0625]), 'task': b'ABNORMAL_TERMINATION_IN_LNSRCH', 'funcalls': 53, 'nit': 6, 'warnflag': 2}\n",
      "  \" state: %s\" % convergence_dict)\n",
      "c:\\users\\zhon\\appdata\\local\\programs\\python\\python36\\lib\\site-packages\\sklearn\\gaussian_process\\gpr.py:457: UserWarning: fmin_l_bfgs_b terminated abnormally with the  state: {'grad': array([-121614.]), 'task': b'ABNORMAL_TERMINATION_IN_LNSRCH', 'funcalls': 145, 'nit': 7, 'warnflag': 2}\n",
      "  \" state: %s\" % convergence_dict)\n",
      "c:\\users\\zhon\\appdata\\local\\programs\\python\\python36\\lib\\site-packages\\sklearn\\gaussian_process\\gpr.py:457: UserWarning: fmin_l_bfgs_b terminated abnormally with the  state: {'grad': array([-94186.25]), 'task': b'ABNORMAL_TERMINATION_IN_LNSRCH', 'funcalls': 48, 'nit': 4, 'warnflag': 2}\n",
      "  \" state: %s\" % convergence_dict)\n"
     ]
    },
    {
     "name": "stdout",
     "output_type": "stream",
     "text": [
      "   42 | 10m22s | -2070.09688 |     23.5828 |         0.7520 |            24.0078 |        63.7585 | \n"
     ]
    },
    {
     "name": "stderr",
     "output_type": "stream",
     "text": [
      "c:\\users\\zhon\\appdata\\local\\programs\\python\\python36\\lib\\site-packages\\sklearn\\gaussian_process\\gpr.py:457: UserWarning: fmin_l_bfgs_b terminated abnormally with the  state: {'grad': array([-0.08778551]), 'task': b'ABNORMAL_TERMINATION_IN_LNSRCH', 'funcalls': 66, 'nit': 5, 'warnflag': 2}\n",
      "  \" state: %s\" % convergence_dict)\n",
      "c:\\users\\zhon\\appdata\\local\\programs\\python\\python36\\lib\\site-packages\\sklearn\\gaussian_process\\gpr.py:457: UserWarning: fmin_l_bfgs_b terminated abnormally with the  state: {'grad': array([1.42464525]), 'task': b'ABNORMAL_TERMINATION_IN_LNSRCH', 'funcalls': 21, 'nit': 0, 'warnflag': 2}\n",
      "  \" state: %s\" % convergence_dict)\n",
      "c:\\users\\zhon\\appdata\\local\\programs\\python\\python36\\lib\\site-packages\\sklearn\\gaussian_process\\gpr.py:457: UserWarning: fmin_l_bfgs_b terminated abnormally with the  state: {'grad': array([0.0731721]), 'task': b'ABNORMAL_TERMINATION_IN_LNSRCH', 'funcalls': 100, 'nit': 7, 'warnflag': 2}\n",
      "  \" state: %s\" % convergence_dict)\n"
     ]
    },
    {
     "name": "stdout",
     "output_type": "stream",
     "text": [
      "   43 | 08m30s | -2198.34920 |     19.1641 |         0.7500 |           175.2813 |        61.5796 | \n"
     ]
    },
    {
     "name": "stderr",
     "output_type": "stream",
     "text": [
      "c:\\users\\zhon\\appdata\\local\\programs\\python\\python36\\lib\\site-packages\\sklearn\\gaussian_process\\gpr.py:457: UserWarning: fmin_l_bfgs_b terminated abnormally with the  state: {'grad': array([-0.72180081]), 'task': b'ABNORMAL_TERMINATION_IN_LNSRCH', 'funcalls': 74, 'nit': 4, 'warnflag': 2}\n",
      "  \" state: %s\" % convergence_dict)\n",
      "c:\\users\\zhon\\appdata\\local\\programs\\python\\python36\\lib\\site-packages\\sklearn\\gaussian_process\\gpr.py:457: UserWarning: fmin_l_bfgs_b terminated abnormally with the  state: {'grad': array([-645.89770704]), 'task': b'ABNORMAL_TERMINATION_IN_LNSRCH', 'funcalls': 47, 'nit': 3, 'warnflag': 2}\n",
      "  \" state: %s\" % convergence_dict)\n",
      "c:\\users\\zhon\\appdata\\local\\programs\\python\\python36\\lib\\site-packages\\sklearn\\gaussian_process\\gpr.py:457: UserWarning: fmin_l_bfgs_b terminated abnormally with the  state: {'grad': array([-941.56330752]), 'task': b'ABNORMAL_TERMINATION_IN_LNSRCH', 'funcalls': 66, 'nit': 4, 'warnflag': 2}\n",
      "  \" state: %s\" % convergence_dict)\n"
     ]
    },
    {
     "name": "stdout",
     "output_type": "stream",
     "text": [
      "   44 | 09m39s | -2168.95012 |     21.5382 |         0.7731 |           123.5771 |        67.8002 | \n"
     ]
    },
    {
     "name": "stderr",
     "output_type": "stream",
     "text": [
      "c:\\users\\zhon\\appdata\\local\\programs\\python\\python36\\lib\\site-packages\\sklearn\\gaussian_process\\gpr.py:457: UserWarning: fmin_l_bfgs_b terminated abnormally with the  state: {'grad': array([-45384.05859375]), 'task': b'ABNORMAL_TERMINATION_IN_LNSRCH', 'funcalls': 49, 'nit': 2, 'warnflag': 2}\n",
      "  \" state: %s\" % convergence_dict)\n",
      "c:\\users\\zhon\\appdata\\local\\programs\\python\\python36\\lib\\site-packages\\sklearn\\gaussian_process\\gpr.py:457: UserWarning: fmin_l_bfgs_b terminated abnormally with the  state: {'grad': array([-0.12304688]), 'task': b'ABNORMAL_TERMINATION_IN_LNSRCH', 'funcalls': 50, 'nit': 8, 'warnflag': 2}\n",
      "  \" state: %s\" % convergence_dict)\n",
      "c:\\users\\zhon\\appdata\\local\\programs\\python\\python36\\lib\\site-packages\\sklearn\\gaussian_process\\gpr.py:457: UserWarning: fmin_l_bfgs_b terminated abnormally with the  state: {'grad': array([-128263.9609375]), 'task': b'ABNORMAL_TERMINATION_IN_LNSRCH', 'funcalls': 107, 'nit': 5, 'warnflag': 2}\n",
      "  \" state: %s\" % convergence_dict)\n",
      "c:\\users\\zhon\\appdata\\local\\programs\\python\\python36\\lib\\site-packages\\sklearn\\gaussian_process\\gpr.py:457: UserWarning: fmin_l_bfgs_b terminated abnormally with the  state: {'grad': array([-29795.59960938]), 'task': b'ABNORMAL_TERMINATION_IN_LNSRCH', 'funcalls': 48, 'nit': 6, 'warnflag': 2}\n",
      "  \" state: %s\" % convergence_dict)\n",
      "c:\\users\\zhon\\appdata\\local\\programs\\python\\python36\\lib\\site-packages\\sklearn\\gaussian_process\\gpr.py:457: UserWarning: fmin_l_bfgs_b terminated abnormally with the  state: {'grad': array([-36316.8984375]), 'task': b'ABNORMAL_TERMINATION_IN_LNSRCH', 'funcalls': 48, 'nit': 6, 'warnflag': 2}\n",
      "  \" state: %s\" % convergence_dict)\n"
     ]
    },
    {
     "name": "stdout",
     "output_type": "stream",
     "text": [
      "   45 | 09m49s | -2063.53507 |     22.9329 |         0.8502 |             5.7341 |        47.0497 | \n"
     ]
    },
    {
     "name": "stderr",
     "output_type": "stream",
     "text": [
      "c:\\users\\zhon\\appdata\\local\\programs\\python\\python36\\lib\\site-packages\\sklearn\\gaussian_process\\gpr.py:457: UserWarning: fmin_l_bfgs_b terminated abnormally with the  state: {'grad': array([-52201.65479225]), 'task': b'ABNORMAL_TERMINATION_IN_LNSRCH', 'funcalls': 68, 'nit': 3, 'warnflag': 2}\n",
      "  \" state: %s\" % convergence_dict)\n",
      "c:\\users\\zhon\\appdata\\local\\programs\\python\\python36\\lib\\site-packages\\sklearn\\gaussian_process\\gpr.py:457: UserWarning: fmin_l_bfgs_b terminated abnormally with the  state: {'grad': array([-0.26894875]), 'task': b'ABNORMAL_TERMINATION_IN_LNSRCH', 'funcalls': 49, 'nit': 5, 'warnflag': 2}\n",
      "  \" state: %s\" % convergence_dict)\n",
      "c:\\users\\zhon\\appdata\\local\\programs\\python\\python36\\lib\\site-packages\\sklearn\\gaussian_process\\gpr.py:457: UserWarning: fmin_l_bfgs_b terminated abnormally with the  state: {'grad': array([-98.961593]), 'task': b'ABNORMAL_TERMINATION_IN_LNSRCH', 'funcalls': 53, 'nit': 4, 'warnflag': 2}\n",
      "  \" state: %s\" % convergence_dict)\n",
      "c:\\users\\zhon\\appdata\\local\\programs\\python\\python36\\lib\\site-packages\\sklearn\\gaussian_process\\gpr.py:457: UserWarning: fmin_l_bfgs_b terminated abnormally with the  state: {'grad': array([-3689.28545634]), 'task': b'ABNORMAL_TERMINATION_IN_LNSRCH', 'funcalls': 48, 'nit': 4, 'warnflag': 2}\n",
      "  \" state: %s\" % convergence_dict)\n",
      "c:\\users\\zhon\\appdata\\local\\programs\\python\\python36\\lib\\site-packages\\sklearn\\gaussian_process\\gpr.py:457: UserWarning: fmin_l_bfgs_b terminated abnormally with the  state: {'grad': array([-112469.5625037]), 'task': b'ABNORMAL_TERMINATION_IN_LNSRCH', 'funcalls': 61, 'nit': 4, 'warnflag': 2}\n",
      "  \" state: %s\" % convergence_dict)\n",
      "c:\\users\\zhon\\appdata\\local\\programs\\python\\python36\\lib\\site-packages\\sklearn\\gaussian_process\\gpr.py:457: UserWarning: fmin_l_bfgs_b terminated abnormally with the  state: {'grad': array([-184485.37531249]), 'task': b'ABNORMAL_TERMINATION_IN_LNSRCH', 'funcalls': 46, 'nit': 3, 'warnflag': 2}\n",
      "  \" state: %s\" % convergence_dict)\n"
     ]
    },
    {
     "name": "stdout",
     "output_type": "stream",
     "text": [
      "   46 | 06m05s | -2190.03569 |     22.9152 |         0.6455 |           143.4020 |        49.8901 | \n"
     ]
    },
    {
     "name": "stderr",
     "output_type": "stream",
     "text": [
      "c:\\users\\zhon\\appdata\\local\\programs\\python\\python36\\lib\\site-packages\\sklearn\\gaussian_process\\gpr.py:457: UserWarning: fmin_l_bfgs_b terminated abnormally with the  state: {'grad': array([-16861.24549427]), 'task': b'ABNORMAL_TERMINATION_IN_LNSRCH', 'funcalls': 52, 'nit': 5, 'warnflag': 2}\n",
      "  \" state: %s\" % convergence_dict)\n",
      "c:\\users\\zhon\\appdata\\local\\programs\\python\\python36\\lib\\site-packages\\sklearn\\gaussian_process\\gpr.py:457: UserWarning: fmin_l_bfgs_b terminated abnormally with the  state: {'grad': array([-10618.88860747]), 'task': b'ABNORMAL_TERMINATION_IN_LNSRCH', 'funcalls': 78, 'nit': 7, 'warnflag': 2}\n",
      "  \" state: %s\" % convergence_dict)\n"
     ]
    },
    {
     "name": "stdout",
     "output_type": "stream",
     "text": [
      "   47 | 05m03s | -2167.22585 |     26.1566 |         0.5889 |            99.0492 |        44.1411 | \n"
     ]
    },
    {
     "name": "stderr",
     "output_type": "stream",
     "text": [
      "c:\\users\\zhon\\appdata\\local\\programs\\python\\python36\\lib\\site-packages\\sklearn\\gaussian_process\\gpr.py:457: UserWarning: fmin_l_bfgs_b terminated abnormally with the  state: {'grad': array([-635.1875]), 'task': b'ABNORMAL_TERMINATION_IN_LNSRCH', 'funcalls': 73, 'nit': 4, 'warnflag': 2}\n",
      "  \" state: %s\" % convergence_dict)\n",
      "c:\\users\\zhon\\appdata\\local\\programs\\python\\python36\\lib\\site-packages\\sklearn\\gaussian_process\\gpr.py:457: UserWarning: fmin_l_bfgs_b terminated abnormally with the  state: {'grad': array([-539.3125]), 'task': b'ABNORMAL_TERMINATION_IN_LNSRCH', 'funcalls': 75, 'nit': 6, 'warnflag': 2}\n",
      "  \" state: %s\" % convergence_dict)\n"
     ]
    },
    {
     "name": "stdout",
     "output_type": "stream",
     "text": [
      "   48 | 08m18s | -2198.67606 |     17.8860 |         0.9900 |           178.2799 |        48.6490 | \n"
     ]
    },
    {
     "name": "stderr",
     "output_type": "stream",
     "text": [
      "c:\\users\\zhon\\appdata\\local\\programs\\python\\python36\\lib\\site-packages\\sklearn\\gaussian_process\\gpr.py:457: UserWarning: fmin_l_bfgs_b terminated abnormally with the  state: {'grad': array([-1943.58935547]), 'task': b'ABNORMAL_TERMINATION_IN_LNSRCH', 'funcalls': 50, 'nit': 3, 'warnflag': 2}\n",
      "  \" state: %s\" % convergence_dict)\n",
      "c:\\users\\zhon\\appdata\\local\\programs\\python\\python36\\lib\\site-packages\\sklearn\\gaussian_process\\gpr.py:457: UserWarning: fmin_l_bfgs_b terminated abnormally with the  state: {'grad': array([1.70599599]), 'task': b'ABNORMAL_TERMINATION_IN_LNSRCH', 'funcalls': 34, 'nit': 1, 'warnflag': 2}\n",
      "  \" state: %s\" % convergence_dict)\n",
      "c:\\users\\zhon\\appdata\\local\\programs\\python\\python36\\lib\\site-packages\\sklearn\\gaussian_process\\gpr.py:457: UserWarning: fmin_l_bfgs_b terminated abnormally with the  state: {'grad': array([-90074.53271484]), 'task': b'ABNORMAL_TERMINATION_IN_LNSRCH', 'funcalls': 54, 'nit': 5, 'warnflag': 2}\n",
      "  \" state: %s\" % convergence_dict)\n"
     ]
    },
    {
     "name": "stdout",
     "output_type": "stream",
     "text": [
      "   49 | 03m28s | -2170.33595 |     25.0565 |         0.5523 |            97.0651 |        32.5869 | \n"
     ]
    },
    {
     "name": "stderr",
     "output_type": "stream",
     "text": [
      "c:\\users\\zhon\\appdata\\local\\programs\\python\\python36\\lib\\site-packages\\sklearn\\gaussian_process\\gpr.py:457: UserWarning: fmin_l_bfgs_b terminated abnormally with the  state: {'grad': array([-175127.234375]), 'task': b'ABNORMAL_TERMINATION_IN_LNSRCH', 'funcalls': 67, 'nit': 3, 'warnflag': 2}\n",
      "  \" state: %s\" % convergence_dict)\n",
      "c:\\users\\zhon\\appdata\\local\\programs\\python\\python36\\lib\\site-packages\\sklearn\\gaussian_process\\gpr.py:457: UserWarning: fmin_l_bfgs_b terminated abnormally with the  state: {'grad': array([-63992.]), 'task': b'ABNORMAL_TERMINATION_IN_LNSRCH', 'funcalls': 84, 'nit': 5, 'warnflag': 2}\n",
      "  \" state: %s\" % convergence_dict)\n",
      "c:\\users\\zhon\\appdata\\local\\programs\\python\\python36\\lib\\site-packages\\sklearn\\gaussian_process\\gpr.py:457: UserWarning: fmin_l_bfgs_b terminated abnormally with the  state: {'grad': array([-2657.71875]), 'task': b'ABNORMAL_TERMINATION_IN_LNSRCH', 'funcalls': 47, 'nit': 3, 'warnflag': 2}\n",
      "  \" state: %s\" % convergence_dict)\n",
      "c:\\users\\zhon\\appdata\\local\\programs\\python\\python36\\lib\\site-packages\\sklearn\\gaussian_process\\gpr.py:457: UserWarning: fmin_l_bfgs_b terminated abnormally with the  state: {'grad': array([-137.265625]), 'task': b'ABNORMAL_TERMINATION_IN_LNSRCH', 'funcalls': 47, 'nit': 4, 'warnflag': 2}\n",
      "  \" state: %s\" % convergence_dict)\n"
     ]
    },
    {
     "name": "stdout",
     "output_type": "stream",
     "text": [
      "   50 | 07m35s | -2181.22166 |     18.9761 |         0.8803 |           141.1756 |        47.5602 | \n"
     ]
    },
    {
     "name": "stderr",
     "output_type": "stream",
     "text": [
      "c:\\users\\zhon\\appdata\\local\\programs\\python\\python36\\lib\\site-packages\\sklearn\\gaussian_process\\gpr.py:457: UserWarning: fmin_l_bfgs_b terminated abnormally with the  state: {'grad': array([-257.56947158]), 'task': b'ABNORMAL_TERMINATION_IN_LNSRCH', 'funcalls': 88, 'nit': 5, 'warnflag': 2}\n",
      "  \" state: %s\" % convergence_dict)\n",
      "c:\\users\\zhon\\appdata\\local\\programs\\python\\python36\\lib\\site-packages\\sklearn\\gaussian_process\\gpr.py:457: UserWarning: fmin_l_bfgs_b terminated abnormally with the  state: {'grad': array([-203414.83839179]), 'task': b'ABNORMAL_TERMINATION_IN_LNSRCH', 'funcalls': 47, 'nit': 5, 'warnflag': 2}\n",
      "  \" state: %s\" % convergence_dict)\n"
     ]
    },
    {
     "name": "stdout",
     "output_type": "stream",
     "text": [
      "   51 | 17m16s | -2104.92836 |     17.1202 |         0.9574 |            35.1899 |        89.5310 | \n"
     ]
    },
    {
     "name": "stderr",
     "output_type": "stream",
     "text": [
      "c:\\users\\zhon\\appdata\\local\\programs\\python\\python36\\lib\\site-packages\\sklearn\\gaussian_process\\gpr.py:457: UserWarning: fmin_l_bfgs_b terminated abnormally with the  state: {'grad': array([7.481339]), 'task': b'ABNORMAL_TERMINATION_IN_LNSRCH', 'funcalls': 51, 'nit': 4, 'warnflag': 2}\n",
      "  \" state: %s\" % convergence_dict)\n",
      "c:\\users\\zhon\\appdata\\local\\programs\\python\\python36\\lib\\site-packages\\sklearn\\gaussian_process\\gpr.py:457: UserWarning: fmin_l_bfgs_b terminated abnormally with the  state: {'grad': array([-11983.10781835]), 'task': b'ABNORMAL_TERMINATION_IN_LNSRCH', 'funcalls': 67, 'nit': 4, 'warnflag': 2}\n",
      "  \" state: %s\" % convergence_dict)\n",
      "c:\\users\\zhon\\appdata\\local\\programs\\python\\python36\\lib\\site-packages\\sklearn\\gaussian_process\\gpr.py:457: UserWarning: fmin_l_bfgs_b terminated abnormally with the  state: {'grad': array([-9580.55555849]), 'task': b'ABNORMAL_TERMINATION_IN_LNSRCH', 'funcalls': 78, 'nit': 6, 'warnflag': 2}\n",
      "  \" state: %s\" % convergence_dict)\n"
     ]
    },
    {
     "name": "stdout",
     "output_type": "stream",
     "text": [
      "   52 | 07m43s | -2098.30615 |     22.4321 |         0.5286 |            31.6048 |        67.3881 | \n",
      "   53 | 11m02s | -2113.80545 |     22.9410 |         0.7308 |            58.0766 |        75.5250 | \n"
     ]
    },
    {
     "name": "stderr",
     "output_type": "stream",
     "text": [
      "c:\\users\\zhon\\appdata\\local\\programs\\python\\python36\\lib\\site-packages\\sklearn\\gaussian_process\\gpr.py:457: UserWarning: fmin_l_bfgs_b terminated abnormally with the  state: {'grad': array([3.05568884]), 'task': b'ABNORMAL_TERMINATION_IN_LNSRCH', 'funcalls': 51, 'nit': 4, 'warnflag': 2}\n",
      "  \" state: %s\" % convergence_dict)\n",
      "c:\\users\\zhon\\appdata\\local\\programs\\python\\python36\\lib\\site-packages\\sklearn\\gaussian_process\\gpr.py:457: UserWarning: fmin_l_bfgs_b terminated abnormally with the  state: {'grad': array([-134507.40637341]), 'task': b'ABNORMAL_TERMINATION_IN_LNSRCH', 'funcalls': 56, 'nit': 3, 'warnflag': 2}\n",
      "  \" state: %s\" % convergence_dict)\n",
      "c:\\users\\zhon\\appdata\\local\\programs\\python\\python36\\lib\\site-packages\\sklearn\\gaussian_process\\gpr.py:457: UserWarning: fmin_l_bfgs_b terminated abnormally with the  state: {'grad': array([-0.15976216]), 'task': b'ABNORMAL_TERMINATION_IN_LNSRCH', 'funcalls': 50, 'nit': 8, 'warnflag': 2}\n",
      "  \" state: %s\" % convergence_dict)\n"
     ]
    },
    {
     "name": "stdout",
     "output_type": "stream",
     "text": [
      "   54 | 03m47s | -2129.19735 |     19.0802 |         0.5673 |            47.5555 |        32.5348 | \n"
     ]
    },
    {
     "name": "stderr",
     "output_type": "stream",
     "text": [
      "c:\\users\\zhon\\appdata\\local\\programs\\python\\python36\\lib\\site-packages\\sklearn\\gaussian_process\\gpr.py:457: UserWarning: fmin_l_bfgs_b terminated abnormally with the  state: {'grad': array([-11227.93682298]), 'task': b'ABNORMAL_TERMINATION_IN_LNSRCH', 'funcalls': 59, 'nit': 3, 'warnflag': 2}\n",
      "  \" state: %s\" % convergence_dict)\n",
      "c:\\users\\zhon\\appdata\\local\\programs\\python\\python36\\lib\\site-packages\\sklearn\\gaussian_process\\gpr.py:457: UserWarning: fmin_l_bfgs_b terminated abnormally with the  state: {'grad': array([-5677.50338483]), 'task': b'ABNORMAL_TERMINATION_IN_LNSRCH', 'funcalls': 71, 'nit': 5, 'warnflag': 2}\n",
      "  \" state: %s\" % convergence_dict)\n",
      "c:\\users\\zhon\\appdata\\local\\programs\\python\\python36\\lib\\site-packages\\sklearn\\gaussian_process\\gpr.py:457: UserWarning: fmin_l_bfgs_b terminated abnormally with the  state: {'grad': array([-14353.89736357]), 'task': b'ABNORMAL_TERMINATION_IN_LNSRCH', 'funcalls': 65, 'nit': 3, 'warnflag': 2}\n",
      "  \" state: %s\" % convergence_dict)\n",
      "c:\\users\\zhon\\appdata\\local\\programs\\python\\python36\\lib\\site-packages\\sklearn\\gaussian_process\\gpr.py:457: UserWarning: fmin_l_bfgs_b terminated abnormally with the  state: {'grad': array([-6297.43477577]), 'task': b'ABNORMAL_TERMINATION_IN_LNSRCH', 'funcalls': 46, 'nit': 3, 'warnflag': 2}\n",
      "  \" state: %s\" % convergence_dict)\n"
     ]
    },
    {
     "name": "stdout",
     "output_type": "stream",
     "text": [
      "   55 | 14m11s | -2140.94140 |     22.7466 |         0.9024 |            96.9705 |        83.5599 | \n"
     ]
    },
    {
     "name": "stderr",
     "output_type": "stream",
     "text": [
      "c:\\users\\zhon\\appdata\\local\\programs\\python\\python36\\lib\\site-packages\\sklearn\\gaussian_process\\gpr.py:457: UserWarning: fmin_l_bfgs_b terminated abnormally with the  state: {'grad': array([1.]), 'task': b'ABNORMAL_TERMINATION_IN_LNSRCH', 'funcalls': 55, 'nit': 4, 'warnflag': 2}\n",
      "  \" state: %s\" % convergence_dict)\n"
     ]
    },
    {
     "name": "stdout",
     "output_type": "stream",
     "text": [
      "   56 | 04m49s | -2112.75841 |     18.2189 |         0.6395 |            30.3444 |        35.0682 | \n"
     ]
    },
    {
     "name": "stderr",
     "output_type": "stream",
     "text": [
      "c:\\users\\zhon\\appdata\\local\\programs\\python\\python36\\lib\\site-packages\\sklearn\\gaussian_process\\gpr.py:457: UserWarning: fmin_l_bfgs_b terminated abnormally with the  state: {'grad': array([0.26171875]), 'task': b'ABNORMAL_TERMINATION_IN_LNSRCH', 'funcalls': 47, 'nit': 4, 'warnflag': 2}\n",
      "  \" state: %s\" % convergence_dict)\n",
      "c:\\users\\zhon\\appdata\\local\\programs\\python\\python36\\lib\\site-packages\\sklearn\\gaussian_process\\gpr.py:457: UserWarning: fmin_l_bfgs_b terminated abnormally with the  state: {'grad': array([-21383.9453125]), 'task': b'ABNORMAL_TERMINATION_IN_LNSRCH', 'funcalls': 30, 'nit': 2, 'warnflag': 2}\n",
      "  \" state: %s\" % convergence_dict)\n"
     ]
    },
    {
     "name": "stdout",
     "output_type": "stream",
     "text": [
      "   57 | 15m33s | -2146.21093 |     17.2563 |         0.8235 |            83.0309 |        99.7355 | \n"
     ]
    },
    {
     "name": "stderr",
     "output_type": "stream",
     "text": [
      "c:\\users\\zhon\\appdata\\local\\programs\\python\\python36\\lib\\site-packages\\sklearn\\gaussian_process\\gpr.py:457: UserWarning: fmin_l_bfgs_b terminated abnormally with the  state: {'grad': array([-9710.375]), 'task': b'ABNORMAL_TERMINATION_IN_LNSRCH', 'funcalls': 72, 'nit': 4, 'warnflag': 2}\n",
      "  \" state: %s\" % convergence_dict)\n",
      "c:\\users\\zhon\\appdata\\local\\programs\\python\\python36\\lib\\site-packages\\sklearn\\gaussian_process\\gpr.py:457: UserWarning: fmin_l_bfgs_b terminated abnormally with the  state: {'grad': array([-90746.]), 'task': b'ABNORMAL_TERMINATION_IN_LNSRCH', 'funcalls': 46, 'nit': 1, 'warnflag': 2}\n",
      "  \" state: %s\" % convergence_dict)\n"
     ]
    },
    {
     "name": "stdout",
     "output_type": "stream",
     "text": [
      "   58 | 06m50s | -2152.43189 |     26.0349 |         0.8375 |           104.6618 |        41.7197 | \n"
     ]
    },
    {
     "name": "stderr",
     "output_type": "stream",
     "text": [
      "c:\\users\\zhon\\appdata\\local\\programs\\python\\python36\\lib\\site-packages\\sklearn\\gaussian_process\\gpr.py:457: UserWarning: fmin_l_bfgs_b terminated abnormally with the  state: {'grad': array([-10702.5576034]), 'task': b'ABNORMAL_TERMINATION_IN_LNSRCH', 'funcalls': 79, 'nit': 3, 'warnflag': 2}\n",
      "  \" state: %s\" % convergence_dict)\n",
      "c:\\users\\zhon\\appdata\\local\\programs\\python\\python36\\lib\\site-packages\\sklearn\\gaussian_process\\gpr.py:457: UserWarning: fmin_l_bfgs_b terminated abnormally with the  state: {'grad': array([0.09132852]), 'task': b'ABNORMAL_TERMINATION_IN_LNSRCH', 'funcalls': 75, 'nit': 5, 'warnflag': 2}\n",
      "  \" state: %s\" % convergence_dict)\n",
      "c:\\users\\zhon\\appdata\\local\\programs\\python\\python36\\lib\\site-packages\\sklearn\\gaussian_process\\gpr.py:457: UserWarning: fmin_l_bfgs_b terminated abnormally with the  state: {'grad': array([-2141.5360389]), 'task': b'ABNORMAL_TERMINATION_IN_LNSRCH', 'funcalls': 60, 'nit': 6, 'warnflag': 2}\n",
      "  \" state: %s\" % convergence_dict)\n"
     ]
    },
    {
     "name": "stdout",
     "output_type": "stream",
     "text": [
      "   59 | 14m00s | -2123.49467 |     17.3669 |         0.9776 |            60.7579 |        73.0778 | \n"
     ]
    },
    {
     "name": "stderr",
     "output_type": "stream",
     "text": [
      "c:\\users\\zhon\\appdata\\local\\programs\\python\\python36\\lib\\site-packages\\sklearn\\gaussian_process\\gpr.py:457: UserWarning: fmin_l_bfgs_b terminated abnormally with the  state: {'grad': array([-34398.04663308]), 'task': b'ABNORMAL_TERMINATION_IN_LNSRCH', 'funcalls': 51, 'nit': 2, 'warnflag': 2}\n",
      "  \" state: %s\" % convergence_dict)\n",
      "c:\\users\\zhon\\appdata\\local\\programs\\python\\python36\\lib\\site-packages\\sklearn\\gaussian_process\\gpr.py:457: UserWarning: fmin_l_bfgs_b terminated abnormally with the  state: {'grad': array([-36106.72061441]), 'task': b'ABNORMAL_TERMINATION_IN_LNSRCH', 'funcalls': 49, 'nit': 3, 'warnflag': 2}\n",
      "  \" state: %s\" % convergence_dict)\n"
     ]
    },
    {
     "name": "stdout",
     "output_type": "stream",
     "text": [
      "   60 | 12m38s | -2094.41430 |     18.2815 |         0.8054 |            25.5056 |        75.2742 | \n"
     ]
    },
    {
     "name": "stderr",
     "output_type": "stream",
     "text": [
      "c:\\users\\zhon\\appdata\\local\\programs\\python\\python36\\lib\\site-packages\\sklearn\\gaussian_process\\gpr.py:457: UserWarning: fmin_l_bfgs_b terminated abnormally with the  state: {'grad': array([-3677.6796875]), 'task': b'ABNORMAL_TERMINATION_IN_LNSRCH', 'funcalls': 45, 'nit': 2, 'warnflag': 2}\n",
      "  \" state: %s\" % convergence_dict)\n",
      "c:\\users\\zhon\\appdata\\local\\programs\\python\\python36\\lib\\site-packages\\sklearn\\gaussian_process\\gpr.py:457: UserWarning: fmin_l_bfgs_b terminated abnormally with the  state: {'grad': array([-32442.859375]), 'task': b'ABNORMAL_TERMINATION_IN_LNSRCH', 'funcalls': 31, 'nit': 2, 'warnflag': 2}\n",
      "  \" state: %s\" % convergence_dict)\n"
     ]
    },
    {
     "name": "stdout",
     "output_type": "stream",
     "text": [
      "{'max_val': -2033.620124956041, 'max_params': {'n_estimators': 100.0, 'max_depth': 27.0, 'min_samples_leaf': 5.000000000081684, 'max_features': 0.9999999999711415}}\n"
     ]
    }
   ],
   "source": [
    "f_train_df = process_df(shuffled_data,0,train = True)\n",
    "\n",
    "X_train = f_train_df.drop(labels=[\"Poder_Adquisitivo\"],axis=1).as_matrix()\n",
    "y_train = f_train_df[\"Poder_Adquisitivo\"].as_matrix()\n",
    "\n",
    "def model_evaluate(n_estimators,\n",
    "                 max_depth,\n",
    "                max_features,\n",
    "                 min_samples_leaf,\n",
    "                  ):\n",
    "\n",
    "    n_estimators = int(n_estimators)\n",
    "    max_depth = int(max_depth)\n",
    "    min_samples_leaf = int(min_samples_leaf)\n",
    "    max_features = max(min(max_features, 1), 0.1)\n",
    "\n",
    "    model = RandomForestRegressor(n_estimators=n_estimators,\n",
    "                 max_depth=max_depth,\n",
    "                max_features=max_features,\n",
    "                 min_samples_leaf=min_samples_leaf,\n",
    "                                 n_jobs=4,random_state=SEED)\n",
    "\n",
    "    cv_result = cross_val_score(model,X_train,y_train,cv=kf,scoring=\"neg_median_absolute_error\")\n",
    "\n",
    "    return np.mean(cv_result)\n",
    "\n",
    "\n",
    "num_iter = 50\n",
    "init_points = 10\n",
    "\n",
    "\n",
    "modelBO_2 = BayesianOptimization(model_evaluate, {'n_estimators': (30, 100),\n",
    "                                            'max_depth': (17, 27),\n",
    "                                            'min_samples_leaf': (5, 200),\n",
    "                                                'max_features' :(0.5,1),\n",
    "                                            })\n",
    "\n",
    "modelBO_2.maximize(init_points=init_points, n_iter=num_iter)\n",
    "\n",
    "print(modelBO_2.res['max'])"
   ]
  },
  {
   "cell_type": "markdown",
   "metadata": {},
   "source": [
    "Como resultado del proceso de optimización hemos obtenido los siguientes parámetros para los dos modelos:"
   ]
  },
  {
   "cell_type": "code",
   "execution_count": 56,
   "metadata": {},
   "outputs": [
    {
     "name": "stdout",
     "output_type": "stream",
     "text": [
      "RMSE: 19118.545240\n",
      "MAE: 4397.943756\n",
      "MAD: 2068.395546\n",
      "Wall time: 4min 59s\n"
     ]
    }
   ],
   "source": [
    "%%time\n",
    "model = xgb.XGBRegressor(max_depth=20, learning_rate=0.1, alpha=0,n_estimators=30, silent=True, objective='reg:linear', \n",
    "                         n_jobs=4, subsample=1.0,colsample_bytree=1.0,min_child_weight=20.0,random_state=SEED )\n",
    "\n",
    "scores_rmse,scores_mae,scores_mad = train_and_evaluate(model,splits)\n",
    "\n",
    "\n",
    "print(\"RMSE: %f\" % np.mean(scores_rmse))\n",
    "print(\"MAE: %f\" % np.mean(scores_mae))\n",
    "print(\"MAD: %f\" % np.mean(scores_mad))\n",
    "record_scores('opt_xgb_Boost',np.mean(scores_rmse),np.mean(scores_mae),np.mean(scores_mad))"
   ]
  },
  {
   "cell_type": "code",
   "execution_count": 57,
   "metadata": {},
   "outputs": [
    {
     "name": "stdout",
     "output_type": "stream",
     "text": [
      "RMSE: 19468.499263\n",
      "MAE: 4477.545577\n",
      "MAD: 2129.707573\n"
     ]
    }
   ],
   "source": [
    "model = RandomForestRegressor(n_estimators=50, criterion='mse', max_depth=23, max_features='auto',min_samples_leaf=50,random_state=SEED)\n",
    "scores_rmse,scores_mae,scores_mad = train_and_evaluate(model,splits)\n",
    "\n",
    "\n",
    "print(\"RMSE: %f\" % np.mean(scores_rmse))\n",
    "print(\"MAE: %f\" % np.mean(scores_mae))\n",
    "print(\"MAD: %f\" % np.mean(scores_mad))\n",
    "record_scores('opt_raw RF_d23_FULL',np.mean(scores_rmse),np.mean(scores_mae),np.mean(scores_mad))"
   ]
  },
  {
   "cell_type": "markdown",
   "metadata": {},
   "source": [
    "A la hora de escoger el mejor modelo, una primera aproximación consiste en escoger el modelo que haya obtenido mejores resultados. Otra opción más avanzada consiste en hacer una **combinación de modelos**. Veamos que sucedería si realizaramos una combinación de modelos utilizando el mismo modelo pero cambiando la semilla aleatoria."
   ]
  },
  {
   "cell_type": "code",
   "execution_count": 58,
   "metadata": {},
   "outputs": [],
   "source": [
    "stk_train_df = process_df(shuffled_data.iloc[:int(shuffled_data.shape[0]*0.8)].copy(),0)\n",
    "stk_test_df = process_df(shuffled_data.iloc[int(shuffled_data.shape[0]*0.8):].copy(),0)\n",
    "\n",
    "\n",
    "X_train = stk_train_df.drop(labels=[\"Poder_Adquisitivo\"],axis=1).as_matrix()\n",
    "y_train = stk_train_df[\"Poder_Adquisitivo\"].as_matrix()\n",
    "\n",
    "X_test = stk_test_df.drop(labels=[\"Poder_Adquisitivo\"],axis=1).as_matrix()\n",
    "y_test = stk_test_df[\"Poder_Adquisitivo\"].as_matrix()\n",
    "\n",
    "model_xgb = xgb.XGBRegressor(max_depth=20, learning_rate=0.1, alpha=0,n_estimators=30, silent=True, objective='reg:linear', \n",
    "                         n_jobs=4, subsample=1.0,colsample_bytree=1.0,min_child_weight=20.0,random_state=SEED)\n",
    "\n",
    "model_rf = RandomForestRegressor(n_estimators=50, criterion='mse', max_depth=23,\n",
    "                                 max_features='auto',min_samples_leaf=50,random_state=SEED)\n",
    "\n",
    "model_xgb.fit(X_train,y_train)\n",
    "residuals_xgb = y_test - model_xgb.predict(X_test)\n",
    "\n",
    "model_rf.fit(X_train,y_train)\n",
    "residuals_rf = y_test - model_rf.predict(X_test)\n",
    "\n",
    "\n",
    "model_xgb2 = xgb.XGBRegressor(max_depth=20, learning_rate=0.1, alpha=0,n_estimators=30, silent=True, objective='reg:linear', \n",
    "                         n_jobs=4, subsample=1.0,colsample_bytree=1.0,min_child_weight=20.0,random_state=33)\n",
    "\n",
    "model_rf2 = RandomForestRegressor(n_estimators=50, criterion='mse', max_depth=23,\n",
    "                                 max_features='auto',min_samples_leaf=50,random_state=33)\n",
    "\n",
    "model_xgb2.fit(X_train,y_train)\n",
    "residuals_xgb2 = y_test - model_xgb2.predict(X_test)\n",
    "\n",
    "model_rf2.fit(X_train,y_train)\n",
    "residuals_rf2 = y_test - model_rf2.predict(X_test)\n",
    "\n",
    "\n"
   ]
  },
  {
   "cell_type": "markdown",
   "metadata": {},
   "source": [
    "Estudiemos la correlación que existe entre los errores que cometen los 4 modelos, 2 Random Forest y dos Gradient Boosts entrenados con XGBoost, entrenados con diferentes semillas, según la p de Pearson:"
   ]
  },
  {
   "cell_type": "code",
   "execution_count": 59,
   "metadata": {},
   "outputs": [
    {
     "data": {
      "text/html": [
       "<div>\n",
       "<style scoped>\n",
       "    .dataframe tbody tr th:only-of-type {\n",
       "        vertical-align: middle;\n",
       "    }\n",
       "\n",
       "    .dataframe tbody tr th {\n",
       "        vertical-align: top;\n",
       "    }\n",
       "\n",
       "    .dataframe thead th {\n",
       "        text-align: right;\n",
       "    }\n",
       "</style>\n",
       "<table border=\"1\" class=\"dataframe\">\n",
       "  <thead>\n",
       "    <tr style=\"text-align: right;\">\n",
       "      <th></th>\n",
       "      <th>residuals_rf</th>\n",
       "      <th>residuals_rf2</th>\n",
       "      <th>residuals_xgb</th>\n",
       "      <th>residuals_xgb2</th>\n",
       "    </tr>\n",
       "  </thead>\n",
       "  <tbody>\n",
       "    <tr>\n",
       "      <th>residuals_rf</th>\n",
       "      <td>1.000000</td>\n",
       "      <td>0.997191</td>\n",
       "      <td>0.943604</td>\n",
       "      <td>0.943604</td>\n",
       "    </tr>\n",
       "    <tr>\n",
       "      <th>residuals_rf2</th>\n",
       "      <td>0.997191</td>\n",
       "      <td>1.000000</td>\n",
       "      <td>0.942536</td>\n",
       "      <td>0.942536</td>\n",
       "    </tr>\n",
       "    <tr>\n",
       "      <th>residuals_xgb</th>\n",
       "      <td>0.943604</td>\n",
       "      <td>0.942536</td>\n",
       "      <td>1.000000</td>\n",
       "      <td>1.000000</td>\n",
       "    </tr>\n",
       "    <tr>\n",
       "      <th>residuals_xgb2</th>\n",
       "      <td>0.943604</td>\n",
       "      <td>0.942536</td>\n",
       "      <td>1.000000</td>\n",
       "      <td>1.000000</td>\n",
       "    </tr>\n",
       "  </tbody>\n",
       "</table>\n",
       "</div>"
      ],
      "text/plain": [
       "                residuals_rf  residuals_rf2  residuals_xgb  residuals_xgb2\n",
       "residuals_rf        1.000000       0.997191       0.943604        0.943604\n",
       "residuals_rf2       0.997191       1.000000       0.942536        0.942536\n",
       "residuals_xgb       0.943604       0.942536       1.000000        1.000000\n",
       "residuals_xgb2      0.943604       0.942536       1.000000        1.000000"
      ]
     },
     "execution_count": 59,
     "metadata": {},
     "output_type": "execute_result"
    }
   ],
   "source": [
    "df = pd.DataFrame(data={'residuals_rf':residuals_rf,'residuals_xgb':residuals_xgb,'residuals_rf2':residuals_rf2,\n",
    "                        'residuals_xgb2':residuals_xgb2})\n",
    "corr = df.corr()\n",
    "corr"
   ]
  },
  {
   "cell_type": "code",
   "execution_count": 60,
   "metadata": {},
   "outputs": [
    {
     "data": {
      "text/plain": [
       "<matplotlib.axes._subplots.AxesSubplot at 0x1dd2090fc18>"
      ]
     },
     "execution_count": 60,
     "metadata": {},
     "output_type": "execute_result"
    },
    {
     "data": {
      "image/png": "[encoded data removed]",
      "text/plain": [
       "<matplotlib.figure.Figure at 0x1dd31a1e860>"
      ]
     },
     "metadata": {},
     "output_type": "display_data"
    }
   ],
   "source": [
    "mask = np.zeros_like(corr, dtype=np.bool)\n",
    "mask[np.triu_indices_from(mask)] = True\n",
    "\n",
    "# Set up the matplotlib figure\n",
    "f, ax = plt.subplots(figsize=(11, 9))\n",
    "\n",
    "# Draw the heatmap with the mask and correct aspect ratio\n",
    "sns.heatmap(corr,mask=mask,annot=True,vmin=0.9, vmax=1.00)"
   ]
  },
  {
   "cell_type": "markdown",
   "metadata": {},
   "source": [
    "Podemos ver como los errores que comete un tipo de modelo están completamente correlacionados, independientemente de que se haya variado la semilla aleatoria. Por tanto, esto quiere decir que los modelos **cometen los mismos errores**. Hacer una combinación de modelos entrenados con distinta semilla, por tanto, no parece añadir muchas ventajas.\n",
    "\n",
    "En cambio, los errores comeditos por los modelos xgb y los Random Forest, si bien están fuertemente correlacionados, no son exactamente iguales. Los diferentes modelos no se equivoca, ni en el mismo sitio, ni de la misma manera. Combinar dos modelos diferentes, por tanto, nos aporta **diversidad**, y puede ayudarnos a mejorar los resultados ya que un modelo puede compensar fallos puntuales del otro para ciertos clientes."
   ]
  },
  {
   "cell_type": "code",
   "execution_count": 61,
   "metadata": {},
   "outputs": [],
   "source": [
    "class WeightedEnsemble:\n",
    "    def __init__(self,models,weights):\n",
    "        self.models = models\n",
    "        self.weights = weights\n",
    "        \n",
    "    def fit(self,X,y):\n",
    "        for model in self.models:\n",
    "            model.fit(X,y)\n",
    "            \n",
    "    def predict(self,X):\n",
    "        y = np.zeros((X.shape[0]))\n",
    "        for i in range(len(self.models)):\n",
    "            y += (self.models[i].predict(X) * self.weights[i])\n",
    "        return y"
   ]
  },
  {
   "cell_type": "code",
   "execution_count": 62,
   "metadata": {},
   "outputs": [
    {
     "name": "stdout",
     "output_type": "stream",
     "text": [
      "RMSE: 18799.688457\n",
      "MAE: 4337.823104\n",
      "MAD: 2062.911431\n",
      "Wall time: 15min 34s\n"
     ]
    }
   ],
   "source": [
    "%%time\n",
    "ensemble = WeightedEnsemble([xgb.XGBRegressor(max_depth=15, learning_rate=0.1, alpha=10,n_estimators=30, silent=True, objective='reg:linear', \n",
    "                         n_jobs=4, subsample=1.0,colsample_bytree=1.0,min_child_weight=1.0,random_state=SEED),\n",
    "                            RandomForestRegressor(n_estimators=50,\n",
    "                                       criterion='mse', max_depth=23, max_features='auto',n_jobs=4,\n",
    "                                       min_samples_leaf=5,random_state=SEED)],\n",
    "                            [0.5,0.5])\n",
    "\n",
    "scores_rmse,scores_mae,scores_mad = train_and_evaluate(ensemble,splits)\n",
    "\n",
    "print(\"RMSE: %f\" % np.mean(scores_rmse))\n",
    "print(\"MAE: %f\" % np.mean(scores_mae))\n",
    "print(\"MAD: %f\" % np.mean(scores_mad))\n",
    "\n",
    "record_scores('beta_ensemble',np.mean(scores_rmse),np.mean(scores_mae),np.mean(scores_mad))"
   ]
  },
  {
   "cell_type": "code",
   "execution_count": 63,
   "metadata": {},
   "outputs": [
    {
     "name": "stdout",
     "output_type": "stream",
     "text": [
      "RMSE: 18736.576591\n",
      "MAE: 4343.120189\n",
      "MAD: 2051.152324\n",
      "Wall time: 16min 49s\n"
     ]
    }
   ],
   "source": [
    "%%time\n",
    "ensemble = WeightedEnsemble([xgb.XGBRegressor(max_depth=20, learning_rate=0.1, alpha=0,n_estimators=30, silent=True, objective='reg:linear', \n",
    "                         n_jobs=4, subsample=1.0,colsample_bytree=1.0,min_child_weight=20.0,random_state=SEED ),\n",
    "                            RandomForestRegressor(n_estimators=50,\n",
    "                                       criterion='mse', max_depth=23, max_features='auto',n_jobs=4,\n",
    "                                       min_samples_leaf=5,random_state=SEED)],\n",
    "                            [0.5,0.5])\n",
    "\n",
    "scores_rmse,scores_mae,scores_mad = train_and_evaluate(ensemble,splits)\n",
    "\n",
    "print(\"RMSE: %f\" % np.mean(scores_rmse))\n",
    "print(\"MAE: %f\" % np.mean(scores_mae))\n",
    "print(\"MAD: %f\" % np.mean(scores_mad))\n",
    "\n",
    "record_scores('beta_ensemble',np.mean(scores_rmse),np.mean(scores_mae),np.mean(scores_mad))"
   ]
  },
  {
   "cell_type": "markdown",
   "metadata": {},
   "source": [
    "<a name=Predicción></a>\n",
    "# Predicción\n",
    "[Volver al Indice](#Indice)"
   ]
  },
  {
   "cell_type": "code",
   "execution_count": 64,
   "metadata": {
    "scrolled": true
   },
   "outputs": [
    {
     "name": "stderr",
     "output_type": "stream",
     "text": [
      "c:\\users\\zhon\\appdata\\local\\programs\\python\\python36\\lib\\site-packages\\IPython\\core\\interactiveshell.py:2728: DtypeWarning: Columns (83) have mixed types. Specify dtype option on import or set low_memory=False.\n",
      "  interactivity=interactivity, compiler=compiler, result=result)\n"
     ]
    }
   ],
   "source": [
    "splits = []\n",
    "\n",
    "model = RandomForestRegressor(n_estimators=100, criterion='mse', max_depth=23, max_features='auto',min_samples_leaf=5,random_state=SEED)\n",
    "\n",
    "# Entrenamos con todos los datos\n",
    "f_train_df = process_df(train_df,0,train = True)\n",
    "\n",
    "x_train = f_train_df.drop(labels=[\"Poder_Adquisitivo\"],axis=1).as_matrix()\n",
    "y_train = f_train_df[\"Poder_Adquisitivo\"].as_matrix()\n",
    "\n",
    "\n",
    "\n",
    "model.fit(X=x_train,y=y_train)\n",
    "\n",
    "\n",
    "test_df = pd.read_csv(\"data/original/Dataset_Salesforce_Predictive_Modelling_TEST.txt\")\n",
    "ids = test_df[\"ID_Customer\"].copy()\n",
    "test_df =  process_df(test_df,0,train = False)\n",
    "\n",
    "x_test = test_df.as_matrix()\n",
    "\n",
    "# Estiamamos el poder adquisitivo\n",
    "y = model.predict(X=x_test)\n",
    "\n",
    "\n"
   ]
  },
  {
   "cell_type": "markdown",
   "metadata": {},
   "source": [
    "Solo nos falta escribir estos resultados en disco."
   ]
  },
  {
   "cell_type": "code",
   "execution_count": 65,
   "metadata": {},
   "outputs": [],
   "source": [
    "out = pd.DataFrame(np.stack((ids, y), axis=1, out=None), columns=['ID_Customer', 'PA_Est']).set_index('ID_Customer')\n",
    "out.to_csv('Test_Mission.txt')"
   ]
  },
  {
   "cell_type": "markdown",
   "metadata": {},
   "source": [
    "<a name=Anexo1></a>\n",
    "# Anexo 1: Otros modelos considerados\n",
    "[Volver al Indice](#Indice)"
   ]
  },
  {
   "cell_type": "code",
   "execution_count": 66,
   "metadata": {},
   "outputs": [
    {
     "ename": "SyntaxError",
     "evalue": "invalid syntax (<ipython-input-66-b86181ba71bf>, line 1)",
     "output_type": "error",
     "traceback": [
      "\u001b[1;36m  File \u001b[1;32m\"<ipython-input-66-b86181ba71bf>\"\u001b[1;36m, line \u001b[1;32m1\u001b[0m\n\u001b[1;33m    splits 1\u001b[0m\n\u001b[1;37m           ^\u001b[0m\n\u001b[1;31mSyntaxError\u001b[0m\u001b[1;31m:\u001b[0m invalid syntax\n"
     ]
    }
   ],
   "source": [
    "splits 1"
   ]
  },
  {
   "cell_type": "code",
   "execution_count": null,
   "metadata": {
    "scrolled": true
   },
   "outputs": [],
   "source": [
    "model = Lasso(random_state=SEED)\n",
    "scores_rmse,scores_mae,scores_mad = train_and_evaluate(model,splits)\n",
    "\n",
    "\n",
    "print(\"RMSE: %f\" % np.mean(scores_rmse))\n",
    "print(\"MAE: %f\" % np.mean(scores_mae))\n",
    "print(\"MAD: %f\" % np.mean(scores_mad))\n",
    "\n",
    "record_scores('Lasso',np.mean(scores_rmse),np.mean(scores_mae),np.mean(scores_mad))"
   ]
  },
  {
   "cell_type": "code",
   "execution_count": null,
   "metadata": {},
   "outputs": [],
   "source": [
    "model = Ridge(random_state=SEED)\n",
    "scores_rmse,scores_mae,scores_mad = train_and_evaluate(model,splits)\n",
    "\n",
    "\n",
    "print(\"RMSE: %f\" % np.mean(scores_rmse))\n",
    "print(\"MAE: %f\" % np.mean(scores_mae))\n",
    "print(\"MAD: %f\" % np.mean(scores_mad))\n",
    "\n",
    "record_scores('Ridge',np.mean(scores_rmse),np.mean(scores_mae),np.mean(scores_mad))"
   ]
  },
  {
   "cell_type": "code",
   "execution_count": null,
   "metadata": {},
   "outputs": [],
   "source": [
    "model = ElasticNet(random_state=SEED)\n",
    "scores_rmse,scores_mae,scores_mad = train_and_evaluate(model,splits)\n",
    "\n",
    "\n",
    "print(\"RMSE: %f\" % np.mean(scores_rmse))\n",
    "print(\"MAE: %f\" % np.mean(scores_mae))\n",
    "print(\"MAD: %f\" % np.mean(scores_mad))\n",
    "\n",
    "record_scores('ElasticNet',np.mean(scores_rmse),np.mean(scores_mae),np.mean(scores_mad))"
   ]
  },
  {
   "cell_type": "markdown",
   "metadata": {},
   "source": [
    "Todos los modelos lineales parecen obtener resultados comparables. Probamos ahora con redes neuronales."
   ]
  },
  {
   "cell_type": "code",
   "execution_count": null,
   "metadata": {},
   "outputs": [],
   "source": [
    "model = MLPRegressor(max_iter=200,hidden_layer_sizes=(25,25,25),early_stopping=True,random_state=SEED)\n",
    "scores_rmse,scores_mae,scores_mad = train_and_evaluate(model,splits)\n",
    "\n",
    "\n",
    "print(\"RMSE: %f\" % np.mean(scores_rmse))\n",
    "print(\"MAE: %f\" % np.mean(scores_mae))\n",
    "print(\"MAD: %f\" % np.mean(scores_mad))\n",
    "\n"
   ]
  },
  {
   "cell_type": "code",
   "execution_count": null,
   "metadata": {},
   "outputs": [],
   "source": [
    "model = MLPRegressor(max_iter=200,hidden_layer_sizes=(50,50,50),early_stopping=True,random_state=SEED)\n",
    "scores_rmse,scores_mae,scores_mad = train_and_evaluate(model,splits)\n",
    "\n",
    "\n",
    "print(\"RMSE: %f\" % np.mean(scores_rmse))\n",
    "print(\"MAE: %f\" % np.mean(scores_mae))\n",
    "print(\"MAD: %f\" % np.mean(scores_mad))\n"
   ]
  },
  {
   "cell_type": "code",
   "execution_count": null,
   "metadata": {},
   "outputs": [],
   "source": [
    "model = MLPRegressor(max_iter=200,hidden_layer_sizes=(25,25,25,25),early_stopping=True,random_state=SEED)\n",
    "scores_rmse,scores_mae,scores_mad = train_and_evaluate(model,splits)\n",
    "\n",
    "\n",
    "print(\"RMSE: %f\" % np.mean(scores_rmse))\n",
    "print(\"MAE: %f\" % np.mean(scores_mae))\n",
    "print(\"MAD: %f\" % np.mean(scores_mad))\n"
   ]
  },
  {
   "cell_type": "code",
   "execution_count": null,
   "metadata": {},
   "outputs": [],
   "source": [
    "model = MLPRegressor(max_iter=200,hidden_layer_sizes=(25,25,25,25,25),early_stopping=True,random_state=SEED)\n",
    "scores_rmse,scores_mae,scores_mad = train_and_evaluate(model,splits)\n",
    "\n",
    "\n",
    "print(\"RMSE: %f\" % np.mean(scores_rmse))\n",
    "print(\"MAE: %f\" % np.mean(scores_mae))\n",
    "print(\"MAD: %f\" % np.mean(scores_mad))\n",
    "\n"
   ]
  },
  {
   "cell_type": "code",
   "execution_count": null,
   "metadata": {
    "scrolled": true
   },
   "outputs": [],
   "source": [
    "model = RandomForestRegressor(n_estimators=50, criterion='mse', max_depth=5, max_features='log2',min_samples_leaf=5,random_state=SEED)\n",
    "scores_rmse,scores_mae,scores_mad = train_and_evaluate(model,splits)\n",
    "\n",
    "\n",
    "print(\"RMSE: %f\" % np.mean(scores_rmse))\n",
    "print(\"MAE: %f\" % np.mean(scores_mae))\n",
    "print(\"MAD: %f\" % np.mean(scores_mad))"
   ]
  },
  {
   "cell_type": "code",
   "execution_count": null,
   "metadata": {},
   "outputs": [],
   "source": [
    "model = RandomForestRegressor(n_estimators=50, criterion='mse', max_depth=7, max_features='log2',min_samples_leaf=5,random_state=SEED)\n",
    "scores_rmse,scores_mae,scores_mad = train_and_evaluate(model,splits)\n",
    "\n",
    "\n",
    "print(\"RMSE: %f\" % np.mean(scores_rmse))\n",
    "print(\"MAE: %f\" % np.mean(scores_mae))\n",
    "print(\"MAD: %f\" % np.mean(scores_mad))"
   ]
  },
  {
   "cell_type": "markdown",
   "metadata": {},
   "source": [
    "Podemos ver como la profundidad máxima afecta de manera importante al rendimiento."
   ]
  },
  {
   "cell_type": "code",
   "execution_count": null,
   "metadata": {},
   "outputs": [],
   "source": [
    "model = RandomForestRegressor(n_estimators=50, criterion='mse', max_depth=17, max_features='log2',min_samples_leaf=5,random_state=SEED)\n",
    "scores_rmse,scores_mae,scores_mad = train_and_evaluate(model,splits)\n",
    "\n",
    "\n",
    "print(\"RMSE: %f\" % np.mean(scores_rmse))\n",
    "print(\"MAE: %f\" % np.mean(scores_mae))\n",
    "print(\"MAD: %f\" % np.mean(scores_mad))\n",
    "\n",
    "record_scores('RF_d17',np.mean(scores_rmse),np.mean(scores_mae),np.mean(scores_mad))"
   ]
  },
  {
   "cell_type": "code",
   "execution_count": null,
   "metadata": {},
   "outputs": [],
   "source": [
    "model = GradientBoostingRegressor(random_state=SEED)\n",
    "scores_rmse,scores_mae,scores_mad = train_and_evaluate(model,splits)\n",
    "\n",
    "\n",
    "print(\"RMSE: %f\" % np.mean(scores_rmse))\n",
    "print(\"MAE: %f\" % np.mean(scores_mae))\n",
    "print(\"MAD: %f\" % np.mean(scores_mad))"
   ]
  },
  {
   "cell_type": "code",
   "execution_count": null,
   "metadata": {},
   "outputs": [],
   "source": [
    "model = GradientBoostingRegressor(random_state=SEED,min_samples_leaf=5)\n",
    "scores_rmse,scores_mae,scores_mad = train_and_evaluate(model,splits)\n",
    "\n",
    "\n",
    "print(\"RMSE: %f\" % np.mean(scores_rmse))\n",
    "print(\"MAE: %f\" % np.mean(scores_mae))\n",
    "print(\"MAD: %f\" % np.mean(scores_mad))"
   ]
  },
  {
   "cell_type": "code",
   "execution_count": null,
   "metadata": {},
   "outputs": [],
   "source": [
    "splits 0"
   ]
  },
  {
   "cell_type": "code",
   "execution_count": null,
   "metadata": {},
   "outputs": [],
   "source": [
    "model = RandomForestRegressor(n_estimators=100, criterion='mse', max_depth=23, max_features='auto',min_samples_leaf=5,random_state=SEED)\n",
    "scores_rmse,scores_mae,scores_mad = train_and_evaluate(model,splits)\n",
    "\n",
    "\n",
    "print(\"RMSE: %f\" % np.mean(scores_rmse))\n",
    "print(\"MAE: %f\" % np.mean(scores_mae))\n",
    "print(\"MAD: %f\" % np.mean(scores_mad))\n",
    "record_scores('raw RF_d23_n100_FULL',np.mean(scores_rmse),np.mean(scores_mae),np.mean(scores_mad))"
   ]
  },
  {
   "cell_type": "code",
   "execution_count": null,
   "metadata": {},
   "outputs": [],
   "source": [
    "model = RandomForestRegressor(n_estimators=50, criterion='mse', max_depth=24, max_features='auto',min_samples_leaf=5,random_state=SEED)\n",
    "scores_rmse,scores_mae,scores_mad = train_and_evaluate(model,splits)\n",
    "\n",
    "\n",
    "print(\"RMSE: %f\" % np.mean(scores_rmse))\n",
    "print(\"MAE: %f\" % np.mean(scores_mae))\n",
    "print(\"MAD: %f\" % np.mean(scores_mad))\n",
    "record_scores('raw RF_d24_FULL',np.mean(scores_rmse),np.mean(scores_mae),np.mean(scores_mad))"
   ]
  },
  {
   "cell_type": "code",
   "execution_count": null,
   "metadata": {},
   "outputs": [],
   "source": [
    "model = GradientBoostingRegressor(random_state=SEED)\n",
    "scores_rmse,scores_mae,scores_mad = train_and_evaluate(model,splits)\n",
    "\n",
    "\n",
    "print(\"RMSE: %f\" % np.mean(scores_rmse))\n",
    "print(\"MAE: %f\" % np.mean(scores_mae))\n",
    "print(\"MAD: %f\" % np.mean(scores_mad))\n",
    "\n",
    "record_scores('raw Gradient Boost_d3',np.mean(scores_rmse),np.mean(scores_mae),np.mean(scores_mad))"
   ]
  },
  {
   "cell_type": "markdown",
   "metadata": {},
   "source": [
    "# Experimentos fase 2"
   ]
  },
  {
   "cell_type": "code",
   "execution_count": null,
   "metadata": {},
   "outputs": [],
   "source": [
    "%%time\n",
    "params =  {'max_depth': 7, 'eta': 0.1, 'silent': 1, 'objective': 'reg:linear', 'eval_metric':'rmse','nthread':3, 'seed':SEED}\n",
    "model = XGBoostModel(params,100)\n",
    "scores_rmse,scores_mae,scores_mad = train_and_evaluate(model,splits)\n",
    "\n",
    "\n",
    "print(\"RMSE: %f\" % np.mean(scores_rmse))\n",
    "print(\"MAE: %f\" % np.mean(scores_mae))\n",
    "print(\"MAD: %f\" % np.mean(scores_mad))\n",
    "record_scores('raw_XGB_d7_eta0.1_n100',np.mean(scores_rmse),np.mean(scores_mae),np.mean(scores_mad))"
   ]
  },
  {
   "cell_type": "code",
   "execution_count": null,
   "metadata": {},
   "outputs": [],
   "source": [
    "%%time\n",
    "params =  {'max_depth': 9, 'eta': 0.1, 'silent': 1, 'objective': 'reg:linear', 'eval_metric':'rmse','nthread':3,'seed':SEED}\n",
    "model = XGBoostModel(params,100)\n",
    "scores_rmse,scores_mae,scores_mad = train_and_evaluate(model,splits)\n",
    "\n",
    "\n",
    "print(\"RMSE: %f\" % np.mean(scores_rmse))\n",
    "print(\"MAE: %f\" % np.mean(scores_mae))\n",
    "print(\"MAD: %f\" % np.mean(scores_mad))\n",
    "record_scores('raw_XGB_d9_eta0.1_n100',np.mean(scores_rmse),np.mean(scores_mae),np.mean(scores_mad))"
   ]
  },
  {
   "cell_type": "code",
   "execution_count": null,
   "metadata": {},
   "outputs": [],
   "source": [
    "%%time\n",
    "params =  {'max_depth': 13, 'eta': 0.1, 'silent': 1, 'objective': 'reg:linear', 'eval_metric':'rmse','nthread':3,'seed':SEED}\n",
    "model = XGBoostModel(params,100)\n",
    "scores_rmse,scores_mae,scores_mad = train_and_evaluate(model,splits)\n",
    "\n",
    "\n",
    "print(\"RMSE: %f\" % np.mean(scores_rmse))\n",
    "print(\"MAE: %f\" % np.mean(scores_mae))\n",
    "print(\"MAD: %f\" % np.mean(scores_mad))\n",
    "record_scores('raw_XGB_d13_eta0.1_n100',np.mean(scores_rmse),np.mean(scores_mae),np.mean(scores_mad))"
   ]
  },
  {
   "cell_type": "code",
   "execution_count": null,
   "metadata": {},
   "outputs": [],
   "source": [
    "%%time\n",
    "params =  {'max_depth': 13, 'eta': 0.1, 'silent': 1, 'objective': 'reg:linear', 'subsample':0.8,'eval_metric':'rmse','nthread':4,'seed':SEED}\n",
    "model = XGBoostModel(params,100)\n",
    "scores_rmse,scores_mae,scores_mad = train_and_evaluate(model,splits)\n",
    "\n",
    "\n",
    "print(\"RMSE: %f\" % np.mean(scores_rmse))\n",
    "print(\"MAE: %f\" % np.mean(scores_mae))\n",
    "print(\"MAD: %f\" % np.mean(scores_mad))\n",
    "record_scores('raw_XGB_d13_eta0.1_n100_sbspl',np.mean(scores_rmse),np.mean(scores_mae),np.mean(scores_mad))"
   ]
  },
  {
   "cell_type": "markdown",
   "metadata": {},
   "source": [
    "# Bayesian optimization"
   ]
  },
  {
   "cell_type": "code",
   "execution_count": null,
   "metadata": {},
   "outputs": [],
   "source": [
    "f_train_df = process_df(shuffled_data,0,train = True)\n",
    "\n",
    "X_train = f_train_df.drop(labels=[\"Poder_Adquisitivo\"],axis=1).as_matrix()\n",
    "y_train = f_train_df[\"Poder_Adquisitivo\"].as_matrix()\n",
    "\n",
    "xgtrain = xgb.DMatrix(X_train, label=y_train)\n",
    "\n",
    "\n",
    "def xgb_evaluate(min_child_weight,\n",
    "                 colsample_bytree,\n",
    "                 max_depth,\n",
    "                 subsample,\n",
    "                 gamma,\n",
    "                 alpha):\n",
    "\n",
    "    params['min_child_weight'] = int(min_child_weight)\n",
    "    params['colsample_bytree'] = max(min(colsample_bytree, 1), 0)\n",
    "    params['max_depth'] = int(max_depth)\n",
    "    params['subsample'] = max(min(subsample, 1), 0)\n",
    "    params['gamma'] = max(gamma, 0)\n",
    "    params['alpha'] = max(alpha, 0)\n",
    "\n",
    "\n",
    "    cv_result = xgb.cv(params, xgtrain, num_boost_round=100, nfold=5,\n",
    "             seed=random_state,\n",
    "             callbacks=[xgb.callback.early_stop(5)])\n",
    "\n",
    "    return -cv_result['test-mae-mean'].values[-1]\n",
    "\n",
    "\n",
    "\n",
    "\n",
    "\n",
    "random_state = SEED\n",
    "num_iter = 50\n",
    "init_points = 25\n",
    "params = {\n",
    "    'eta': 0.1,\n",
    "    'silent': 1,\n",
    "    'eval_metric': 'mae',\n",
    "    'verbose_eval': True,\n",
    "    'seed': random_state\n",
    "}\n",
    "\n",
    "xgbBO = BayesianOptimization(xgb_evaluate, {'min_child_weight': (1, 20),\n",
    "                                            'colsample_bytree': (0.1, 1),\n",
    "                                            'max_depth': (5, 20),\n",
    "                                            'subsample': (0.5, 1),\n",
    "                                            'gamma': (0, 15),\n",
    "                                            'alpha': (0, 15),\n",
    "                                            })\n",
    "\n",
    "xgbBO.maximize(init_points=init_points, n_iter=num_iter)\n",
    "\n",
    "print(xgbBO.res['max'])"
   ]
  },
  {
   "cell_type": "code",
   "execution_count": null,
   "metadata": {},
   "outputs": [],
   "source": [
    "f_train_df = process_df(shuffled_data,1,train = True)\n",
    "\n",
    "X_train = f_train_df.drop(labels=[\"Poder_Adquisitivo\"],axis=1).as_matrix()\n",
    "y_train = f_train_df[\"Poder_Adquisitivo\"].as_matrix()\n",
    "\n",
    "xgtrain = xgb.DMatrix(X_train, label=y_train)\n",
    "\n",
    "\n",
    "def xgb_evaluate(min_child_weight,\n",
    "                 colsample_bytree,\n",
    "                 max_depth,\n",
    "                 subsample,\n",
    "                 gamma,\n",
    "                 alpha):\n",
    "\n",
    "    params['min_child_weight'] = int(min_child_weight)\n",
    "    params['colsample_bytree'] = max(min(colsample_bytree, 1), 0)\n",
    "    params['max_depth'] = int(max_depth)\n",
    "    params['subsample'] = max(min(subsample, 1), 0)\n",
    "    params['gamma'] = max(gamma, 0)\n",
    "    params['alpha'] = max(alpha, 0)\n",
    "\n",
    "\n",
    "    cv_result = xgb.cv(params, xgtrain, num_boost_round=100, nfold=5,\n",
    "             seed=random_state,\n",
    "             callbacks=[xgb.callback.early_stop(5)])\n",
    "\n",
    "    return -cv_result['test-mae-mean'].values[-1]\n",
    "\n",
    "\n",
    "\n",
    "\n",
    "\n",
    "random_state = SEED\n",
    "num_iter = 50\n",
    "init_points = 25\n",
    "params = {\n",
    "    'eta': 0.1,\n",
    "    'silent': 1,\n",
    "    'eval_metric': 'mae',\n",
    "    'verbose_eval': True,\n",
    "    'seed': random_state\n",
    "}\n",
    "\n",
    "xgbBO = BayesianOptimization(xgb_evaluate, {'min_child_weight': (1, 20),\n",
    "                                            'colsample_bytree': (0.1, 1),\n",
    "                                            'max_depth': (5, 20),\n",
    "                                            'subsample': (0.5, 1),\n",
    "                                            'gamma': (0, 15),\n",
    "                                            'alpha': (0, 15),\n",
    "                                            })\n",
    "\n",
    "xgbBO.maximize(init_points=init_points, n_iter=num_iter)\n",
    "\n",
    "print(xgbBO.res['max'])"
   ]
  },
  {
   "cell_type": "code",
   "execution_count": null,
   "metadata": {},
   "outputs": [],
   "source": [
    "f_train_df = process_df(shuffled_data,0,train = True)\n",
    "\n",
    "X_train = f_train_df.drop(labels=[\"Poder_Adquisitivo\"],axis=1).as_matrix()\n",
    "y_train = f_train_df[\"Poder_Adquisitivo\"].as_matrix()\n",
    "\n",
    "def model_evaluate(n_estimators,\n",
    "                 max_depth,\n",
    "                max_features,\n",
    "                 min_samples_leaf,\n",
    "                  ):\n",
    "\n",
    "    n_estimators = int(n_estimators)\n",
    "    max_depth = int(max_depth)\n",
    "    min_samples_leaf = int(min_samples_leaf)\n",
    "    max_features = max(min(max_features, 1), 0.1)\n",
    "\n",
    "    model = RandomForestRegressor(n_estimators=n_estimators,\n",
    "                 max_depth=max_depth,\n",
    "                max_features=max_features,\n",
    "                 min_samples_leaf=min_samples_leaf,\n",
    "                                 n_jobs=4,random_state=SEED)\n",
    "\n",
    "    cv_result = cross_val_score(model,X_train,y_train,cv=kf,scoring=\"neg_mean_absolute_error\")\n",
    "\n",
    "    return np.mean(cv_result)\n",
    "\n",
    "\n",
    "num_iter = 50\n",
    "init_points = 15\n",
    "\n",
    "\n",
    "modelBO = BayesianOptimization(model_evaluate, {'n_estimators': (30, 100),\n",
    "                                            'max_depth': (15, 25),\n",
    "                                            'min_samples_leaf': (1, 200),\n",
    "                                                'max_features' :(0.1,1),\n",
    "                                            })\n",
    "\n",
    "modelBO.maximize(init_points=init_points, n_iter=num_iter)\n",
    "\n",
    "print(modelBO.res['max'])"
   ]
  },
  {
   "cell_type": "code",
   "execution_count": null,
   "metadata": {},
   "outputs": [],
   "source": [
    "%%time \n",
    "model = RandomForestRegressor(n_estimators=100,\n",
    "                 max_depth=25,\n",
    "                max_features=1.0,\n",
    "                 min_samples_leaf=31,\n",
    "                                 n_jobs=4,random_state=SEED)\n",
    "\n",
    "scores_rmse,scores_mae,scores_mad = train_and_evaluate(model,splits)\n",
    "\n",
    "\n",
    "print(\"RMSE: %f\" % np.mean(scores_rmse))\n",
    "print(\"MAE: %f\" % np.mean(scores_mae))\n",
    "print(\"MAD: %f\" % np.mean(scores_mad))\n",
    "record_scores('bla',np.mean(scores_rmse),np.mean(scores_mae),np.mean(scores_mad))"
   ]
  },
  {
   "cell_type": "code",
   "execution_count": null,
   "metadata": {},
   "outputs": [],
   "source": [
    "49 | 21m01s | -4381.25574 |     25.0000 |         1.0000 |            31.3392 |       100.0000"
   ]
  },
  {
   "cell_type": "code",
   "execution_count": null,
   "metadata": {},
   "outputs": [],
   "source": [
    "f_train_df = process_df(shuffled_data,0,train = True)\n",
    "\n",
    "X_train = f_train_df.drop(labels=[\"Poder_Adquisitivo\"],axis=1).as_matrix()\n",
    "y_train = f_train_df[\"Poder_Adquisitivo\"].as_matrix()\n",
    "\n",
    "def model_evaluate(n_estimators,\n",
    "                 max_depth,\n",
    "                max_features,\n",
    "                 min_samples_leaf,\n",
    "                  ):\n",
    "\n",
    "    n_estimators = int(n_estimators)\n",
    "    max_depth = int(max_depth)\n",
    "    min_samples_leaf = int(min_samples_leaf)\n",
    "    max_features = max(min(max_features, 1), 0.1)\n",
    "\n",
    "    model = RandomForestRegressor(n_estimators=n_estimators,\n",
    "                 max_depth=max_depth,\n",
    "                max_features=max_features,\n",
    "                 min_samples_leaf=min_samples_leaf,\n",
    "                                 n_jobs=4,random_state=SEED)\n",
    "\n",
    "    cv_result = cross_val_score(model,X_train,y_train,cv=kf,scoring=\"neg_median_absolute_error\")\n",
    "\n",
    "    return np.mean(cv_result)\n",
    "\n",
    "\n",
    "num_iter = 50\n",
    "init_points = 10\n",
    "\n",
    "\n",
    "modelBO_2 = BayesianOptimization(model_evaluate, {'n_estimators': (30, 100),\n",
    "                                            'max_depth': (17, 27),\n",
    "                                            'min_samples_leaf': (5, 200),\n",
    "                                                'max_features' :(0.5,1),\n",
    "                                            })\n",
    "\n",
    "modelBO_2.maximize(init_points=init_points, n_iter=num_iter)\n",
    "\n",
    "print(modelBO_2.res['max'])"
   ]
  },
  {
   "cell_type": "code",
   "execution_count": null,
   "metadata": {},
   "outputs": [],
   "source": [
    "%%time \n",
    "model = RandomForestRegressor(n_estimators=100,\n",
    "                 max_depth=27,\n",
    "                max_features=1.0,\n",
    "                 min_samples_leaf=5,\n",
    "                                 n_jobs=4,random_state=SEED)\n",
    "\n",
    "scores_rmse,scores_mae,scores_mad = train_and_evaluate(model,splits)\n",
    "\n",
    "\n",
    "print(\"RMSE: %f\" % np.mean(scores_rmse))\n",
    "print(\"MAE: %f\" % np.mean(scores_mae))\n",
    "print(\"MAD: %f\" % np.mean(scores_mad))\n",
    "record_scores('bla',np.mean(scores_rmse),np.mean(scores_mae),np.mean(scores_mad))"
   ]
  },
  {
   "cell_type": "code",
   "execution_count": null,
   "metadata": {},
   "outputs": [],
   "source": [
    "splits = []\n",
    "splits = get_splits(kf,0)"
   ]
  },
  {
   "cell_type": "code",
   "execution_count": null,
   "metadata": {},
   "outputs": [],
   "source": [
    "%%time\n",
    "model = xgb.XGBRegressor(max_depth=15, learning_rate=0.1, alpha=10,n_estimators=30, silent=True, objective='reg:linear', \n",
    "                         n_jobs=4, subsample=1.0,colsample_bytree=1.0,min_child_weight=1.0,random_state=SEED )\n",
    "\n",
    "scores_rmse,scores_mae,scores_mad = train_and_evaluate(model,splits)\n",
    "\n",
    "\n",
    "print(\"RMSE: %f\" % np.mean(scores_rmse))\n",
    "print(\"MAE: %f\" % np.mean(scores_mae))\n",
    "print(\"MAD: %f\" % np.mean(scores_mad))\n",
    "record_scores('bla',np.mean(scores_rmse),np.mean(scores_mae),np.mean(scores_mad))"
   ]
  },
  {
   "cell_type": "code",
   "execution_count": null,
   "metadata": {},
   "outputs": [],
   "source": [
    "%%time\n",
    "model = xgb.XGBRegressor(max_depth=20, learning_rate=0.1, alpha=0,n_estimators=30, silent=True, objective='reg:linear', \n",
    "                         n_jobs=4, subsample=1.0,colsample_bytree=1.0,min_child_weight=20.0,random_state=SEED )\n",
    "\n",
    "scores_rmse,scores_mae,scores_mad = train_and_evaluate(model,splits)\n",
    "\n",
    "\n",
    "print(\"RMSE: %f\" % np.mean(scores_rmse))\n",
    "print(\"MAE: %f\" % np.mean(scores_mae))\n",
    "print(\"MAD: %f\" % np.mean(scores_mad))\n",
    "record_scores('bla',np.mean(scores_rmse),np.mean(scores_mae),np.mean(scores_mad))"
   ]
  },
  {
   "cell_type": "code",
   "execution_count": null,
   "metadata": {},
   "outputs": [],
   "source": [
    "splits = []"
   ]
  },
  {
   "cell_type": "code",
   "execution_count": null,
   "metadata": {},
   "outputs": [],
   "source": [
    "\"\"\"\n",
    "%%time\n",
    "params =  {'max_depth': 9, 'eta': 0.01, 'silent': 1, 'objective': 'reg:linear', 'eval_metric':'rmse','seed':SEED}\n",
    "model = XGBoostModel(params,500)\n",
    "scores_rmse,scores_mae,scores_mad = train_and_evaluate(model,splits)\n",
    "\n",
    "\n",
    "print(\"RMSE: %f\" % np.mean(scores_rmse))\n",
    "print(\"MAE: %f\" % np.mean(scores_mae))\n",
    "print(\"MAD: %f\" % np.mean(scores_mad))\n",
    "record_scores('raw_XGB_d9_eta0.01_n500',np.mean(scores_rmse),np.mean(scores_mae),np.mean(scores_mad))\n",
    "\"\"\""
   ]
  },
  {
   "cell_type": "markdown",
   "metadata": {},
   "source": [
    "## Stacking ml-ens"
   ]
  },
  {
   "cell_type": "code",
   "execution_count": null,
   "metadata": {},
   "outputs": [],
   "source": [
    "splits = []\n",
    "splits = get_splits(kf,0)\n",
    "\n",
    "ensemble = SuperLearner(verbose=2)\n",
    "\n",
    "n = 146\n",
    "\n",
    "ensemble.add([LinearRegression(),\n",
    "          DecisionTreeRegressor(min_samples_split=200, min_samples_leaf=50, random_state=SEED),\n",
    "          GradientBoostingRegressor(random_state=SEED,min_samples_leaf=5),\n",
    "          xgb.XGBRegressor(max_depth=15, learning_rate=0.1, alpha=10,n_estimators=30, silent=True, objective='reg:linear', \n",
    "                         n_jobs=4, subsample=1.0,colsample_bytree=1.0,min_child_weight=1.0,random_state=SEED),\n",
    "          RandomForestRegressor(n_estimators=50,\n",
    "                                       criterion='mse', max_depth=23, max_features='auto',n_jobs=4,\n",
    "                                       min_samples_leaf=5,random_state=SEED)],propagate_features=[i for i in range(n)])\n",
    "\n",
    "ensemble.add_meta(RandomForestRegressor(n_estimators=50,\n",
    "                                       criterion='mse', max_depth=17, max_features='auto',n_jobs=4,\n",
    "                                       min_samples_leaf=5,random_state=SEED))\n",
    "\n",
    "scores_rmse,scores_mae,scores_mad = train_and_evaluate(ensemble,splits)\n",
    "\n",
    "\n",
    "print(\"RMSE: %f\" % np.mean(scores_rmse))\n",
    "print(\"MAE: %f\" % np.mean(scores_mae))\n",
    "print(\"MAD: %f\" % np.mean(scores_mad))\n",
    "\n",
    "record_scores('alpha_ensemble',np.mean(scores_rmse),np.mean(scores_mae),np.mean(scores_mad))"
   ]
  },
  {
   "cell_type": "code",
   "execution_count": null,
   "metadata": {},
   "outputs": [],
   "source": [
    "class WeightedEnsemble:\n",
    "    def __init__(self,models,weights):\n",
    "        self.models = models\n",
    "        self.weights = weights\n",
    "        \n",
    "    def fit(self,X,y):\n",
    "        for model in self.models:\n",
    "            model.fit(X,y)\n",
    "            \n",
    "    def predict(self,X):\n",
    "        y = np.zeros((X.shape[0]))\n",
    "        for i in range(len(self.models)):\n",
    "            y += (self.models[i].predict(X) * self.weights[i])\n",
    "        return y\n",
    "        "
   ]
  },
  {
   "cell_type": "code",
   "execution_count": null,
   "metadata": {},
   "outputs": [],
   "source": [
    "ensemble = WeightedEnsemble([LinearRegression(),DecisionTreeRegressor()],[0.5,0.5])\n",
    "\n",
    "scores_rmse,scores_mae,scores_mad = train_and_evaluate(ensemble,splits)\n",
    "\n",
    "\n",
    "print(\"RMSE: %f\" % np.mean(scores_rmse))\n",
    "print(\"MAE: %f\" % np.mean(scores_mae))\n",
    "print(\"MAD: %f\" % np.mean(scores_mad))\n",
    "\n",
    "record_scores('alpha_ensemble',np.mean(scores_rmse),np.mean(scores_mae),np.mean(scores_mad))"
   ]
  },
  {
   "cell_type": "code",
   "execution_count": null,
   "metadata": {},
   "outputs": [],
   "source": [
    "%%time\n",
    "ensemble = WeightedEnsemble([xgb.XGBRegressor(max_depth=15, learning_rate=0.1, alpha=10,n_estimators=30, silent=True, objective='reg:linear', \n",
    "                         n_jobs=4, subsample=1.0,colsample_bytree=1.0,min_child_weight=1.0,random_state=SEED),\n",
    "                            RandomForestRegressor(n_estimators=50,\n",
    "                                       criterion='mse', max_depth=23, max_features='auto',n_jobs=4,\n",
    "                                       min_samples_leaf=5,random_state=SEED)],\n",
    "                            [0.5,0.5])\n",
    "\n",
    "scores_rmse,scores_mae,scores_mad = train_and_evaluate(ensemble,splits)\n",
    "\n",
    "print(\"RMSE: %f\" % np.mean(scores_rmse))\n",
    "print(\"MAE: %f\" % np.mean(scores_mae))\n",
    "print(\"MAD: %f\" % np.mean(scores_mad))\n",
    "\n",
    "record_scores('beta_ensemble',np.mean(scores_rmse),np.mean(scores_mae),np.mean(scores_mad))"
   ]
  },
  {
   "cell_type": "code",
   "execution_count": null,
   "metadata": {},
   "outputs": [],
   "source": [
    "%%time\n",
    "ensemble = WeightedEnsemble([xgb.XGBRegressor(max_depth=20, learning_rate=0.1, alpha=0,n_estimators=30, silent=True, objective='reg:linear', \n",
    "                         n_jobs=4, subsample=1.0,colsample_bytree=1.0,min_child_weight=20.0,random_state=SEED ),\n",
    "                            RandomForestRegressor(n_estimators=50,\n",
    "                                       criterion='mse', max_depth=23, max_features='auto',n_jobs=4,\n",
    "                                       min_samples_leaf=5,random_state=SEED)],\n",
    "                            [0.5,0.5])\n",
    "\n",
    "scores_rmse,scores_mae,scores_mad = train_and_evaluate(ensemble,splits)\n",
    "\n",
    "print(\"RMSE: %f\" % np.mean(scores_rmse))\n",
    "print(\"MAE: %f\" % np.mean(scores_mae))\n",
    "print(\"MAD: %f\" % np.mean(scores_mad))\n",
    "\n",
    "record_scores('beta_ensemble',np.mean(scores_rmse),np.mean(scores_mae),np.mean(scores_mad))"
   ]
  },
  {
   "cell_type": "code",
   "execution_count": null,
   "metadata": {},
   "outputs": [],
   "source": []
  },
  {
   "cell_type": "code",
   "execution_count": null,
   "metadata": {},
   "outputs": [],
   "source": []
  }
 ],
 "metadata": {
  "kernelspec": {
   "display_name": "Python 3",
   "language": "python",
   "name": "python3"
  },
  "language_info": {
   "codemirror_mode": {
    "name": "ipython",
    "version": 3
   },
   "file_extension": ".py",
   "mimetype": "text/x-python",
   "name": "python",
   "nbconvert_exporter": "python",
   "pygments_lexer": "ipython3",
   "version": "3.6.4"
  }
 },
 "nbformat": 4,
 "nbformat_minor": 1
}
