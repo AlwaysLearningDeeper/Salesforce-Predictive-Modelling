{
 "cells": [
  {
   "cell_type": "markdown",
   "metadata": {},
   "source": [
    "<a name=Indice></a>\n",
    "# Índice\n",
    "1. [Análisis de datos](#Análisisdedatos)\n",
    " 1. [Análisis de la variable dependiente](#Análisisdelavariabledependiente)\n",
    " 2. [Análisis de las variables explicativas](#Análisisdelasvariablesexplicativas)\n",
    "2. [Entrenamiento de modelos](#Entrenamientodemodelos)\n",
    "    1. [Preparación de datos](#Preparacióndedatos)\n",
    "    2. [Experimentos](#Experimentos)\n",
    "    3. [Comparación de modelos](#Comparacióndemodelos)\n",
    "    4. [Optimización y combinación de modelos](#Optimizacion)\n",
    "3. [Predicción](#Predicción)\n",
    "4. [Anexo 1: Otros modelos considerados](#Anexo1)\n"
   ]
  },
  {
   "cell_type": "code",
   "execution_count": 1,
   "metadata": {},
   "outputs": [],
   "source": [
    "import pandas as pd\n",
    "import matplotlib.pyplot as plt\n",
    "import seaborn as sns\n",
    "import numpy as np\n",
    "import math\n",
    "import xgboost as xgb\n",
    "from bayes_opt import BayesianOptimization\n",
    "from sklearn.linear_model import LinearRegression,Lasso,Ridge,ElasticNet\n",
    "from sklearn.neural_network import MLPRegressor\n",
    "from sklearn.ensemble import RandomForestRegressor,RandomForestClassifier, GradientBoostingRegressor\n",
    "from sklearn.metrics import mean_squared_error,mean_absolute_error,median_absolute_error\n",
    "from sklearn.preprocessing import MinMaxScaler,StandardScaler,RobustScaler\n",
    "from sklearn.model_selection import KFold,cross_val_score\n",
    "from sklearn.tree import DecisionTreeRegressor"
   ]
  },
  {
   "cell_type": "code",
   "execution_count": 2,
   "metadata": {
    "scrolled": true
   },
   "outputs": [
    {
     "name": "stderr",
     "output_type": "stream",
     "text": [
      "/home/jairsan/Documents/dev/AlwaysLearningDeeper/Salesforce-Predictive-Modelling/venv/lib/python3.5/site-packages/IPython/core/interactiveshell.py:2728: DtypeWarning: Columns (83) have mixed types. Specify dtype option on import or set low_memory=False.\n",
      "  interactivity=interactivity, compiler=compiler, result=result)\n"
     ]
    }
   ],
   "source": [
    "#Cargamos los datos de entrenamiento\n",
    "train_df = pd.read_csv(\"data/original/Dataset_Salesforce_Predictive_Modelling_TRAIN.txt\")"
   ]
  },
  {
   "cell_type": "markdown",
   "metadata": {},
   "source": [
    "El objetivo de este reto es es desarollo de un modelo capaz de predecir el poder adquisitivo de un cliente a partir de una serie de variables disponibles para la entidad financiera. Contar con un modelo preciso que pueda llevar a cabo estars predicciones sin duda conllevaría muchas ventajas a la hora de recomendar productos al cliente que se adecuen a sus necesidades y capacidades."
   ]
  },
  {
   "cell_type": "markdown",
   "metadata": {},
   "source": [
    "<a name=Análisisdedatos></a>\n",
    "# Análisis de datos\n",
    "[Volver al Indice](#Indice)"
   ]
  },
  {
   "cell_type": "markdown",
   "metadata": {},
   "source": [
    " Veamos un ejemplo de los datos con los que contamos."
   ]
  },
  {
   "cell_type": "code",
   "execution_count": 3,
   "metadata": {},
   "outputs": [
    {
     "data": {
      "text/html": [
       "<div>\n",
       "<style scoped>\n",
       "    .dataframe tbody tr th:only-of-type {\n",
       "        vertical-align: middle;\n",
       "    }\n",
       "\n",
       "    .dataframe tbody tr th {\n",
       "        vertical-align: top;\n",
       "    }\n",
       "\n",
       "    .dataframe thead th {\n",
       "        text-align: right;\n",
       "    }\n",
       "</style>\n",
       "<table border=\"1\" class=\"dataframe\">\n",
       "  <thead>\n",
       "    <tr style=\"text-align: right;\">\n",
       "      <th></th>\n",
       "      <th>ID_Customer</th>\n",
       "      <th>Imp_Cons_01</th>\n",
       "      <th>Imp_Cons_02</th>\n",
       "      <th>Imp_Cons_03</th>\n",
       "      <th>Imp_Cons_04</th>\n",
       "      <th>Imp_Cons_05</th>\n",
       "      <th>Imp_Cons_06</th>\n",
       "      <th>Imp_Cons_07</th>\n",
       "      <th>Imp_Cons_08</th>\n",
       "      <th>Imp_Cons_09</th>\n",
       "      <th>...</th>\n",
       "      <th>Num_Oper_17</th>\n",
       "      <th>Num_Oper_18</th>\n",
       "      <th>Num_Oper_19</th>\n",
       "      <th>Num_Oper_20</th>\n",
       "      <th>Socio_Demo_01</th>\n",
       "      <th>Socio_Demo_02</th>\n",
       "      <th>Socio_Demo_03</th>\n",
       "      <th>Socio_Demo_04</th>\n",
       "      <th>Socio_Demo_05</th>\n",
       "      <th>Poder_Adquisitivo</th>\n",
       "    </tr>\n",
       "  </thead>\n",
       "  <tbody>\n",
       "    <tr>\n",
       "      <th>0</th>\n",
       "      <td>TR000001</td>\n",
       "      <td>0.0</td>\n",
       "      <td>0.00</td>\n",
       "      <td>0.000000</td>\n",
       "      <td>63.067778</td>\n",
       "      <td>0.0</td>\n",
       "      <td>52.196667</td>\n",
       "      <td>0.0</td>\n",
       "      <td>0.000000</td>\n",
       "      <td>0.00</td>\n",
       "      <td>...</td>\n",
       "      <td>2</td>\n",
       "      <td>0</td>\n",
       "      <td>0</td>\n",
       "      <td>0</td>\n",
       "      <td>09991</td>\n",
       "      <td>1</td>\n",
       "      <td>70.44</td>\n",
       "      <td>3</td>\n",
       "      <td>20</td>\n",
       "      <td>19709.915000</td>\n",
       "    </tr>\n",
       "    <tr>\n",
       "      <th>1</th>\n",
       "      <td>TR000002</td>\n",
       "      <td>0.0</td>\n",
       "      <td>100.58</td>\n",
       "      <td>595.454545</td>\n",
       "      <td>10.899000</td>\n",
       "      <td>0.0</td>\n",
       "      <td>39.473636</td>\n",
       "      <td>0.0</td>\n",
       "      <td>62.268571</td>\n",
       "      <td>42.61</td>\n",
       "      <td>...</td>\n",
       "      <td>4</td>\n",
       "      <td>1</td>\n",
       "      <td>0</td>\n",
       "      <td>0</td>\n",
       "      <td>09991</td>\n",
       "      <td>2</td>\n",
       "      <td>71.87</td>\n",
       "      <td>3</td>\n",
       "      <td>29</td>\n",
       "      <td>37497.492167</td>\n",
       "    </tr>\n",
       "    <tr>\n",
       "      <th>2</th>\n",
       "      <td>TR000003</td>\n",
       "      <td>0.0</td>\n",
       "      <td>0.00</td>\n",
       "      <td>0.000000</td>\n",
       "      <td>0.000000</td>\n",
       "      <td>0.0</td>\n",
       "      <td>0.000000</td>\n",
       "      <td>0.0</td>\n",
       "      <td>0.000000</td>\n",
       "      <td>0.00</td>\n",
       "      <td>...</td>\n",
       "      <td>2</td>\n",
       "      <td>0</td>\n",
       "      <td>0</td>\n",
       "      <td>0</td>\n",
       "      <td>0X301</td>\n",
       "      <td>2</td>\n",
       "      <td>72.48</td>\n",
       "      <td>2</td>\n",
       "      <td>41</td>\n",
       "      <td>4802.970000</td>\n",
       "    </tr>\n",
       "    <tr>\n",
       "      <th>3</th>\n",
       "      <td>TR000004</td>\n",
       "      <td>0.0</td>\n",
       "      <td>0.00</td>\n",
       "      <td>0.000000</td>\n",
       "      <td>0.000000</td>\n",
       "      <td>0.0</td>\n",
       "      <td>0.000000</td>\n",
       "      <td>0.0</td>\n",
       "      <td>0.000000</td>\n",
       "      <td>0.00</td>\n",
       "      <td>...</td>\n",
       "      <td>0</td>\n",
       "      <td>0</td>\n",
       "      <td>0</td>\n",
       "      <td>0</td>\n",
       "      <td>0X301</td>\n",
       "      <td>2</td>\n",
       "      <td>86.60</td>\n",
       "      <td>3</td>\n",
       "      <td>38</td>\n",
       "      <td>8295.770000</td>\n",
       "    </tr>\n",
       "    <tr>\n",
       "      <th>4</th>\n",
       "      <td>TR000005</td>\n",
       "      <td>0.0</td>\n",
       "      <td>0.00</td>\n",
       "      <td>0.000000</td>\n",
       "      <td>0.000000</td>\n",
       "      <td>0.0</td>\n",
       "      <td>0.000000</td>\n",
       "      <td>0.0</td>\n",
       "      <td>0.000000</td>\n",
       "      <td>0.00</td>\n",
       "      <td>...</td>\n",
       "      <td>0</td>\n",
       "      <td>0</td>\n",
       "      <td>0</td>\n",
       "      <td>0</td>\n",
       "      <td>09991</td>\n",
       "      <td>2</td>\n",
       "      <td>92.48</td>\n",
       "      <td>4</td>\n",
       "      <td>35</td>\n",
       "      <td>24149.321667</td>\n",
       "    </tr>\n",
       "  </tbody>\n",
       "</table>\n",
       "<p>5 rows × 89 columns</p>\n",
       "</div>"
      ],
      "text/plain": [
       "  ID_Customer  Imp_Cons_01  Imp_Cons_02  Imp_Cons_03  Imp_Cons_04  \\\n",
       "0    TR000001          0.0         0.00     0.000000    63.067778   \n",
       "1    TR000002          0.0       100.58   595.454545    10.899000   \n",
       "2    TR000003          0.0         0.00     0.000000     0.000000   \n",
       "3    TR000004          0.0         0.00     0.000000     0.000000   \n",
       "4    TR000005          0.0         0.00     0.000000     0.000000   \n",
       "\n",
       "   Imp_Cons_05  Imp_Cons_06  Imp_Cons_07  Imp_Cons_08  Imp_Cons_09  \\\n",
       "0          0.0    52.196667          0.0     0.000000         0.00   \n",
       "1          0.0    39.473636          0.0    62.268571        42.61   \n",
       "2          0.0     0.000000          0.0     0.000000         0.00   \n",
       "3          0.0     0.000000          0.0     0.000000         0.00   \n",
       "4          0.0     0.000000          0.0     0.000000         0.00   \n",
       "\n",
       "         ...          Num_Oper_17  Num_Oper_18  Num_Oper_19  Num_Oper_20  \\\n",
       "0        ...                    2            0            0            0   \n",
       "1        ...                    4            1            0            0   \n",
       "2        ...                    2            0            0            0   \n",
       "3        ...                    0            0            0            0   \n",
       "4        ...                    0            0            0            0   \n",
       "\n",
       "   Socio_Demo_01  Socio_Demo_02  Socio_Demo_03  Socio_Demo_04  Socio_Demo_05  \\\n",
       "0          09991              1          70.44              3             20   \n",
       "1          09991              2          71.87              3             29   \n",
       "2          0X301              2          72.48              2             41   \n",
       "3          0X301              2          86.60              3             38   \n",
       "4          09991              2          92.48              4             35   \n",
       "\n",
       "   Poder_Adquisitivo  \n",
       "0       19709.915000  \n",
       "1       37497.492167  \n",
       "2        4802.970000  \n",
       "3        8295.770000  \n",
       "4       24149.321667  \n",
       "\n",
       "[5 rows x 89 columns]"
      ]
     },
     "execution_count": 3,
     "metadata": {},
     "output_type": "execute_result"
    }
   ],
   "source": [
    "train_df.head()"
   ]
  },
  {
   "cell_type": "code",
   "execution_count": 4,
   "metadata": {
    "scrolled": false
   },
   "outputs": [
    {
     "data": {
      "text/plain": [
       "Index(['ID_Customer', 'Imp_Cons_01', 'Imp_Cons_02', 'Imp_Cons_03',\n",
       "       'Imp_Cons_04', 'Imp_Cons_05', 'Imp_Cons_06', 'Imp_Cons_07',\n",
       "       'Imp_Cons_08', 'Imp_Cons_09', 'Imp_Cons_10', 'Imp_Cons_11',\n",
       "       'Imp_Cons_12', 'Imp_Cons_13', 'Imp_Cons_14', 'Imp_Cons_15',\n",
       "       'Imp_Cons_16', 'Imp_Cons_17', 'Imp_Sal_01', 'Imp_Sal_02', 'Imp_Sal_03',\n",
       "       'Imp_Sal_04', 'Imp_Sal_05', 'Imp_Sal_06', 'Imp_Sal_07', 'Imp_Sal_08',\n",
       "       'Imp_Sal_09', 'Imp_Sal_10', 'Imp_Sal_11', 'Imp_Sal_12', 'Imp_Sal_13',\n",
       "       'Imp_Sal_14', 'Imp_Sal_15', 'Imp_Sal_16', 'Imp_Sal_17', 'Imp_Sal_18',\n",
       "       'Imp_Sal_19', 'Imp_Sal_20', 'Imp_Sal_21', 'Ind_Prod_01', 'Ind_Prod_02',\n",
       "       'Ind_Prod_03', 'Ind_Prod_04', 'Ind_Prod_05', 'Ind_Prod_06',\n",
       "       'Ind_Prod_07', 'Ind_Prod_08', 'Ind_Prod_09', 'Ind_Prod_10',\n",
       "       'Ind_Prod_11', 'Ind_Prod_12', 'Ind_Prod_13', 'Ind_Prod_14',\n",
       "       'Ind_Prod_15', 'Ind_Prod_16', 'Ind_Prod_17', 'Ind_Prod_18',\n",
       "       'Ind_Prod_19', 'Ind_Prod_20', 'Ind_Prod_21', 'Ind_Prod_22',\n",
       "       'Ind_Prod_23', 'Ind_Prod_24', 'Num_Oper_01', 'Num_Oper_02',\n",
       "       'Num_Oper_03', 'Num_Oper_04', 'Num_Oper_05', 'Num_Oper_06',\n",
       "       'Num_Oper_07', 'Num_Oper_08', 'Num_Oper_09', 'Num_Oper_10',\n",
       "       'Num_Oper_11', 'Num_Oper_12', 'Num_Oper_13', 'Num_Oper_14',\n",
       "       'Num_Oper_15', 'Num_Oper_16', 'Num_Oper_17', 'Num_Oper_18',\n",
       "       'Num_Oper_19', 'Num_Oper_20', 'Socio_Demo_01', 'Socio_Demo_02',\n",
       "       'Socio_Demo_03', 'Socio_Demo_04', 'Socio_Demo_05', 'Poder_Adquisitivo'],\n",
       "      dtype='object')"
      ]
     },
     "execution_count": 4,
     "metadata": {},
     "output_type": "execute_result"
    }
   ],
   "source": [
    "train_df.columns"
   ]
  },
  {
   "cell_type": "code",
   "execution_count": 5,
   "metadata": {},
   "outputs": [
    {
     "data": {
      "text/plain": [
       "ID_Customer           object\n",
       "Imp_Cons_01          float64\n",
       "Imp_Cons_02          float64\n",
       "Imp_Cons_03          float64\n",
       "Imp_Cons_04          float64\n",
       "Imp_Cons_05          float64\n",
       "Imp_Cons_06          float64\n",
       "Imp_Cons_07          float64\n",
       "Imp_Cons_08          float64\n",
       "Imp_Cons_09          float64\n",
       "Imp_Cons_10          float64\n",
       "Imp_Cons_11          float64\n",
       "Imp_Cons_12          float64\n",
       "Imp_Cons_13          float64\n",
       "Imp_Cons_14          float64\n",
       "Imp_Cons_15          float64\n",
       "Imp_Cons_16          float64\n",
       "Imp_Cons_17          float64\n",
       "Imp_Sal_01           float64\n",
       "Imp_Sal_02           float64\n",
       "Imp_Sal_03           float64\n",
       "Imp_Sal_04           float64\n",
       "Imp_Sal_05           float64\n",
       "Imp_Sal_06           float64\n",
       "Imp_Sal_07           float64\n",
       "Imp_Sal_08           float64\n",
       "Imp_Sal_09           float64\n",
       "Imp_Sal_10           float64\n",
       "Imp_Sal_11           float64\n",
       "Imp_Sal_12           float64\n",
       "                      ...   \n",
       "Ind_Prod_21            int64\n",
       "Ind_Prod_22            int64\n",
       "Ind_Prod_23            int64\n",
       "Ind_Prod_24            int64\n",
       "Num_Oper_01            int64\n",
       "Num_Oper_02            int64\n",
       "Num_Oper_03            int64\n",
       "Num_Oper_04            int64\n",
       "Num_Oper_05            int64\n",
       "Num_Oper_06            int64\n",
       "Num_Oper_07            int64\n",
       "Num_Oper_08            int64\n",
       "Num_Oper_09            int64\n",
       "Num_Oper_10            int64\n",
       "Num_Oper_11            int64\n",
       "Num_Oper_12            int64\n",
       "Num_Oper_13            int64\n",
       "Num_Oper_14            int64\n",
       "Num_Oper_15            int64\n",
       "Num_Oper_16            int64\n",
       "Num_Oper_17            int64\n",
       "Num_Oper_18            int64\n",
       "Num_Oper_19            int64\n",
       "Num_Oper_20            int64\n",
       "Socio_Demo_01         object\n",
       "Socio_Demo_02          int64\n",
       "Socio_Demo_03        float64\n",
       "Socio_Demo_04          int64\n",
       "Socio_Demo_05          int64\n",
       "Poder_Adquisitivo    float64\n",
       "Length: 89, dtype: object"
      ]
     },
     "execution_count": 5,
     "metadata": {},
     "output_type": "execute_result"
    }
   ],
   "source": [
    "train_df.dtypes"
   ]
  },
  {
   "cell_type": "code",
   "execution_count": 6,
   "metadata": {},
   "outputs": [
    {
     "data": {
      "text/plain": [
       "363834"
      ]
     },
     "execution_count": 6,
     "metadata": {},
     "output_type": "execute_result"
    }
   ],
   "source": [
    "len(train_df)"
   ]
  },
  {
   "cell_type": "markdown",
   "metadata": {},
   "source": [
    "Tal y como se explica en el enunciado, contamos con 88 variables que usar para predecir el poder adquisitivo y la información de cerca de 363.000 clientes con los que entrenar nuestro modelo. Esto hace que contemos con un número importante de datos que nos puede ayudar a desarrollar un modelo que tenga un rendimiento adecuado."
   ]
  },
  {
   "cell_type": "markdown",
   "metadata": {},
   "source": [
    "<a name=Análisisdelavariabledependiente> </a>\n",
    "## Análisis de la variable dependiente \n",
    "[Volver al Indice](#Indice)  \n"
   ]
  },
  {
   "cell_type": "markdown",
   "metadata": {},
   "source": [
    "Miremos con más detenimiento la variable a predecir."
   ]
  },
  {
   "cell_type": "code",
   "execution_count": 7,
   "metadata": {
    "scrolled": true
   },
   "outputs": [
    {
     "data": {
      "text/plain": [
       "count    3.638340e+05\n",
       "mean     1.642141e+04\n",
       "std      2.436773e+04\n",
       "min      3.600960e+03\n",
       "25%      9.300933e+03\n",
       "50%      1.292517e+04\n",
       "75%      1.894854e+04\n",
       "max      5.040000e+06\n",
       "Name: Poder_Adquisitivo, dtype: float64"
      ]
     },
     "execution_count": 7,
     "metadata": {},
     "output_type": "execute_result"
    }
   ],
   "source": [
    "train_df[\"Poder_Adquisitivo\"].describe()"
   ]
  },
  {
   "cell_type": "code",
   "execution_count": 8,
   "metadata": {},
   "outputs": [
    {
     "data": {
      "text/plain": [
       "<matplotlib.axes._subplots.AxesSubplot at 0x7f4aec5b9278>"
      ]
     },
     "execution_count": 8,
     "metadata": {},
     "output_type": "execute_result"
    },
    {
     "data": {
      "image/png": "[encoded data removed]",
      "text/plain": [
       "<matplotlib.figure.Figure at 0x7f4aea09efd0>"
      ]
     },
     "metadata": {},
     "output_type": "display_data"
    }
   ],
   "source": [
    "sns.distplot(train_df[\"Poder_Adquisitivo\"])"
   ]
  },
  {
   "cell_type": "code",
   "execution_count": 9,
   "metadata": {},
   "outputs": [
    {
     "name": "stdout",
     "output_type": "stream",
     "text": [
      "Skewness: 55.919866\n",
      "Kurtosis: 7106.469270\n"
     ]
    }
   ],
   "source": [
    "print(\"Skewness: %f\" % train_df[\"Poder_Adquisitivo\"].skew())\n",
    "print(\"Kurtosis: %f\" % train_df[\"Poder_Adquisitivo\"].kurt())"
   ]
  },
  {
   "cell_type": "raw",
   "metadata": {},
   "source": [
    "Tal y como se puede observar en el gráfico, esta variable presenta valores extremos de skewness y kurtosis, que se manifiestan en la larga cola derecha que presenta. Esto quiere decir que existe algunos clientes que presentan valores extremadamente altos de poder adquisitivo que están muy lejos del resto. Será necesario tener en cuenta este hecho para evitar que los valores extremos puedan afectar negativamente a nuestro sistema.\n",
    "\n",
    "Veamos de manera más detallada aquellos valores que tradicionalmente no se considerarían outliers."
   ]
  },
  {
   "cell_type": "code",
   "execution_count": 10,
   "metadata": {},
   "outputs": [
    {
     "data": {
      "text/plain": [
       "<matplotlib.axes._subplots.AxesSubplot at 0x7f4aed32c828>"
      ]
     },
     "execution_count": 10,
     "metadata": {},
     "output_type": "execute_result"
    },
    {
     "data": {
      "image/png": "[encoded data removed]",
      "text/plain": [
       "<matplotlib.figure.Figure at 0x7f4aed2d2240>"
      ]
     },
     "metadata": {},
     "output_type": "display_data"
    }
   ],
   "source": [
    "q1 = train_df[\"Poder_Adquisitivo\"].quantile(0.25)\n",
    "q3 = train_df[\"Poder_Adquisitivo\"].quantile(0.75)\n",
    "iqr = q3 - q1\n",
    "fence_low  = q1 - 1.5 * iqr\n",
    "fence_high = q3 + 1.5 * iqr\n",
    "\n",
    "train_df_no_outliers = train_df.loc[(train_df[\"Poder_Adquisitivo\"] > fence_low) & (train_df[\"Poder_Adquisitivo\"] < fence_high)]\n",
    "sns.distplot(train_df_no_outliers[\"Poder_Adquisitivo\"])"
   ]
  },
  {
   "cell_type": "code",
   "execution_count": 11,
   "metadata": {},
   "outputs": [
    {
     "name": "stdout",
     "output_type": "stream",
     "text": [
      "Skewness: 0.823076\n",
      "Kurtosis: 0.098508\n"
     ]
    }
   ],
   "source": [
    "print(\"Skewness: %f\" % train_df_no_outliers[\"Poder_Adquisitivo\"].skew())\n",
    "print(\"Kurtosis: %f\" % train_df_no_outliers[\"Poder_Adquisitivo\"].kurt())"
   ]
  },
  {
   "cell_type": "code",
   "execution_count": 12,
   "metadata": {},
   "outputs": [
    {
     "name": "stdout",
     "output_type": "stream",
     "text": [
      "Porcentaje de datos eliminados:\n",
      "0.057278868934733974\n"
     ]
    }
   ],
   "source": [
    "print(\"Porcentaje de datos eliminados:\")\n",
    "print((len(train_df.index)-len(train_df_no_outliers.index))/len(train_df.index))"
   ]
  },
  {
   "cell_type": "markdown",
   "metadata": {},
   "source": [
    "Eliminando de esta manera los valores extremos, que representan alrededor del 5% de los datos totales, la distribución ahora presenta unos valores de skewness y kurtosis mucho más aceptables que permitan el entrenamiento de un modelo.\n",
    "\n",
    "Evidentemente esta eliminación se va a realizar únicamente a la hora de entrenar, nunca a la hora de evaluar"
   ]
  },
  {
   "cell_type": "markdown",
   "metadata": {},
   "source": [
    "<a name=Análisisdelasvariablesexplicativas></a>\n",
    "## Análisis de las variables explicativas\n",
    "[Volver al Indice](#Indice)"
   ]
  },
  {
   "cell_type": "markdown",
   "metadata": {},
   "source": [
    "De las variables explicativas, sabemos que contamos con algunas que son de tipo categórico en vez de númerico. Empezemos explorando estas variables."
   ]
  },
  {
   "cell_type": "code",
   "execution_count": 13,
   "metadata": {
    "scrolled": true
   },
   "outputs": [
    {
     "data": {
      "text/plain": [
       "09991     97865\n",
       "09992     26997\n",
       "09994     20758\n",
       "09993     15307\n",
       "0X301     15232\n",
       "09511     13078\n",
       "05220      8303\n",
       "06110      7633\n",
       "09512      7098\n",
       "06120      4987\n",
       "07121      4530\n",
       "04500      3986\n",
       "05120      3554\n",
       "08432      2732\n",
       "09210      2596\n",
       "9992.0     2586\n",
       "06300      2501\n",
       "9991.0     2443\n",
       "09602      2324\n",
       "04111      2221\n",
       "04309      2181\n",
       "09700      1914\n",
       "05000      1595\n",
       "03613      1565\n",
       "02240      1527\n",
       "02230      1491\n",
       "9512.0     1481\n",
       "9994.0     1407\n",
       "03611      1328\n",
       "05110      1326\n",
       "          ...  \n",
       "2936.0        1\n",
       "2933.0        1\n",
       "2462.0        1\n",
       "2463.0        1\n",
       "2473.0        1\n",
       "2653          1\n",
       "2324.0        1\n",
       "7405          1\n",
       "7618.0        1\n",
       "3152          1\n",
       "7617          1\n",
       "7192          1\n",
       "3622          1\n",
       "7193.0        1\n",
       "3539          1\n",
       "3533          1\n",
       "2640.0        1\n",
       "3523          1\n",
       "3403.0        1\n",
       "2154          1\n",
       "2156          1\n",
       "2157          1\n",
       "2158.0        1\n",
       "7611          1\n",
       "3323          1\n",
       "3317          1\n",
       "3316.0        1\n",
       "3153          1\n",
       "2311          1\n",
       "7311.0        1\n",
       "Name: Socio_Demo_01, Length: 912, dtype: int64"
      ]
     },
     "execution_count": 13,
     "metadata": {},
     "output_type": "execute_result"
    }
   ],
   "source": [
    "train_df_no_outliers[\"Socio_Demo_01\"].value_counts()"
   ]
  },
  {
   "cell_type": "markdown",
   "metadata": {},
   "source": [
    "Podemos observar como Socio_Demo_01 que cuenta que muchos valores que solo aparecen un número muy bajo de veces. A la hora de transformar para su uso, es probable que la inclusión de los 921 valores posibles no aporte información discriminativa y solo sirva para aumentar el número de dimensiones. Una primera aproximación que mantenga un equilibrio entre complejidad y utilidad puede ser usar solo un número de estos valores, aquellos que aparezcan un mayor número de veces, y condensar el resto en una categoría \"Other\"."
   ]
  },
  {
   "cell_type": "code",
   "execution_count": 14,
   "metadata": {},
   "outputs": [
    {
     "data": {
      "text/plain": [
       "09991    97865\n",
       "09992    26997\n",
       "09994    20758\n",
       "09993    15307\n",
       "0X301    15232\n",
       "09511    13078\n",
       "05220     8303\n",
       "06110     7633\n",
       "09512     7098\n",
       "06120     4987\n",
       "Name: Socio_Demo_01, dtype: int64"
      ]
     },
     "execution_count": 14,
     "metadata": {},
     "output_type": "execute_result"
    }
   ],
   "source": [
    "topk_socio_01 = train_df_no_outliers[\"Socio_Demo_01\"].value_counts()[:10]\n",
    "topk_socio_01"
   ]
  },
  {
   "cell_type": "code",
   "execution_count": 15,
   "metadata": {},
   "outputs": [
    {
     "data": {
      "text/plain": [
       "<matplotlib.axes._subplots.AxesSubplot at 0x7f4aed278a90>"
      ]
     },
     "execution_count": 15,
     "metadata": {},
     "output_type": "execute_result"
    },
    {
     "data": {
      "image/png": "[encoded data removed]",
      "text/plain": [
       "<matplotlib.figure.Figure at 0x7f4aec5ca550>"
      ]
     },
     "metadata": {},
     "output_type": "display_data"
    }
   ],
   "source": [
    "socio_01_keys = list(topk_socio_01.keys())\n",
    "condition_array = [False] * len(train_df_no_outliers[\"Socio_Demo_01\"])\n",
    "for i in range(len(condition_array)):\n",
    "    condition_array[i] = str(train_df_no_outliers[\"Socio_Demo_01\"].iloc[i]) in socio_01_keys\n",
    "\n",
    "sns.violinplot(x=train_df_no_outliers[\"Socio_Demo_01\"].loc[condition_array],y=train_df_no_outliers[\"Poder_Adquisitivo\"].loc[condition_array])"
   ]
  },
  {
   "cell_type": "markdown",
   "metadata": {},
   "source": [
    "Es interesante ver como algunos valores como 09992 parecen concentrar la mayor parte de clientes en valores diferentes del resto, lo cual puede aportar información importante."
   ]
  },
  {
   "cell_type": "code",
   "execution_count": 16,
   "metadata": {},
   "outputs": [
    {
     "data": {
      "text/plain": [
       "1    206781\n",
       "2    136213\n",
       "Name: Socio_Demo_02, dtype: int64"
      ]
     },
     "execution_count": 16,
     "metadata": {},
     "output_type": "execute_result"
    }
   ],
   "source": [
    "train_df_no_outliers[\"Socio_Demo_02\"].value_counts()"
   ]
  },
  {
   "cell_type": "code",
   "execution_count": 17,
   "metadata": {},
   "outputs": [
    {
     "data": {
      "text/plain": [
       "<matplotlib.axes._subplots.AxesSubplot at 0x7f4aed214e48>"
      ]
     },
     "execution_count": 17,
     "metadata": {},
     "output_type": "execute_result"
    },
    {
     "data": {
      "image/png": "[encoded data removed]",
      "text/plain": [
       "<matplotlib.figure.Figure at 0x7f4aed285f28>"
      ]
     },
     "metadata": {},
     "output_type": "display_data"
    }
   ],
   "source": [
    "sns.violinplot(x=train_df_no_outliers[\"Socio_Demo_02\"],y=train_df_no_outliers[\"Poder_Adquisitivo\"])"
   ]
  },
  {
   "cell_type": "markdown",
   "metadata": {},
   "source": [
    "Veamos el resto de variables socio demográficas."
   ]
  },
  {
   "cell_type": "code",
   "execution_count": 18,
   "metadata": {},
   "outputs": [
    {
     "data": {
      "text/plain": [
       "<matplotlib.axes._subplots.AxesSubplot at 0x7f4aed185d30>"
      ]
     },
     "execution_count": 18,
     "metadata": {},
     "output_type": "execute_result"
    },
    {
     "data": {
      "image/png": "[encoded data removed]",
      "text/plain": [
       "<matplotlib.figure.Figure at 0x7f4aed13fdd8>"
      ]
     },
     "metadata": {},
     "output_type": "display_data"
    }
   ],
   "source": [
    "sns.distplot(train_df_no_outliers[\"Socio_Demo_03\"])"
   ]
  },
  {
   "cell_type": "code",
   "execution_count": 19,
   "metadata": {},
   "outputs": [
    {
     "data": {
      "text/plain": [
       "<seaborn.axisgrid.JointGrid at 0x7f4aed144240>"
      ]
     },
     "execution_count": 19,
     "metadata": {},
     "output_type": "execute_result"
    },
    {
     "data": {
      "image/png": "[encoded data removed]",
      "text/plain": [
       "<matplotlib.figure.Figure at 0x7f4aed144630>"
      ]
     },
     "metadata": {},
     "output_type": "display_data"
    }
   ],
   "source": [
    "sns.jointplot(x=train_df_no_outliers[\"Socio_Demo_03\"], y=train_df_no_outliers[\"Poder_Adquisitivo\"],kind='kde')"
   ]
  },
  {
   "cell_type": "code",
   "execution_count": 20,
   "metadata": {
    "scrolled": true
   },
   "outputs": [
    {
     "data": {
      "text/plain": [
       "<matplotlib.axes._subplots.AxesSubplot at 0x7f4aed14b278>"
      ]
     },
     "execution_count": 20,
     "metadata": {},
     "output_type": "execute_result"
    },
    {
     "data": {
      "image/png": "[encoded data removed]",
      "text/plain": [
       "<matplotlib.figure.Figure at 0x7f4b280535c0>"
      ]
     },
     "metadata": {},
     "output_type": "display_data"
    }
   ],
   "source": [
    "sns.distplot(train_df_no_outliers[\"Socio_Demo_04\"])"
   ]
  },
  {
   "cell_type": "code",
   "execution_count": 21,
   "metadata": {},
   "outputs": [
    {
     "data": {
      "text/plain": [
       "<seaborn.axisgrid.JointGrid at 0x7f4aecfa4320>"
      ]
     },
     "execution_count": 21,
     "metadata": {},
     "output_type": "execute_result"
    },
    {
     "data": {
      "image/png": "[encoded data removed]",
      "text/plain": [
       "<matplotlib.figure.Figure at 0x7f4aecfa40b8>"
      ]
     },
     "metadata": {},
     "output_type": "display_data"
    }
   ],
   "source": [
    "sns.jointplot(x=train_df_no_outliers[\"Socio_Demo_04\"], y=train_df_no_outliers[\"Poder_Adquisitivo\"],kind='kde')"
   ]
  },
  {
   "cell_type": "code",
   "execution_count": 22,
   "metadata": {},
   "outputs": [
    {
     "data": {
      "text/plain": [
       "1       118943\n",
       "2       111652\n",
       "3        67361\n",
       "4        33141\n",
       "5         8747\n",
       "6         2004\n",
       "7          504\n",
       "7097       280\n",
       "8          149\n",
       "9           56\n",
       "70          42\n",
       "10          21\n",
       "33          20\n",
       "46          20\n",
       "30          14\n",
       "11          11\n",
       "414         10\n",
       "13           8\n",
       "151          6\n",
       "27           2\n",
       "28           2\n",
       "18           1\n",
       "Name: Socio_Demo_04, dtype: int64"
      ]
     },
     "execution_count": 22,
     "metadata": {},
     "output_type": "execute_result"
    }
   ],
   "source": [
    "train_df_no_outliers[\"Socio_Demo_04\"].value_counts()"
   ]
  },
  {
   "cell_type": "markdown",
   "metadata": {},
   "source": [
    "De nuevo, observamos que una serie pequeña de valores concentra la gran mayoría de ocurrencias. Veamos si existe una relación aparente entre cada valor de esta variable y el poder adquisitivo."
   ]
  },
  {
   "cell_type": "code",
   "execution_count": 23,
   "metadata": {},
   "outputs": [
    {
     "data": {
      "text/plain": [
       "<matplotlib.axes._subplots.AxesSubplot at 0x7f4aece6d080>"
      ]
     },
     "execution_count": 23,
     "metadata": {},
     "output_type": "execute_result"
    },
    {
     "data": {
      "image/png": "[encoded data removed]",
      "text/plain": [
       "<matplotlib.figure.Figure at 0x7f4aecedda90>"
      ]
     },
     "metadata": {},
     "output_type": "display_data"
    }
   ],
   "source": [
    "fig, ax = plt.subplots(figsize=(16,10))\n",
    "sns.boxplot(x=train_df_no_outliers[\"Socio_Demo_04\"], y=train_df_no_outliers[\"Poder_Adquisitivo\"],ax=ax)"
   ]
  },
  {
   "cell_type": "markdown",
   "metadata": {},
   "source": [
    "Algunos valores muestran distribuciones que son diferentes a las demás, pero aparecen un número casi insignificante de veces respecto a la totalidad de los datos."
   ]
  },
  {
   "cell_type": "code",
   "execution_count": 24,
   "metadata": {},
   "outputs": [
    {
     "data": {
      "text/plain": [
       "<matplotlib.axes._subplots.AxesSubplot at 0x7f4aecd86048>"
      ]
     },
     "execution_count": 24,
     "metadata": {},
     "output_type": "execute_result"
    },
    {
     "data": {
      "image/png": "[encoded data removed]",
      "text/plain": [
       "<matplotlib.figure.Figure at 0x7f4aecf63048>"
      ]
     },
     "metadata": {},
     "output_type": "display_data"
    }
   ],
   "source": [
    "sns.distplot(train_df_no_outliers[\"Socio_Demo_05\"])"
   ]
  },
  {
   "cell_type": "code",
   "execution_count": 25,
   "metadata": {},
   "outputs": [
    {
     "data": {
      "text/plain": [
       "<seaborn.axisgrid.JointGrid at 0x7f4aecb40780>"
      ]
     },
     "execution_count": 25,
     "metadata": {},
     "output_type": "execute_result"
    },
    {
     "data": {
      "image/png": "[encoded data removed]",
      "text/plain": [
       "<matplotlib.figure.Figure at 0x7f4aecb40ac8>"
      ]
     },
     "metadata": {},
     "output_type": "display_data"
    }
   ],
   "source": [
    "sns.jointplot(x=train_df_no_outliers[\"Socio_Demo_05\"], y=train_df_no_outliers[\"Poder_Adquisitivo\"],kind='kde')"
   ]
  },
  {
   "cell_type": "markdown",
   "metadata": {},
   "source": [
    "Veamos ahora la correlación de las variables explicativas con el poder adquisitivo, medida mediante el coeficiente de Pearson."
   ]
  },
  {
   "cell_type": "code",
   "execution_count": 26,
   "metadata": {
    "scrolled": false
   },
   "outputs": [
    {
     "data": {
      "text/plain": [
       "Imp_Sal_21       0.446199\n",
       "Num_Oper_05      0.377380\n",
       "Imp_Sal_19       0.364050\n",
       "Ind_Prod_24      0.333431\n",
       "Ind_Prod_08      0.271821\n",
       "Imp_Sal_12       0.268169\n",
       "Num_Oper_18      0.267717\n",
       "Ind_Prod_11      0.263711\n",
       "Imp_Cons_02      0.254591\n",
       "Imp_Sal_08       0.254518\n",
       "Imp_Cons_12      0.251392\n",
       "Imp_Cons_06      0.243734\n",
       "Imp_Sal_20       0.235902\n",
       "Ind_Prod_05      0.229769\n",
       "Imp_Cons_04      0.228519\n",
       "Imp_Sal_09       0.224180\n",
       "Ind_Prod_21      0.223633\n",
       "Imp_Sal_04       0.221237\n",
       "Imp_Cons_09      0.221097\n",
       "Imp_Cons_01      0.219669\n",
       "Imp_Cons_16      0.218312\n",
       "Num_Oper_06      0.218307\n",
       "Num_Oper_15      0.207412\n",
       "Imp_Cons_03      0.203556\n",
       "Ind_Prod_09      0.203247\n",
       "Imp_Sal_15       0.202924\n",
       "Num_Oper_02      0.196814\n",
       "Imp_Sal_16       0.196771\n",
       "Imp_Cons_08      0.191842\n",
       "Num_Oper_08      0.190259\n",
       "                   ...   \n",
       "Imp_Sal_18       0.052718\n",
       "Ind_Prod_04      0.051391\n",
       "Ind_Prod_13      0.050400\n",
       "Num_Oper_20      0.050110\n",
       "Imp_Cons_14      0.049796\n",
       "Num_Oper_13      0.049279\n",
       "Num_Oper_09      0.042742\n",
       "Num_Oper_14      0.041123\n",
       "Ind_Prod_01      0.037822\n",
       "Imp_Sal_17       0.034002\n",
       "Num_Oper_04      0.032202\n",
       "Num_Oper_12      0.031361\n",
       "Imp_Sal_10       0.030442\n",
       "Ind_Prod_20      0.029056\n",
       "Imp_Sal_02       0.028809\n",
       "Ind_Prod_07      0.027105\n",
       "Ind_Prod_15      0.024015\n",
       "Imp_Sal_11       0.021255\n",
       "Ind_Prod_06      0.020455\n",
       "Num_Oper_16      0.019392\n",
       "Imp_Sal_06       0.017361\n",
       "Num_Oper_11      0.014869\n",
       "Imp_Sal_03       0.013781\n",
       "Ind_Prod_19      0.013330\n",
       "Imp_Sal_01       0.008663\n",
       "Socio_Demo_04    0.008363\n",
       "Imp_Sal_07       0.004509\n",
       "Ind_Prod_18     -0.001017\n",
       "Socio_Demo_02   -0.135780\n",
       "Imp_Sal_14            NaN\n",
       "Name: Poder_Adquisitivo, Length: 86, dtype: float64"
      ]
     },
     "execution_count": 26,
     "metadata": {},
     "output_type": "execute_result"
    }
   ],
   "source": [
    "train_df_no_outliers.corr(method='pearson').iloc[-1].sort_values(ascending=False,axis=0)[1:]"
   ]
  },
  {
   "cell_type": "markdown",
   "metadata": {},
   "source": [
    "Vemos como algunas variables presentan coeficientes de correlación medios, lo que indica que serán útiles para los modelos."
   ]
  },
  {
   "cell_type": "markdown",
   "metadata": {},
   "source": [
    "<a name=Entrenamientodemodelos></a>\n",
    "# Entrenamiento de modelos\n",
    "[Volver al Indice](#Indice)\n"
   ]
  },
  {
   "cell_type": "markdown",
   "metadata": {},
   "source": [
    "<a name=Preparacióndedatos></a>\n",
    "## Preparación de datos\n",
    "Con todo lo visto anteriormente estamos listos para preparar los datos para la experimentación. Vamos a definir una función que realize este pre-procesado de los datos. \n",
    "\n",
    "La transformación básica consiste en convertir las variables categóricas a valores one-hot, y eliminar la columna ID_Customer que no es más que un identificador del cliente.\n",
    "\n",
    "\n",
    "Con processing_type = 1 se puede indicar además que queremos filtrar los outliers (pero únicamente en tiempo de entrenamiento)\n",
    "\n"
   ]
  },
  {
   "cell_type": "code",
   "execution_count": 27,
   "metadata": {},
   "outputs": [],
   "source": [
    "def process_df(df,processing_type,train = True):\n",
    "    if processing_type == 1:\n",
    "        return process_df_1(df,train)\n",
    "    else:\n",
    "        return process_df_1(df,False)\n",
    "    \n",
    "def process_df_1(df,train = True):\n",
    "    df = df.drop(labels=[\"ID_Customer\"],axis=1)\n",
    "    \n",
    "    if train:\n",
    "        # Eliminamos los outliers solo en el caso de que estemos entrenando\n",
    "        q1 = df[\"Poder_Adquisitivo\"].quantile(0.25)\n",
    "        q3 = df[\"Poder_Adquisitivo\"].quantile(0.75)\n",
    "        iqr = q3 - q1\n",
    "        fence_low  = q1 - 1.5 * iqr\n",
    "        fence_high = q3 + 1.5 * iqr\n",
    "\n",
    "        df = df.loc[(df[\"Poder_Adquisitivo\"] > fence_low) & (df[\"Poder_Adquisitivo\"] < fence_high)]\n",
    "    \n",
    "        \n",
    "    \n",
    "    # Convertimos las variables a one-hot\n",
    "\n",
    "    # Socio_Demo_01\n",
    "    \n",
    "    topk_socio_01 = df[\"Socio_Demo_01\"].value_counts()[:10]\n",
    "    socio_01_keys = list(topk_socio_01.keys())\n",
    "    \n",
    "    for key in socio_01_keys:\n",
    "        on = df[\"Socio_Demo_01\"] == key\n",
    "        df.insert(loc=len(df.columns), column=\"Socio_Demo_01_\"+str(key), value=on.astype(int))\n",
    "    \n",
    "    # El resto lso agrupamos en 'Other'\n",
    "    condition_array = [False] * len(df[\"Socio_Demo_01\"])\n",
    "    for i in range(len(condition_array)):\n",
    "        condition_array[i] = str(df[\"Socio_Demo_01\"].iloc[i]) not in socio_01_keys\n",
    "    df.insert(loc=len(df.columns), column=\"Socio_Demo_01_Other\", value=condition_array)\n",
    "    df[\"Socio_Demo_01_Other\"] = df[\"Socio_Demo_01_Other\"].astype(int)\n",
    "    \n",
    "    df = df.drop(axis=1, columns=[\"Socio_Demo_01\"])\n",
    "    \n",
    "    # Socio_Demo_02\n",
    "    c1=df[\"Socio_Demo_02\"] == 1\n",
    "    c2=df[\"Socio_Demo_02\"] == 2\n",
    "    df.insert(loc=len(df.columns), column=\"Socio_Demo_02_01\", value=c1.astype(int))\n",
    "    df.insert(loc=len(df.columns), column=\"Socio_Demo_02_02\", value=c2.astype(int))\n",
    "    \n",
    "    df = df.drop(axis=1, columns=[\"Socio_Demo_02\"])\n",
    "\n",
    "    \n",
    "    # Convertimos todas las columnas Ind_prod a one-hot\n",
    "    \n",
    "    for i in range(1,25):\n",
    "        column_name = \"Ind_Prod_\" + str(i).zfill(2)\n",
    "        c0=df[column_name] == 0\n",
    "        c1=df[column_name] == 1\n",
    "        c2=df[column_name] == 2\n",
    "        \n",
    "        df.insert(loc=len(df.columns), column=column_name + \"_00\", value=c0.astype(int))\n",
    "        df.insert(loc=len(df.columns), column=column_name + \"_01\", value=c1.astype(int))\n",
    "        df.insert(loc=len(df.columns), column=column_name + \"_02\", value=c2.astype(int))\n",
    "    \n",
    "        df = df.drop(axis=1, columns=[column_name])\n",
    "    \n",
    "    \n",
    "    \n",
    "    return df"
   ]
  },
  {
   "cell_type": "markdown",
   "metadata": {},
   "source": [
    "En primer lugar vamos a barajar los datos, y a continuación vamos a realizar una partición de los datos para realizar **validación cruzada** en 5 bloques, con el objetivo de realizar un análisis de resultados de los diferentes modelos de manera correcta y fiable. De esta manera, la tasa de entrenamiento efectiva es del 80%, y la tasa de test efectiva es del 100%.\n",
    "\n",
    "El siguiente método divide los datos en los conjustos de entrenamiento y test para cada partición, y los almacena en la variable splits."
   ]
  },
  {
   "cell_type": "code",
   "execution_count": 28,
   "metadata": {},
   "outputs": [],
   "source": [
    "SEED = 4\n",
    "K = 5\n",
    "\n",
    "shuffled_data = train_df.sample(frac=1,replace=False,random_state=SEED)\n",
    "\n",
    "kf = KFold(n_splits=K)\n",
    "kf.get_n_splits(shuffled_data)\n",
    "\n",
    "def get_splits(kf,processing_type):\n",
    "    splits=[]\n",
    "    for train_index, test_index in kf.split(shuffled_data):\n",
    "        train_data = shuffled_data.loc[train_index]\n",
    "        test_data = shuffled_data.loc[test_index]\n",
    "\n",
    "        train_data_proc = process_df(train_data,processing_type,train=True)\n",
    "        test_data_proc = process_df(test_data,processing_type,train=False)\n",
    "\n",
    "\n",
    "        splits.append((train_data_proc,test_data_proc))\n",
    "    return splits\n"
   ]
  },
  {
   "cell_type": "markdown",
   "metadata": {},
   "source": [
    "<a name=Experimentos></a>\n",
    "## Experimentos\n",
    "[Volver al Indice](#Indice)"
   ]
  },
  {
   "cell_type": "markdown",
   "metadata": {},
   "source": [
    "En lo que se refiere a métricas, en primer lugar hemos escogido la **ráiz del error cuadrático medio (RMSE)**, una de las métricas más comunes para evaluar modelos de regresión. El problema que tiene esta métrica es que penaliza de manera desmedida fallos grandes. Resulta mucho más interesante medir el funcionamiento del algoritmo con una métrica que refleje mejor su funcionamiento con la mayoría de clientes, cosa que consideramos más útil a la hora de decidirnos por un modelo u otro. Por eso medimos los resultados con respecto a la **media del error absoluto (MAE)** y a la **mediana del error (MAD).** Esta última métrica no es susceptible a outliers y nos permite conocer mejor cual es el comportamiento \"medio\" de cada modelo."
   ]
  },
  {
   "cell_type": "markdown",
   "metadata": {},
   "source": [
    "Dado un modelo y los splits que hemos realizado a los datos, a continuación definimos una función que, para cada partición de entrenamiento y test, entrene un modelo con los datos de entrenamiento correspondiente y calcule métricas sobre el conjunto de validación."
   ]
  },
  {
   "cell_type": "code",
   "execution_count": 29,
   "metadata": {},
   "outputs": [],
   "source": [
    "def train_and_evaluate(model,splits,skcompat=False,scaler=None):\n",
    "    rmse = []\n",
    "    mae = []\n",
    "    mad = []\n",
    "    # Para cada iteración de validación cruzada\n",
    "    for s in range(len(splits)):\n",
    "        train_data_proc,test_data_proc = splits[s]\n",
    "        \n",
    "        # Obtenemos los datos de entrenamiento\n",
    "        x_train = train_data_proc.drop(labels=[\"Poder_Adquisitivo\"],axis=1).as_matrix()\n",
    "        y_train = train_data_proc[\"Poder_Adquisitivo\"].as_matrix()\n",
    "\n",
    "        # Obtenemos los datos de test\n",
    "        x_test = test_data_proc.drop(labels=[\"Poder_Adquisitivo\"], axis=1).as_matrix()\n",
    "        y_test = test_data_proc[\"Poder_Adquisitivo\"].as_matrix()\n",
    "        \n",
    "        # Damos la posiblidad de usar un scaler\n",
    "        if scaler is not None:\n",
    "            x_train = scaler.fit_transform(x_train)\n",
    "            x_test = scaler.transform(x_test)\n",
    "           \n",
    "        # Caso base, entrenamos un modelo y obtenemos las predicciones\n",
    "        if not skcompat:\n",
    "            model.fit(X=x_train,y=y_train)\n",
    "            \n",
    "            # For compatibility with XGBoost\n",
    "            # yhat = model.predict(X=x_test)\n",
    "            yhat = model.predict(x_test)\n",
    "        \n",
    "        # En el caso de que sea un objeto skcompat, las llamadas a los métodos son ligeramente diferentes.\n",
    "        else:\n",
    "            model.fit(x=x_train,y=y_train,steps=STEPS)\n",
    "            yhat = model.predict(x=x_test)['scores']\n",
    "        \n",
    "        # Calculamos métricas \n",
    "        rmse.append(math.sqrt(mean_squared_error(y_true=y_test, y_pred=yhat)))\n",
    "        mae.append(mean_absolute_error(y_true=y_test,y_pred=yhat))\n",
    "        mad.append(median_absolute_error(y_true=y_test,y_pred=yhat))\n",
    "        \n",
    "    return (rmse,mae,mad)"
   ]
  },
  {
   "cell_type": "markdown",
   "metadata": {},
   "source": [
    "Por último, nos definimos un método para guardar los resultados para su posterior visualización."
   ]
  },
  {
   "cell_type": "code",
   "execution_count": 30,
   "metadata": {},
   "outputs": [],
   "source": [
    "scores = {'modelo':[], 'rmse':[],'mae':[],'mad':[]}\n",
    "\n",
    "def record_scores(name,rmse,mae,mad):\n",
    "    scores['modelo'].append(name)\n",
    "    scores['rmse'].append(rmse)\n",
    "    scores['mae'].append(mae)\n",
    "    scores['mad'].append(mad)"
   ]
  },
  {
   "cell_type": "markdown",
   "metadata": {},
   "source": [
    "A continuación vamos a exponer una serie de resultados que hemos obtenido evaluando diferentes modelos. Cabe destacar que la cantidad de experimentos realizada es mucho mayor de la mostrada aquí, pero se ha llevado a cabo una selección de aquellos que, a nuestro juicio, son más interesantes. En caso contrario este documento hubiera sido todavía más largo de lo que ya es."
   ]
  },
  {
   "cell_type": "markdown",
   "metadata": {},
   "source": [
    "En primer lugar probaremos diferentes modelos tras aplicar el preproceso en el que eliminamos **outliers.**"
   ]
  },
  {
   "cell_type": "code",
   "execution_count": 31,
   "metadata": {},
   "outputs": [],
   "source": [
    "splits = []\n",
    "splits = get_splits(kf,1)"
   ]
  },
  {
   "cell_type": "markdown",
   "metadata": {},
   "source": [
    "Inicialmente probamos diferentes modelos de regresión lineal."
   ]
  },
  {
   "cell_type": "code",
   "execution_count": 32,
   "metadata": {},
   "outputs": [
    {
     "name": "stdout",
     "output_type": "stream",
     "text": [
      "RMSE: 21866.239828\n",
      "MAE: 5257.209822\n",
      "MAD: 3039.409075\n"
     ]
    }
   ],
   "source": [
    "model = LinearRegression()\n",
    "scores_rmse,scores_mae,scores_mad = train_and_evaluate(model,splits)\n",
    "\n",
    "\n",
    "print(\"RMSE: %f\" % np.mean(scores_rmse))\n",
    "print(\"MAE: %f\" % np.mean(scores_mae))\n",
    "print(\"MAD: %f\" % np.mean(scores_mad))\n",
    "\n",
    "record_scores('Linear Regresion',np.mean(scores_rmse),np.mean(scores_mae),np.mean(scores_mad))"
   ]
  },
  {
   "cell_type": "code",
   "execution_count": 33,
   "metadata": {},
   "outputs": [
    {
     "name": "stdout",
     "output_type": "stream",
     "text": [
      "RMSE: 21702.603384\n",
      "MAE: 4728.631802\n",
      "MAD: 2397.541365\n"
     ]
    }
   ],
   "source": [
    "model = MLPRegressor(max_iter=200,hidden_layer_sizes=(50,50,50,50),early_stopping=True,random_state=SEED)\n",
    "scores_rmse,scores_mae,scores_mad = train_and_evaluate(model,splits)\n",
    "\n",
    "\n",
    "print(\"RMSE: %f\" % np.mean(scores_rmse))\n",
    "print(\"MAE: %f\" % np.mean(scores_mae))\n",
    "print(\"MAD: %f\" % np.mean(scores_mad))\n",
    "\n",
    "record_scores('ANN50*4',np.mean(scores_rmse),np.mean(scores_mae),np.mean(scores_mad))"
   ]
  },
  {
   "cell_type": "markdown",
   "metadata": {},
   "source": [
    "Probamos ahora diferentes modelos basados en árboles."
   ]
  },
  {
   "cell_type": "code",
   "execution_count": 34,
   "metadata": {},
   "outputs": [
    {
     "name": "stdout",
     "output_type": "stream",
     "text": [
      "RMSE: 22670.479224\n",
      "MAE: 4802.948535\n",
      "MAD: 2223.817397\n"
     ]
    }
   ],
   "source": [
    "model = DecisionTreeRegressor(min_samples_split=200, min_samples_leaf=50, random_state=SEED)\n",
    "scores_rmse,scores_mae,scores_mad = train_and_evaluate(model,splits)\n",
    "\n",
    "\n",
    "print(\"RMSE: %f\" % np.mean(scores_rmse))\n",
    "print(\"MAE: %f\" % np.mean(scores_mae))\n",
    "print(\"MAD: %f\" % np.mean(scores_mad))\n",
    "\n",
    "record_scores('RegressionTree',np.mean(scores_rmse),np.mean(scores_mae),np.mean(scores_mad))"
   ]
  },
  {
   "cell_type": "code",
   "execution_count": 35,
   "metadata": {},
   "outputs": [
    {
     "name": "stdout",
     "output_type": "stream",
     "text": [
      "RMSE: 22861.309229\n",
      "MAE: 5112.145407\n",
      "MAD: 2549.585133\n"
     ]
    }
   ],
   "source": [
    "model = RandomForestRegressor(n_estimators=50, criterion='mse', max_depth=23, max_features='log2',min_samples_leaf=5,random_state=SEED)\n",
    "scores_rmse,scores_mae,scores_mad = train_and_evaluate(model,splits)\n",
    "\n",
    "\n",
    "print(\"RMSE: %f\" % np.mean(scores_rmse))\n",
    "print(\"MAE: %f\" % np.mean(scores_mae))\n",
    "print(\"MAD: %f\" % np.mean(scores_mad))\n",
    "\n",
    "record_scores('RF_d23',np.mean(scores_rmse),np.mean(scores_mae),np.mean(scores_mad))"
   ]
  },
  {
   "cell_type": "code",
   "execution_count": 36,
   "metadata": {},
   "outputs": [
    {
     "name": "stdout",
     "output_type": "stream",
     "text": [
      "RMSE: 22655.050330\n",
      "MAE: 4621.045433\n",
      "MAD: 2059.083895\n"
     ]
    }
   ],
   "source": [
    "model = RandomForestRegressor(n_estimators=50, criterion='mse', max_depth=23, max_features='auto',min_samples_leaf=5,random_state=SEED)\n",
    "scores_rmse,scores_mae,scores_mad = train_and_evaluate(model,splits)\n",
    "\n",
    "\n",
    "print(\"RMSE: %f\" % np.mean(scores_rmse))\n",
    "print(\"MAE: %f\" % np.mean(scores_mae))\n",
    "print(\"MAD: %f\" % np.mean(scores_mad))\n",
    "record_scores('RF_d23_FULL',np.mean(scores_rmse),np.mean(scores_mae),np.mean(scores_mad))"
   ]
  },
  {
   "cell_type": "markdown",
   "metadata": {},
   "source": [
    "El permitir que se hagan splits sobre todas las features incrementa sustancialmente el tiempo de entrenamiento, pero hace que este modelo supere al rest."
   ]
  },
  {
   "cell_type": "markdown",
   "metadata": {},
   "source": [
    "Probamos ahora con la técnica de Gradient Boosting."
   ]
  },
  {
   "cell_type": "code",
   "execution_count": 37,
   "metadata": {},
   "outputs": [
    {
     "name": "stdout",
     "output_type": "stream",
     "text": [
      "RMSE: 22660.424748\n",
      "MAE: 4675.047281\n",
      "MAD: 2163.067239\n"
     ]
    }
   ],
   "source": [
    "model = GradientBoostingRegressor(random_state=SEED,min_samples_leaf=5,max_depth=5)\n",
    "scores_rmse,scores_mae,scores_mad = train_and_evaluate(model,splits)\n",
    "\n",
    "\n",
    "print(\"RMSE: %f\" % np.mean(scores_rmse))\n",
    "print(\"MAE: %f\" % np.mean(scores_mae))\n",
    "print(\"MAD: %f\" % np.mean(scores_mad))\n",
    "\n",
    "record_scores('Gradient Boost_d5',np.mean(scores_rmse),np.mean(scores_mae),np.mean(scores_mad))"
   ]
  },
  {
   "cell_type": "code",
   "execution_count": 38,
   "metadata": {},
   "outputs": [
    {
     "name": "stdout",
     "output_type": "stream",
     "text": [
      "RMSE: 22657.066140\n",
      "MAE: 4597.104610\n",
      "MAD: 2070.359545\n"
     ]
    }
   ],
   "source": [
    "model = GradientBoostingRegressor(random_state=SEED,min_samples_leaf=5,max_depth=7)\n",
    "scores_rmse,scores_mae,scores_mad = train_and_evaluate(model,splits)\n",
    "\n",
    "\n",
    "print(\"RMSE: %f\" % np.mean(scores_rmse))\n",
    "print(\"MAE: %f\" % np.mean(scores_mae))\n",
    "print(\"MAD: %f\" % np.mean(scores_mad))\n",
    "\n",
    "record_scores('Gradient Boost_d7',np.mean(scores_rmse),np.mean(scores_mae),np.mean(scores_mad))"
   ]
  },
  {
   "cell_type": "markdown",
   "metadata": {},
   "source": [
    "De nuevo, llegados a este punto los modelos empiezan a requerar un tiempo de entrenamiento elevado a medida que se aumenta la profundidad máxima."
   ]
  },
  {
   "cell_type": "markdown",
   "metadata": {},
   "source": [
    "Una comparación importante a realizar es comprobar si nuestra idea inicial de eliminar outliers ha dado sus frutos. Probamos ahora a entrenar una serie de modelos ***sin eliminar outliers***."
   ]
  },
  {
   "cell_type": "code",
   "execution_count": 39,
   "metadata": {},
   "outputs": [],
   "source": [
    "splits = []\n",
    "splits = get_splits(kf,0)"
   ]
  },
  {
   "cell_type": "code",
   "execution_count": 40,
   "metadata": {},
   "outputs": [
    {
     "name": "stdout",
     "output_type": "stream",
     "text": [
      "RMSE: 20453.694566\n",
      "MAE: 5780.098872\n",
      "MAD: 3266.257244\n"
     ]
    }
   ],
   "source": [
    "model = LinearRegression()\n",
    "scores_rmse,scores_mae,scores_mad = train_and_evaluate(model,splits)\n",
    "\n",
    "\n",
    "print(\"RMSE: %f\" % np.mean(scores_rmse))\n",
    "print(\"MAE: %f\" % np.mean(scores_mae))\n",
    "print(\"MAD: %f\" % np.mean(scores_mad))\n",
    "\n",
    "record_scores('raw Linear Regression',np.mean(scores_rmse),np.mean(scores_mae),np.mean(scores_mad))"
   ]
  },
  {
   "cell_type": "code",
   "execution_count": 41,
   "metadata": {
    "scrolled": true
   },
   "outputs": [
    {
     "name": "stdout",
     "output_type": "stream",
     "text": [
      "RMSE: 20525.062038\n",
      "MAE: 6248.621772\n",
      "MAD: 3751.984974\n"
     ]
    }
   ],
   "source": [
    "model = MLPRegressor(max_iter=200,hidden_layer_sizes=(50,50,50,50),early_stopping=True,random_state=SEED)\n",
    "scores_rmse,scores_mae,scores_mad = train_and_evaluate(model,splits)\n",
    "\n",
    "\n",
    "print(\"RMSE: %f\" % np.mean(scores_rmse))\n",
    "print(\"MAE: %f\" % np.mean(scores_mae))\n",
    "print(\"MAD: %f\" % np.mean(scores_mad))\n",
    "\n",
    "record_scores('raw ANN50*4',np.mean(scores_rmse),np.mean(scores_mae),np.mean(scores_mad))"
   ]
  },
  {
   "cell_type": "code",
   "execution_count": 42,
   "metadata": {},
   "outputs": [
    {
     "name": "stdout",
     "output_type": "stream",
     "text": [
      "RMSE: 19442.444211\n",
      "MAE: 4790.685370\n",
      "MAD: 2522.061022\n"
     ]
    }
   ],
   "source": [
    "model = GradientBoostingRegressor(random_state=SEED,min_samples_leaf=5,max_depth=5)\n",
    "scores_rmse,scores_mae,scores_mad = train_and_evaluate(model,splits)\n",
    "\n",
    "\n",
    "print(\"RMSE: %f\" % np.mean(scores_rmse))\n",
    "print(\"MAE: %f\" % np.mean(scores_mae))\n",
    "print(\"MAD: %f\" % np.mean(scores_mad))\n",
    "\n",
    "record_scores('raw Gradient Boost_d5',np.mean(scores_rmse),np.mean(scores_mae),np.mean(scores_mad))"
   ]
  },
  {
   "cell_type": "code",
   "execution_count": 43,
   "metadata": {},
   "outputs": [
    {
     "name": "stdout",
     "output_type": "stream",
     "text": [
      "RMSE: 19659.521910\n",
      "MAE: 4686.435566\n",
      "MAD: 2390.403421\n"
     ]
    }
   ],
   "source": [
    "model = GradientBoostingRegressor(random_state=SEED,min_samples_leaf=5,max_depth=7)\n",
    "scores_rmse,scores_mae,scores_mad = train_and_evaluate(model,splits)\n",
    "\n",
    "\n",
    "print(\"RMSE: %f\" % np.mean(scores_rmse))\n",
    "print(\"MAE: %f\" % np.mean(scores_mae))\n",
    "print(\"MAD: %f\" % np.mean(scores_mad))\n",
    "\n",
    "record_scores('raw Gradient Boost_d7',np.mean(scores_rmse),np.mean(scores_mae),np.mean(scores_mad))\n"
   ]
  },
  {
   "cell_type": "code",
   "execution_count": 44,
   "metadata": {},
   "outputs": [
    {
     "name": "stdout",
     "output_type": "stream",
     "text": [
      "RMSE: 19112.578472\n",
      "MAE: 4439.002901\n",
      "MAD: 2157.203059\n"
     ]
    }
   ],
   "source": [
    "model = xgb.XGBRegressor(max_depth=13, learning_rate=0.1, alpha=0,n_estimators=30, silent=True, objective='reg:linear', \n",
    "                         n_jobs=4, subsample=0.8,colsample_bytree=1.0,random_state=SEED)\n",
    "scores_rmse,scores_mae,scores_mad = train_and_evaluate(model,splits)\n",
    "\n",
    "\n",
    "print(\"RMSE: %f\" % np.mean(scores_rmse))\n",
    "print(\"MAE: %f\" % np.mean(scores_mae))\n",
    "print(\"MAD: %f\" % np.mean(scores_mad))\n",
    "record_scores('raw_XGB_d13',np.mean(scores_rmse),np.mean(scores_mae),np.mean(scores_mad))"
   ]
  },
  {
   "cell_type": "code",
   "execution_count": 46,
   "metadata": {},
   "outputs": [
    {
     "name": "stdout",
     "output_type": "stream",
     "text": [
      "RMSE: 18624.512787\n",
      "MAE: 4408.208644\n",
      "MAD: 2097.194139\n"
     ]
    }
   ],
   "source": [
    "model = RandomForestRegressor(n_estimators=50, criterion='mse', max_depth=23, max_features='auto',min_samples_leaf=5,random_state=SEED)\n",
    "scores_rmse,scores_mae,scores_mad = train_and_evaluate(model,splits)\n",
    "\n",
    "\n",
    "print(\"RMSE: %f\" % np.mean(scores_rmse))\n",
    "print(\"MAE: %f\" % np.mean(scores_mae))\n",
    "print(\"MAD: %f\" % np.mean(scores_mad))\n",
    "record_scores('raw RF_d23_FULL',np.mean(scores_rmse),np.mean(scores_mae),np.mean(scores_mad))"
   ]
  },
  {
   "cell_type": "markdown",
   "metadata": {},
   "source": [
    "Sorprendentemente, si bien para el resto de modelos si que apreciamos que el filtrado de outliers supone sustanciales ganancias en términos de MAE y MAD, en el caso del Random Forest la pequeña diferencia en MAD se ve compensado por una reducción muy importante en RMSE y MAE. "
   ]
  },
  {
   "cell_type": "markdown",
   "metadata": {},
   "source": [
    "<a name=Comparacióndemodelos></a>\n",
    "## Comparación de modelos\n",
    "[Volver al Indice](#Indice)"
   ]
  },
  {
   "cell_type": "code",
   "execution_count": 47,
   "metadata": {},
   "outputs": [
    {
     "data": {
      "text/html": [
       "<div>\n",
       "<style scoped>\n",
       "    .dataframe tbody tr th:only-of-type {\n",
       "        vertical-align: middle;\n",
       "    }\n",
       "\n",
       "    .dataframe tbody tr th {\n",
       "        vertical-align: top;\n",
       "    }\n",
       "\n",
       "    .dataframe thead th {\n",
       "        text-align: right;\n",
       "    }\n",
       "</style>\n",
       "<table border=\"1\" class=\"dataframe\">\n",
       "  <thead>\n",
       "    <tr style=\"text-align: right;\">\n",
       "      <th></th>\n",
       "      <th>mad</th>\n",
       "      <th>mae</th>\n",
       "      <th>rmse</th>\n",
       "    </tr>\n",
       "    <tr>\n",
       "      <th>modelo</th>\n",
       "      <th></th>\n",
       "      <th></th>\n",
       "      <th></th>\n",
       "    </tr>\n",
       "  </thead>\n",
       "  <tbody>\n",
       "    <tr>\n",
       "      <th>Linear Regresion</th>\n",
       "      <td>3039.409075</td>\n",
       "      <td>5257.209822</td>\n",
       "      <td>21866.239828</td>\n",
       "    </tr>\n",
       "    <tr>\n",
       "      <th>ANN50*4</th>\n",
       "      <td>2397.541365</td>\n",
       "      <td>4728.631802</td>\n",
       "      <td>21702.603384</td>\n",
       "    </tr>\n",
       "    <tr>\n",
       "      <th>RegressionTree</th>\n",
       "      <td>2223.817397</td>\n",
       "      <td>4802.948535</td>\n",
       "      <td>22670.479224</td>\n",
       "    </tr>\n",
       "    <tr>\n",
       "      <th>RF_d23</th>\n",
       "      <td>2549.585133</td>\n",
       "      <td>5112.145407</td>\n",
       "      <td>22861.309229</td>\n",
       "    </tr>\n",
       "    <tr>\n",
       "      <th>RF_d23_FULL</th>\n",
       "      <td>2059.083895</td>\n",
       "      <td>4621.045433</td>\n",
       "      <td>22655.050330</td>\n",
       "    </tr>\n",
       "    <tr>\n",
       "      <th>Gradient Boost_d5</th>\n",
       "      <td>2163.067239</td>\n",
       "      <td>4675.047281</td>\n",
       "      <td>22660.424748</td>\n",
       "    </tr>\n",
       "    <tr>\n",
       "      <th>Gradient Boost_d7</th>\n",
       "      <td>2070.359545</td>\n",
       "      <td>4597.104610</td>\n",
       "      <td>22657.066140</td>\n",
       "    </tr>\n",
       "    <tr>\n",
       "      <th>raw Linear Regression</th>\n",
       "      <td>3266.257244</td>\n",
       "      <td>5780.098872</td>\n",
       "      <td>20453.694566</td>\n",
       "    </tr>\n",
       "    <tr>\n",
       "      <th>raw ANN50*4</th>\n",
       "      <td>3751.984974</td>\n",
       "      <td>6248.621772</td>\n",
       "      <td>20525.062038</td>\n",
       "    </tr>\n",
       "    <tr>\n",
       "      <th>raw Gradient Boost_d5</th>\n",
       "      <td>2522.061022</td>\n",
       "      <td>4790.685370</td>\n",
       "      <td>19442.444211</td>\n",
       "    </tr>\n",
       "    <tr>\n",
       "      <th>raw Gradient Boost_d7</th>\n",
       "      <td>2390.403421</td>\n",
       "      <td>4686.435566</td>\n",
       "      <td>19659.521910</td>\n",
       "    </tr>\n",
       "    <tr>\n",
       "      <th>raw_XGB_d13</th>\n",
       "      <td>2157.203059</td>\n",
       "      <td>4439.002901</td>\n",
       "      <td>19112.578472</td>\n",
       "    </tr>\n",
       "    <tr>\n",
       "      <th>raw RF_d23_FULL</th>\n",
       "      <td>2097.194139</td>\n",
       "      <td>4408.208644</td>\n",
       "      <td>18624.512787</td>\n",
       "    </tr>\n",
       "  </tbody>\n",
       "</table>\n",
       "</div>"
      ],
      "text/plain": [
       "                               mad          mae          rmse\n",
       "modelo                                                       \n",
       "Linear Regresion       3039.409075  5257.209822  21866.239828\n",
       "ANN50*4                2397.541365  4728.631802  21702.603384\n",
       "RegressionTree         2223.817397  4802.948535  22670.479224\n",
       "RF_d23                 2549.585133  5112.145407  22861.309229\n",
       "RF_d23_FULL            2059.083895  4621.045433  22655.050330\n",
       "Gradient Boost_d5      2163.067239  4675.047281  22660.424748\n",
       "Gradient Boost_d7      2070.359545  4597.104610  22657.066140\n",
       "raw Linear Regression  3266.257244  5780.098872  20453.694566\n",
       "raw ANN50*4            3751.984974  6248.621772  20525.062038\n",
       "raw Gradient Boost_d5  2522.061022  4790.685370  19442.444211\n",
       "raw Gradient Boost_d7  2390.403421  4686.435566  19659.521910\n",
       "raw_XGB_d13            2157.203059  4439.002901  19112.578472\n",
       "raw RF_d23_FULL        2097.194139  4408.208644  18624.512787"
      ]
     },
     "metadata": {},
     "output_type": "display_data"
    }
   ],
   "source": [
    "scores_df = pd.DataFrame(data=scores)\n",
    "\n",
    "scores_df = scores_df.set_index('modelo')\n",
    "\n",
    "display(scores_df)"
   ]
  },
  {
   "cell_type": "code",
   "execution_count": 48,
   "metadata": {
    "scrolled": true
   },
   "outputs": [
    {
     "data": {
      "text/plain": [
       "<matplotlib.axes._subplots.AxesSubplot at 0x7f4aec97e358>"
      ]
     },
     "execution_count": 48,
     "metadata": {},
     "output_type": "execute_result"
    },
    {
     "data": {
      "image/png": "[encoded data removed]",
      "text/plain": [
       "<matplotlib.figure.Figure at 0x7f4aec9817b8>"
      ]
     },
     "metadata": {},
     "output_type": "display_data"
    }
   ],
   "source": [
    "scores_df = scores_df.sort_values(by=\"mad\")\n",
    "scores_df.plot(kind='bar',y='mad',colormap='Blues_r',figsize=(12, 8))"
   ]
  },
  {
   "cell_type": "code",
   "execution_count": 49,
   "metadata": {
    "scrolled": true
   },
   "outputs": [
    {
     "data": {
      "text/plain": [
       "<matplotlib.axes._subplots.AxesSubplot at 0x7f4aeca8bf60>"
      ]
     },
     "execution_count": 49,
     "metadata": {},
     "output_type": "execute_result"
    },
    {
     "data": {
      "image/png": "[encoded data removed]",
      "text/plain": [
       "<matplotlib.figure.Figure at 0x7f4aec8f7c50>"
      ]
     },
     "metadata": {},
     "output_type": "display_data"
    }
   ],
   "source": [
    "scores_df = scores_df.sort_values(by=\"mae\")\n",
    "scores_df.plot(kind='bar',y='mae',colormap='Oranges_r',figsize=(12, 8))"
   ]
  },
  {
   "cell_type": "code",
   "execution_count": 50,
   "metadata": {
    "scrolled": true
   },
   "outputs": [
    {
     "data": {
      "text/plain": [
       "<matplotlib.axes._subplots.AxesSubplot at 0x7f4aec8e56a0>"
      ]
     },
     "execution_count": 50,
     "metadata": {},
     "output_type": "execute_result"
    },
    {
     "data": {
      "image/png": "[encoded data removed]",
      "text/plain": [
       "<matplotlib.figure.Figure at 0x7f4aeca69cc0>"
      ]
     },
     "metadata": {},
     "output_type": "display_data"
    }
   ],
   "source": [
    "scores_df = scores_df.sort_values(by=\"rmse\")\n",
    "scores_df.plot(kind='bar',y='rmse',colormap='Greens_r',figsize=(12, 8))"
   ]
  },
  {
   "cell_type": "markdown",
   "metadata": {},
   "source": [
    "Inicialmente, y con la mayoría de modelos, nuestra idea inicial de eliminar outliers había obtenido mejoras muy grandes en MAE y MAD que, a nuestro juicio, compensaban de sobra pequeñas pérdidas en RMSE ya que mejoraban el conjunto de las predicciones. \n",
    "\n",
    "Sin embargo, los modelos de Random Forest y Gradient Boosting han demostrado que son capaces de reducir de enorme manera los grandes errores cometidos en algunos clientes puntuales, sin perder a cambio ninguna cantidad importante de MAD. \n",
    "\n",
    "Hemos escogido por tanto entrenar sin eliminar estos clientes \"atípicos\"."
   ]
  },
  {
   "cell_type": "markdown",
   "metadata": {},
   "source": [
    "<a name=Optimizacion></a>\n",
    "## Optimización y combinación de modelos\n",
    "[Volver al Indice](#Indice)"
   ]
  },
  {
   "cell_type": "markdown",
   "metadata": {},
   "source": [
    "De todos estos experimentos, se puede observar como los modelos más prometedores son el RandomForest y el GradientBoosting implementado sobre XGBoost. Ahora lo que nos gustaría hacer es encontrar los mejores hiperparámetros para estos problemas. Dado un cierto modelo, se puede entender el proceso de encontrar los **hiperparámetros óptimos** como un proceso de optimización de una **función**, que devuelve las métricas de validación cruzada del modelo, y cuyos **argumentos** son los hiperparámetros del modelo. Esta función es difícil de optimizar ya que:"
   ]
  },
  {
   "cell_type": "markdown",
   "metadata": {},
   "source": [
    "* Es una función **muy costosa** de evaluar, tenemos que entrenar por completo un modelo cada vez que queramos extraer un punto.\n",
    "* Tiene un **espacio grande** de posibles parámetros/argumentos.\n",
    "* **Desconocemos la estructura** de este espacio y las **interacciones entre los diferentes argumentos**."
   ]
  },
  {
   "cell_type": "markdown",
   "metadata": {},
   "source": [
    "La **Optimización Bayesiana** nos ofrece una solución a este problema, ya que es una técnica pensada para optimizar funciones de tipo **caja-negra** como la que tenemos entre manos."
   ]
  },
  {
   "cell_type": "markdown",
   "metadata": {},
   "source": [
    "Usando el paquete BayesianOptimization, definimos como función a optimizar la **puntuación en validación cruzada**, y los argumentos son los diferentes posibles valores de los hiperarámetros. "
   ]
  },
  {
   "cell_type": "code",
   "execution_count": null,
   "metadata": {},
   "outputs": [],
   "source": [
    "f_train_df = process_df(shuffled_data,0,train = True)\n",
    "\n",
    "X_train = f_train_df.drop(labels=[\"Poder_Adquisitivo\"],axis=1).as_matrix()\n",
    "y_train = f_train_df[\"Poder_Adquisitivo\"].as_matrix()\n",
    "\n",
    "xgtrain = xgb.DMatrix(X_train, label=y_train)\n",
    "\n",
    "\n",
    "def xgb_evaluate(min_child_weight,\n",
    "                 colsample_bytree,\n",
    "                 max_depth,\n",
    "                 subsample,\n",
    "                 gamma,\n",
    "                 alpha):\n",
    "\n",
    "    params['min_child_weight'] = int(min_child_weight)\n",
    "    params['colsample_bytree'] = max(min(colsample_bytree, 1), 0)\n",
    "    params['max_depth'] = int(max_depth)\n",
    "    params['subsample'] = max(min(subsample, 1), 0)\n",
    "    params['gamma'] = max(gamma, 0)\n",
    "    params['alpha'] = max(alpha, 0)\n",
    "\n",
    "\n",
    "    cv_result = xgb.cv(params, xgtrain, num_boost_round=100, nfold=5,\n",
    "             seed=random_state,\n",
    "             callbacks=[xgb.callback.early_stop(5)])\n",
    "\n",
    "    return -cv_result['test-mae-mean'].values[-1]\n",
    "\n",
    "\n",
    "\n",
    "\n",
    "\n",
    "random_state = SEED\n",
    "num_iter = 50\n",
    "init_points = 25\n",
    "params = {\n",
    "    'eta': 0.1,\n",
    "    'silent': 1,\n",
    "    'eval_metric': 'mae',\n",
    "    'verbose_eval': True,\n",
    "    'seed': random_state\n",
    "}\n",
    "\n",
    "xgbBO = BayesianOptimization(xgb_evaluate, {'min_child_weight': (1, 20),\n",
    "                                            'colsample_bytree': (0.1, 1),\n",
    "                                            'max_depth': (5, 20),\n",
    "                                            'subsample': (0.5, 1),\n",
    "                                            'gamma': (0, 15),\n",
    "                                            'alpha': (0, 15),\n",
    "                                            })\n",
    "\n",
    "xgbBO.maximize(init_points=init_points, n_iter=num_iter)\n",
    "\n",
    "print(xgbBO.res['max'])"
   ]
  },
  {
   "cell_type": "code",
   "execution_count": null,
   "metadata": {},
   "outputs": [],
   "source": [
    "f_train_df = process_df(shuffled_data,0,train = True)\n",
    "\n",
    "X_train = f_train_df.drop(labels=[\"Poder_Adquisitivo\"],axis=1).as_matrix()\n",
    "y_train = f_train_df[\"Poder_Adquisitivo\"].as_matrix()\n",
    "\n",
    "def model_evaluate(n_estimators,\n",
    "                 max_depth,\n",
    "                max_features,\n",
    "                 min_samples_leaf,\n",
    "                  ):\n",
    "\n",
    "    n_estimators = int(n_estimators)\n",
    "    max_depth = int(max_depth)\n",
    "    min_samples_leaf = int(min_samples_leaf)\n",
    "    max_features = max(min(max_features, 1), 0.1)\n",
    "\n",
    "    model = RandomForestRegressor(n_estimators=n_estimators,\n",
    "                 max_depth=max_depth,\n",
    "                max_features=max_features,\n",
    "                 min_samples_leaf=min_samples_leaf,\n",
    "                                 n_jobs=4,random_state=SEED)\n",
    "\n",
    "    cv_result = cross_val_score(model,X_train,y_train,cv=kf,scoring=\"neg_median_absolute_error\")\n",
    "\n",
    "    return np.mean(cv_result)\n",
    "\n",
    "\n",
    "num_iter = 50\n",
    "init_points = 10\n",
    "\n",
    "\n",
    "modelBO_2 = BayesianOptimization(model_evaluate, {'n_estimators': (30, 100),\n",
    "                                            'max_depth': (17, 27),\n",
    "                                            'min_samples_leaf': (5, 200),\n",
    "                                                'max_features' :(0.5,1),\n",
    "                                            })\n",
    "\n",
    "modelBO_2.maximize(init_points=init_points, n_iter=num_iter)\n",
    "\n",
    "print(modelBO_2.res['max'])"
   ]
  },
  {
   "cell_type": "markdown",
   "metadata": {},
   "source": [
    "Como resultado del proceso de optimización hemos obtenido los siguientes parámetros para los dos modelos:"
   ]
  },
  {
   "cell_type": "code",
   "execution_count": 51,
   "metadata": {},
   "outputs": [
    {
     "name": "stdout",
     "output_type": "stream",
     "text": [
      "RMSE: 19121.398081\n",
      "MAE: 4364.884986\n",
      "MAD: 2035.221364\n",
      "CPU times: user 25min 24s, sys: 7.96 s, total: 25min 32s\n",
      "Wall time: 7min 33s\n"
     ]
    }
   ],
   "source": [
    "model = xgb.XGBRegressor(max_depth=30, learning_rate=0.1, alpha=20.0,gamma=13.754,n_estimators=34, silent=True, objective='reg:linear', \n",
    "                         n_jobs=4, subsample=1.0,colsample_bytree=1.0,\n",
    "                             min_child_weight=78,random_state=SEED)\n",
    "\n",
    "scores_rmse,scores_mae,scores_mad = train_and_evaluate(model,splits)\n",
    "\n",
    "\n",
    "print(\"RMSE: %f\" % np.mean(scores_rmse))\n",
    "print(\"MAE: %f\" % np.mean(scores_mae))\n",
    "print(\"MAD: %f\" % np.mean(scores_mad))\n",
    "record_scores('opt_xgbBoost',np.mean(scores_rmse),np.mean(scores_mae),np.mean(scores_mad))"
   ]
  },
  {
   "cell_type": "code",
   "execution_count": 52,
   "metadata": {},
   "outputs": [
    {
     "name": "stdout",
     "output_type": "stream",
     "text": [
      "RMSE: 18550.904712\n",
      "MAE: 4379.727630\n",
      "MAD: 2076.957982\n"
     ]
    }
   ],
   "source": [
    "model = RandomForestRegressor(n_estimators=100,\n",
    "                 max_depth=27,\n",
    "                max_features=1.0,\n",
    "                 min_samples_leaf=5,\n",
    "                                 n_jobs=4,random_state=SEED)\n",
    "scores_rmse,scores_mae,scores_mad = train_and_evaluate(model,splits)\n",
    "\n",
    "\n",
    "print(\"RMSE: %f\" % np.mean(scores_rmse))\n",
    "print(\"MAE: %f\" % np.mean(scores_mae))\n",
    "print(\"MAD: %f\" % np.mean(scores_mad))\n",
    "record_scores('opt_RF',np.mean(scores_rmse),np.mean(scores_mae),np.mean(scores_mad))"
   ]
  },
  {
   "cell_type": "markdown",
   "metadata": {},
   "source": [
    "A la hora de escoger el mejor modelo, una primera aproximación consiste en escoger el modelo que haya obtenido mejores resultados. Otra opción más avanzada consiste en hacer una **combinación de modelos**. Veamos que sucedería si realizaramos una combinación de modelos utilizando el mismo modelo pero cambiando la semilla aleatoria."
   ]
  },
  {
   "cell_type": "code",
   "execution_count": 54,
   "metadata": {},
   "outputs": [],
   "source": [
    "splits = []\n",
    "stk_train_df = process_df(shuffled_data.iloc[:int(shuffled_data.shape[0]*0.8)].copy(),0)\n",
    "stk_test_df = process_df(shuffled_data.iloc[int(shuffled_data.shape[0]*0.8):].copy(),0)\n",
    "\n",
    "\n",
    "X_train = stk_train_df.drop(labels=[\"Poder_Adquisitivo\"],axis=1).as_matrix()\n",
    "y_train = stk_train_df[\"Poder_Adquisitivo\"].as_matrix()\n",
    "\n",
    "X_test = stk_test_df.drop(labels=[\"Poder_Adquisitivo\"],axis=1).as_matrix()\n",
    "y_test = stk_test_df[\"Poder_Adquisitivo\"].as_matrix()\n",
    "\n",
    "model_xgb = xgb.XGBRegressor(max_depth=30, learning_rate=0.1, alpha=20.0,gamma=13.754,n_estimators=34, silent=True, objective='reg:linear', \n",
    "                         n_jobs=4, subsample=1.0,colsample_bytree=1.0,\n",
    "                             min_child_weight=78,random_state=SEED)\n",
    "\n",
    "model_rf = RandomForestRegressor(n_estimators=100,\n",
    "                 max_depth=27,\n",
    "                max_features=1.0,\n",
    "                 min_samples_leaf=5,\n",
    "                                 n_jobs=4,random_state=SEED)\n",
    "\n",
    "model_xgb.fit(X_train,y_train)\n",
    "residuals_xgb = y_test - model_xgb.predict(X_test)\n",
    "\n",
    "model_rf.fit(X_train,y_train)\n",
    "residuals_rf = y_test - model_rf.predict(X_test)\n",
    "\n",
    "\n",
    "model_xgb2 = xgb.XGBRegressor(max_depth=30, learning_rate=0.1, alpha=20.0,gamma=13.754,n_estimators=34, silent=True, objective='reg:linear', \n",
    "                         n_jobs=4, subsample=1.0,colsample_bytree=1.0,\n",
    "                             min_child_weight=78,random_state=33)\n",
    "\n",
    "model_rf2 = RandomForestRegressor(n_estimators=100,\n",
    "                 max_depth=27,\n",
    "                max_features=1.0,\n",
    "                 min_samples_leaf=5,\n",
    "                                 n_jobs=4,random_state=33)\n",
    "\n",
    "model_xgb2.fit(X_train,y_train)\n",
    "residuals_xgb2 = y_test - model_xgb2.predict(X_test)\n",
    "\n",
    "model_rf2.fit(X_train,y_train)\n",
    "residuals_rf2 = y_test - model_rf2.predict(X_test)\n",
    "\n",
    "\n"
   ]
  },
  {
   "cell_type": "code",
   "execution_count": 55,
   "metadata": {},
   "outputs": [],
   "source": [
    "model_xgb2 = xgb.XGBRegressor(max_depth=30, learning_rate=0.1, alpha=20.0,gamma=13.754,n_estimators=34, silent=True, objective='reg:linear', \n",
    "                         n_jobs=4, subsample=1.0,colsample_bytree=1.0,\n",
    "                             min_child_weight=78,random_state=55)\n",
    "\n",
    "model_rf2 = RandomForestRegressor(n_estimators=100,\n",
    "                 max_depth=27,\n",
    "                max_features=1.0,\n",
    "                 min_samples_leaf=5,\n",
    "                                 n_jobs=4,random_state=55)\n",
    "\n",
    "model_xgb2.fit(X_train,y_train)\n",
    "residuals_xgb2 = y_test - model_xgb2.predict(X_test)\n",
    "\n",
    "model_rf2.fit(X_train,y_train)\n",
    "residuals_rf2 = y_test - model_rf2.predict(X_test)"
   ]
  },
  {
   "cell_type": "markdown",
   "metadata": {},
   "source": [
    "Estudiemos la correlación que existe entre los errores que cometen los 4 modelos, 2 Random Forest y dos Gradient Boosts entrenados con XGBoost, entrenados con diferentes semillas, según la p de Pearson:"
   ]
  },
  {
   "cell_type": "code",
   "execution_count": 56,
   "metadata": {},
   "outputs": [
    {
     "data": {
      "text/html": [
       "<div>\n",
       "<style scoped>\n",
       "    .dataframe tbody tr th:only-of-type {\n",
       "        vertical-align: middle;\n",
       "    }\n",
       "\n",
       "    .dataframe tbody tr th {\n",
       "        vertical-align: top;\n",
       "    }\n",
       "\n",
       "    .dataframe thead th {\n",
       "        text-align: right;\n",
       "    }\n",
       "</style>\n",
       "<table border=\"1\" class=\"dataframe\">\n",
       "  <thead>\n",
       "    <tr style=\"text-align: right;\">\n",
       "      <th></th>\n",
       "      <th>residuals_rf</th>\n",
       "      <th>residuals_rf2</th>\n",
       "      <th>residuals_xgb</th>\n",
       "      <th>residuals_xgb2</th>\n",
       "    </tr>\n",
       "  </thead>\n",
       "  <tbody>\n",
       "    <tr>\n",
       "      <th>residuals_rf</th>\n",
       "      <td>1.000000</td>\n",
       "      <td>0.993947</td>\n",
       "      <td>0.960267</td>\n",
       "      <td>0.960267</td>\n",
       "    </tr>\n",
       "    <tr>\n",
       "      <th>residuals_rf2</th>\n",
       "      <td>0.993947</td>\n",
       "      <td>1.000000</td>\n",
       "      <td>0.956062</td>\n",
       "      <td>0.956062</td>\n",
       "    </tr>\n",
       "    <tr>\n",
       "      <th>residuals_xgb</th>\n",
       "      <td>0.960267</td>\n",
       "      <td>0.956062</td>\n",
       "      <td>1.000000</td>\n",
       "      <td>1.000000</td>\n",
       "    </tr>\n",
       "    <tr>\n",
       "      <th>residuals_xgb2</th>\n",
       "      <td>0.960267</td>\n",
       "      <td>0.956062</td>\n",
       "      <td>1.000000</td>\n",
       "      <td>1.000000</td>\n",
       "    </tr>\n",
       "  </tbody>\n",
       "</table>\n",
       "</div>"
      ],
      "text/plain": [
       "                residuals_rf  residuals_rf2  residuals_xgb  residuals_xgb2\n",
       "residuals_rf        1.000000       0.993947       0.960267        0.960267\n",
       "residuals_rf2       0.993947       1.000000       0.956062        0.956062\n",
       "residuals_xgb       0.960267       0.956062       1.000000        1.000000\n",
       "residuals_xgb2      0.960267       0.956062       1.000000        1.000000"
      ]
     },
     "execution_count": 56,
     "metadata": {},
     "output_type": "execute_result"
    }
   ],
   "source": [
    "df = pd.DataFrame(data={'residuals_rf':residuals_rf,'residuals_xgb':residuals_xgb,'residuals_rf2':residuals_rf2,\n",
    "                        'residuals_xgb2':residuals_xgb2})\n",
    "corr = df.corr()\n",
    "corr"
   ]
  },
  {
   "cell_type": "code",
   "execution_count": 57,
   "metadata": {},
   "outputs": [
    {
     "data": {
      "text/plain": [
       "<matplotlib.axes._subplots.AxesSubplot at 0x7f4aec8047b8>"
      ]
     },
     "execution_count": 57,
     "metadata": {},
     "output_type": "execute_result"
    },
    {
     "data": {
      "image/png": "[encoded data removed]",
      "text/plain": [
       "<matplotlib.figure.Figure at 0x7f4aec835dd8>"
      ]
     },
     "metadata": {},
     "output_type": "display_data"
    }
   ],
   "source": [
    "mask = np.zeros_like(corr, dtype=np.bool)\n",
    "mask[np.triu_indices_from(mask)] = True\n",
    "\n",
    "# Set up the matplotlib figure\n",
    "f, ax = plt.subplots(figsize=(11, 9))\n",
    "\n",
    "# Draw the heatmap with the mask and correct aspect ratio\n",
    "sns.heatmap(corr,mask=mask,annot=True,vmin=0.9, vmax=1.00)"
   ]
  },
  {
   "cell_type": "markdown",
   "metadata": {},
   "source": [
    "Podemos ver como los errores que comete un tipo de modelo están completamente correlacionados, independientemente de que se haya variado la semilla aleatoria. Por tanto, esto quiere decir que los modelos **cometen los mismos errores**. Hacer una combinación de modelos entrenados con distinta semilla, por tanto, no parece añadir muchas ventajas.\n",
    "\n",
    "En cambio, los errores comeditos por los modelos xgb y los Random Forest, si bien están fuertemente correlacionados, no son exactamente iguales. Los diferentes modelos no se equivoca, ni en el mismo sitio, ni de la misma manera. Combinar dos modelos diferentes, por tanto, nos aporta **diversidad**, y puede ayudarnos a mejorar los resultados ya que un modelo puede compensar fallos puntuales del otro para ciertos clientes."
   ]
  },
  {
   "cell_type": "code",
   "execution_count": 62,
   "metadata": {},
   "outputs": [],
   "source": [
    "class WeightedEnsemble:\n",
    "    def __init__(self,models,weights):\n",
    "        self.models = models\n",
    "        self.weights = weights\n",
    "        \n",
    "    def fit(self,X,y):\n",
    "        for model in self.models:\n",
    "            model.fit(X,y)\n",
    "            \n",
    "    def predict(self,X):\n",
    "        y = np.zeros((X.shape[0]))\n",
    "        for i in range(len(self.models)):\n",
    "            y += (self.models[i].predict(X) * self.weights[i])\n",
    "        return y\n",
    "\n",
    "stk_train_df = stk_test_df = X_train = y_train = X_test = y_test = []\n",
    "splits = []\n",
    "splits = get_splits(kf,0)"
   ]
  },
  {
   "cell_type": "code",
   "execution_count": 63,
   "metadata": {},
   "outputs": [
    {
     "name": "stdout",
     "output_type": "stream",
     "text": [
      "RMSE: 18629.769274\n",
      "MAE: 4318.119926\n",
      "MAD: 2028.135819\n",
      "CPU times: user 2h 26s, sys: 9.58 s, total: 2h 35s\n",
      "Wall time: 31min 47s\n"
     ]
    }
   ],
   "source": [
    "ensemble = WeightedEnsemble([xgb.XGBRegressor(max_depth=30, learning_rate=0.1, alpha=20.0,gamma=13.754,n_estimators=34, silent=True, objective='reg:linear', \n",
    "                         n_jobs=4, subsample=1.0,colsample_bytree=1.0,min_child_weight=78,random_state=SEED),\n",
    "                            RandomForestRegressor(n_estimators=100,max_depth=27,max_features=1.0,min_samples_leaf=5,\n",
    "                                                  n_jobs=4,random_state=SEED)],\n",
    "                            [0.5,0.5])\n",
    "\n",
    "scores_rmse,scores_mae,scores_mad = train_and_evaluate(ensemble,splits)\n",
    "\n",
    "print(\"RMSE: %f\" % np.mean(scores_rmse))\n",
    "print(\"MAE: %f\" % np.mean(scores_mae))\n",
    "print(\"MAD: %f\" % np.mean(scores_mad))\n",
    "\n",
    "record_scores('Ensemble',np.mean(scores_rmse),np.mean(scores_mae),np.mean(scores_mad))"
   ]
  },
  {
   "cell_type": "code",
   "execution_count": 64,
   "metadata": {},
   "outputs": [
    {
     "data": {
      "text/html": [
       "<div>\n",
       "<style scoped>\n",
       "    .dataframe tbody tr th:only-of-type {\n",
       "        vertical-align: middle;\n",
       "    }\n",
       "\n",
       "    .dataframe tbody tr th {\n",
       "        vertical-align: top;\n",
       "    }\n",
       "\n",
       "    .dataframe thead th {\n",
       "        text-align: right;\n",
       "    }\n",
       "</style>\n",
       "<table border=\"1\" class=\"dataframe\">\n",
       "  <thead>\n",
       "    <tr style=\"text-align: right;\">\n",
       "      <th></th>\n",
       "      <th>mad</th>\n",
       "      <th>mae</th>\n",
       "      <th>rmse</th>\n",
       "    </tr>\n",
       "    <tr>\n",
       "      <th>modelo</th>\n",
       "      <th></th>\n",
       "      <th></th>\n",
       "      <th></th>\n",
       "    </tr>\n",
       "  </thead>\n",
       "  <tbody>\n",
       "    <tr>\n",
       "      <th>Linear Regresion</th>\n",
       "      <td>3039.409075</td>\n",
       "      <td>5257.209822</td>\n",
       "      <td>21866.239828</td>\n",
       "    </tr>\n",
       "    <tr>\n",
       "      <th>ANN50*4</th>\n",
       "      <td>2397.541365</td>\n",
       "      <td>4728.631802</td>\n",
       "      <td>21702.603384</td>\n",
       "    </tr>\n",
       "    <tr>\n",
       "      <th>RegressionTree</th>\n",
       "      <td>2223.817397</td>\n",
       "      <td>4802.948535</td>\n",
       "      <td>22670.479224</td>\n",
       "    </tr>\n",
       "    <tr>\n",
       "      <th>RF_d23</th>\n",
       "      <td>2549.585133</td>\n",
       "      <td>5112.145407</td>\n",
       "      <td>22861.309229</td>\n",
       "    </tr>\n",
       "    <tr>\n",
       "      <th>RF_d23_FULL</th>\n",
       "      <td>2059.083895</td>\n",
       "      <td>4621.045433</td>\n",
       "      <td>22655.050330</td>\n",
       "    </tr>\n",
       "    <tr>\n",
       "      <th>Gradient Boost_d5</th>\n",
       "      <td>2163.067239</td>\n",
       "      <td>4675.047281</td>\n",
       "      <td>22660.424748</td>\n",
       "    </tr>\n",
       "    <tr>\n",
       "      <th>Gradient Boost_d7</th>\n",
       "      <td>2070.359545</td>\n",
       "      <td>4597.104610</td>\n",
       "      <td>22657.066140</td>\n",
       "    </tr>\n",
       "    <tr>\n",
       "      <th>raw Linear Regression</th>\n",
       "      <td>3266.257244</td>\n",
       "      <td>5780.098872</td>\n",
       "      <td>20453.694566</td>\n",
       "    </tr>\n",
       "    <tr>\n",
       "      <th>raw ANN50*4</th>\n",
       "      <td>3751.984974</td>\n",
       "      <td>6248.621772</td>\n",
       "      <td>20525.062038</td>\n",
       "    </tr>\n",
       "    <tr>\n",
       "      <th>raw Gradient Boost_d5</th>\n",
       "      <td>2522.061022</td>\n",
       "      <td>4790.685370</td>\n",
       "      <td>19442.444211</td>\n",
       "    </tr>\n",
       "    <tr>\n",
       "      <th>raw Gradient Boost_d7</th>\n",
       "      <td>2390.403421</td>\n",
       "      <td>4686.435566</td>\n",
       "      <td>19659.521910</td>\n",
       "    </tr>\n",
       "    <tr>\n",
       "      <th>raw_XGB_d13</th>\n",
       "      <td>2157.203059</td>\n",
       "      <td>4439.002901</td>\n",
       "      <td>19112.578472</td>\n",
       "    </tr>\n",
       "    <tr>\n",
       "      <th>raw RF_d23_FULL</th>\n",
       "      <td>2097.194139</td>\n",
       "      <td>4408.208644</td>\n",
       "      <td>18624.512787</td>\n",
       "    </tr>\n",
       "    <tr>\n",
       "      <th>opt_xgbBoost</th>\n",
       "      <td>2035.221364</td>\n",
       "      <td>4364.884986</td>\n",
       "      <td>19121.398081</td>\n",
       "    </tr>\n",
       "    <tr>\n",
       "      <th>opt_RF</th>\n",
       "      <td>2076.957982</td>\n",
       "      <td>4379.727630</td>\n",
       "      <td>18550.904712</td>\n",
       "    </tr>\n",
       "    <tr>\n",
       "      <th>Ensemble</th>\n",
       "      <td>NaN</td>\n",
       "      <td>NaN</td>\n",
       "      <td>NaN</td>\n",
       "    </tr>\n",
       "    <tr>\n",
       "      <th>Ensemble</th>\n",
       "      <td>2028.135819</td>\n",
       "      <td>4318.119926</td>\n",
       "      <td>18629.769274</td>\n",
       "    </tr>\n",
       "  </tbody>\n",
       "</table>\n",
       "</div>"
      ],
      "text/plain": [
       "                               mad          mae          rmse\n",
       "modelo                                                       \n",
       "Linear Regresion       3039.409075  5257.209822  21866.239828\n",
       "ANN50*4                2397.541365  4728.631802  21702.603384\n",
       "RegressionTree         2223.817397  4802.948535  22670.479224\n",
       "RF_d23                 2549.585133  5112.145407  22861.309229\n",
       "RF_d23_FULL            2059.083895  4621.045433  22655.050330\n",
       "Gradient Boost_d5      2163.067239  4675.047281  22660.424748\n",
       "Gradient Boost_d7      2070.359545  4597.104610  22657.066140\n",
       "raw Linear Regression  3266.257244  5780.098872  20453.694566\n",
       "raw ANN50*4            3751.984974  6248.621772  20525.062038\n",
       "raw Gradient Boost_d5  2522.061022  4790.685370  19442.444211\n",
       "raw Gradient Boost_d7  2390.403421  4686.435566  19659.521910\n",
       "raw_XGB_d13            2157.203059  4439.002901  19112.578472\n",
       "raw RF_d23_FULL        2097.194139  4408.208644  18624.512787\n",
       "opt_xgbBoost           2035.221364  4364.884986  19121.398081\n",
       "opt_RF                 2076.957982  4379.727630  18550.904712\n",
       "Ensemble                       NaN          NaN           NaN\n",
       "Ensemble               2028.135819  4318.119926  18629.769274"
      ]
     },
     "metadata": {},
     "output_type": "display_data"
    }
   ],
   "source": [
    "scores_df = pd.DataFrame(data=scores)\n",
    "\n",
    "scores_df = scores_df.set_index('modelo')\n",
    "\n",
    "display(scores_df)"
   ]
  },
  {
   "cell_type": "code",
   "execution_count": 65,
   "metadata": {
    "scrolled": false
   },
   "outputs": [
    {
     "data": {
      "text/plain": [
       "<matplotlib.axes._subplots.AxesSubplot at 0x7f4aec77a908>"
      ]
     },
     "execution_count": 65,
     "metadata": {},
     "output_type": "execute_result"
    },
    {
     "data": {
      "image/png": "[encoded data removed]",
      "text/plain": [
       "<matplotlib.figure.Figure at 0x7f4aec7e39b0>"
      ]
     },
     "metadata": {},
     "output_type": "display_data"
    }
   ],
   "source": [
    "scores_df = scores_df.sort_values(by=\"mad\")\n",
    "scores_df.plot(kind='bar',y='mad',colormap='Blues_r',figsize=(12, 8))"
   ]
  },
  {
   "cell_type": "code",
   "execution_count": 66,
   "metadata": {
    "scrolled": true
   },
   "outputs": [
    {
     "data": {
      "text/plain": [
       "<matplotlib.axes._subplots.AxesSubplot at 0x7f4aec711898>"
      ]
     },
     "execution_count": 66,
     "metadata": {},
     "output_type": "execute_result"
    },
    {
     "data": {
      "image/png": "[encoded data removed]",
      "text/plain": [
       "<matplotlib.figure.Figure at 0x7f4aec71d2b0>"
      ]
     },
     "metadata": {},
     "output_type": "display_data"
    }
   ],
   "source": [
    "scores_df = scores_df.sort_values(by=\"mae\")\n",
    "scores_df.plot(kind='bar',y='mae',colormap='Oranges_r',figsize=(12, 8))"
   ]
  },
  {
   "cell_type": "code",
   "execution_count": 67,
   "metadata": {
    "scrolled": true
   },
   "outputs": [
    {
     "data": {
      "text/plain": [
       "<matplotlib.axes._subplots.AxesSubplot at 0x7f4aec675518>"
      ]
     },
     "execution_count": 67,
     "metadata": {},
     "output_type": "execute_result"
    },
    {
     "data": {
      "image/png": "[encoded data removed]",
      "text/plain": [
       "<matplotlib.figure.Figure at 0x7f4aec77a8d0>"
      ]
     },
     "metadata": {},
     "output_type": "display_data"
    }
   ],
   "source": [
    "scores_df = scores_df.sort_values(by=\"rmse\")\n",
    "scores_df.plot(kind='bar',y='rmse',colormap='Greens_r',figsize=(12, 8))"
   ]
  },
  {
   "cell_type": "markdown",
   "metadata": {},
   "source": [
    "<a name=Predicción></a>\n",
    "# Predicción\n",
    "[Volver al Indice](#Indice)"
   ]
  },
  {
   "cell_type": "code",
   "execution_count": 68,
   "metadata": {
    "scrolled": true
   },
   "outputs": [
    {
     "name": "stderr",
     "output_type": "stream",
     "text": [
      "/home/jairsan/Documents/dev/AlwaysLearningDeeper/Salesforce-Predictive-Modelling/venv/lib/python3.5/site-packages/IPython/core/interactiveshell.py:2728: DtypeWarning: Columns (83) have mixed types. Specify dtype option on import or set low_memory=False.\n",
      "  interactivity=interactivity, compiler=compiler, result=result)\n"
     ]
    }
   ],
   "source": [
    "model = WeightedEnsemble([xgb.XGBRegressor(max_depth=30, learning_rate=0.1, alpha=20.0,gamma=13.754,n_estimators=34, silent=True, objective='reg:linear', \n",
    "                         n_jobs=4, subsample=1.0,colsample_bytree=1.0,min_child_weight=78,random_state=SEED),\n",
    "                            RandomForestRegressor(n_estimators=100,max_depth=27,max_features=1.0,min_samples_leaf=5,\n",
    "                                                  n_jobs=4,random_state=SEED)],\n",
    "                            [0.5,0.5])\n",
    "\n",
    "# Entrenamos con todos los datos\n",
    "f_train_df = process_df(train_df,0,train = True)\n",
    "\n",
    "x_train = f_train_df.drop(labels=[\"Poder_Adquisitivo\"],axis=1).as_matrix()\n",
    "y_train = f_train_df[\"Poder_Adquisitivo\"].as_matrix()\n",
    "\n",
    "\n",
    "\n",
    "model.fit(X=x_train,y=y_train)\n",
    "\n",
    "\n",
    "test_df = pd.read_csv(\"data/original/Dataset_Salesforce_Predictive_Modelling_TEST.txt\")\n",
    "ids = test_df[\"ID_Customer\"].copy()\n",
    "test_df =  process_df(test_df,0,train = False)\n",
    "\n",
    "x_test = test_df.as_matrix()\n",
    "\n",
    "# Estiamamos el poder adquisitivo\n",
    "y = model.predict(X=x_test)\n",
    "\n",
    "\n"
   ]
  },
  {
   "cell_type": "markdown",
   "metadata": {},
   "source": [
    "Solo nos falta escribir estos resultados en disco."
   ]
  },
  {
   "cell_type": "code",
   "execution_count": 69,
   "metadata": {},
   "outputs": [],
   "source": [
    "out = pd.DataFrame(np.stack((ids, y), axis=1, out=None), columns=['ID_Customer', 'PA_Est']).set_index('ID_Customer')\n",
    "out.to_csv('Test_Mission.txt')"
   ]
  },
  {
   "cell_type": "markdown",
   "metadata": {},
   "source": [
    "<a name=Anexo1></a>\n",
    "# Anexo 1: Otros modelos considerados\n",
    "[Volver al Indice](#Indice)"
   ]
  },
  {
   "cell_type": "code",
   "execution_count": null,
   "metadata": {},
   "outputs": [],
   "source": [
    "splits = []\n",
    "splits = get_splits(kf,1)"
   ]
  },
  {
   "cell_type": "code",
   "execution_count": null,
   "metadata": {
    "scrolled": true
   },
   "outputs": [],
   "source": [
    "model = Lasso(random_state=SEED)\n",
    "scores_rmse,scores_mae,scores_mad = train_and_evaluate(model,splits)\n",
    "\n",
    "\n",
    "print(\"RMSE: %f\" % np.mean(scores_rmse))\n",
    "print(\"MAE: %f\" % np.mean(scores_mae))\n",
    "print(\"MAD: %f\" % np.mean(scores_mad))\n",
    "\n",
    "record_scores('Lasso',np.mean(scores_rmse),np.mean(scores_mae),np.mean(scores_mad))"
   ]
  },
  {
   "cell_type": "code",
   "execution_count": null,
   "metadata": {},
   "outputs": [],
   "source": [
    "model = Ridge(random_state=SEED)\n",
    "scores_rmse,scores_mae,scores_mad = train_and_evaluate(model,splits)\n",
    "\n",
    "\n",
    "print(\"RMSE: %f\" % np.mean(scores_rmse))\n",
    "print(\"MAE: %f\" % np.mean(scores_mae))\n",
    "print(\"MAD: %f\" % np.mean(scores_mad))\n",
    "\n",
    "record_scores('Ridge',np.mean(scores_rmse),np.mean(scores_mae),np.mean(scores_mad))"
   ]
  },
  {
   "cell_type": "code",
   "execution_count": null,
   "metadata": {},
   "outputs": [],
   "source": [
    "model = ElasticNet(random_state=SEED)\n",
    "scores_rmse,scores_mae,scores_mad = train_and_evaluate(model,splits)\n",
    "\n",
    "\n",
    "print(\"RMSE: %f\" % np.mean(scores_rmse))\n",
    "print(\"MAE: %f\" % np.mean(scores_mae))\n",
    "print(\"MAD: %f\" % np.mean(scores_mad))\n",
    "\n",
    "record_scores('ElasticNet',np.mean(scores_rmse),np.mean(scores_mae),np.mean(scores_mad))"
   ]
  },
  {
   "cell_type": "markdown",
   "metadata": {},
   "source": [
    "Todos los modelos lineales parecen obtener resultados comparables. Probamos ahora con redes neuronales."
   ]
  },
  {
   "cell_type": "code",
   "execution_count": null,
   "metadata": {},
   "outputs": [],
   "source": [
    "model = MLPRegressor(max_iter=200,hidden_layer_sizes=(25,25,25),early_stopping=True,random_state=SEED)\n",
    "scores_rmse,scores_mae,scores_mad = train_and_evaluate(model,splits)\n",
    "\n",
    "\n",
    "print(\"RMSE: %f\" % np.mean(scores_rmse))\n",
    "print(\"MAE: %f\" % np.mean(scores_mae))\n",
    "print(\"MAD: %f\" % np.mean(scores_mad))\n",
    "\n"
   ]
  },
  {
   "cell_type": "code",
   "execution_count": null,
   "metadata": {},
   "outputs": [],
   "source": [
    "model = MLPRegressor(max_iter=200,hidden_layer_sizes=(50,50,50),early_stopping=True,random_state=SEED)\n",
    "scores_rmse,scores_mae,scores_mad = train_and_evaluate(model,splits)\n",
    "\n",
    "\n",
    "print(\"RMSE: %f\" % np.mean(scores_rmse))\n",
    "print(\"MAE: %f\" % np.mean(scores_mae))\n",
    "print(\"MAD: %f\" % np.mean(scores_mad))\n"
   ]
  },
  {
   "cell_type": "code",
   "execution_count": null,
   "metadata": {},
   "outputs": [],
   "source": [
    "model = MLPRegressor(max_iter=200,hidden_layer_sizes=(25,25,25,25),early_stopping=True,random_state=SEED)\n",
    "scores_rmse,scores_mae,scores_mad = train_and_evaluate(model,splits)\n",
    "\n",
    "\n",
    "print(\"RMSE: %f\" % np.mean(scores_rmse))\n",
    "print(\"MAE: %f\" % np.mean(scores_mae))\n",
    "print(\"MAD: %f\" % np.mean(scores_mad))\n"
   ]
  },
  {
   "cell_type": "code",
   "execution_count": null,
   "metadata": {},
   "outputs": [],
   "source": [
    "model = MLPRegressor(max_iter=200,hidden_layer_sizes=(25,25,25,25,25),early_stopping=True,random_state=SEED)\n",
    "scores_rmse,scores_mae,scores_mad = train_and_evaluate(model,splits)\n",
    "\n",
    "\n",
    "print(\"RMSE: %f\" % np.mean(scores_rmse))\n",
    "print(\"MAE: %f\" % np.mean(scores_mae))\n",
    "print(\"MAD: %f\" % np.mean(scores_mad))\n",
    "\n"
   ]
  },
  {
   "cell_type": "code",
   "execution_count": null,
   "metadata": {
    "scrolled": true
   },
   "outputs": [],
   "source": [
    "model = RandomForestRegressor(n_estimators=50, criterion='mse', max_depth=5, max_features='log2',min_samples_leaf=5,random_state=SEED)\n",
    "scores_rmse,scores_mae,scores_mad = train_and_evaluate(model,splits)\n",
    "\n",
    "\n",
    "print(\"RMSE: %f\" % np.mean(scores_rmse))\n",
    "print(\"MAE: %f\" % np.mean(scores_mae))\n",
    "print(\"MAD: %f\" % np.mean(scores_mad))"
   ]
  },
  {
   "cell_type": "code",
   "execution_count": null,
   "metadata": {},
   "outputs": [],
   "source": [
    "model = RandomForestRegressor(n_estimators=50, criterion='mse', max_depth=7, max_features='log2',min_samples_leaf=5,random_state=SEED)\n",
    "scores_rmse,scores_mae,scores_mad = train_and_evaluate(model,splits)\n",
    "\n",
    "\n",
    "print(\"RMSE: %f\" % np.mean(scores_rmse))\n",
    "print(\"MAE: %f\" % np.mean(scores_mae))\n",
    "print(\"MAD: %f\" % np.mean(scores_mad))"
   ]
  },
  {
   "cell_type": "markdown",
   "metadata": {},
   "source": [
    "Podemos ver como la profundidad máxima afecta de manera importante al rendimiento."
   ]
  },
  {
   "cell_type": "code",
   "execution_count": null,
   "metadata": {},
   "outputs": [],
   "source": [
    "model = RandomForestRegressor(n_estimators=50, criterion='mse', max_depth=17, max_features='log2',min_samples_leaf=5,random_state=SEED)\n",
    "scores_rmse,scores_mae,scores_mad = train_and_evaluate(model,splits)\n",
    "\n",
    "\n",
    "print(\"RMSE: %f\" % np.mean(scores_rmse))\n",
    "print(\"MAE: %f\" % np.mean(scores_mae))\n",
    "print(\"MAD: %f\" % np.mean(scores_mad))\n",
    "\n",
    "record_scores('RF_d17',np.mean(scores_rmse),np.mean(scores_mae),np.mean(scores_mad))"
   ]
  },
  {
   "cell_type": "code",
   "execution_count": null,
   "metadata": {},
   "outputs": [],
   "source": [
    "model = GradientBoostingRegressor(random_state=SEED)\n",
    "scores_rmse,scores_mae,scores_mad = train_and_evaluate(model,splits)\n",
    "\n",
    "\n",
    "print(\"RMSE: %f\" % np.mean(scores_rmse))\n",
    "print(\"MAE: %f\" % np.mean(scores_mae))\n",
    "print(\"MAD: %f\" % np.mean(scores_mad))"
   ]
  },
  {
   "cell_type": "code",
   "execution_count": null,
   "metadata": {},
   "outputs": [],
   "source": [
    "model = GradientBoostingRegressor(random_state=SEED,min_samples_leaf=5)\n",
    "scores_rmse,scores_mae,scores_mad = train_and_evaluate(model,splits)\n",
    "\n",
    "\n",
    "print(\"RMSE: %f\" % np.mean(scores_rmse))\n",
    "print(\"MAE: %f\" % np.mean(scores_mae))\n",
    "print(\"MAD: %f\" % np.mean(scores_mad))"
   ]
  },
  {
   "cell_type": "code",
   "execution_count": null,
   "metadata": {},
   "outputs": [],
   "source": [
    "splits = []\n",
    "splits = get_splits(kf,0)"
   ]
  },
  {
   "cell_type": "code",
   "execution_count": null,
   "metadata": {},
   "outputs": [],
   "source": [
    "model = RandomForestRegressor(n_estimators=100, criterion='mse', max_depth=23, max_features='auto',min_samples_leaf=5,random_state=SEED)\n",
    "scores_rmse,scores_mae,scores_mad = train_and_evaluate(model,splits)\n",
    "\n",
    "\n",
    "print(\"RMSE: %f\" % np.mean(scores_rmse))\n",
    "print(\"MAE: %f\" % np.mean(scores_mae))\n",
    "print(\"MAD: %f\" % np.mean(scores_mad))\n",
    "record_scores('raw RF_d23_n100_FULL',np.mean(scores_rmse),np.mean(scores_mae),np.mean(scores_mad))"
   ]
  },
  {
   "cell_type": "code",
   "execution_count": null,
   "metadata": {},
   "outputs": [],
   "source": [
    "model = RandomForestRegressor(n_estimators=50, criterion='mse', max_depth=24, max_features='auto',min_samples_leaf=5,random_state=SEED)\n",
    "scores_rmse,scores_mae,scores_mad = train_and_evaluate(model,splits)\n",
    "\n",
    "\n",
    "print(\"RMSE: %f\" % np.mean(scores_rmse))\n",
    "print(\"MAE: %f\" % np.mean(scores_mae))\n",
    "print(\"MAD: %f\" % np.mean(scores_mad))\n",
    "record_scores('raw RF_d24_FULL',np.mean(scores_rmse),np.mean(scores_mae),np.mean(scores_mad))"
   ]
  },
  {
   "cell_type": "code",
   "execution_count": null,
   "metadata": {},
   "outputs": [],
   "source": [
    "model = GradientBoostingRegressor(random_state=SEED)\n",
    "scores_rmse,scores_mae,scores_mad = train_and_evaluate(model,splits)\n",
    "\n",
    "\n",
    "print(\"RMSE: %f\" % np.mean(scores_rmse))\n",
    "print(\"MAE: %f\" % np.mean(scores_mae))\n",
    "print(\"MAD: %f\" % np.mean(scores_mad))\n",
    "\n",
    "record_scores('raw Gradient Boost_d3',np.mean(scores_rmse),np.mean(scores_mae),np.mean(scores_mad))"
   ]
  },
  {
   "cell_type": "code",
   "execution_count": 70,
   "metadata": {},
   "outputs": [
    {
     "data": {
      "text/html": [
       "<div>\n",
       "<style scoped>\n",
       "    .dataframe tbody tr th:only-of-type {\n",
       "        vertical-align: middle;\n",
       "    }\n",
       "\n",
       "    .dataframe tbody tr th {\n",
       "        vertical-align: top;\n",
       "    }\n",
       "\n",
       "    .dataframe thead th {\n",
       "        text-align: right;\n",
       "    }\n",
       "</style>\n",
       "<table border=\"1\" class=\"dataframe\">\n",
       "  <thead>\n",
       "    <tr style=\"text-align: right;\">\n",
       "      <th></th>\n",
       "      <th>mad</th>\n",
       "      <th>mae</th>\n",
       "      <th>rmse</th>\n",
       "    </tr>\n",
       "    <tr>\n",
       "      <th>modelo</th>\n",
       "      <th></th>\n",
       "      <th></th>\n",
       "      <th></th>\n",
       "    </tr>\n",
       "  </thead>\n",
       "  <tbody>\n",
       "    <tr>\n",
       "      <th>Linear Regresion</th>\n",
       "      <td>3039.409075</td>\n",
       "      <td>5257.209822</td>\n",
       "      <td>21866.239828</td>\n",
       "    </tr>\n",
       "    <tr>\n",
       "      <th>ANN50*4</th>\n",
       "      <td>2397.541365</td>\n",
       "      <td>4728.631802</td>\n",
       "      <td>21702.603384</td>\n",
       "    </tr>\n",
       "    <tr>\n",
       "      <th>RegressionTree</th>\n",
       "      <td>2223.817397</td>\n",
       "      <td>4802.948535</td>\n",
       "      <td>22670.479224</td>\n",
       "    </tr>\n",
       "    <tr>\n",
       "      <th>RF_d23</th>\n",
       "      <td>2549.585133</td>\n",
       "      <td>5112.145407</td>\n",
       "      <td>22861.309229</td>\n",
       "    </tr>\n",
       "    <tr>\n",
       "      <th>RF_d23_FULL</th>\n",
       "      <td>2059.083895</td>\n",
       "      <td>4621.045433</td>\n",
       "      <td>22655.050330</td>\n",
       "    </tr>\n",
       "    <tr>\n",
       "      <th>Gradient Boost_d5</th>\n",
       "      <td>2163.067239</td>\n",
       "      <td>4675.047281</td>\n",
       "      <td>22660.424748</td>\n",
       "    </tr>\n",
       "    <tr>\n",
       "      <th>Gradient Boost_d7</th>\n",
       "      <td>2070.359545</td>\n",
       "      <td>4597.104610</td>\n",
       "      <td>22657.066140</td>\n",
       "    </tr>\n",
       "    <tr>\n",
       "      <th>raw Linear Regression</th>\n",
       "      <td>3266.257244</td>\n",
       "      <td>5780.098872</td>\n",
       "      <td>20453.694566</td>\n",
       "    </tr>\n",
       "    <tr>\n",
       "      <th>raw ANN50*4</th>\n",
       "      <td>3751.984974</td>\n",
       "      <td>6248.621772</td>\n",
       "      <td>20525.062038</td>\n",
       "    </tr>\n",
       "    <tr>\n",
       "      <th>raw Gradient Boost_d5</th>\n",
       "      <td>2522.061022</td>\n",
       "      <td>4790.685370</td>\n",
       "      <td>19442.444211</td>\n",
       "    </tr>\n",
       "    <tr>\n",
       "      <th>raw Gradient Boost_d7</th>\n",
       "      <td>2390.403421</td>\n",
       "      <td>4686.435566</td>\n",
       "      <td>19659.521910</td>\n",
       "    </tr>\n",
       "    <tr>\n",
       "      <th>raw_XGB_d13</th>\n",
       "      <td>2157.203059</td>\n",
       "      <td>4439.002901</td>\n",
       "      <td>19112.578472</td>\n",
       "    </tr>\n",
       "    <tr>\n",
       "      <th>raw RF_d23_FULL</th>\n",
       "      <td>2097.194139</td>\n",
       "      <td>4408.208644</td>\n",
       "      <td>18624.512787</td>\n",
       "    </tr>\n",
       "    <tr>\n",
       "      <th>opt_xgbBoost</th>\n",
       "      <td>2035.221364</td>\n",
       "      <td>4364.884986</td>\n",
       "      <td>19121.398081</td>\n",
       "    </tr>\n",
       "    <tr>\n",
       "      <th>opt_RF</th>\n",
       "      <td>2076.957982</td>\n",
       "      <td>4379.727630</td>\n",
       "      <td>18550.904712</td>\n",
       "    </tr>\n",
       "    <tr>\n",
       "      <th>Ensemble</th>\n",
       "      <td>NaN</td>\n",
       "      <td>NaN</td>\n",
       "      <td>NaN</td>\n",
       "    </tr>\n",
       "    <tr>\n",
       "      <th>Ensemble</th>\n",
       "      <td>2028.135819</td>\n",
       "      <td>4318.119926</td>\n",
       "      <td>18629.769274</td>\n",
       "    </tr>\n",
       "  </tbody>\n",
       "</table>\n",
       "</div>"
      ],
      "text/plain": [
       "                               mad          mae          rmse\n",
       "modelo                                                       \n",
       "Linear Regresion       3039.409075  5257.209822  21866.239828\n",
       "ANN50*4                2397.541365  4728.631802  21702.603384\n",
       "RegressionTree         2223.817397  4802.948535  22670.479224\n",
       "RF_d23                 2549.585133  5112.145407  22861.309229\n",
       "RF_d23_FULL            2059.083895  4621.045433  22655.050330\n",
       "Gradient Boost_d5      2163.067239  4675.047281  22660.424748\n",
       "Gradient Boost_d7      2070.359545  4597.104610  22657.066140\n",
       "raw Linear Regression  3266.257244  5780.098872  20453.694566\n",
       "raw ANN50*4            3751.984974  6248.621772  20525.062038\n",
       "raw Gradient Boost_d5  2522.061022  4790.685370  19442.444211\n",
       "raw Gradient Boost_d7  2390.403421  4686.435566  19659.521910\n",
       "raw_XGB_d13            2157.203059  4439.002901  19112.578472\n",
       "raw RF_d23_FULL        2097.194139  4408.208644  18624.512787\n",
       "opt_xgbBoost           2035.221364  4364.884986  19121.398081\n",
       "opt_RF                 2076.957982  4379.727630  18550.904712\n",
       "Ensemble                       NaN          NaN           NaN\n",
       "Ensemble               2028.135819  4318.119926  18629.769274"
      ]
     },
     "metadata": {},
     "output_type": "display_data"
    }
   ],
   "source": [
    "scores_df = pd.DataFrame(data=scores)\n",
    "\n",
    "scores_df = scores_df.set_index('modelo')\n",
    "\n",
    "display(scores_df)"
   ]
  },
  {
   "cell_type": "code",
   "execution_count": 71,
   "metadata": {
    "scrolled": false
   },
   "outputs": [
    {
     "data": {
      "text/plain": [
       "<matplotlib.axes._subplots.AxesSubplot at 0x7f4aec6777b8>"
      ]
     },
     "execution_count": 71,
     "metadata": {},
     "output_type": "execute_result"
    },
    {
     "data": {
      "image/png": "[encoded data removed]",
      "text/plain": [
       "<matplotlib.figure.Figure at 0x7f4aec656b38>"
      ]
     },
     "metadata": {},
     "output_type": "display_data"
    }
   ],
   "source": [
    "scores_df = scores_df.sort_values(by=\"mad\")\n",
    "scores_df.plot(kind='bar',y='mad',colormap='Blues_r',figsize=(12, 8))"
   ]
  },
  {
   "cell_type": "code",
   "execution_count": 72,
   "metadata": {
    "scrolled": true
   },
   "outputs": [
    {
     "data": {
      "text/plain": [
       "<matplotlib.axes._subplots.AxesSubplot at 0x7f4aec7e38d0>"
      ]
     },
     "execution_count": 72,
     "metadata": {},
     "output_type": "execute_result"
    },
    {
     "data": {
      "image/png": "[encoded data removed]",
      "text/plain": [
       "<matplotlib.figure.Figure at 0x7f4adfde15f8>"
      ]
     },
     "metadata": {},
     "output_type": "display_data"
    }
   ],
   "source": [
    "scores_df = scores_df.sort_values(by=\"mae\")\n",
    "scores_df.plot(kind='bar',y='mae',colormap='Oranges_r',figsize=(12, 8))"
   ]
  },
  {
   "cell_type": "code",
   "execution_count": 73,
   "metadata": {
    "scrolled": true
   },
   "outputs": [
    {
     "data": {
      "text/plain": [
       "<matplotlib.axes._subplots.AxesSubplot at 0x7f4aec602b38>"
      ]
     },
     "execution_count": 73,
     "metadata": {},
     "output_type": "execute_result"
    },
    {
     "data": {
      "image/png": "[encoded data removed]",
      "text/plain": [
       "<matplotlib.figure.Figure at 0x7f4adfd422e8>"
      ]
     },
     "metadata": {},
     "output_type": "display_data"
    }
   ],
   "source": [
    "scores_df = scores_df.sort_values(by=\"rmse\")\n",
    "scores_df.plot(kind='bar',y='rmse',colormap='Greens_r',figsize=(12, 8))"
   ]
  },
  {
   "cell_type": "code",
   "execution_count": null,
   "metadata": {},
   "outputs": [],
   "source": []
  }
 ],
 "metadata": {
  "kernelspec": {
   "display_name": "Python 3",
   "language": "python",
   "name": "python3"
  },
  "language_info": {
   "codemirror_mode": {
    "name": "ipython",
    "version": 3
   },
   "file_extension": ".py",
   "mimetype": "text/x-python",
   "name": "python",
   "nbconvert_exporter": "python",
   "pygments_lexer": "ipython3",
   "version": "3.5.2"
  }
 },
 "nbformat": 4,
 "nbformat_minor": 1
}
