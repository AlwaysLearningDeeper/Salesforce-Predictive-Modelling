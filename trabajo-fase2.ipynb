{
 "cells": [
  {
   "cell_type": "markdown",
   "metadata": {},
   "source": [
    "# Índice\n",
    "1. [Análisis de datos](#Análisisdedatos)\n",
    " 1. [Análisis de la variable dependiente](#Análisisdelavariabledependiente)\n",
    " 2. [Análisis de las variables explicativas](#Análisisdelasvariablesexplicativas)\n",
    "2. [Entrenamiento de modelos](#Entrenamientodemodelos)\n",
    "    1. [Preparación de datos](#Preparacióndedatos)\n",
    "    2. [Experimentos](#Experimentos)\n",
    "    3. [Comparación de modelos](#Comparacióndemodelos)\n",
    "3. [Predicción](#Predicción)\n"
   ]
  },
  {
   "cell_type": "code",
   "execution_count": 2,
   "metadata": {},
   "outputs": [
    {
     "name": "stderr",
     "output_type": "stream",
     "text": [
      "[MLENS] backend: threading\n"
     ]
    }
   ],
   "source": [
    "import pandas as pd\n",
    "import matplotlib.pyplot as plt\n",
    "import seaborn as sns\n",
    "import numpy as np\n",
    "import math\n",
    "import xgboost as xgb\n",
    "from bayes_opt import BayesianOptimization\n",
    "from tpot import TPOTRegressor\n",
    "from mlens.ensemble import SuperLearner,BlendEnsemble\n",
    "from sklearn.metrics import make_scorer,precision_score,accuracy_score,recall_score\n",
    "from sklearn.linear_model import LinearRegression,Lasso,Ridge,ElasticNet,HuberRegressor,SGDRegressor\n",
    "from sklearn.neural_network import MLPRegressor\n",
    "from sklearn.ensemble import RandomForestRegressor,RandomForestClassifier, GradientBoostingRegressor, BaggingRegressor\n",
    "from sklearn.metrics import mean_squared_error,mean_absolute_error,median_absolute_error\n",
    "from sklearn.preprocessing import MinMaxScaler,StandardScaler,RobustScaler\n",
    "from sklearn.model_selection import KFold,cross_val_score\n",
    "from sklearn.tree import DecisionTreeRegressor"
   ]
  },
  {
   "cell_type": "code",
   "execution_count": 3,
   "metadata": {
    "scrolled": true
   },
   "outputs": [
    {
     "name": "stderr",
     "output_type": "stream",
     "text": [
      "/home/jairsan/Documents/dev/AlwaysLearningDeeper/Salesforce-Predictive-Modelling/venv/lib/python3.5/site-packages/IPython/core/interactiveshell.py:2728: DtypeWarning: Columns (83) have mixed types. Specify dtype option on import or set low_memory=False.\n",
      "  interactivity=interactivity, compiler=compiler, result=result)\n"
     ]
    }
   ],
   "source": [
    "#Cargamos los datos de entrenamiento\n",
    "train_df = pd.read_csv(\"data/original/Dataset_Salesforce_Predictive_Modelling_TRAIN.txt\")"
   ]
  },
  {
   "cell_type": "markdown",
   "metadata": {},
   "source": [
    "El objetivo de este reto es es desarollo de un modelo capaz de predecir el poder adquisitivo de un cliente a partir de una serie de variables disponibles para la entidad financiera. Contar con un modelo preciso que pueda llevar a cabo estars predicciones sin duda conllevaría muchas ventajas a la hora de recomendar productos al cliente que se adecuen a sus necesidades y capacidades."
   ]
  },
  {
   "cell_type": "markdown",
   "metadata": {},
   "source": [
    "<a name=Análisisdedatos></a>\n",
    "# Análisis de datos"
   ]
  },
  {
   "cell_type": "markdown",
   "metadata": {},
   "source": [
    " Veamos un ejemplo de los datos con los que contamos."
   ]
  },
  {
   "cell_type": "code",
   "execution_count": 3,
   "metadata": {},
   "outputs": [
    {
     "data": {
      "text/html": [
       "<div>\n",
       "<style scoped>\n",
       "    .dataframe tbody tr th:only-of-type {\n",
       "        vertical-align: middle;\n",
       "    }\n",
       "\n",
       "    .dataframe tbody tr th {\n",
       "        vertical-align: top;\n",
       "    }\n",
       "\n",
       "    .dataframe thead th {\n",
       "        text-align: right;\n",
       "    }\n",
       "</style>\n",
       "<table border=\"1\" class=\"dataframe\">\n",
       "  <thead>\n",
       "    <tr style=\"text-align: right;\">\n",
       "      <th></th>\n",
       "      <th>ID_Customer</th>\n",
       "      <th>Imp_Cons_01</th>\n",
       "      <th>Imp_Cons_02</th>\n",
       "      <th>Imp_Cons_03</th>\n",
       "      <th>Imp_Cons_04</th>\n",
       "      <th>Imp_Cons_05</th>\n",
       "      <th>Imp_Cons_06</th>\n",
       "      <th>Imp_Cons_07</th>\n",
       "      <th>Imp_Cons_08</th>\n",
       "      <th>Imp_Cons_09</th>\n",
       "      <th>...</th>\n",
       "      <th>Num_Oper_17</th>\n",
       "      <th>Num_Oper_18</th>\n",
       "      <th>Num_Oper_19</th>\n",
       "      <th>Num_Oper_20</th>\n",
       "      <th>Socio_Demo_01</th>\n",
       "      <th>Socio_Demo_02</th>\n",
       "      <th>Socio_Demo_03</th>\n",
       "      <th>Socio_Demo_04</th>\n",
       "      <th>Socio_Demo_05</th>\n",
       "      <th>Poder_Adquisitivo</th>\n",
       "    </tr>\n",
       "  </thead>\n",
       "  <tbody>\n",
       "    <tr>\n",
       "      <th>0</th>\n",
       "      <td>TR000001</td>\n",
       "      <td>0.0</td>\n",
       "      <td>0.00</td>\n",
       "      <td>0.000000</td>\n",
       "      <td>63.067778</td>\n",
       "      <td>0.0</td>\n",
       "      <td>52.196667</td>\n",
       "      <td>0.0</td>\n",
       "      <td>0.000000</td>\n",
       "      <td>0.00</td>\n",
       "      <td>...</td>\n",
       "      <td>2</td>\n",
       "      <td>0</td>\n",
       "      <td>0</td>\n",
       "      <td>0</td>\n",
       "      <td>09991</td>\n",
       "      <td>1</td>\n",
       "      <td>70.44</td>\n",
       "      <td>3</td>\n",
       "      <td>20</td>\n",
       "      <td>19709.915000</td>\n",
       "    </tr>\n",
       "    <tr>\n",
       "      <th>1</th>\n",
       "      <td>TR000002</td>\n",
       "      <td>0.0</td>\n",
       "      <td>100.58</td>\n",
       "      <td>595.454545</td>\n",
       "      <td>10.899000</td>\n",
       "      <td>0.0</td>\n",
       "      <td>39.473636</td>\n",
       "      <td>0.0</td>\n",
       "      <td>62.268571</td>\n",
       "      <td>42.61</td>\n",
       "      <td>...</td>\n",
       "      <td>4</td>\n",
       "      <td>1</td>\n",
       "      <td>0</td>\n",
       "      <td>0</td>\n",
       "      <td>09991</td>\n",
       "      <td>2</td>\n",
       "      <td>71.87</td>\n",
       "      <td>3</td>\n",
       "      <td>29</td>\n",
       "      <td>37497.492167</td>\n",
       "    </tr>\n",
       "    <tr>\n",
       "      <th>2</th>\n",
       "      <td>TR000003</td>\n",
       "      <td>0.0</td>\n",
       "      <td>0.00</td>\n",
       "      <td>0.000000</td>\n",
       "      <td>0.000000</td>\n",
       "      <td>0.0</td>\n",
       "      <td>0.000000</td>\n",
       "      <td>0.0</td>\n",
       "      <td>0.000000</td>\n",
       "      <td>0.00</td>\n",
       "      <td>...</td>\n",
       "      <td>2</td>\n",
       "      <td>0</td>\n",
       "      <td>0</td>\n",
       "      <td>0</td>\n",
       "      <td>0X301</td>\n",
       "      <td>2</td>\n",
       "      <td>72.48</td>\n",
       "      <td>2</td>\n",
       "      <td>41</td>\n",
       "      <td>4802.970000</td>\n",
       "    </tr>\n",
       "    <tr>\n",
       "      <th>3</th>\n",
       "      <td>TR000004</td>\n",
       "      <td>0.0</td>\n",
       "      <td>0.00</td>\n",
       "      <td>0.000000</td>\n",
       "      <td>0.000000</td>\n",
       "      <td>0.0</td>\n",
       "      <td>0.000000</td>\n",
       "      <td>0.0</td>\n",
       "      <td>0.000000</td>\n",
       "      <td>0.00</td>\n",
       "      <td>...</td>\n",
       "      <td>0</td>\n",
       "      <td>0</td>\n",
       "      <td>0</td>\n",
       "      <td>0</td>\n",
       "      <td>0X301</td>\n",
       "      <td>2</td>\n",
       "      <td>86.60</td>\n",
       "      <td>3</td>\n",
       "      <td>38</td>\n",
       "      <td>8295.770000</td>\n",
       "    </tr>\n",
       "    <tr>\n",
       "      <th>4</th>\n",
       "      <td>TR000005</td>\n",
       "      <td>0.0</td>\n",
       "      <td>0.00</td>\n",
       "      <td>0.000000</td>\n",
       "      <td>0.000000</td>\n",
       "      <td>0.0</td>\n",
       "      <td>0.000000</td>\n",
       "      <td>0.0</td>\n",
       "      <td>0.000000</td>\n",
       "      <td>0.00</td>\n",
       "      <td>...</td>\n",
       "      <td>0</td>\n",
       "      <td>0</td>\n",
       "      <td>0</td>\n",
       "      <td>0</td>\n",
       "      <td>09991</td>\n",
       "      <td>2</td>\n",
       "      <td>92.48</td>\n",
       "      <td>4</td>\n",
       "      <td>35</td>\n",
       "      <td>24149.321667</td>\n",
       "    </tr>\n",
       "  </tbody>\n",
       "</table>\n",
       "<p>5 rows × 89 columns</p>\n",
       "</div>"
      ],
      "text/plain": [
       "  ID_Customer  Imp_Cons_01  Imp_Cons_02  Imp_Cons_03  Imp_Cons_04  \\\n",
       "0    TR000001          0.0         0.00     0.000000    63.067778   \n",
       "1    TR000002          0.0       100.58   595.454545    10.899000   \n",
       "2    TR000003          0.0         0.00     0.000000     0.000000   \n",
       "3    TR000004          0.0         0.00     0.000000     0.000000   \n",
       "4    TR000005          0.0         0.00     0.000000     0.000000   \n",
       "\n",
       "   Imp_Cons_05  Imp_Cons_06  Imp_Cons_07  Imp_Cons_08  Imp_Cons_09  \\\n",
       "0          0.0    52.196667          0.0     0.000000         0.00   \n",
       "1          0.0    39.473636          0.0    62.268571        42.61   \n",
       "2          0.0     0.000000          0.0     0.000000         0.00   \n",
       "3          0.0     0.000000          0.0     0.000000         0.00   \n",
       "4          0.0     0.000000          0.0     0.000000         0.00   \n",
       "\n",
       "         ...          Num_Oper_17  Num_Oper_18  Num_Oper_19  Num_Oper_20  \\\n",
       "0        ...                    2            0            0            0   \n",
       "1        ...                    4            1            0            0   \n",
       "2        ...                    2            0            0            0   \n",
       "3        ...                    0            0            0            0   \n",
       "4        ...                    0            0            0            0   \n",
       "\n",
       "   Socio_Demo_01  Socio_Demo_02  Socio_Demo_03  Socio_Demo_04  Socio_Demo_05  \\\n",
       "0          09991              1          70.44              3             20   \n",
       "1          09991              2          71.87              3             29   \n",
       "2          0X301              2          72.48              2             41   \n",
       "3          0X301              2          86.60              3             38   \n",
       "4          09991              2          92.48              4             35   \n",
       "\n",
       "   Poder_Adquisitivo  \n",
       "0       19709.915000  \n",
       "1       37497.492167  \n",
       "2        4802.970000  \n",
       "3        8295.770000  \n",
       "4       24149.321667  \n",
       "\n",
       "[5 rows x 89 columns]"
      ]
     },
     "execution_count": 3,
     "metadata": {},
     "output_type": "execute_result"
    }
   ],
   "source": [
    "train_df.head()"
   ]
  },
  {
   "cell_type": "code",
   "execution_count": 4,
   "metadata": {
    "scrolled": false
   },
   "outputs": [
    {
     "data": {
      "text/plain": [
       "Index(['ID_Customer', 'Imp_Cons_01', 'Imp_Cons_02', 'Imp_Cons_03',\n",
       "       'Imp_Cons_04', 'Imp_Cons_05', 'Imp_Cons_06', 'Imp_Cons_07',\n",
       "       'Imp_Cons_08', 'Imp_Cons_09', 'Imp_Cons_10', 'Imp_Cons_11',\n",
       "       'Imp_Cons_12', 'Imp_Cons_13', 'Imp_Cons_14', 'Imp_Cons_15',\n",
       "       'Imp_Cons_16', 'Imp_Cons_17', 'Imp_Sal_01', 'Imp_Sal_02', 'Imp_Sal_03',\n",
       "       'Imp_Sal_04', 'Imp_Sal_05', 'Imp_Sal_06', 'Imp_Sal_07', 'Imp_Sal_08',\n",
       "       'Imp_Sal_09', 'Imp_Sal_10', 'Imp_Sal_11', 'Imp_Sal_12', 'Imp_Sal_13',\n",
       "       'Imp_Sal_14', 'Imp_Sal_15', 'Imp_Sal_16', 'Imp_Sal_17', 'Imp_Sal_18',\n",
       "       'Imp_Sal_19', 'Imp_Sal_20', 'Imp_Sal_21', 'Ind_Prod_01', 'Ind_Prod_02',\n",
       "       'Ind_Prod_03', 'Ind_Prod_04', 'Ind_Prod_05', 'Ind_Prod_06',\n",
       "       'Ind_Prod_07', 'Ind_Prod_08', 'Ind_Prod_09', 'Ind_Prod_10',\n",
       "       'Ind_Prod_11', 'Ind_Prod_12', 'Ind_Prod_13', 'Ind_Prod_14',\n",
       "       'Ind_Prod_15', 'Ind_Prod_16', 'Ind_Prod_17', 'Ind_Prod_18',\n",
       "       'Ind_Prod_19', 'Ind_Prod_20', 'Ind_Prod_21', 'Ind_Prod_22',\n",
       "       'Ind_Prod_23', 'Ind_Prod_24', 'Num_Oper_01', 'Num_Oper_02',\n",
       "       'Num_Oper_03', 'Num_Oper_04', 'Num_Oper_05', 'Num_Oper_06',\n",
       "       'Num_Oper_07', 'Num_Oper_08', 'Num_Oper_09', 'Num_Oper_10',\n",
       "       'Num_Oper_11', 'Num_Oper_12', 'Num_Oper_13', 'Num_Oper_14',\n",
       "       'Num_Oper_15', 'Num_Oper_16', 'Num_Oper_17', 'Num_Oper_18',\n",
       "       'Num_Oper_19', 'Num_Oper_20', 'Socio_Demo_01', 'Socio_Demo_02',\n",
       "       'Socio_Demo_03', 'Socio_Demo_04', 'Socio_Demo_05', 'Poder_Adquisitivo'],\n",
       "      dtype='object')"
      ]
     },
     "execution_count": 4,
     "metadata": {},
     "output_type": "execute_result"
    }
   ],
   "source": [
    "train_df.columns"
   ]
  },
  {
   "cell_type": "code",
   "execution_count": 5,
   "metadata": {},
   "outputs": [
    {
     "data": {
      "text/plain": [
       "ID_Customer           object\n",
       "Imp_Cons_01          float64\n",
       "Imp_Cons_02          float64\n",
       "Imp_Cons_03          float64\n",
       "Imp_Cons_04          float64\n",
       "Imp_Cons_05          float64\n",
       "Imp_Cons_06          float64\n",
       "Imp_Cons_07          float64\n",
       "Imp_Cons_08          float64\n",
       "Imp_Cons_09          float64\n",
       "Imp_Cons_10          float64\n",
       "Imp_Cons_11          float64\n",
       "Imp_Cons_12          float64\n",
       "Imp_Cons_13          float64\n",
       "Imp_Cons_14          float64\n",
       "Imp_Cons_15          float64\n",
       "Imp_Cons_16          float64\n",
       "Imp_Cons_17          float64\n",
       "Imp_Sal_01           float64\n",
       "Imp_Sal_02           float64\n",
       "Imp_Sal_03           float64\n",
       "Imp_Sal_04           float64\n",
       "Imp_Sal_05           float64\n",
       "Imp_Sal_06           float64\n",
       "Imp_Sal_07           float64\n",
       "Imp_Sal_08           float64\n",
       "Imp_Sal_09           float64\n",
       "Imp_Sal_10           float64\n",
       "Imp_Sal_11           float64\n",
       "Imp_Sal_12           float64\n",
       "                      ...   \n",
       "Ind_Prod_21            int64\n",
       "Ind_Prod_22            int64\n",
       "Ind_Prod_23            int64\n",
       "Ind_Prod_24            int64\n",
       "Num_Oper_01            int64\n",
       "Num_Oper_02            int64\n",
       "Num_Oper_03            int64\n",
       "Num_Oper_04            int64\n",
       "Num_Oper_05            int64\n",
       "Num_Oper_06            int64\n",
       "Num_Oper_07            int64\n",
       "Num_Oper_08            int64\n",
       "Num_Oper_09            int64\n",
       "Num_Oper_10            int64\n",
       "Num_Oper_11            int64\n",
       "Num_Oper_12            int64\n",
       "Num_Oper_13            int64\n",
       "Num_Oper_14            int64\n",
       "Num_Oper_15            int64\n",
       "Num_Oper_16            int64\n",
       "Num_Oper_17            int64\n",
       "Num_Oper_18            int64\n",
       "Num_Oper_19            int64\n",
       "Num_Oper_20            int64\n",
       "Socio_Demo_01         object\n",
       "Socio_Demo_02          int64\n",
       "Socio_Demo_03        float64\n",
       "Socio_Demo_04          int64\n",
       "Socio_Demo_05          int64\n",
       "Poder_Adquisitivo    float64\n",
       "Length: 89, dtype: object"
      ]
     },
     "execution_count": 5,
     "metadata": {},
     "output_type": "execute_result"
    }
   ],
   "source": [
    "train_df.dtypes"
   ]
  },
  {
   "cell_type": "code",
   "execution_count": 6,
   "metadata": {},
   "outputs": [
    {
     "data": {
      "text/plain": [
       "363834"
      ]
     },
     "execution_count": 6,
     "metadata": {},
     "output_type": "execute_result"
    }
   ],
   "source": [
    "len(train_df)"
   ]
  },
  {
   "cell_type": "markdown",
   "metadata": {},
   "source": [
    "Tal y como se explica en el enunciado, contamos con 88 variables que usar para predecir el poder adquisitivo y la información de cerca de 363.000 clientes con los que entrenar nuestro modelo. Esto hace que contemos con un número importante de datos que nos puede ayudar a desarrollar un modelo que tenga un rendimiento adecuado."
   ]
  },
  {
   "cell_type": "markdown",
   "metadata": {},
   "source": [
    "<a name=Análisisdelavariabledependiente> </a>\n",
    "## Análisis de la variable dependiente \n",
    "Miremos con más detenimiento la variable a predecir.\n"
   ]
  },
  {
   "cell_type": "code",
   "execution_count": 7,
   "metadata": {
    "scrolled": true
   },
   "outputs": [
    {
     "data": {
      "text/plain": [
       "count    3.638340e+05\n",
       "mean     1.642141e+04\n",
       "std      2.436773e+04\n",
       "min      3.600960e+03\n",
       "25%      9.300933e+03\n",
       "50%      1.292517e+04\n",
       "75%      1.894854e+04\n",
       "max      5.040000e+06\n",
       "Name: Poder_Adquisitivo, dtype: float64"
      ]
     },
     "execution_count": 7,
     "metadata": {},
     "output_type": "execute_result"
    }
   ],
   "source": [
    "train_df[\"Poder_Adquisitivo\"].describe()"
   ]
  },
  {
   "cell_type": "code",
   "execution_count": 8,
   "metadata": {},
   "outputs": [
    {
     "data": {
      "text/plain": [
       "<matplotlib.axes._subplots.AxesSubplot at 0x7fb2237b34e0>"
      ]
     },
     "execution_count": 8,
     "metadata": {},
     "output_type": "execute_result"
    },
    {
     "data": {
      "image/png": "[encoded data removed]",
      "text/plain": [
       "<matplotlib.figure.Figure at 0x7fb220363cc0>"
      ]
     },
     "metadata": {},
     "output_type": "display_data"
    }
   ],
   "source": [
    "sns.distplot(train_df[\"Poder_Adquisitivo\"])"
   ]
  },
  {
   "cell_type": "code",
   "execution_count": 9,
   "metadata": {},
   "outputs": [
    {
     "name": "stdout",
     "output_type": "stream",
     "text": [
      "Skewness: 55.919866\n",
      "Kurtosis: 7106.469270\n"
     ]
    }
   ],
   "source": [
    "print(\"Skewness: %f\" % train_df[\"Poder_Adquisitivo\"].skew())\n",
    "print(\"Kurtosis: %f\" % train_df[\"Poder_Adquisitivo\"].kurt())"
   ]
  },
  {
   "cell_type": "raw",
   "metadata": {},
   "source": [
    "Tal y como se puede observar en el gráfico, esta variable presenta valores extremos de skewness y kurtosis, que se manifiestan en la larga cola derecha que presenta. Esto quiere decir que existe algunos clientes que presentan valores extremadamente altos de poder adquisitivo que están muy lejos del resto. Será necesario tener en cuenta este hecho para evitar que los valores extremos puedan afectar negativamente a nuestro sistema.\n",
    "\n",
    "Veamos de manera más detallada aquellos valores que tradicionalmente no se considerarían outliers."
   ]
  },
  {
   "cell_type": "code",
   "execution_count": 10,
   "metadata": {},
   "outputs": [
    {
     "data": {
      "text/plain": [
       "<matplotlib.axes._subplots.AxesSubplot at 0x7fb2236fd6a0>"
      ]
     },
     "execution_count": 10,
     "metadata": {},
     "output_type": "execute_result"
    },
    {
     "data": {
      "image/png": "[encoded data removed]",
      "text/plain": [
       "<matplotlib.figure.Figure at 0x7fb2237749b0>"
      ]
     },
     "metadata": {},
     "output_type": "display_data"
    }
   ],
   "source": [
    "q1 = train_df[\"Poder_Adquisitivo\"].quantile(0.25)\n",
    "q3 = train_df[\"Poder_Adquisitivo\"].quantile(0.75)\n",
    "iqr = q3 - q1\n",
    "fence_low  = q1 - 1.5 * iqr\n",
    "fence_high = q3 + 1.5 * iqr\n",
    "\n",
    "train_df_no_outliers = train_df.loc[(train_df[\"Poder_Adquisitivo\"] > fence_low) & (train_df[\"Poder_Adquisitivo\"] < fence_high)]\n",
    "sns.distplot(train_df_no_outliers[\"Poder_Adquisitivo\"])"
   ]
  },
  {
   "cell_type": "code",
   "execution_count": 11,
   "metadata": {},
   "outputs": [
    {
     "name": "stdout",
     "output_type": "stream",
     "text": [
      "Skewness: 0.823076\n",
      "Kurtosis: 0.098508\n"
     ]
    }
   ],
   "source": [
    "print(\"Skewness: %f\" % train_df_no_outliers[\"Poder_Adquisitivo\"].skew())\n",
    "print(\"Kurtosis: %f\" % train_df_no_outliers[\"Poder_Adquisitivo\"].kurt())"
   ]
  },
  {
   "cell_type": "code",
   "execution_count": 12,
   "metadata": {},
   "outputs": [
    {
     "name": "stdout",
     "output_type": "stream",
     "text": [
      "Porcentaje de datos eliminados:\n",
      "0.057278868934733974\n"
     ]
    }
   ],
   "source": [
    "print(\"Porcentaje de datos eliminados:\")\n",
    "print((len(train_df.index)-len(train_df_no_outliers.index))/len(train_df.index))"
   ]
  },
  {
   "cell_type": "markdown",
   "metadata": {},
   "source": [
    "Eliminando de esta manera los valores extremos, que representan alrededor del 5% de los datos totales, la distribución ahora presenta unos valores de skewness y kurtosis mucho más aceptables que permitan el entrenamiento de un modelo.\n",
    "\n",
    "Evidentemente esta eliminación se va a realizar únicamente a la hora de entrenar, nunca a la hora de evaluar"
   ]
  },
  {
   "cell_type": "markdown",
   "metadata": {},
   "source": [
    "<a name=Análisisdelasvariablesexplicativas></a>\n",
    "## Análisis de las variables explicativas"
   ]
  },
  {
   "cell_type": "markdown",
   "metadata": {},
   "source": [
    "De las variables explicativas, sabemos que contamos con algunas que son de tipo categórico en vez de númerico. Empezemos explorando estas variables."
   ]
  },
  {
   "cell_type": "code",
   "execution_count": 13,
   "metadata": {
    "scrolled": true
   },
   "outputs": [
    {
     "data": {
      "text/plain": [
       "09991     97865\n",
       "09992     26997\n",
       "09994     20758\n",
       "09993     15307\n",
       "0X301     15232\n",
       "09511     13078\n",
       "05220      8303\n",
       "06110      7633\n",
       "09512      7098\n",
       "06120      4987\n",
       "07121      4530\n",
       "04500      3986\n",
       "05120      3554\n",
       "08432      2732\n",
       "09210      2596\n",
       "9992.0     2586\n",
       "06300      2501\n",
       "9991.0     2443\n",
       "09602      2324\n",
       "04111      2221\n",
       "04309      2181\n",
       "09700      1914\n",
       "05000      1595\n",
       "03613      1565\n",
       "02240      1527\n",
       "02230      1491\n",
       "9512.0     1481\n",
       "9994.0     1407\n",
       "03611      1328\n",
       "05110      1326\n",
       "          ...  \n",
       "5993          1\n",
       "3124          1\n",
       "3121          1\n",
       "2933.0        1\n",
       "2936.0        1\n",
       "8132          1\n",
       "3316.0        1\n",
       "3317          1\n",
       "2158.0        1\n",
       "3523          1\n",
       "7891.0        1\n",
       "3403.0        1\n",
       "5892.0        1\n",
       "7894.0        1\n",
       "2154          1\n",
       "5893          1\n",
       "2156          1\n",
       "2157          1\n",
       "7193.0        1\n",
       "2422          1\n",
       "7192          1\n",
       "2939.0        1\n",
       "2311          1\n",
       "3323          1\n",
       "2323.0        1\n",
       "2324.0        1\n",
       "2325          1\n",
       "8114          1\n",
       "2415.0        1\n",
       "04444         1\n",
       "Name: Socio_Demo_01, Length: 912, dtype: int64"
      ]
     },
     "execution_count": 13,
     "metadata": {},
     "output_type": "execute_result"
    }
   ],
   "source": [
    "train_df_no_outliers[\"Socio_Demo_01\"].value_counts()"
   ]
  },
  {
   "cell_type": "markdown",
   "metadata": {},
   "source": [
    "Podemos observar como Socio_Demo_01 que cuenta que muchos valores que solo aparecen un número muy bajo de veces. A la hora de transformar para su uso, es probable que la inclusión de los 921 valores posibles no aporte información discriminativa y solo sirva para aumentar el número de dimensiones. Una primera aproximación que mantenga un equilibrio entre complejidad y utilidad puede ser usar solo un número de estos valores, aquellos que aparezcan un mayor número de veces, y condensar el resto en una categoría \"Other\"."
   ]
  },
  {
   "cell_type": "code",
   "execution_count": 14,
   "metadata": {},
   "outputs": [
    {
     "data": {
      "text/plain": [
       "09991    97865\n",
       "09992    26997\n",
       "09994    20758\n",
       "09993    15307\n",
       "0X301    15232\n",
       "09511    13078\n",
       "05220     8303\n",
       "06110     7633\n",
       "09512     7098\n",
       "06120     4987\n",
       "Name: Socio_Demo_01, dtype: int64"
      ]
     },
     "execution_count": 14,
     "metadata": {},
     "output_type": "execute_result"
    }
   ],
   "source": [
    "topk_socio_01 = train_df_no_outliers[\"Socio_Demo_01\"].value_counts()[:10]\n",
    "topk_socio_01"
   ]
  },
  {
   "cell_type": "code",
   "execution_count": 15,
   "metadata": {},
   "outputs": [
    {
     "data": {
      "text/plain": [
       "<matplotlib.axes._subplots.AxesSubplot at 0x7fb2236cc390>"
      ]
     },
     "execution_count": 15,
     "metadata": {},
     "output_type": "execute_result"
    },
    {
     "data": {
      "image/png": "[encoded data removed]",
      "text/plain": [
       "<matplotlib.figure.Figure at 0x7fb220363ef0>"
      ]
     },
     "metadata": {},
     "output_type": "display_data"
    }
   ],
   "source": [
    "socio_01_keys = list(topk_socio_01.keys())\n",
    "condition_array = [False] * len(train_df_no_outliers[\"Socio_Demo_01\"])\n",
    "for i in range(len(condition_array)):\n",
    "    condition_array[i] = str(train_df_no_outliers[\"Socio_Demo_01\"].iloc[i]) in socio_01_keys\n",
    "\n",
    "sns.violinplot(x=train_df_no_outliers[\"Socio_Demo_01\"].loc[condition_array],y=train_df_no_outliers[\"Poder_Adquisitivo\"].loc[condition_array])"
   ]
  },
  {
   "cell_type": "markdown",
   "metadata": {},
   "source": [
    "Es interesante ver como algunos valores como 09992 parecen concentrar la mayor parte de clientes en valores diferentes del resto, lo cual puede aportar información importante."
   ]
  },
  {
   "cell_type": "code",
   "execution_count": 16,
   "metadata": {},
   "outputs": [
    {
     "data": {
      "text/plain": [
       "1    206781\n",
       "2    136213\n",
       "Name: Socio_Demo_02, dtype: int64"
      ]
     },
     "execution_count": 16,
     "metadata": {},
     "output_type": "execute_result"
    }
   ],
   "source": [
    "train_df_no_outliers[\"Socio_Demo_02\"].value_counts()"
   ]
  },
  {
   "cell_type": "code",
   "execution_count": 17,
   "metadata": {},
   "outputs": [
    {
     "data": {
      "text/plain": [
       "<matplotlib.axes._subplots.AxesSubplot at 0x7fb22363de48>"
      ]
     },
     "execution_count": 17,
     "metadata": {},
     "output_type": "execute_result"
    },
    {
     "data": {
      "image/png": "[encoded data removed]",
      "text/plain": [
       "<matplotlib.figure.Figure at 0x7fb25c462c18>"
      ]
     },
     "metadata": {},
     "output_type": "display_data"
    }
   ],
   "source": [
    "sns.violinplot(x=train_df_no_outliers[\"Socio_Demo_02\"],y=train_df_no_outliers[\"Poder_Adquisitivo\"])"
   ]
  },
  {
   "cell_type": "markdown",
   "metadata": {},
   "source": [
    "Viendo la distribución de valores (61%/41%), y que las diferencias entre ambos valores no parecen muy grandes, en nuestra opinión es una opción probable que este variable represente el **sexo** del cliente.\n",
    "\n",
    "Veamos el resto de variables socio demográficas."
   ]
  },
  {
   "cell_type": "code",
   "execution_count": 18,
   "metadata": {},
   "outputs": [
    {
     "data": {
      "text/plain": [
       "<matplotlib.axes._subplots.AxesSubplot at 0x7fb223690f98>"
      ]
     },
     "execution_count": 18,
     "metadata": {},
     "output_type": "execute_result"
    },
    {
     "data": {
      "image/png": "[encoded data removed]",
      "text/plain": [
       "<matplotlib.figure.Figure at 0x7fb2237a6358>"
      ]
     },
     "metadata": {},
     "output_type": "display_data"
    }
   ],
   "source": [
    "sns.distplot(train_df_no_outliers[\"Socio_Demo_03\"])"
   ]
  },
  {
   "cell_type": "code",
   "execution_count": 19,
   "metadata": {},
   "outputs": [
    {
     "data": {
      "text/plain": [
       "<seaborn.axisgrid.JointGrid at 0x7fb22357b438>"
      ]
     },
     "execution_count": 19,
     "metadata": {},
     "output_type": "execute_result"
    },
    {
     "data": {
      "image/png": "[encoded data removed]",
      "text/plain": [
       "<matplotlib.figure.Figure at 0x7fb22357b2b0>"
      ]
     },
     "metadata": {},
     "output_type": "display_data"
    }
   ],
   "source": [
    "sns.jointplot(x=train_df_no_outliers[\"Socio_Demo_03\"], y=train_df_no_outliers[\"Poder_Adquisitivo\"],kind='kde')"
   ]
  },
  {
   "cell_type": "code",
   "execution_count": 20,
   "metadata": {
    "scrolled": true
   },
   "outputs": [
    {
     "data": {
      "text/plain": [
       "<matplotlib.axes._subplots.AxesSubplot at 0x7fb2234d2f60>"
      ]
     },
     "execution_count": 20,
     "metadata": {},
     "output_type": "execute_result"
    },
    {
     "data": {
      "image/png": "[encoded data removed]",
      "text/plain": [
       "<matplotlib.figure.Figure at 0x7fb2236e5710>"
      ]
     },
     "metadata": {},
     "output_type": "display_data"
    }
   ],
   "source": [
    "sns.distplot(train_df_no_outliers[\"Socio_Demo_04\"])"
   ]
  },
  {
   "cell_type": "code",
   "execution_count": 21,
   "metadata": {},
   "outputs": [
    {
     "data": {
      "text/plain": [
       "<seaborn.axisgrid.JointGrid at 0x7fb2233d6048>"
      ]
     },
     "execution_count": 21,
     "metadata": {},
     "output_type": "execute_result"
    },
    {
     "data": {
      "image/png": "[encoded data removed]",
      "text/plain": [
       "<matplotlib.figure.Figure at 0x7fb2233d6198>"
      ]
     },
     "metadata": {},
     "output_type": "display_data"
    }
   ],
   "source": [
    "sns.jointplot(x=train_df_no_outliers[\"Socio_Demo_04\"], y=train_df_no_outliers[\"Poder_Adquisitivo\"],kind='kde')"
   ]
  },
  {
   "cell_type": "code",
   "execution_count": 22,
   "metadata": {},
   "outputs": [
    {
     "data": {
      "text/plain": [
       "1       118943\n",
       "2       111652\n",
       "3        67361\n",
       "4        33141\n",
       "5         8747\n",
       "6         2004\n",
       "7          504\n",
       "7097       280\n",
       "8          149\n",
       "9           56\n",
       "70          42\n",
       "10          21\n",
       "33          20\n",
       "46          20\n",
       "30          14\n",
       "11          11\n",
       "414         10\n",
       "13           8\n",
       "151          6\n",
       "27           2\n",
       "28           2\n",
       "18           1\n",
       "Name: Socio_Demo_04, dtype: int64"
      ]
     },
     "execution_count": 22,
     "metadata": {},
     "output_type": "execute_result"
    }
   ],
   "source": [
    "train_df_no_outliers[\"Socio_Demo_04\"].value_counts()"
   ]
  },
  {
   "cell_type": "markdown",
   "metadata": {},
   "source": [
    "De nuevo, observamos que una serie pequeña de valores concentra la gran mayoría de ocurrencias. Veamos si existe una relación aparente entre cada valor de esta variable y el poder adquisitivo."
   ]
  },
  {
   "cell_type": "code",
   "execution_count": 23,
   "metadata": {},
   "outputs": [
    {
     "data": {
      "text/plain": [
       "<matplotlib.axes._subplots.AxesSubplot at 0x7fb2233176d8>"
      ]
     },
     "execution_count": 23,
     "metadata": {},
     "output_type": "execute_result"
    },
    {
     "data": {
      "image/png": "[encoded data removed]",
      "text/plain": [
       "<matplotlib.figure.Figure at 0x7fb2233179b0>"
      ]
     },
     "metadata": {},
     "output_type": "display_data"
    }
   ],
   "source": [
    "fig, ax = plt.subplots(figsize=(16,10))\n",
    "sns.boxplot(x=train_df_no_outliers[\"Socio_Demo_04\"], y=train_df_no_outliers[\"Poder_Adquisitivo\"],ax=ax)"
   ]
  },
  {
   "cell_type": "markdown",
   "metadata": {},
   "source": [
    "Algunos valores muestran distribuciones que son diferentes a las demás, pero aparecen un número casi insignificante de veces respecto a la totalidad de los datos, por lo que no consideremos que sea necesario complicar el modelo con esos casos."
   ]
  },
  {
   "cell_type": "code",
   "execution_count": 24,
   "metadata": {},
   "outputs": [
    {
     "data": {
      "text/plain": [
       "<matplotlib.axes._subplots.AxesSubplot at 0x7fb22322ff60>"
      ]
     },
     "execution_count": 24,
     "metadata": {},
     "output_type": "execute_result"
    },
    {
     "data": {
      "image/png": "[encoded data removed]",
      "text/plain": [
       "<matplotlib.figure.Figure at 0x7fb223307588>"
      ]
     },
     "metadata": {},
     "output_type": "display_data"
    }
   ],
   "source": [
    "sns.distplot(train_df_no_outliers[\"Socio_Demo_05\"])"
   ]
  },
  {
   "cell_type": "code",
   "execution_count": 25,
   "metadata": {},
   "outputs": [
    {
     "data": {
      "text/plain": [
       "<seaborn.axisgrid.JointGrid at 0x7fb222f533c8>"
      ]
     },
     "execution_count": 25,
     "metadata": {},
     "output_type": "execute_result"
    },
    {
     "data": {
      "image/png": "[encoded data removed]",
      "text/plain": [
       "<matplotlib.figure.Figure at 0x7fb222f53240>"
      ]
     },
     "metadata": {},
     "output_type": "display_data"
    }
   ],
   "source": [
    "sns.jointplot(x=train_df_no_outliers[\"Socio_Demo_05\"], y=train_df_no_outliers[\"Poder_Adquisitivo\"],kind='kde')"
   ]
  },
  {
   "cell_type": "markdown",
   "metadata": {},
   "source": [
    "Veamos ahora la correlación de las variables explicativas con el poder adquisitivo, medida mediante el coeficiente de Pearson."
   ]
  },
  {
   "cell_type": "code",
   "execution_count": 26,
   "metadata": {
    "scrolled": false
   },
   "outputs": [
    {
     "data": {
      "text/plain": [
       "Imp_Sal_21       0.446199\n",
       "Num_Oper_05      0.377380\n",
       "Imp_Sal_19       0.364050\n",
       "Ind_Prod_24      0.333431\n",
       "Ind_Prod_08      0.271821\n",
       "Imp_Sal_12       0.268169\n",
       "Num_Oper_18      0.267717\n",
       "Ind_Prod_11      0.263711\n",
       "Imp_Cons_02      0.254591\n",
       "Imp_Sal_08       0.254518\n",
       "Imp_Cons_12      0.251392\n",
       "Imp_Cons_06      0.243734\n",
       "Imp_Sal_20       0.235902\n",
       "Ind_Prod_05      0.229769\n",
       "Imp_Cons_04      0.228519\n",
       "Imp_Sal_09       0.224180\n",
       "Ind_Prod_21      0.223633\n",
       "Imp_Sal_04       0.221237\n",
       "Imp_Cons_09      0.221097\n",
       "Imp_Cons_01      0.219669\n",
       "Imp_Cons_16      0.218312\n",
       "Num_Oper_06      0.218307\n",
       "Num_Oper_15      0.207412\n",
       "Imp_Cons_03      0.203556\n",
       "Ind_Prod_09      0.203247\n",
       "Imp_Sal_15       0.202924\n",
       "Num_Oper_02      0.196814\n",
       "Imp_Sal_16       0.196771\n",
       "Imp_Cons_08      0.191842\n",
       "Num_Oper_08      0.190259\n",
       "                   ...   \n",
       "Imp_Sal_18       0.052718\n",
       "Ind_Prod_04      0.051391\n",
       "Ind_Prod_13      0.050400\n",
       "Num_Oper_20      0.050110\n",
       "Imp_Cons_14      0.049796\n",
       "Num_Oper_13      0.049279\n",
       "Num_Oper_09      0.042742\n",
       "Num_Oper_14      0.041123\n",
       "Ind_Prod_01      0.037822\n",
       "Imp_Sal_17       0.034002\n",
       "Num_Oper_04      0.032202\n",
       "Num_Oper_12      0.031361\n",
       "Imp_Sal_10       0.030442\n",
       "Ind_Prod_20      0.029056\n",
       "Imp_Sal_02       0.028809\n",
       "Ind_Prod_07      0.027105\n",
       "Ind_Prod_15      0.024015\n",
       "Imp_Sal_11       0.021255\n",
       "Ind_Prod_06      0.020455\n",
       "Num_Oper_16      0.019392\n",
       "Imp_Sal_06       0.017361\n",
       "Num_Oper_11      0.014869\n",
       "Imp_Sal_03       0.013781\n",
       "Ind_Prod_19      0.013330\n",
       "Imp_Sal_01       0.008663\n",
       "Socio_Demo_04    0.008363\n",
       "Imp_Sal_07       0.004509\n",
       "Ind_Prod_18     -0.001017\n",
       "Socio_Demo_02   -0.135780\n",
       "Imp_Sal_14            NaN\n",
       "Name: Poder_Adquisitivo, Length: 86, dtype: float64"
      ]
     },
     "execution_count": 26,
     "metadata": {},
     "output_type": "execute_result"
    }
   ],
   "source": [
    "train_df_no_outliers.corr(method='pearson').iloc[-1].sort_values(ascending=False,axis=0)[1:]"
   ]
  },
  {
   "cell_type": "markdown",
   "metadata": {},
   "source": [
    "Vemos como algunas variables presentan coeficientes de correlación medios, lo que indica que serán útiles para los modelos."
   ]
  },
  {
   "cell_type": "markdown",
   "metadata": {},
   "source": [
    "<a name=Entrenamientodemodelos></a>\n",
    "# Entrenamiento de modelos"
   ]
  },
  {
   "cell_type": "markdown",
   "metadata": {},
   "source": [
    "<a name=Preparacióndedatos></a>\n",
    "## Preparación de datos\n",
    "Con todo lo visto anteriormente estamos listos para preparar los datos para la experimentación. Vamos a definir una función que realize este pre-procesado de los datos. \n",
    "\n",
    "La transformación básica consiste en convertir las variables categóricas a valores one-hot, y eliminar la columna ID_Customer que no es más que un identificador del cliente.\n",
    "\n",
    "\n",
    "Con processing_type = 1 se puede indicar además que queremos filtrar los outliers (pero únicamente en tiempo de entrenamiento)\n",
    "\n"
   ]
  },
  {
   "cell_type": "code",
   "execution_count": 4,
   "metadata": {},
   "outputs": [],
   "source": [
    "def process_df(df,processing_type,train = True):\n",
    "    if processing_type == 1:\n",
    "        return process_df_1(df,train)\n",
    "    else:\n",
    "        return process_df_1(df,False)\n",
    "    \n",
    "def process_df_1(df,train = True):\n",
    "    df = df.drop(labels=[\"ID_Customer\"],axis=1)\n",
    "    \n",
    "    if train:\n",
    "        # Eliminamos los outliers solo en el caso de que estemos entrenando\n",
    "        q1 = df[\"Poder_Adquisitivo\"].quantile(0.25)\n",
    "        q3 = df[\"Poder_Adquisitivo\"].quantile(0.75)\n",
    "        iqr = q3 - q1\n",
    "        fence_low  = q1 - 1.5 * iqr\n",
    "        fence_high = q3 + 1.5 * iqr\n",
    "\n",
    "        df = df.loc[(df[\"Poder_Adquisitivo\"] > fence_low) & (df[\"Poder_Adquisitivo\"] < fence_high)]\n",
    "    \n",
    "        \n",
    "    \n",
    "    # Convertimos las variables a one-hot\n",
    "\n",
    "    # Socio_Demo_01\n",
    "    \n",
    "    topk_socio_01 = df[\"Socio_Demo_01\"].value_counts()[:10]\n",
    "    socio_01_keys = list(topk_socio_01.keys())\n",
    "    \n",
    "    for key in socio_01_keys:\n",
    "        on = df[\"Socio_Demo_01\"] == key\n",
    "        df.insert(loc=len(df.columns), column=\"Socio_Demo_01_\"+str(key), value=on.astype(int))\n",
    "    \n",
    "    # El resto lso agrupamos en 'Other'\n",
    "    condition_array = [False] * len(df[\"Socio_Demo_01\"])\n",
    "    for i in range(len(condition_array)):\n",
    "        condition_array[i] = str(df[\"Socio_Demo_01\"].iloc[i]) not in socio_01_keys\n",
    "    df.insert(loc=len(df.columns), column=\"Socio_Demo_01_Other\", value=condition_array)\n",
    "    df[\"Socio_Demo_01_Other\"] = df[\"Socio_Demo_01_Other\"].astype(int)\n",
    "    \n",
    "    df = df.drop(axis=1, columns=[\"Socio_Demo_01\"])\n",
    "    \n",
    "    # Socio_Demo_02\n",
    "    c1=df[\"Socio_Demo_02\"] == 1\n",
    "    c2=df[\"Socio_Demo_02\"] == 2\n",
    "    df.insert(loc=len(df.columns), column=\"Socio_Demo_02_01\", value=c1.astype(int))\n",
    "    df.insert(loc=len(df.columns), column=\"Socio_Demo_02_02\", value=c2.astype(int))\n",
    "    \n",
    "    df = df.drop(axis=1, columns=[\"Socio_Demo_02\"])\n",
    "\n",
    "    \n",
    "    # Convertimos todas las columnas Ind_prod a one-hot\n",
    "    \n",
    "    for i in range(1,25):\n",
    "        column_name = \"Ind_Prod_\" + str(i).zfill(2)\n",
    "        c0=df[column_name] == 0\n",
    "        c1=df[column_name] == 1\n",
    "        c2=df[column_name] == 2\n",
    "        \n",
    "        df.insert(loc=len(df.columns), column=column_name + \"_00\", value=c0.astype(int))\n",
    "        df.insert(loc=len(df.columns), column=column_name + \"_01\", value=c1.astype(int))\n",
    "        df.insert(loc=len(df.columns), column=column_name + \"_02\", value=c2.astype(int))\n",
    "    \n",
    "        df = df.drop(axis=1, columns=[column_name])\n",
    "    \n",
    "    \n",
    "    \n",
    "    return df"
   ]
  },
  {
   "cell_type": "markdown",
   "metadata": {},
   "source": [
    "En primer lugar vamos a barjar los datos, y a continuación vamos a realizar una partición de los datos para realizar **validación cruzada** en 5 bloques, con el objetivo de realizar un análisis de resultados de los diferentes modelos de manera correcta y fiable.\n",
    "\n",
    "Este método divide los datos en los conjustos de entrenamiento y test para cada partición, y los almacena en la variable splits."
   ]
  },
  {
   "cell_type": "code",
   "execution_count": 5,
   "metadata": {},
   "outputs": [],
   "source": [
    "SEED = 4\n",
    "K = 5\n",
    "\n",
    "shuffled_data = train_df.sample(frac=1,replace=False,random_state=SEED)\n",
    "\n",
    "kf = KFold(n_splits=K)\n",
    "kf.get_n_splits(shuffled_data)\n",
    "\n",
    "def get_splits(kf,processing_type):\n",
    "    splits=[]\n",
    "    for train_index, test_index in kf.split(shuffled_data):\n",
    "        train_data = shuffled_data.loc[train_index]\n",
    "        test_data = shuffled_data.loc[test_index]\n",
    "\n",
    "        train_data_proc = process_df(train_data,processing_type,train=True)\n",
    "        test_data_proc = process_df(test_data,processing_type,train=False)\n",
    "\n",
    "\n",
    "        splits.append((train_data_proc,test_data_proc))\n",
    "    return splits\n"
   ]
  },
  {
   "cell_type": "markdown",
   "metadata": {},
   "source": [
    "Dado un modelo y los splits que hemos realizado a los datos, a continuación definimos una función que, para cada partición de entrenamiento y test, entrene un modelo con los datos de entrenamiento correspondiente y calcule métricas sobre el conjunto de validación."
   ]
  },
  {
   "cell_type": "markdown",
   "metadata": {},
   "source": [
    "En lo que se refiere a métricas, en primer lugar hemos escogido la **ráiz del error cuadrático medio (RMSE)**, una de las métricas más comunes para evaluar modelos de regresión. El problema que tiene esta métrica es que penaliza de manera desmedida fallos grandes. Resulta mucho más interesante medir el funcionamiento del algoritmo con una métrica que refleje mejor su funcionamiento con la mayoría de clientes, cosa que consideramos más útil a la hora de decidirnos por un modelo u otro. Por eso medimos los resultados con respecto a la **media del error absoluto (MAE)** y a la **mediana del error (MAD).** Esta última métrica no es susceptible a outliers y nos permite conocer mejor cual es el comportamiento \"medio\" de cada modelo."
   ]
  },
  {
   "cell_type": "code",
   "execution_count": 6,
   "metadata": {},
   "outputs": [],
   "source": [
    "def train_and_evaluate(model,splits,skcompat=False,scaler=None):\n",
    "    rmse = []\n",
    "    mae = []\n",
    "    mad = []\n",
    "    # Para cada iteración de validación cruzada\n",
    "    for s in range(len(splits)):\n",
    "        train_data_proc,test_data_proc = splits[s]\n",
    "        \n",
    "        # Obtenemos los datos de entrenamiento\n",
    "        x_train = train_data_proc.drop(labels=[\"Poder_Adquisitivo\"],axis=1).as_matrix()\n",
    "        y_train = train_data_proc[\"Poder_Adquisitivo\"].as_matrix()\n",
    "\n",
    "        # Obtenemos los datos de test\n",
    "        x_test = test_data_proc.drop(labels=[\"Poder_Adquisitivo\"], axis=1).as_matrix()\n",
    "        y_test = test_data_proc[\"Poder_Adquisitivo\"].as_matrix()\n",
    "        \n",
    "        # Damos la posiblidad de usar un scaler\n",
    "        if scaler is not None:\n",
    "            x_train = scaler.fit_transform(x_train)\n",
    "            x_test = scaler.transform(x_test)\n",
    "           \n",
    "        # Caso base, entrenamos un modelo y obtenemos las predicciones\n",
    "        if not skcompat:\n",
    "            model.fit(X=x_train,y=y_train)\n",
    "            \n",
    "            # For compatibility with XGBoost\n",
    "            # yhat = model.predict(X=x_test)\n",
    "            yhat = model.predict(x_test)\n",
    "        \n",
    "        # En el caso de que sea un objeto skcompat, las llamadas a los métodos son ligeramente diferentes.\n",
    "        else:\n",
    "            model.fit(x=x_train,y=y_train,steps=STEPS)\n",
    "            yhat = model.predict(x=x_test)['scores']\n",
    "        \n",
    "        # Calculamos métricas \n",
    "        rmse.append(math.sqrt(mean_squared_error(y_true=y_test, y_pred=yhat)))\n",
    "        mae.append(mean_absolute_error(y_true=y_test,y_pred=yhat))\n",
    "        mad.append(median_absolute_error(y_true=y_test,y_pred=yhat))\n",
    "        \n",
    "    return (rmse,mae,mad)"
   ]
  },
  {
   "cell_type": "markdown",
   "metadata": {},
   "source": [
    "Por último, nos definimos un método para guardar los resultados para su posterior visualización."
   ]
  },
  {
   "cell_type": "code",
   "execution_count": 7,
   "metadata": {},
   "outputs": [],
   "source": [
    "scores = {'modelo':[], 'rmse':[],'mae':[],'mad':[]}\n",
    "\n",
    "def record_scores(name,rmse,mae,mad):\n",
    "    scores['modelo'].append(name)\n",
    "    scores['rmse'].append(rmse)\n",
    "    scores['mae'].append(mae)\n",
    "    scores['mad'].append(mad)"
   ]
  },
  {
   "cell_type": "markdown",
   "metadata": {},
   "source": [
    "<a name=Experimentos></a>\n",
    "## Experimentos"
   ]
  },
  {
   "cell_type": "markdown",
   "metadata": {},
   "source": [
    "A continuación vamos a exponer una serie de resultados que hemos obtenido evaluando diferentes modelos. Cabe destacar que la cantidad de experimentos realizada es mucho mayor de la mostrada aquí, pero se ha llevado a cabo una selección de aquellos que, a nuestro juicio, son más interesantes. En caso contrario este documento hubiera sido todavía más largo de lo que ya es."
   ]
  },
  {
   "cell_type": "markdown",
   "metadata": {},
   "source": [
    "En primer lugar probaremos diferentes modelos tras aplicar el preproceso en el que eliminamos **outliers.**"
   ]
  },
  {
   "cell_type": "code",
   "execution_count": 7,
   "metadata": {},
   "outputs": [],
   "source": [
    "splits = []\n",
    "splits = get_splits(kf,1)"
   ]
  },
  {
   "cell_type": "markdown",
   "metadata": {},
   "source": [
    "Inicialmente probamos diferentes modelos de regresión lineal."
   ]
  },
  {
   "cell_type": "code",
   "execution_count": 32,
   "metadata": {},
   "outputs": [
    {
     "name": "stdout",
     "output_type": "stream",
     "text": [
      "RMSE: 21866.239828\n",
      "MAE: 5257.209822\n",
      "MAD: 3039.409075\n"
     ]
    }
   ],
   "source": [
    "model = LinearRegression()\n",
    "scores_rmse,scores_mae,scores_mad = train_and_evaluate(model,splits)\n",
    "\n",
    "\n",
    "print(\"RMSE: %f\" % np.mean(scores_rmse))\n",
    "print(\"MAE: %f\" % np.mean(scores_mae))\n",
    "print(\"MAD: %f\" % np.mean(scores_mad))\n",
    "\n",
    "record_scores('Linear Regresion',np.mean(scores_rmse),np.mean(scores_mae),np.mean(scores_mad))"
   ]
  },
  {
   "cell_type": "code",
   "execution_count": 33,
   "metadata": {},
   "outputs": [
    {
     "name": "stderr",
     "output_type": "stream",
     "text": [
      "/home/jairsan/Documents/dev/AlwaysLearningDeeper/Salesforce-Predictive-Modelling/venv/lib/python3.5/site-packages/sklearn/linear_model/coordinate_descent.py:491: ConvergenceWarning: Objective did not converge. You might want to increase the number of iterations. Fitting data with very small alpha may cause precision problems.\n",
      "  ConvergenceWarning)\n"
     ]
    },
    {
     "name": "stdout",
     "output_type": "stream",
     "text": [
      "RMSE: 21862.705461\n",
      "MAE: 5255.091905\n",
      "MAD: 3037.112226\n"
     ]
    }
   ],
   "source": [
    "model = Lasso(random_state=SEED)\n",
    "scores_rmse,scores_mae,scores_mad = train_and_evaluate(model,splits)\n",
    "\n",
    "\n",
    "print(\"RMSE: %f\" % np.mean(scores_rmse))\n",
    "print(\"MAE: %f\" % np.mean(scores_mae))\n",
    "print(\"MAD: %f\" % np.mean(scores_mad))\n",
    "\n",
    "record_scores('Lasso',np.mean(scores_rmse),np.mean(scores_mae),np.mean(scores_mad))"
   ]
  },
  {
   "cell_type": "code",
   "execution_count": 34,
   "metadata": {},
   "outputs": [
    {
     "name": "stdout",
     "output_type": "stream",
     "text": [
      "RMSE: 21865.927595\n",
      "MAE: 5257.069194\n",
      "MAD: 3039.435218\n"
     ]
    }
   ],
   "source": [
    "model = Ridge(random_state=SEED)\n",
    "scores_rmse,scores_mae,scores_mad = train_and_evaluate(model,splits)\n",
    "\n",
    "\n",
    "print(\"RMSE: %f\" % np.mean(scores_rmse))\n",
    "print(\"MAE: %f\" % np.mean(scores_mae))\n",
    "print(\"MAD: %f\" % np.mean(scores_mad))\n",
    "\n",
    "record_scores('Ridge',np.mean(scores_rmse),np.mean(scores_mae),np.mean(scores_mad))"
   ]
  },
  {
   "cell_type": "code",
   "execution_count": 35,
   "metadata": {},
   "outputs": [
    {
     "name": "stdout",
     "output_type": "stream",
     "text": [
      "RMSE: 21810.483924\n",
      "MAE: 5266.374945\n",
      "MAD: 3101.583763\n"
     ]
    }
   ],
   "source": [
    "model = ElasticNet(random_state=SEED)\n",
    "scores_rmse,scores_mae,scores_mad = train_and_evaluate(model,splits)\n",
    "\n",
    "\n",
    "print(\"RMSE: %f\" % np.mean(scores_rmse))\n",
    "print(\"MAE: %f\" % np.mean(scores_mae))\n",
    "print(\"MAD: %f\" % np.mean(scores_mad))\n",
    "\n",
    "record_scores('ElasticNet',np.mean(scores_rmse),np.mean(scores_mae),np.mean(scores_mad))"
   ]
  },
  {
   "cell_type": "markdown",
   "metadata": {},
   "source": [
    "Todos los modelos lineales parecen obtener resultados comparables. Probamos ahora con redes neuronales."
   ]
  },
  {
   "cell_type": "code",
   "execution_count": 36,
   "metadata": {},
   "outputs": [
    {
     "name": "stdout",
     "output_type": "stream",
     "text": [
      "RMSE: 21802.399602\n",
      "MAE: 4809.464531\n",
      "MAD: 2490.107172\n"
     ]
    }
   ],
   "source": [
    "model = MLPRegressor(max_iter=200,hidden_layer_sizes=(25,25,25),early_stopping=True,random_state=SEED)\n",
    "scores_rmse,scores_mae,scores_mad = train_and_evaluate(model,splits)\n",
    "\n",
    "\n",
    "print(\"RMSE: %f\" % np.mean(scores_rmse))\n",
    "print(\"MAE: %f\" % np.mean(scores_mae))\n",
    "print(\"MAD: %f\" % np.mean(scores_mad))\n",
    "\n"
   ]
  },
  {
   "cell_type": "code",
   "execution_count": 37,
   "metadata": {},
   "outputs": [
    {
     "name": "stdout",
     "output_type": "stream",
     "text": [
      "RMSE: 21830.293209\n",
      "MAE: 4797.267736\n",
      "MAD: 2463.654820\n"
     ]
    }
   ],
   "source": [
    "model = MLPRegressor(max_iter=200,hidden_layer_sizes=(50,50,50),early_stopping=True,random_state=SEED)\n",
    "scores_rmse,scores_mae,scores_mad = train_and_evaluate(model,splits)\n",
    "\n",
    "\n",
    "print(\"RMSE: %f\" % np.mean(scores_rmse))\n",
    "print(\"MAE: %f\" % np.mean(scores_mae))\n",
    "print(\"MAD: %f\" % np.mean(scores_mad))\n"
   ]
  },
  {
   "cell_type": "code",
   "execution_count": 38,
   "metadata": {},
   "outputs": [
    {
     "name": "stdout",
     "output_type": "stream",
     "text": [
      "RMSE: 21817.672450\n",
      "MAE: 4806.588021\n",
      "MAD: 2454.712617\n"
     ]
    }
   ],
   "source": [
    "model = MLPRegressor(max_iter=200,hidden_layer_sizes=(25,25,25,25),early_stopping=True,random_state=SEED)\n",
    "scores_rmse,scores_mae,scores_mad = train_and_evaluate(model,splits)\n",
    "\n",
    "\n",
    "print(\"RMSE: %f\" % np.mean(scores_rmse))\n",
    "print(\"MAE: %f\" % np.mean(scores_mae))\n",
    "print(\"MAD: %f\" % np.mean(scores_mad))\n"
   ]
  },
  {
   "cell_type": "code",
   "execution_count": 39,
   "metadata": {},
   "outputs": [
    {
     "name": "stdout",
     "output_type": "stream",
     "text": [
      "RMSE: 21702.603384\n",
      "MAE: 4728.631802\n",
      "MAD: 2397.541365\n"
     ]
    }
   ],
   "source": [
    "model = MLPRegressor(max_iter=200,hidden_layer_sizes=(50,50,50,50),early_stopping=True,random_state=SEED)\n",
    "scores_rmse,scores_mae,scores_mad = train_and_evaluate(model,splits)\n",
    "\n",
    "\n",
    "print(\"RMSE: %f\" % np.mean(scores_rmse))\n",
    "print(\"MAE: %f\" % np.mean(scores_mae))\n",
    "print(\"MAD: %f\" % np.mean(scores_mad))\n",
    "\n",
    "record_scores('ANN50*4',np.mean(scores_rmse),np.mean(scores_mae),np.mean(scores_mad))"
   ]
  },
  {
   "cell_type": "code",
   "execution_count": 40,
   "metadata": {},
   "outputs": [
    {
     "name": "stdout",
     "output_type": "stream",
     "text": [
      "RMSE: 21735.605978\n",
      "MAE: 4810.861191\n",
      "MAD: 2486.416211\n"
     ]
    }
   ],
   "source": [
    "model = MLPRegressor(max_iter=200,hidden_layer_sizes=(25,25,25,25,25),early_stopping=True,random_state=SEED)\n",
    "scores_rmse,scores_mae,scores_mad = train_and_evaluate(model,splits)\n",
    "\n",
    "\n",
    "print(\"RMSE: %f\" % np.mean(scores_rmse))\n",
    "print(\"MAE: %f\" % np.mean(scores_mae))\n",
    "print(\"MAD: %f\" % np.mean(scores_mad))\n",
    "\n"
   ]
  },
  {
   "cell_type": "markdown",
   "metadata": {},
   "source": [
    "Probamos ahora diferentes modelos basados en árboles."
   ]
  },
  {
   "cell_type": "code",
   "execution_count": 41,
   "metadata": {},
   "outputs": [
    {
     "name": "stdout",
     "output_type": "stream",
     "text": [
      "RMSE: 22670.479224\n",
      "MAE: 4802.948535\n",
      "MAD: 2223.817397\n"
     ]
    }
   ],
   "source": [
    "model = DecisionTreeRegressor(min_samples_split=200, min_samples_leaf=50, random_state=SEED)\n",
    "scores_rmse,scores_mae,scores_mad = train_and_evaluate(model,splits)\n",
    "\n",
    "\n",
    "print(\"RMSE: %f\" % np.mean(scores_rmse))\n",
    "print(\"MAE: %f\" % np.mean(scores_mae))\n",
    "print(\"MAD: %f\" % np.mean(scores_mad))\n",
    "\n",
    "record_scores('RegressionTree',np.mean(scores_rmse),np.mean(scores_mae),np.mean(scores_mad))"
   ]
  },
  {
   "cell_type": "code",
   "execution_count": 42,
   "metadata": {},
   "outputs": [
    {
     "name": "stdout",
     "output_type": "stream",
     "text": [
      "RMSE: 23330.311981\n",
      "MAE: 6016.309887\n",
      "MAD: 3431.344350\n"
     ]
    }
   ],
   "source": [
    "model = RandomForestRegressor(n_estimators=50, criterion='mse', max_depth=5, max_features='log2',min_samples_leaf=5,random_state=SEED)\n",
    "scores_rmse,scores_mae,scores_mad = train_and_evaluate(model,splits)\n",
    "\n",
    "\n",
    "print(\"RMSE: %f\" % np.mean(scores_rmse))\n",
    "print(\"MAE: %f\" % np.mean(scores_mae))\n",
    "print(\"MAD: %f\" % np.mean(scores_mad))"
   ]
  },
  {
   "cell_type": "code",
   "execution_count": 43,
   "metadata": {},
   "outputs": [
    {
     "name": "stdout",
     "output_type": "stream",
     "text": [
      "RMSE: 23209.592362\n",
      "MAE: 5801.514133\n",
      "MAD: 3248.256406\n"
     ]
    }
   ],
   "source": [
    "model = RandomForestRegressor(n_estimators=50, criterion='mse', max_depth=7, max_features='log2',min_samples_leaf=5,random_state=SEED)\n",
    "scores_rmse,scores_mae,scores_mad = train_and_evaluate(model,splits)\n",
    "\n",
    "\n",
    "print(\"RMSE: %f\" % np.mean(scores_rmse))\n",
    "print(\"MAE: %f\" % np.mean(scores_mae))\n",
    "print(\"MAD: %f\" % np.mean(scores_mad))"
   ]
  },
  {
   "cell_type": "code",
   "execution_count": 44,
   "metadata": {},
   "outputs": [
    {
     "name": "stdout",
     "output_type": "stream",
     "text": [
      "RMSE: 22885.472091\n",
      "MAE: 5190.630200\n",
      "MAD: 2654.554734\n"
     ]
    }
   ],
   "source": [
    "model = RandomForestRegressor(n_estimators=50, criterion='mse', max_depth=17, max_features='log2',min_samples_leaf=5,random_state=SEED)\n",
    "scores_rmse,scores_mae,scores_mad = train_and_evaluate(model,splits)\n",
    "\n",
    "\n",
    "print(\"RMSE: %f\" % np.mean(scores_rmse))\n",
    "print(\"MAE: %f\" % np.mean(scores_mae))\n",
    "print(\"MAD: %f\" % np.mean(scores_mad))\n",
    "\n",
    "record_scores('RF_d17',np.mean(scores_rmse),np.mean(scores_mae),np.mean(scores_mad))"
   ]
  },
  {
   "cell_type": "markdown",
   "metadata": {},
   "source": [
    "Podemos ver como la profundidad máxima afecta de manera importante al rendimiento."
   ]
  },
  {
   "cell_type": "code",
   "execution_count": 45,
   "metadata": {},
   "outputs": [
    {
     "name": "stdout",
     "output_type": "stream",
     "text": [
      "RMSE: 22861.309229\n",
      "MAE: 5112.145407\n",
      "MAD: 2549.585133\n"
     ]
    }
   ],
   "source": [
    "model = RandomForestRegressor(n_estimators=50, criterion='mse', max_depth=23, max_features='log2',min_samples_leaf=5,random_state=SEED)\n",
    "scores_rmse,scores_mae,scores_mad = train_and_evaluate(model,splits)\n",
    "\n",
    "\n",
    "print(\"RMSE: %f\" % np.mean(scores_rmse))\n",
    "print(\"MAE: %f\" % np.mean(scores_mae))\n",
    "print(\"MAD: %f\" % np.mean(scores_mad))\n",
    "\n",
    "record_scores('RF_d23',np.mean(scores_rmse),np.mean(scores_mae),np.mean(scores_mad))"
   ]
  },
  {
   "cell_type": "code",
   "execution_count": 46,
   "metadata": {},
   "outputs": [
    {
     "name": "stdout",
     "output_type": "stream",
     "text": [
      "RMSE: 22655.050330\n",
      "MAE: 4621.045433\n",
      "MAD: 2059.083895\n"
     ]
    }
   ],
   "source": [
    "model = RandomForestRegressor(n_estimators=50, criterion='mse', max_depth=23, max_features='auto',min_samples_leaf=5,random_state=SEED)\n",
    "scores_rmse,scores_mae,scores_mad = train_and_evaluate(model,splits)\n",
    "\n",
    "\n",
    "print(\"RMSE: %f\" % np.mean(scores_rmse))\n",
    "print(\"MAE: %f\" % np.mean(scores_mae))\n",
    "print(\"MAD: %f\" % np.mean(scores_mad))\n",
    "record_scores('RF_d23_FULL',np.mean(scores_rmse),np.mean(scores_mae),np.mean(scores_mad))"
   ]
  },
  {
   "cell_type": "markdown",
   "metadata": {},
   "source": [
    "El permitir que se hagan splits sobre todas las features incrementa sustancialmente el tiempo de entrenamiento, pero hace que este modelo supere al rest."
   ]
  },
  {
   "cell_type": "markdown",
   "metadata": {},
   "source": [
    "Probamos ahora con la técnica de Gradient Boosting."
   ]
  },
  {
   "cell_type": "code",
   "execution_count": 47,
   "metadata": {},
   "outputs": [
    {
     "name": "stdout",
     "output_type": "stream",
     "text": [
      "RMSE: 22673.064999\n",
      "MAE: 4826.494141\n",
      "MAD: 2324.383647\n"
     ]
    }
   ],
   "source": [
    "model = GradientBoostingRegressor(random_state=SEED)\n",
    "scores_rmse,scores_mae,scores_mad = train_and_evaluate(model,splits)\n",
    "\n",
    "\n",
    "print(\"RMSE: %f\" % np.mean(scores_rmse))\n",
    "print(\"MAE: %f\" % np.mean(scores_mae))\n",
    "print(\"MAD: %f\" % np.mean(scores_mad))"
   ]
  },
  {
   "cell_type": "code",
   "execution_count": 48,
   "metadata": {},
   "outputs": [
    {
     "name": "stdout",
     "output_type": "stream",
     "text": [
      "RMSE: 22671.151048\n",
      "MAE: 4826.406819\n",
      "MAD: 2325.382443\n"
     ]
    }
   ],
   "source": [
    "model = GradientBoostingRegressor(random_state=SEED,min_samples_leaf=5)\n",
    "scores_rmse,scores_mae,scores_mad = train_and_evaluate(model,splits)\n",
    "\n",
    "\n",
    "print(\"RMSE: %f\" % np.mean(scores_rmse))\n",
    "print(\"MAE: %f\" % np.mean(scores_mae))\n",
    "print(\"MAD: %f\" % np.mean(scores_mad))"
   ]
  },
  {
   "cell_type": "code",
   "execution_count": 49,
   "metadata": {},
   "outputs": [
    {
     "name": "stdout",
     "output_type": "stream",
     "text": [
      "RMSE: 22660.424748\n",
      "MAE: 4675.047281\n",
      "MAD: 2163.067239\n"
     ]
    }
   ],
   "source": [
    "model = GradientBoostingRegressor(random_state=SEED,min_samples_leaf=5,max_depth=5)\n",
    "scores_rmse,scores_mae,scores_mad = train_and_evaluate(model,splits)\n",
    "\n",
    "\n",
    "print(\"RMSE: %f\" % np.mean(scores_rmse))\n",
    "print(\"MAE: %f\" % np.mean(scores_mae))\n",
    "print(\"MAD: %f\" % np.mean(scores_mad))\n",
    "\n",
    "record_scores('Gradient Boost_d5',np.mean(scores_rmse),np.mean(scores_mae),np.mean(scores_mad))"
   ]
  },
  {
   "cell_type": "code",
   "execution_count": 50,
   "metadata": {},
   "outputs": [
    {
     "name": "stdout",
     "output_type": "stream",
     "text": [
      "RMSE: 22657.066140\n",
      "MAE: 4597.104610\n",
      "MAD: 2070.359545\n"
     ]
    }
   ],
   "source": [
    "model = GradientBoostingRegressor(random_state=SEED,min_samples_leaf=5,max_depth=7)\n",
    "scores_rmse,scores_mae,scores_mad = train_and_evaluate(model,splits)\n",
    "\n",
    "\n",
    "print(\"RMSE: %f\" % np.mean(scores_rmse))\n",
    "print(\"MAE: %f\" % np.mean(scores_mae))\n",
    "print(\"MAD: %f\" % np.mean(scores_mad))\n",
    "\n",
    "record_scores('Gradient Boost_d7',np.mean(scores_rmse),np.mean(scores_mae),np.mean(scores_mad))"
   ]
  },
  {
   "cell_type": "markdown",
   "metadata": {},
   "source": [
    "De nuevo, llegados a este punto los modelos empiezan a requerar un tiempo de entrenamiento elevado a medida que se aumenta la profundidad máxima."
   ]
  },
  {
   "cell_type": "markdown",
   "metadata": {},
   "source": [
    "Una comparación importante a realizar es comprobar si nuestra idea inicial de eliminar outliers ha dado sus frutos. Probamos ahora a entrenar una serie de modelos ***sin eliminar outliers***."
   ]
  },
  {
   "cell_type": "code",
   "execution_count": null,
   "metadata": {},
   "outputs": [],
   "source": [
    "splits = []\n",
    "splits = get_splits(kf,0)"
   ]
  },
  {
   "cell_type": "code",
   "execution_count": 52,
   "metadata": {},
   "outputs": [
    {
     "name": "stdout",
     "output_type": "stream",
     "text": [
      "RMSE: 20453.694566\n",
      "MAE: 5780.098872\n",
      "MAD: 3266.257244\n"
     ]
    }
   ],
   "source": [
    "model = LinearRegression()\n",
    "scores_rmse,scores_mae,scores_mad = train_and_evaluate(model,splits)\n",
    "\n",
    "\n",
    "print(\"RMSE: %f\" % np.mean(scores_rmse))\n",
    "print(\"MAE: %f\" % np.mean(scores_mae))\n",
    "print(\"MAD: %f\" % np.mean(scores_mad))\n",
    "\n",
    "record_scores('raw Linear Regression',np.mean(scores_rmse),np.mean(scores_mae),np.mean(scores_mad))"
   ]
  },
  {
   "cell_type": "code",
   "execution_count": 53,
   "metadata": {
    "scrolled": true
   },
   "outputs": [
    {
     "name": "stdout",
     "output_type": "stream",
     "text": [
      "RMSE: 20525.062038\n",
      "MAE: 6248.621772\n",
      "MAD: 3751.984974\n"
     ]
    }
   ],
   "source": [
    "model = MLPRegressor(max_iter=200,hidden_layer_sizes=(50,50,50,50),early_stopping=True,random_state=SEED)\n",
    "scores_rmse,scores_mae,scores_mad = train_and_evaluate(model,splits)\n",
    "\n",
    "\n",
    "print(\"RMSE: %f\" % np.mean(scores_rmse))\n",
    "print(\"MAE: %f\" % np.mean(scores_mae))\n",
    "print(\"MAD: %f\" % np.mean(scores_mad))\n",
    "\n",
    "record_scores('raw ANN50*4',np.mean(scores_rmse),np.mean(scores_mae),np.mean(scores_mad))"
   ]
  },
  {
   "cell_type": "code",
   "execution_count": 54,
   "metadata": {},
   "outputs": [
    {
     "name": "stdout",
     "output_type": "stream",
     "text": [
      "RMSE: 19737.907886\n",
      "MAE: 4866.009154\n",
      "MAD: 2732.717625\n"
     ]
    }
   ],
   "source": [
    "model = RandomForestRegressor(n_estimators=50, criterion='mse', max_depth=23, max_features='log2',min_samples_leaf=5,random_state=SEED)\n",
    "scores_rmse,scores_mae,scores_mad = train_and_evaluate(model,splits)\n",
    "\n",
    "\n",
    "print(\"RMSE: %f\" % np.mean(scores_rmse))\n",
    "print(\"MAE: %f\" % np.mean(scores_mae))\n",
    "print(\"MAD: %f\" % np.mean(scores_mad))\n",
    "\n",
    "record_scores('raw RF_d23',np.mean(scores_rmse),np.mean(scores_mae),np.mean(scores_mad))"
   ]
  },
  {
   "cell_type": "code",
   "execution_count": 55,
   "metadata": {},
   "outputs": [
    {
     "name": "stdout",
     "output_type": "stream",
     "text": [
      "RMSE: 19442.444211\n",
      "MAE: 4790.685370\n",
      "MAD: 2522.061022\n"
     ]
    }
   ],
   "source": [
    "model = GradientBoostingRegressor(random_state=SEED,min_samples_leaf=5,max_depth=5)\n",
    "scores_rmse,scores_mae,scores_mad = train_and_evaluate(model,splits)\n",
    "\n",
    "\n",
    "print(\"RMSE: %f\" % np.mean(scores_rmse))\n",
    "print(\"MAE: %f\" % np.mean(scores_mae))\n",
    "print(\"MAD: %f\" % np.mean(scores_mad))\n",
    "\n",
    "record_scores('raw Gradient Boost_d5',np.mean(scores_rmse),np.mean(scores_mae),np.mean(scores_mad))"
   ]
  },
  {
   "cell_type": "code",
   "execution_count": 56,
   "metadata": {},
   "outputs": [
    {
     "name": "stdout",
     "output_type": "stream",
     "text": [
      "RMSE: 18624.512787\n",
      "MAE: 4408.208644\n",
      "MAD: 2097.194139\n"
     ]
    }
   ],
   "source": [
    "model = RandomForestRegressor(n_estimators=50, criterion='mse', max_depth=23, max_features='auto',min_samples_leaf=5,random_state=SEED)\n",
    "scores_rmse,scores_mae,scores_mad = train_and_evaluate(model,splits)\n",
    "\n",
    "\n",
    "print(\"RMSE: %f\" % np.mean(scores_rmse))\n",
    "print(\"MAE: %f\" % np.mean(scores_mae))\n",
    "print(\"MAD: %f\" % np.mean(scores_mad))\n",
    "record_scores('raw RF_d23_FULL',np.mean(scores_rmse),np.mean(scores_mae),np.mean(scores_mad))"
   ]
  },
  {
   "cell_type": "markdown",
   "metadata": {},
   "source": [
    "Sorprendentemente, si bien para el resto de modelos si que apreciamos que el filtrado de outliers supone sustanciales ganancias en términos de MAE y MAD, en el caso del Random Forest la pequeña diferencia en MAD se ve compensado por una reducción muy importante en RMSE y MAE. "
   ]
  },
  {
   "cell_type": "code",
   "execution_count": 57,
   "metadata": {},
   "outputs": [
    {
     "name": "stdout",
     "output_type": "stream",
     "text": [
      "RMSE: 18549.374742\n",
      "MAE: 4388.660762\n",
      "MAD: 2089.153065\n"
     ]
    }
   ],
   "source": [
    "model = RandomForestRegressor(n_estimators=100, criterion='mse', max_depth=23, max_features='auto',min_samples_leaf=5,random_state=SEED)\n",
    "scores_rmse,scores_mae,scores_mad = train_and_evaluate(model,splits)\n",
    "\n",
    "\n",
    "print(\"RMSE: %f\" % np.mean(scores_rmse))\n",
    "print(\"MAE: %f\" % np.mean(scores_mae))\n",
    "print(\"MAD: %f\" % np.mean(scores_mad))\n",
    "record_scores('raw RF_d23_n100_FULL',np.mean(scores_rmse),np.mean(scores_mae),np.mean(scores_mad))"
   ]
  },
  {
   "cell_type": "code",
   "execution_count": 58,
   "metadata": {},
   "outputs": [
    {
     "name": "stdout",
     "output_type": "stream",
     "text": [
      "RMSE: 18616.968611\n",
      "MAE: 4404.808375\n",
      "MAD: 2093.367133\n"
     ]
    }
   ],
   "source": [
    "model = RandomForestRegressor(n_estimators=50, criterion='mse', max_depth=24, max_features='auto',min_samples_leaf=5,random_state=SEED)\n",
    "scores_rmse,scores_mae,scores_mad = train_and_evaluate(model,splits)\n",
    "\n",
    "\n",
    "print(\"RMSE: %f\" % np.mean(scores_rmse))\n",
    "print(\"MAE: %f\" % np.mean(scores_mae))\n",
    "print(\"MAD: %f\" % np.mean(scores_mad))\n",
    "record_scores('raw RF_d24_FULL',np.mean(scores_rmse),np.mean(scores_mae),np.mean(scores_mad))"
   ]
  },
  {
   "cell_type": "code",
   "execution_count": 11,
   "metadata": {},
   "outputs": [
    {
     "name": "stdout",
     "output_type": "stream",
     "text": [
      "RMSE: 19819.147112\n",
      "MAE: 4978.909701\n",
      "MAD: 2805.818623\n"
     ]
    }
   ],
   "source": [
    "model = GradientBoostingRegressor(random_state=SEED)\n",
    "scores_rmse,scores_mae,scores_mad = train_and_evaluate(model,splits)\n",
    "\n",
    "\n",
    "print(\"RMSE: %f\" % np.mean(scores_rmse))\n",
    "print(\"MAE: %f\" % np.mean(scores_mae))\n",
    "print(\"MAD: %f\" % np.mean(scores_mad))\n",
    "\n",
    "record_scores('raw Gradient Boost_d3',np.mean(scores_rmse),np.mean(scores_mae),np.mean(scores_mad))"
   ]
  },
  {
   "cell_type": "markdown",
   "metadata": {},
   "source": [
    "Llegados a este punto no hemos podido investigar más configuraciones debido a falta de tiempo y que las diferentes prubas de cambios de hiperparámetros, si bien aportan una pequeña mejora de los resultados, también han traido un aumento muy sustancial del tiempo de cómputo."
   ]
  },
  {
   "cell_type": "markdown",
   "metadata": {},
   "source": [
    "<a name=Comparacióndemodelos></a>\n",
    "## Comparación de modelos"
   ]
  },
  {
   "cell_type": "code",
   "execution_count": 59,
   "metadata": {},
   "outputs": [
    {
     "data": {
      "text/html": [
       "<div>\n",
       "<style scoped>\n",
       "    .dataframe tbody tr th:only-of-type {\n",
       "        vertical-align: middle;\n",
       "    }\n",
       "\n",
       "    .dataframe tbody tr th {\n",
       "        vertical-align: top;\n",
       "    }\n",
       "\n",
       "    .dataframe thead th {\n",
       "        text-align: right;\n",
       "    }\n",
       "</style>\n",
       "<table border=\"1\" class=\"dataframe\">\n",
       "  <thead>\n",
       "    <tr style=\"text-align: right;\">\n",
       "      <th></th>\n",
       "      <th>mad</th>\n",
       "      <th>mae</th>\n",
       "      <th>rmse</th>\n",
       "    </tr>\n",
       "    <tr>\n",
       "      <th>modelo</th>\n",
       "      <th></th>\n",
       "      <th></th>\n",
       "      <th></th>\n",
       "    </tr>\n",
       "  </thead>\n",
       "  <tbody>\n",
       "    <tr>\n",
       "      <th>Linear Regresion</th>\n",
       "      <td>3039.409075</td>\n",
       "      <td>5257.209822</td>\n",
       "      <td>21866.239828</td>\n",
       "    </tr>\n",
       "    <tr>\n",
       "      <th>Lasso</th>\n",
       "      <td>3037.112226</td>\n",
       "      <td>5255.091905</td>\n",
       "      <td>21862.705461</td>\n",
       "    </tr>\n",
       "    <tr>\n",
       "      <th>Ridge</th>\n",
       "      <td>3039.435218</td>\n",
       "      <td>5257.069194</td>\n",
       "      <td>21865.927595</td>\n",
       "    </tr>\n",
       "    <tr>\n",
       "      <th>ElasticNet</th>\n",
       "      <td>3101.583763</td>\n",
       "      <td>5266.374945</td>\n",
       "      <td>21810.483924</td>\n",
       "    </tr>\n",
       "    <tr>\n",
       "      <th>ANN50*4</th>\n",
       "      <td>2397.541365</td>\n",
       "      <td>4728.631802</td>\n",
       "      <td>21702.603384</td>\n",
       "    </tr>\n",
       "    <tr>\n",
       "      <th>RegressionTree</th>\n",
       "      <td>2223.817397</td>\n",
       "      <td>4802.948535</td>\n",
       "      <td>22670.479224</td>\n",
       "    </tr>\n",
       "    <tr>\n",
       "      <th>RF_d17</th>\n",
       "      <td>2654.554734</td>\n",
       "      <td>5190.630200</td>\n",
       "      <td>22885.472091</td>\n",
       "    </tr>\n",
       "    <tr>\n",
       "      <th>RF_d23</th>\n",
       "      <td>2549.585133</td>\n",
       "      <td>5112.145407</td>\n",
       "      <td>22861.309229</td>\n",
       "    </tr>\n",
       "    <tr>\n",
       "      <th>RF_d23_FULL</th>\n",
       "      <td>2059.083895</td>\n",
       "      <td>4621.045433</td>\n",
       "      <td>22655.050330</td>\n",
       "    </tr>\n",
       "    <tr>\n",
       "      <th>Gradient Boost_d5</th>\n",
       "      <td>2163.067239</td>\n",
       "      <td>4675.047281</td>\n",
       "      <td>22660.424748</td>\n",
       "    </tr>\n",
       "    <tr>\n",
       "      <th>Gradient Boost_d7</th>\n",
       "      <td>2070.359545</td>\n",
       "      <td>4597.104610</td>\n",
       "      <td>22657.066140</td>\n",
       "    </tr>\n",
       "    <tr>\n",
       "      <th>raw Linear Regression</th>\n",
       "      <td>3266.257244</td>\n",
       "      <td>5780.098872</td>\n",
       "      <td>20453.694566</td>\n",
       "    </tr>\n",
       "    <tr>\n",
       "      <th>raw ANN50*4</th>\n",
       "      <td>3751.984974</td>\n",
       "      <td>6248.621772</td>\n",
       "      <td>20525.062038</td>\n",
       "    </tr>\n",
       "    <tr>\n",
       "      <th>raw RF_d23</th>\n",
       "      <td>2732.717625</td>\n",
       "      <td>4866.009154</td>\n",
       "      <td>19737.907886</td>\n",
       "    </tr>\n",
       "    <tr>\n",
       "      <th>raw Gradient Boost_d5</th>\n",
       "      <td>2522.061022</td>\n",
       "      <td>4790.685370</td>\n",
       "      <td>19442.444211</td>\n",
       "    </tr>\n",
       "    <tr>\n",
       "      <th>raw RF_d23_FULL</th>\n",
       "      <td>2097.194139</td>\n",
       "      <td>4408.208644</td>\n",
       "      <td>18624.512787</td>\n",
       "    </tr>\n",
       "    <tr>\n",
       "      <th>raw RF_d23_n100_FULL</th>\n",
       "      <td>2089.153065</td>\n",
       "      <td>4388.660762</td>\n",
       "      <td>18549.374742</td>\n",
       "    </tr>\n",
       "    <tr>\n",
       "      <th>raw RF_d24_FULL</th>\n",
       "      <td>2093.367133</td>\n",
       "      <td>4404.808375</td>\n",
       "      <td>18616.968611</td>\n",
       "    </tr>\n",
       "  </tbody>\n",
       "</table>\n",
       "</div>"
      ],
      "text/plain": [
       "                               mad          mae          rmse\n",
       "modelo                                                       \n",
       "Linear Regresion       3039.409075  5257.209822  21866.239828\n",
       "Lasso                  3037.112226  5255.091905  21862.705461\n",
       "Ridge                  3039.435218  5257.069194  21865.927595\n",
       "ElasticNet             3101.583763  5266.374945  21810.483924\n",
       "ANN50*4                2397.541365  4728.631802  21702.603384\n",
       "RegressionTree         2223.817397  4802.948535  22670.479224\n",
       "RF_d17                 2654.554734  5190.630200  22885.472091\n",
       "RF_d23                 2549.585133  5112.145407  22861.309229\n",
       "RF_d23_FULL            2059.083895  4621.045433  22655.050330\n",
       "Gradient Boost_d5      2163.067239  4675.047281  22660.424748\n",
       "Gradient Boost_d7      2070.359545  4597.104610  22657.066140\n",
       "raw Linear Regression  3266.257244  5780.098872  20453.694566\n",
       "raw ANN50*4            3751.984974  6248.621772  20525.062038\n",
       "raw RF_d23             2732.717625  4866.009154  19737.907886\n",
       "raw Gradient Boost_d5  2522.061022  4790.685370  19442.444211\n",
       "raw RF_d23_FULL        2097.194139  4408.208644  18624.512787\n",
       "raw RF_d23_n100_FULL   2089.153065  4388.660762  18549.374742\n",
       "raw RF_d24_FULL        2093.367133  4404.808375  18616.968611"
      ]
     },
     "metadata": {},
     "output_type": "display_data"
    }
   ],
   "source": [
    "scores_df = pd.DataFrame(data=scores)\n",
    "\n",
    "scores_df = scores_df.set_index('modelo')\n",
    "\n",
    "display(scores_df)"
   ]
  },
  {
   "cell_type": "code",
   "execution_count": 60,
   "metadata": {
    "scrolled": true
   },
   "outputs": [
    {
     "data": {
      "text/plain": [
       "<matplotlib.axes._subplots.AxesSubplot at 0x7fb222e280b8>"
      ]
     },
     "execution_count": 60,
     "metadata": {},
     "output_type": "execute_result"
    },
    {
     "data": {
      "image/png": "[encoded data removed]",
      "text/plain": [
       "<matplotlib.figure.Figure at 0x7fb265ee3dd8>"
      ]
     },
     "metadata": {},
     "output_type": "display_data"
    }
   ],
   "source": [
    "scores_df = scores_df.sort_values(by=\"mad\")\n",
    "scores_df.plot(kind='bar',y='mad',colormap='Blues_r',figsize=(12, 8))"
   ]
  },
  {
   "cell_type": "code",
   "execution_count": 61,
   "metadata": {
    "scrolled": true
   },
   "outputs": [
    {
     "data": {
      "text/plain": [
       "<matplotlib.axes._subplots.AxesSubplot at 0x7fb222d2e240>"
      ]
     },
     "execution_count": 61,
     "metadata": {},
     "output_type": "execute_result"
    },
    {
     "data": {
      "image/png": "[encoded data removed]",
      "text/plain": [
       "<matplotlib.figure.Figure at 0x7fb265ee3c18>"
      ]
     },
     "metadata": {},
     "output_type": "display_data"
    }
   ],
   "source": [
    "scores_df = scores_df.sort_values(by=\"mae\")\n",
    "scores_df.plot(kind='bar',y='mae',colormap='Oranges_r',figsize=(12, 8))"
   ]
  },
  {
   "cell_type": "code",
   "execution_count": 62,
   "metadata": {
    "scrolled": true
   },
   "outputs": [
    {
     "data": {
      "text/plain": [
       "<matplotlib.axes._subplots.AxesSubplot at 0x7fb222cff278>"
      ]
     },
     "execution_count": 62,
     "metadata": {},
     "output_type": "execute_result"
    },
    {
     "data": {
      "image/png": "[encoded data removed]",
      "text/plain": [
       "<matplotlib.figure.Figure at 0x7fb222d0d3c8>"
      ]
     },
     "metadata": {},
     "output_type": "display_data"
    }
   ],
   "source": [
    "scores_df = scores_df.sort_values(by=\"rmse\")\n",
    "scores_df.plot(kind='bar',y='rmse',colormap='Greens_r',figsize=(12, 8))"
   ]
  },
  {
   "cell_type": "markdown",
   "metadata": {},
   "source": [
    "Teniendo en cuenta todo esto, finalmente nos hemos decidido por el modelo **raw RF_d23_n100_FULL**. Inicialmente, y con la mayoría de modelos, nuestra idea inicial de eliminar outliers había obtenido mejoras muy grandes en MAE y MAD que, a nuestro juicio, compensaban de sobra pequeñas pérdidas en RMSE ya que mejoraban el conjunto de las predicciones. Sin embargo, los modelos de Random Forest profundos han demostrado que son capaces de reducir de enorme manera los grandes errores cometidos en algunos clientes puntuales, a cambio de una pequeña pérdida de MAD. Si bien el rendimiento se reducirá muy ligeramente en general (en realidad se reduce de manera ínfima, si nos fijamos en el MAD, significa que el error mediano empeora sólo en 30€), esto nos va a permitir cometer fallos mucho más pequeños en clientes atípicos, ya que reducimos en más de 4000€ el RMSE, por lo que finalmente hemos optado por este modelo. "
   ]
  },
  {
   "cell_type": "markdown",
   "metadata": {},
   "source": [
    "<a name=Predicción></a>\n",
    "# Predicción"
   ]
  },
  {
   "cell_type": "code",
   "execution_count": 63,
   "metadata": {
    "scrolled": true
   },
   "outputs": [
    {
     "name": "stderr",
     "output_type": "stream",
     "text": [
      "/home/jairsan/Documents/dev/AlwaysLearningDeeper/Salesforce-Predictive-Modelling/venv/lib/python3.5/site-packages/IPython/core/interactiveshell.py:2728: DtypeWarning: Columns (83) have mixed types. Specify dtype option on import or set low_memory=False.\n",
      "  interactivity=interactivity, compiler=compiler, result=result)\n"
     ]
    }
   ],
   "source": [
    "splits = []\n",
    "\n",
    "model = RandomForestRegressor(n_estimators=100, criterion='mse', max_depth=23, max_features='auto',min_samples_leaf=5,random_state=SEED)\n",
    "\n",
    "# Entrenamos con todos los datos\n",
    "f_train_df = process_df(train_df,0,train = True)\n",
    "\n",
    "x_train = f_train_df.drop(labels=[\"Poder_Adquisitivo\"],axis=1).as_matrix()\n",
    "y_train = f_train_df[\"Poder_Adquisitivo\"].as_matrix()\n",
    "\n",
    "\n",
    "\n",
    "model.fit(X=x_train,y=y_train)\n",
    "\n",
    "\n",
    "test_df = pd.read_csv(\"data/original/Dataset_Salesforce_Predictive_Modelling_TEST.txt\")\n",
    "ids = test_df[\"ID_Customer\"].copy()\n",
    "test_df =  process_df(test_df,0,train = False)\n",
    "\n",
    "x_test = test_df.as_matrix()\n",
    "\n",
    "# Estiamamos el poder adquisitivo\n",
    "y = model.predict(X=x_test)\n",
    "\n",
    "\n"
   ]
  },
  {
   "cell_type": "markdown",
   "metadata": {},
   "source": [
    "Solo nos falta escribir estos resultados en disco."
   ]
  },
  {
   "cell_type": "code",
   "execution_count": 64,
   "metadata": {},
   "outputs": [],
   "source": [
    "out = pd.DataFrame(np.stack((ids, y), axis=1, out=None), columns=['ID_Customer', 'PA_Est']).set_index('ID_Customer')\n",
    "out.to_csv('Test_Mission.txt')"
   ]
  },
  {
   "cell_type": "markdown",
   "metadata": {},
   "source": [
    "# Experimentos fase 2"
   ]
  },
  {
   "cell_type": "code",
   "execution_count": 25,
   "metadata": {},
   "outputs": [],
   "source": [
    "splits = []\n",
    "splits = get_splits(kf,2)"
   ]
  },
  {
   "cell_type": "code",
   "execution_count": 27,
   "metadata": {},
   "outputs": [
    {
     "name": "stdout",
     "output_type": "stream",
     "text": [
      "RMSE: 18624.512787\n",
      "MAE: 4408.208644\n",
      "MAD: 2097.194139\n"
     ]
    }
   ],
   "source": [
    "model = RandomForestRegressor(n_estimators=50, criterion='mse', max_depth=23, max_features='auto',min_samples_leaf=5,n_jobs=4,random_state=SEED)\n",
    "scores_rmse,scores_mae,scores_mad = train_and_evaluate(model,splits)\n",
    "\n",
    "\n",
    "print(\"RMSE: %f\" % np.mean(scores_rmse))\n",
    "print(\"MAE: %f\" % np.mean(scores_mae))\n",
    "print(\"MAD: %f\" % np.mean(scores_mad))\n",
    "record_scores('process_2_raw RF_d23_FULL',np.mean(scores_rmse),np.mean(scores_mae),np.mean(scores_mad))"
   ]
  },
  {
   "cell_type": "code",
   "execution_count": 28,
   "metadata": {},
   "outputs": [],
   "source": [
    "splits = []\n",
    "splits = get_splits(kf,0)"
   ]
  },
  {
   "cell_type": "code",
   "execution_count": null,
   "metadata": {},
   "outputs": [],
   "source": [
    "%%time\n",
    "model = MLPRegressor(activation='logistic',max_iter=200,hidden_layer_sizes=(25,25,25),verbose=True,random_state=SEED)\n",
    "scores_rmse,scores_mae,scores_mad = train_and_evaluate(model,splits)\n",
    "\n",
    "\n",
    "print(\"RMSE: %f\" % np.mean(scores_rmse))\n",
    "print(\"MAE: %f\" % np.mean(scores_mae))\n",
    "print(\"MAD: %f\" % np.mean(scores_mad))\n",
    "record_scores('sigmoid_NN_25*3',np.mean(scores_rmse),np.mean(scores_mae),np.mean(scores_mad))"
   ]
  },
  {
   "cell_type": "code",
   "execution_count": 13,
   "metadata": {},
   "outputs": [
    {
     "name": "stdout",
     "output_type": "stream",
     "text": [
      "RMSE: 19578.289591\n",
      "MAE: 4740.829391\n",
      "MAD: 2533.919437\n",
      "CPU times: user 4min 56s, sys: 1.26 s, total: 4min 57s\n",
      "Wall time: 1min 43s\n"
     ]
    }
   ],
   "source": [
    "%%time\n",
    "params =  {'max_depth': 7, 'eta': 0.1, 'silent': 1, 'objective': 'reg:linear', 'eval_metric':'rmse','nthread':3, 'seed':SEED}\n",
    "model = XGBoostModel(params,100)\n",
    "scores_rmse,scores_mae,scores_mad = train_and_evaluate(model,splits)\n",
    "\n",
    "\n",
    "print(\"RMSE: %f\" % np.mean(scores_rmse))\n",
    "print(\"MAE: %f\" % np.mean(scores_mae))\n",
    "print(\"MAD: %f\" % np.mean(scores_mad))\n",
    "record_scores('raw_XGB_d7_eta0.1_n100',np.mean(scores_rmse),np.mean(scores_mae),np.mean(scores_mad))"
   ]
  },
  {
   "cell_type": "code",
   "execution_count": 14,
   "metadata": {},
   "outputs": [
    {
     "name": "stdout",
     "output_type": "stream",
     "text": [
      "RMSE: 19439.278279\n",
      "MAE: 4584.188271\n",
      "MAD: 2351.787121\n",
      "CPU times: user 6min 31s, sys: 1.27 s, total: 6min 32s\n",
      "Wall time: 2min 14s\n"
     ]
    }
   ],
   "source": [
    "%%time\n",
    "params =  {'max_depth': 9, 'eta': 0.1, 'silent': 1, 'objective': 'reg:linear', 'eval_metric':'rmse','nthread':3,'seed':SEED}\n",
    "model = XGBoostModel(params,100)\n",
    "scores_rmse,scores_mae,scores_mad = train_and_evaluate(model,splits)\n",
    "\n",
    "\n",
    "print(\"RMSE: %f\" % np.mean(scores_rmse))\n",
    "print(\"MAE: %f\" % np.mean(scores_mae))\n",
    "print(\"MAD: %f\" % np.mean(scores_mad))\n",
    "record_scores('raw_XGB_d9_eta0.1_n100',np.mean(scores_rmse),np.mean(scores_mae),np.mean(scores_mad))"
   ]
  },
  {
   "cell_type": "code",
   "execution_count": 16,
   "metadata": {},
   "outputs": [
    {
     "name": "stdout",
     "output_type": "stream",
     "text": [
      "RMSE: 19804.278757\n",
      "MAE: 4531.007204\n",
      "MAD: 2221.789747\n",
      "CPU times: user 8min 3s, sys: 1.37 s, total: 8min 4s\n",
      "Wall time: 2min 45s\n"
     ]
    }
   ],
   "source": [
    "%%time\n",
    "params =  {'max_depth': 13, 'eta': 0.1, 'silent': 1, 'objective': 'reg:linear', 'eval_metric':'rmse','nthread':3,'seed':SEED}\n",
    "model = XGBoostModel(params,100)\n",
    "scores_rmse,scores_mae,scores_mad = train_and_evaluate(model,splits)\n",
    "\n",
    "\n",
    "print(\"RMSE: %f\" % np.mean(scores_rmse))\n",
    "print(\"MAE: %f\" % np.mean(scores_mae))\n",
    "print(\"MAD: %f\" % np.mean(scores_mad))\n",
    "record_scores('raw_XGB_d13_eta0.1_n100',np.mean(scores_rmse),np.mean(scores_mae),np.mean(scores_mad))"
   ]
  },
  {
   "cell_type": "code",
   "execution_count": 11,
   "metadata": {},
   "outputs": [
    {
     "name": "stdout",
     "output_type": "stream",
     "text": [
      "RMSE: 18678.497090\n",
      "MAE: 4462.721005\n",
      "MAD: 2197.574291\n",
      "CPU times: user 9min 11s, sys: 2.41 s, total: 9min 14s\n",
      "Wall time: 2min 37s\n"
     ]
    }
   ],
   "source": [
    "%%time\n",
    "params =  {'max_depth': 13, 'eta': 0.1, 'silent': 1, 'objective': 'reg:linear', 'subsample':0.8,'eval_metric':'rmse','nthread':4,'seed':SEED}\n",
    "model = XGBoostModel(params,100)\n",
    "scores_rmse,scores_mae,scores_mad = train_and_evaluate(model,splits)\n",
    "\n",
    "\n",
    "print(\"RMSE: %f\" % np.mean(scores_rmse))\n",
    "print(\"MAE: %f\" % np.mean(scores_mae))\n",
    "print(\"MAD: %f\" % np.mean(scores_mad))\n",
    "record_scores('raw_XGB_d13_eta0.1_n100_sbspl',np.mean(scores_rmse),np.mean(scores_mae),np.mean(scores_mad))"
   ]
  },
  {
   "cell_type": "markdown",
   "metadata": {},
   "source": [
    "# Bayesian optimization"
   ]
  },
  {
   "cell_type": "code",
   "execution_count": null,
   "metadata": {},
   "outputs": [
    {
     "name": "stdout",
     "output_type": "stream",
     "text": [
      "\u001b[31mInitialization\u001b[0m\n",
      "\u001b[94m---------------------------------------------------------------------------------------------------------------------------\u001b[0m\n",
      " Step |   Time |      Value |     alpha |   colsample_bytree |     gamma |   max_depth |   min_child_weight |   subsample | \n",
      "Multiple eval metrics have been passed: 'test-mae' will be used for early stopping.\n",
      "\n",
      "Will train until test-mae hasn't improved in 5 rounds.\n",
      "Stopping. Best iteration:\n",
      "[62]\ttrain-mae:4130.05+51.3704\ttest-mae:4788.21+70.5085\n",
      "\n",
      "    1 | 02m24s | \u001b[35m-4788.20850\u001b[0m | \u001b[32m  10.0781\u001b[0m | \u001b[32m            0.1978\u001b[0m | \u001b[32m   9.9427\u001b[0m | \u001b[32m    17.0602\u001b[0m | \u001b[32m           17.9064\u001b[0m | \u001b[32m     0.5962\u001b[0m | \n",
      "Multiple eval metrics have been passed: 'test-mae' will be used for early stopping.\n",
      "\n",
      "Will train until test-mae hasn't improved in 5 rounds.\n",
      "Stopping. Best iteration:\n",
      "[33]\ttrain-mae:3901.73+46.1966\ttest-mae:4610.13+97.5695\n",
      "\n",
      "    2 | 02m08s | \u001b[35m-4610.12549\u001b[0m | \u001b[32m   7.3736\u001b[0m | \u001b[32m            0.3830\u001b[0m | \u001b[32m   4.6324\u001b[0m | \u001b[32m    16.6396\u001b[0m | \u001b[32m            5.8891\u001b[0m | \u001b[32m     0.5404\u001b[0m | \n",
      "Multiple eval metrics have been passed: 'test-mae' will be used for early stopping.\n",
      "\n",
      "Will train until test-mae hasn't improved in 5 rounds.\n",
      "Stopping. Best iteration:\n",
      "[30]\ttrain-mae:4106.03+52.4811\ttest-mae:4460.07+71.4144\n",
      "\n",
      "    3 | 02m45s | \u001b[35m-4460.07129\u001b[0m | \u001b[32m   3.2020\u001b[0m | \u001b[32m            0.7203\u001b[0m | \u001b[32m   5.3361\u001b[0m | \u001b[32m    14.7652\u001b[0m | \u001b[32m           16.6620\u001b[0m | \u001b[32m     0.6135\u001b[0m | \n",
      "Multiple eval metrics have been passed: 'test-mae' will be used for early stopping.\n",
      "\n",
      "Will train until test-mae hasn't improved in 5 rounds.\n",
      "    4 | 02m38s | -4865.73779 |    8.5780 |             0.1515 |    4.6268 |     17.8772 |             4.5176 |      0.7669 | \n",
      "Multiple eval metrics have been passed: 'test-mae' will be used for early stopping.\n",
      "\n",
      "Will train until test-mae hasn't improved in 5 rounds.\n",
      "Stopping. Best iteration:\n",
      "[31]\ttrain-mae:4397.26+34.804\ttest-mae:4611.87+78.2724\n",
      "\n",
      "    5 | 01m22s | -4611.86719 |    7.6735 |             0.4761 |    8.6256 |     10.9214 |            12.0233 |      0.6699 | \n",
      "Multiple eval metrics have been passed: 'test-mae' will be used for early stopping.\n",
      "\n",
      "Will train until test-mae hasn't improved in 5 rounds.\n",
      "Stopping. Best iteration:\n",
      "[31]\ttrain-mae:4597.72+29.0366\ttest-mae:4769.98+89.8194\n",
      "\n",
      "    6 | 00m59s | -4769.98369 |    2.5163 |             0.4552 |    6.4770 |      7.7395 |             4.9638 |      0.5672 | \n",
      "Multiple eval metrics have been passed: 'test-mae' will be used for early stopping.\n",
      "\n",
      "Will train until test-mae hasn't improved in 5 rounds.\n",
      "Stopping. Best iteration:\n",
      "[33]\ttrain-mae:3922.01+60.4923\ttest-mae:4476.06+85.0174\n",
      "\n",
      "    7 | 02m10s | -4476.05752 |    4.8704 |             0.5357 |    9.6543 |     14.9070 |             9.4639 |      0.8405 | \n",
      "Multiple eval metrics have been passed: 'test-mae' will be used for early stopping.\n",
      "\n",
      "Will train until test-mae hasn't improved in 5 rounds.\n",
      "Stopping. Best iteration:\n",
      "[29]\ttrain-mae:3630.67+61.1245\ttest-mae:4387.15+72.0829\n",
      "\n",
      "    8 | 03m19s | \u001b[35m-4387.15020\u001b[0m | \u001b[32m  10.8703\u001b[0m | \u001b[32m            0.7991\u001b[0m | \u001b[32m   9.7385\u001b[0m | \u001b[32m    17.1110\u001b[0m | \u001b[32m           12.7247\u001b[0m | \u001b[32m     0.8677\u001b[0m | \n",
      "Multiple eval metrics have been passed: 'test-mae' will be used for early stopping.\n",
      "\n",
      "Will train until test-mae hasn't improved in 5 rounds.\n",
      "Stopping. Best iteration:\n",
      "[33]\ttrain-mae:3802.77+51.5193\ttest-mae:4524.57+94.3228\n",
      "\n",
      "    9 | 02m01s | -4524.56973 |   12.5928 |             0.3866 |   12.9333 |     17.9947 |            17.9811 |      0.9273 | \n",
      "Multiple eval metrics have been passed: 'test-mae' will be used for early stopping.\n",
      "\n",
      "Will train until test-mae hasn't improved in 5 rounds.\n",
      "   10 | 01m42s | -4895.61426 |    2.8433 |             0.1329 |   11.9906 |     12.6913 |            18.9916 |      0.5799 | \n",
      "Multiple eval metrics have been passed: 'test-mae' will be used for early stopping.\n",
      "\n",
      "Will train until test-mae hasn't improved in 5 rounds.\n",
      "Stopping. Best iteration:\n",
      "[77]\ttrain-mae:3152.05+38.4266\ttest-mae:4804.92+72.4171\n",
      "\n",
      "   11 | 03m28s | -4804.92070 |    4.0272 |             0.2282 |    0.5623 |     19.2666 |             2.6271 |      0.5146 | \n",
      "Multiple eval metrics have been passed: 'test-mae' will be used for early stopping.\n",
      "\n",
      "Will train until test-mae hasn't improved in 5 rounds.\n",
      "Stopping. Best iteration:\n",
      "[29]\ttrain-mae:4033.44+55.58\ttest-mae:4445.21+78.455\n",
      "\n",
      "   12 | 02m31s | -4445.20908 |    9.2582 |             0.6998 |    0.0543 |     14.1184 |            15.8813 |      0.7616 | \n",
      "Multiple eval metrics have been passed: 'test-mae' will be used for early stopping.\n",
      "\n",
      "Will train until test-mae hasn't improved in 5 rounds.\n",
      "Stopping. Best iteration:\n",
      "[30]\ttrain-mae:4030.96+40.126\ttest-mae:4452.98+82.0525\n",
      "\n",
      "   13 | 02m46s | -4452.98496 |    1.8036 |             0.6122 |    9.6989 |     16.8854 |            18.3170 |      0.5534 | \n",
      "Multiple eval metrics have been passed: 'test-mae' will be used for early stopping.\n",
      "\n",
      "Will train until test-mae hasn't improved in 5 rounds.\n",
      "   14 | 00m59s | -4996.43555 |    6.0336 |             0.1353 |   12.2369 |      6.9440 |             9.6996 |      0.5765 | \n",
      "Multiple eval metrics have been passed: 'test-mae' will be used for early stopping.\n",
      "\n",
      "Will train until test-mae hasn't improved in 5 rounds.\n",
      "Stopping. Best iteration:\n",
      "[28]\ttrain-mae:4378.33+43.7578\ttest-mae:4562.23+61.5254\n",
      "\n",
      "   15 | 02m10s | -4562.22803 |   14.3280 |             0.9256 |    5.3267 |     10.8772 |            16.5016 |      0.6883 | \n",
      "Multiple eval metrics have been passed: 'test-mae' will be used for early stopping.\n",
      "\n",
      "Will train until test-mae hasn't improved in 5 rounds.\n",
      "Stopping. Best iteration:\n",
      "[33]\ttrain-mae:3046.79+58.2959\ttest-mae:4425.69+92.4464\n",
      "\n",
      "   16 | 03m10s | -4425.68926 |    1.6561 |             0.5582 |   14.1820 |     18.0616 |             2.9812 |      0.7492 | \n",
      "Multiple eval metrics have been passed: 'test-mae' will be used for early stopping.\n",
      "\n",
      "Will train until test-mae hasn't improved in 5 rounds.\n",
      "Stopping. Best iteration:\n",
      "[30]\ttrain-mae:4048.66+38.1629\ttest-mae:4437.58+77.3708\n",
      "\n",
      "   17 | 02m54s | -4437.57978 |   14.5207 |             0.6445 |    0.2569 |     16.6390 |            19.2915 |      0.5240 | \n",
      "Multiple eval metrics have been passed: 'test-mae' will be used for early stopping.\n",
      "\n",
      "Will train until test-mae hasn't improved in 5 rounds.\n",
      "   18 | 01m17s | -4936.26133 |   14.7153 |             0.1280 |    3.7914 |      9.5299 |            10.1779 |      0.6085 | \n",
      "Multiple eval metrics have been passed: 'test-mae' will be used for early stopping.\n",
      "\n",
      "Will train until test-mae hasn't improved in 5 rounds.\n",
      "   19 | 02m06s | -4939.92783 |   14.8254 |             0.1291 |   11.3947 |     16.2713 |             9.2273 |      0.7591 | \n",
      "Multiple eval metrics have been passed: 'test-mae' will be used for early stopping.\n",
      "\n",
      "Will train until test-mae hasn't improved in 5 rounds.\n",
      "Stopping. Best iteration:\n",
      "[56]\ttrain-mae:3819.58+55.383\ttest-mae:4699.08+69.2468\n",
      "\n",
      "   20 | 02m30s | -4699.07598 |    8.0677 |             0.2561 |   12.9741 |     18.0040 |            12.0341 |      0.6766 | \n",
      "Multiple eval metrics have been passed: 'test-mae' will be used for early stopping.\n",
      "\n",
      "Will train until test-mae hasn't improved in 5 rounds.\n",
      "Stopping. Best iteration:\n",
      "[33]\ttrain-mae:3359.18+57.635\ttest-mae:4485.22+112.528\n",
      "\n",
      "   21 | 02m11s | -4485.21924 |    1.0476 |             0.4437 |    3.3492 |     16.2701 |             3.1046 |      0.8818 | \n",
      "Multiple eval metrics have been passed: 'test-mae' will be used for early stopping.\n",
      "\n",
      "Will train until test-mae hasn't improved in 5 rounds.\n",
      "Stopping. Best iteration:\n",
      "[29]\ttrain-mae:4494.1+56.9699\ttest-mae:4623.56+52.5635\n",
      "\n",
      "   22 | 02m02s | -4623.55820 |    4.2023 |             0.8748 |   12.1538 |      9.2618 |            15.3318 |      0.5399 | \n",
      "Multiple eval metrics have been passed: 'test-mae' will be used for early stopping.\n",
      "\n",
      "Will train until test-mae hasn't improved in 5 rounds.\n",
      "Stopping. Best iteration:\n",
      "[30]\ttrain-mae:4200.5+52.7589\ttest-mae:4525.16+59.3156\n",
      "\n",
      "   23 | 02m42s | -4525.16230 |    1.6928 |             0.9840 |    1.0034 |     11.1860 |             7.2493 |      0.6876 | \n",
      "Multiple eval metrics have been passed: 'test-mae' will be used for early stopping.\n",
      "\n"
     ]
    },
    {
     "name": "stdout",
     "output_type": "stream",
     "text": [
      "Will train until test-mae hasn't improved in 5 rounds.\n",
      "Stopping. Best iteration:\n",
      "[30]\ttrain-mae:4602.93+40.4748\ttest-mae:4723.73+68.7949\n",
      "\n",
      "   24 | 00m59s | -4723.72891 |   12.5231 |             0.5207 |   10.0397 |      7.2705 |            16.3497 |      0.8668 | \n",
      "Multiple eval metrics have been passed: 'test-mae' will be used for early stopping.\n",
      "\n",
      "Will train until test-mae hasn't improved in 5 rounds.\n",
      "   25 | 01m55s | -5107.27363 |    9.6857 |             0.1004 |   11.9916 |     17.2813 |            12.9741 |      0.6756 | \n",
      "\u001b[31mBayesian Optimization\u001b[0m\n",
      "\u001b[94m---------------------------------------------------------------------------------------------------------------------------\u001b[0m\n",
      " Step |   Time |      Value |     alpha |   colsample_bytree |     gamma |   max_depth |   min_child_weight |   subsample | \n",
      "Multiple eval metrics have been passed: 'test-mae' will be used for early stopping.\n",
      "\n",
      "Will train until test-mae hasn't improved in 5 rounds.\n",
      "   26 | 02m57s | -4834.96143 |    0.0000 |             1.0000 |    0.0000 |      5.0000 |            20.0000 |      1.0000 | \n",
      "Multiple eval metrics have been passed: 'test-mae' will be used for early stopping.\n",
      "\n",
      "Will train until test-mae hasn't improved in 5 rounds.\n",
      "Stopping. Best iteration:\n",
      "[30]\ttrain-mae:3392.57+68.7942\ttest-mae:4339.84+64.1586\n",
      "\n",
      "   27 | 04m33s | \u001b[35m-4339.84082\u001b[0m | \u001b[32m   0.0000\u001b[0m | \u001b[32m            1.0000\u001b[0m | \u001b[32m   0.0000\u001b[0m | \u001b[32m    20.0000\u001b[0m | \u001b[32m           20.0000\u001b[0m | \u001b[32m     1.0000\u001b[0m | \n",
      "Multiple eval metrics have been passed: 'test-mae' will be used for early stopping.\n",
      "\n",
      "Will train until test-mae hasn't improved in 5 rounds.\n",
      "   28 | 03m01s | -4697.75225 |   15.0000 |             1.0000 |   15.0000 |      5.0000 |             1.0000 |      1.0000 | \n",
      "Multiple eval metrics have been passed: 'test-mae' will be used for early stopping.\n",
      "\n",
      "Will train until test-mae hasn't improved in 5 rounds.\n",
      "Stopping. Best iteration:\n",
      "[30]\ttrain-mae:3209.1+76.9619\ttest-mae:4358.22+67.1932\n",
      "\n",
      "   29 | 04m35s | -4358.21934 |    0.0000 |             1.0000 |   15.0000 |     20.0000 |            13.2285 |      1.0000 | \n",
      "Multiple eval metrics have been passed: 'test-mae' will be used for early stopping.\n",
      "\n",
      "Will train until test-mae hasn't improved in 5 rounds.\n",
      "Stopping. Best iteration:\n",
      "[30]\ttrain-mae:3398.59+72.9055\ttest-mae:4344.37+61.3755\n",
      "\n",
      "   30 | 04m41s | -4344.36953 |   15.0000 |             1.0000 |   15.0000 |     20.0000 |            20.0000 |      1.0000 | \n",
      "Multiple eval metrics have been passed: 'test-mae' will be used for early stopping.\n",
      "\n",
      "Will train until test-mae hasn't improved in 5 rounds.\n",
      "   31 | 02m56s | -4699.17441 |    0.0000 |             1.0000 |    0.0000 |      5.0000 |             1.0000 |      1.0000 | \n",
      "Multiple eval metrics have been passed: 'test-mae' will be used for early stopping.\n",
      "\n",
      "Will train until test-mae hasn't improved in 5 rounds.\n",
      "   32 | 02m57s | -4834.96143 |    0.0000 |             1.0000 |   15.0000 |      5.0000 |            20.0000 |      1.0000 | \n",
      "Multiple eval metrics have been passed: 'test-mae' will be used for early stopping.\n",
      "\n",
      "Will train until test-mae hasn't improved in 5 rounds.\n",
      "Stopping. Best iteration:\n",
      "[31]\ttrain-mae:3166.9+84.9344\ttest-mae:4364.9+71.3335\n",
      "\n",
      "   33 | 04m51s | -4364.90459 |   15.0000 |             1.0000 |    5.4885 |     20.0000 |            12.2858 |      1.0000 | \n",
      "Multiple eval metrics have been passed: 'test-mae' will be used for early stopping.\n",
      "\n",
      "Will train until test-mae hasn't improved in 5 rounds.\n",
      "Stopping. Best iteration:\n",
      "[35]\ttrain-mae:2171.18+84.9442\ttest-mae:4380.48+98.6288\n",
      "\n",
      "   34 | 05m50s | -4380.47520 |   15.0000 |             1.0000 |   15.0000 |     20.0000 |             1.0000 |      1.0000 | \n",
      "Multiple eval metrics have been passed: 'test-mae' will be used for early stopping.\n",
      "\n",
      "Will train until test-mae hasn't improved in 5 rounds.\n",
      "   35 | 03m00s | -4834.96113 |   15.0000 |             1.0000 |    0.0000 |      5.0000 |            20.0000 |      1.0000 | \n",
      "Multiple eval metrics have been passed: 'test-mae' will be used for early stopping.\n",
      "\n",
      "Will train until test-mae hasn't improved in 5 rounds.\n",
      "Stopping. Best iteration:\n",
      "[35]\ttrain-mae:4843.81+47.8084\ttest-mae:5004.58+70.6392\n",
      "\n",
      "   36 | 01m33s | -5004.58135 |    0.0000 |             1.0000 |   15.0000 |      5.0000 |             1.0000 |      0.5000 | \n",
      "Multiple eval metrics have been passed: 'test-mae' will be used for early stopping.\n",
      "\n",
      "Will train until test-mae hasn't improved in 5 rounds.\n",
      "   37 | 03m03s | -4834.96113 |   15.0000 |             1.0000 |   15.0000 |      5.0000 |            20.0000 |      1.0000 | \n",
      "Multiple eval metrics have been passed: 'test-mae' will be used for early stopping.\n",
      "\n",
      "Will train until test-mae hasn't improved in 5 rounds.\n",
      "   38 | 03m01s | -4697.75225 |   15.0000 |             1.0000 |    0.0000 |      5.0000 |             1.0000 |      1.0000 | \n",
      "Multiple eval metrics have been passed: 'test-mae' will be used for early stopping.\n",
      "\n",
      "Will train until test-mae hasn't improved in 5 rounds.\n",
      "Stopping. Best iteration:\n",
      "[30]\ttrain-mae:3087.72+80.6713\ttest-mae:4373.94+72.382\n",
      "\n",
      "   39 | 04m46s | -4373.93828 |    7.0077 |             1.0000 |    8.1599 |     20.0000 |            10.6831 |      1.0000 | \n",
      "Multiple eval metrics have been passed: 'test-mae' will be used for early stopping.\n",
      "\n",
      "Will train until test-mae hasn't improved in 5 rounds.\n",
      "Stopping. Best iteration:\n",
      "[31]\ttrain-mae:3029.57+95.7873\ttest-mae:4369.87+65.3214\n",
      "\n",
      "   40 | 04m50s | -4369.87285 |    6.2271 |             1.0000 |   15.0000 |     20.0000 |             9.5985 |      1.0000 | \n",
      "Multiple eval metrics have been passed: 'test-mae' will be used for early stopping.\n",
      "\n",
      "Will train until test-mae hasn't improved in 5 rounds.\n",
      "Stopping. Best iteration:\n",
      "[31]\ttrain-mae:3161.27+58.8051\ttest-mae:4394.74+76.7109\n",
      "\n",
      "   41 | 05m41s | -4394.74209 |    0.0000 |             1.0000 |   15.0000 |     20.0000 |             1.0000 |      0.5000 | \n",
      "Multiple eval metrics have been passed: 'test-mae' will be used for early stopping.\n",
      "\n",
      "Will train until test-mae hasn't improved in 5 rounds.\n",
      "Stopping. Best iteration:\n",
      "[29]\ttrain-mae:3823.36+55.311\ttest-mae:4369.29+65.8738\n",
      "\n",
      "   42 | 05m05s | -4369.28936 |    0.0000 |             1.0000 |   15.0000 |     20.0000 |            20.0000 |      0.5000 | \n",
      "Multiple eval metrics have been passed: 'test-mae' will be used for early stopping.\n",
      "\n",
      "Will train until test-mae hasn't improved in 5 rounds.\n",
      "Stopping. Best iteration:\n",
      "[30]\ttrain-mae:3648.11+81.8108\ttest-mae:4384.2+68.4112\n",
      "\n",
      "   43 | 03m41s | -4384.20156 |   11.1499 |             1.0000 |    6.5702 |     16.4339 |            12.4605 |      1.0000 | \n",
      "Multiple eval metrics have been passed: 'test-mae' will be used for early stopping.\n",
      "\n",
      "Will train until test-mae hasn't improved in 5 rounds.\n",
      "Stopping. Best iteration:\n",
      "[30]\ttrain-mae:3398.59+72.9055\ttest-mae:4344.37+61.3755\n",
      "\n",
      "   44 | 04m39s | -4344.36953 |   15.0000 |             1.0000 |    8.7712 |     20.0000 |            20.0000 |      1.0000 | \n",
      "Multiple eval metrics have been passed: 'test-mae' will be used for early stopping.\n",
      "\n",
      "Will train until test-mae hasn't improved in 5 rounds.\n",
      "Stopping. Best iteration:\n",
      "[31]\ttrain-mae:3160.43+58.7214\ttest-mae:4390+82.6118\n",
      "\n",
      "   45 | 05m46s | -4390.00078 |   15.0000 |             1.0000 |    0.0000 |     20.0000 |             1.0000 |      0.5000 | \n",
      "Multiple eval metrics have been passed: 'test-mae' will be used for early stopping.\n",
      "\n",
      "Will train until test-mae hasn't improved in 5 rounds.\n",
      "Stopping. Best iteration:\n",
      "[30]\ttrain-mae:3398.59+72.9055\ttest-mae:4344.37+61.3755\n",
      "\n",
      "   46 | 04m42s | -4344.36953 |   15.0000 |             1.0000 |    0.0000 |     20.0000 |            20.0000 |      1.0000 | \n"
     ]
    },
    {
     "name": "stderr",
     "output_type": "stream",
     "text": [
      "/home/jairsan/Documents/dev/AlwaysLearningDeeper/Salesforce-Predictive-Modelling/venv/lib/python3.5/site-packages/sklearn/gaussian_process/gpr.py:457: UserWarning: fmin_l_bfgs_b terminated abnormally with the  state: {'nit': 3, 'warnflag': 2, 'funcalls': 46, 'grad': array([22.77175445]), 'task': b'ABNORMAL_TERMINATION_IN_LNSRCH'}\n",
      "  \" state: %s\" % convergence_dict)\n"
     ]
    },
    {
     "name": "stdout",
     "output_type": "stream",
     "text": [
      "Multiple eval metrics have been passed: 'test-mae' will be used for early stopping.\n",
      "\n",
      "Will train until test-mae hasn't improved in 5 rounds.\n",
      "Stopping. Best iteration:\n",
      "[31]\ttrain-mae:3201.72+73.6674\ttest-mae:4354.08+65.7728\n",
      "\n",
      "   47 | 04m48s | -4354.08496 |   15.0000 |             1.0000 |    9.4112 |     20.0000 |            13.7491 |      1.0000 | \n"
     ]
    },
    {
     "name": "stderr",
     "output_type": "stream",
     "text": [
      "/home/jairsan/Documents/dev/AlwaysLearningDeeper/Salesforce-Predictive-Modelling/venv/lib/python3.5/site-packages/sklearn/gaussian_process/gpr.py:457: UserWarning: fmin_l_bfgs_b terminated abnormally with the  state: {'nit': 5, 'warnflag': 2, 'funcalls': 50, 'grad': array([18.41588533]), 'task': b'ABNORMAL_TERMINATION_IN_LNSRCH'}\n",
      "  \" state: %s\" % convergence_dict)\n"
     ]
    },
    {
     "name": "stdout",
     "output_type": "stream",
     "text": [
      "Multiple eval metrics have been passed: 'test-mae' will be used for early stopping.\n",
      "\n",
      "Will train until test-mae hasn't improved in 5 rounds.\n",
      "Stopping. Best iteration:\n",
      "[31]\ttrain-mae:3161.27+58.8051\ttest-mae:4394.74+76.7109\n",
      "\n",
      "   48 | 05m41s | -4394.74209 |    0.0000 |             1.0000 |    0.0000 |     20.0000 |             1.0000 |      0.5000 | \n",
      "Multiple eval metrics have been passed: 'test-mae' will be used for early stopping.\n",
      "\n",
      "Will train until test-mae hasn't improved in 5 rounds.\n",
      "Stopping. Best iteration:\n",
      "[29]\ttrain-mae:3823.36+55.311\ttest-mae:4369.29+65.8738\n",
      "\n",
      "   49 | 05m05s | -4369.28936 |    0.0000 |             1.0000 |    8.1443 |     20.0000 |            20.0000 |      0.5000 | \n",
      "Multiple eval metrics have been passed: 'test-mae' will be used for early stopping.\n",
      "\n",
      "Will train until test-mae hasn't improved in 5 rounds.\n",
      "Stopping. Best iteration:\n",
      "[30]\ttrain-mae:3382.72+82.3242\ttest-mae:4361.09+69.5503\n",
      "\n",
      "   50 | 04m10s | -4361.08877 |   11.4383 |             1.0000 |    8.6648 |     18.1232 |            11.9852 |      1.0000 | \n",
      "Multiple eval metrics have been passed: 'test-mae' will be used for early stopping.\n",
      "\n",
      "Will train until test-mae hasn't improved in 5 rounds.\n",
      "Stopping. Best iteration:\n",
      "[29]\ttrain-mae:3822.81+69.1129\ttest-mae:4392.63+60.1919\n",
      "\n",
      "   51 | 03m17s | -4392.62803 |   15.0000 |             1.0000 |    9.2386 |     15.6330 |            15.8563 |      1.0000 | \n",
      "Multiple eval metrics have been passed: 'test-mae' will be used for early stopping.\n",
      "\n",
      "Will train until test-mae hasn't improved in 5 rounds.\n",
      "Stopping. Best iteration:\n",
      "[29]\ttrain-mae:3639.08+67.0931\ttest-mae:4400.49+59.8535\n",
      "\n",
      "   52 | 05m08s | -4400.48955 |    0.0000 |             1.0000 |    0.0000 |     20.0000 |            10.9610 |      0.5000 | \n",
      "Multiple eval metrics have been passed: 'test-mae' will be used for early stopping.\n",
      "\n",
      "Will train until test-mae hasn't improved in 5 rounds.\n",
      "Stopping. Best iteration:\n",
      "[29]\ttrain-mae:3794.57+53.9641\ttest-mae:4396.93+57.395\n",
      "\n",
      "   53 | 04m41s | -4396.92813 |    5.2555 |             1.0000 |   11.8714 |     18.9775 |            11.4327 |      0.5000 | \n",
      "Multiple eval metrics have been passed: 'test-mae' will be used for early stopping.\n",
      "\n",
      "Will train until test-mae hasn't improved in 5 rounds.\n",
      "Stopping. Best iteration:\n",
      "[28]\ttrain-mae:3704.1+59.6829\ttest-mae:4394.92+55.3\n",
      "\n",
      "   54 | 05m03s | -4394.91689 |   15.0000 |             1.0000 |    0.0000 |     20.0000 |            12.1415 |      0.5000 | \n",
      "Multiple eval metrics have been passed: 'test-mae' will be used for early stopping.\n",
      "\n",
      "Will train until test-mae hasn't improved in 5 rounds.\n",
      "Stopping. Best iteration:\n",
      "[30]\ttrain-mae:3645.58+85.7027\ttest-mae:4383.04+67.3284\n",
      "\n",
      "   55 | 03m38s | -4383.03525 |   10.4974 |             1.0000 |    8.4774 |     16.0546 |            12.8085 |      1.0000 | \n",
      "Multiple eval metrics have been passed: 'test-mae' will be used for early stopping.\n",
      "\n",
      "Will train until test-mae hasn't improved in 5 rounds.\n",
      "Stopping. Best iteration:\n",
      "[28]\ttrain-mae:4265.19+53.8589\ttest-mae:4512.14+58.2896\n",
      "\n",
      "   56 | 02m59s | -4512.14219 |    0.0000 |             1.0000 |    7.6816 |     12.8365 |            11.7199 |      0.5000 | \n",
      "Multiple eval metrics have been passed: 'test-mae' will be used for early stopping.\n",
      "\n",
      "Will train until test-mae hasn't improved in 5 rounds.\n",
      "Stopping. Best iteration:\n",
      "[29]\ttrain-mae:3904.02+56.888\ttest-mae:4409.17+49.1766\n",
      "\n",
      "   57 | 04m25s | -4409.17480 |   12.4703 |             1.0000 |    8.6793 |     17.4386 |            13.8949 |      0.5000 | \n",
      "Multiple eval metrics have been passed: 'test-mae' will be used for early stopping.\n",
      "\n",
      "Will train until test-mae hasn't improved in 5 rounds.\n",
      "Stopping. Best iteration:\n",
      "[30]\ttrain-mae:3669.38+62.5369\ttest-mae:4360.12+69.2409\n",
      "\n",
      "   58 | 03m54s | -4360.12412 |   15.0000 |             1.0000 |   11.6446 |     17.1566 |            20.0000 |      1.0000 | \n",
      "Multiple eval metrics have been passed: 'test-mae' will be used for early stopping.\n",
      "\n",
      "Will train until test-mae hasn't improved in 5 rounds.\n",
      "Stopping. Best iteration:\n",
      "[30]\ttrain-mae:3402.41+66.2998\ttest-mae:4345.1+64.2678\n",
      "\n",
      "   59 | 04m39s | -4345.10000 |   10.6538 |             1.0000 |   15.0000 |     20.0000 |            20.0000 |      1.0000 | \n",
      "Multiple eval metrics have been passed: 'test-mae' will be used for early stopping.\n",
      "\n",
      "Will train until test-mae hasn't improved in 5 rounds.\n",
      "   60 | 01m42s | -4943.64307 |    0.0000 |             0.1000 |    7.4959 |     15.8866 |             1.0000 |      1.0000 | \n"
     ]
    },
    {
     "name": "stderr",
     "output_type": "stream",
     "text": [
      "/home/jairsan/Documents/dev/AlwaysLearningDeeper/Salesforce-Predictive-Modelling/venv/lib/python3.5/site-packages/sklearn/gaussian_process/gpr.py:457: UserWarning: fmin_l_bfgs_b terminated abnormally with the  state: {'nit': 3, 'warnflag': 2, 'funcalls': 52, 'grad': array([-89.8902353]), 'task': b'ABNORMAL_TERMINATION_IN_LNSRCH'}\n",
      "  \" state: %s\" % convergence_dict)\n"
     ]
    },
    {
     "name": "stdout",
     "output_type": "stream",
     "text": [
      "Multiple eval metrics have been passed: 'test-mae' will be used for early stopping.\n",
      "\n",
      "Will train until test-mae hasn't improved in 5 rounds.\n",
      "Stopping. Best iteration:\n",
      "[30]\ttrain-mae:3287.24+100.503\ttest-mae:4378.38+71.5045\n",
      "\n",
      "   61 | 03m52s | -4378.38154 |    0.0000 |             1.0000 |   15.0000 |     17.1149 |             6.7557 |      1.0000 | \n",
      "Multiple eval metrics have been passed: 'test-mae' will be used for early stopping.\n",
      "\n",
      "Will train until test-mae hasn't improved in 5 rounds.\n",
      "Stopping. Best iteration:\n",
      "[29]\ttrain-mae:3354.51+85.0292\ttest-mae:4373.52+68.4778\n",
      "\n",
      "   62 | 04m02s | -4373.51855 |    7.3473 |             1.0000 |   11.3598 |     18.6406 |            10.1217 |      1.0000 | \n",
      "Multiple eval metrics have been passed: 'test-mae' will be used for early stopping.\n",
      "\n",
      "Will train until test-mae hasn't improved in 5 rounds.\n",
      "   63 | 01m38s | -5015.07041 |    0.0000 |             0.1000 |    0.0000 |     15.2808 |             5.2450 |      1.0000 | \n",
      "Multiple eval metrics have been passed: 'test-mae' will be used for early stopping.\n",
      "\n",
      "Will train until test-mae hasn't improved in 5 rounds.\n",
      "Stopping. Best iteration:\n",
      "[30]\ttrain-mae:4903.94+53.2443\ttest-mae:4994.62+50.7469\n",
      "\n",
      "   64 | 01m24s | -4994.61855 |    0.0000 |             1.0000 |    0.0000 |      5.0000 |             9.8286 |      0.5000 | \n",
      "Multiple eval metrics have been passed: 'test-mae' will be used for early stopping.\n",
      "\n",
      "Will train until test-mae hasn't improved in 5 rounds.\n",
      "Stopping. Best iteration:\n",
      "[30]\ttrain-mae:4148.59+63.5145\ttest-mae:4481.6+53.1779\n",
      "\n",
      "   65 | 03m27s | -4481.60098 |    4.3414 |             1.0000 |    4.4543 |     13.1449 |             8.3001 |      0.5000 | \n",
      "Multiple eval metrics have been passed: 'test-mae' will be used for early stopping.\n",
      "\n",
      "Will train until test-mae hasn't improved in 5 rounds.\n",
      "   66 | 02m32s | -5265.55078 |    4.7488 |             0.1000 |   15.0000 |     20.0000 |             1.0000 |      0.5000 | \n"
     ]
    },
    {
     "name": "stderr",
     "output_type": "stream",
     "text": [
      "/home/jairsan/Documents/dev/AlwaysLearningDeeper/Salesforce-Predictive-Modelling/venv/lib/python3.5/site-packages/sklearn/gaussian_process/gpr.py:457: UserWarning: fmin_l_bfgs_b terminated abnormally with the  state: {'nit': 4, 'warnflag': 2, 'funcalls': 54, 'grad': array([-34.81049328]), 'task': b'ABNORMAL_TERMINATION_IN_LNSRCH'}\n",
      "  \" state: %s\" % convergence_dict)\n"
     ]
    },
    {
     "name": "stdout",
     "output_type": "stream",
     "text": [
      "Multiple eval metrics have been passed: 'test-mae' will be used for early stopping.\n",
      "\n",
      "Will train until test-mae hasn't improved in 5 rounds.\n",
      "Stopping. Best iteration:\n",
      "[32]\ttrain-mae:3050.75+105.031\ttest-mae:4363.05+85.3824\n",
      "\n",
      "   67 | 04m11s | -4363.05293 |    0.0000 |             1.0000 |   15.0000 |     17.8881 |             3.5899 |      1.0000 | \n",
      "Multiple eval metrics have been passed: 'test-mae' will be used for early stopping.\n",
      "\n",
      "Will train until test-mae hasn't improved in 5 rounds.\n",
      "Stopping. Best iteration:\n",
      "[29]\ttrain-mae:3499.91+68.8239\ttest-mae:4417.2+64.4809\n",
      "\n",
      "   68 | 05m11s | -4417.19756 |    0.0000 |             1.0000 |    6.5868 |     20.0000 |             6.6539 |      0.5000 | \n",
      "Multiple eval metrics have been passed: 'test-mae' will be used for early stopping.\n",
      "\n",
      "Will train until test-mae hasn't improved in 5 rounds.\n",
      "Stopping. Best iteration:\n",
      "[30]\ttrain-mae:3135.86+78.0751\ttest-mae:4363.43+64.704\n",
      "\n",
      "   69 | 04m43s | -4363.43213 |    6.2545 |             1.0000 |   15.0000 |     20.0000 |            11.8826 |      1.0000 | \n",
      "Multiple eval metrics have been passed: 'test-mae' will be used for early stopping.\n",
      "\n",
      "Will train until test-mae hasn't improved in 5 rounds.\n",
      "Stopping. Best iteration:\n",
      "[63]\ttrain-mae:4012.27+100.034\ttest-mae:5364.14+97.6691\n",
      "\n",
      "   70 | 01m43s | -5364.14043 |    0.0000 |             0.1000 |   15.0000 |     20.0000 |             5.7813 |      0.5000 | \n",
      "Multiple eval metrics have been passed: 'test-mae' will be used for early stopping.\n",
      "\n",
      "Will train until test-mae hasn't improved in 5 rounds.\n",
      "Stopping. Best iteration:\n",
      "[33]\ttrain-mae:3244.5+68.9233\ttest-mae:4384.83+91.1184\n",
      "\n",
      "   71 | 03m47s | -4384.82705 |    0.0000 |             1.0000 |   15.0000 |     15.4416 |             1.0000 |      1.0000 | \n",
      "Multiple eval metrics have been passed: 'test-mae' will be used for early stopping.\n",
      "\n",
      "Will train until test-mae hasn't improved in 5 rounds.\n",
      "Stopping. Best iteration:\n",
      "[30]\ttrain-mae:3795.01+80.0022\ttest-mae:4412.53+62.8854\n",
      "\n",
      "   72 | 03m09s | -4412.53340 |    2.5400 |             1.0000 |   15.0000 |     14.5741 |             8.6560 |      1.0000 | \n",
      "Multiple eval metrics have been passed: 'test-mae' will be used for early stopping.\n",
      "\n",
      "Will train until test-mae hasn't improved in 5 rounds.\n",
      "Stopping. Best iteration:\n",
      "[32]\ttrain-mae:3301.24+94.9884\ttest-mae:4371.08+82.2298\n",
      "\n",
      "   73 | 03m55s | -4371.08457 |    1.3617 |             1.0000 |   14.2279 |     16.1915 |             4.3508 |      1.0000 | \n",
      "Multiple eval metrics have been passed: 'test-mae' will be used for early stopping.\n",
      "\n",
      "Will train until test-mae hasn't improved in 5 rounds.\n",
      "Stopping. Best iteration:\n",
      "[30]\ttrain-mae:3755.17+78.2002\ttest-mae:4396.67+60.4366\n",
      "\n",
      "   74 | 03m18s | -4396.66650 |    0.0000 |             1.0000 |   15.0000 |     15.4896 |            11.8393 |      1.0000 | \n",
      "Multiple eval metrics have been passed: 'test-mae' will be used for early stopping.\n",
      "\n",
      "Will train until test-mae hasn't improved in 5 rounds.\n",
      "Stopping. Best iteration:\n",
      "[33]\ttrain-mae:2861.91+74.9708\ttest-mae:4371.37+96.0223\n",
      "\n",
      "   75 | 04m22s | -4371.36709 |    0.0000 |             1.0000 |   15.0000 |     17.7737 |             1.0000 |      1.0000 | \n",
      "{'max_val': -4339.8408204, 'max_params': {'max_depth': 20.0, 'alpha': 0.0, 'gamma': 0.0, 'colsample_bytree': 1.0, 'subsample': 1.0, 'min_child_weight': 20.0}}\n"
     ]
    }
   ],
   "source": [
    "f_train_df = process_df(shuffled_data,0,train = True)\n",
    "\n",
    "X_train = f_train_df.drop(labels=[\"Poder_Adquisitivo\"],axis=1).as_matrix()\n",
    "y_train = f_train_df[\"Poder_Adquisitivo\"].as_matrix()\n",
    "\n",
    "xgtrain = xgb.DMatrix(X_train, label=y_train)\n",
    "\n",
    "\n",
    "def xgb_evaluate(min_child_weight,\n",
    "                 colsample_bytree,\n",
    "                 max_depth,\n",
    "                 subsample,\n",
    "                 gamma,\n",
    "                 alpha):\n",
    "\n",
    "    params['min_child_weight'] = int(min_child_weight)\n",
    "    params['colsample_bytree'] = max(min(colsample_bytree, 1), 0)\n",
    "    params['max_depth'] = int(max_depth)\n",
    "    params['subsample'] = max(min(subsample, 1), 0)\n",
    "    params['gamma'] = max(gamma, 0)\n",
    "    params['alpha'] = max(alpha, 0)\n",
    "\n",
    "\n",
    "    cv_result = xgb.cv(params, xgtrain, num_boost_round=100, nfold=5,\n",
    "             seed=random_state,\n",
    "             callbacks=[xgb.callback.early_stop(5)])\n",
    "\n",
    "    return -cv_result['test-mae-mean'].values[-1]\n",
    "\n",
    "\n",
    "\n",
    "\n",
    "\n",
    "random_state = SEED\n",
    "num_iter = 50\n",
    "init_points = 25\n",
    "params = {\n",
    "    'eta': 0.1,\n",
    "    'silent': 1,\n",
    "    'eval_metric': 'mae',\n",
    "    'verbose_eval': True,\n",
    "    'seed': random_state\n",
    "}\n",
    "\n",
    "xgbBO = BayesianOptimization(xgb_evaluate, {'min_child_weight': (1, 20),\n",
    "                                            'colsample_bytree': (0.1, 1),\n",
    "                                            'max_depth': (5, 20),\n",
    "                                            'subsample': (0.5, 1),\n",
    "                                            'gamma': (0, 15),\n",
    "                                            'alpha': (0, 15),\n",
    "                                            })\n",
    "\n",
    "xgbBO.maximize(init_points=init_points, n_iter=num_iter)\n",
    "\n",
    "print(xgbBO.res['max'])"
   ]
  },
  {
   "cell_type": "code",
   "execution_count": null,
   "metadata": {},
   "outputs": [
    {
     "name": "stdout",
     "output_type": "stream",
     "text": [
      "\u001b[31mInitialization\u001b[0m\n",
      "\u001b[94m---------------------------------------------------------------------------------------------------------------------------\u001b[0m\n",
      " Step |   Time |      Value |     alpha |   colsample_bytree |     gamma |   max_depth |   min_child_weight |   subsample | \n",
      "Multiple eval metrics have been passed: 'test-mae' will be used for early stopping.\n",
      "\n",
      "Will train until test-mae hasn't improved in 5 rounds.\n",
      "    1 | 07m01s | \u001b[35m-2698.59751\u001b[0m | \u001b[32m  14.3607\u001b[0m | \u001b[32m            0.5458\u001b[0m | \u001b[32m   7.3322\u001b[0m | \u001b[32m    17.7553\u001b[0m | \u001b[32m           17.6578\u001b[0m | \u001b[32m     0.5304\u001b[0m | \n",
      "Multiple eval metrics have been passed: 'test-mae' will be used for early stopping.\n",
      "\n",
      "Will train until test-mae hasn't improved in 5 rounds.\n",
      "    2 | 02m38s | -2736.03525 |    8.3728 |             0.5093 |    8.1203 |      7.1922 |             2.1948 |      0.6547 | \n",
      "Multiple eval metrics have been passed: 'test-mae' will be used for early stopping.\n",
      "\n",
      "Will train until test-mae hasn't improved in 5 rounds.\n",
      "    3 | 04m30s | \u001b[35m-2674.41733\u001b[0m | \u001b[32m  11.4756\u001b[0m | \u001b[32m            0.5055\u001b[0m | \u001b[32m   6.5412\u001b[0m | \u001b[32m    12.4958\u001b[0m | \u001b[32m           15.8183\u001b[0m | \u001b[32m     0.7042\u001b[0m | \n",
      "Multiple eval metrics have been passed: 'test-mae' will be used for early stopping.\n",
      "\n",
      "Will train until test-mae hasn't improved in 5 rounds.\n",
      "    4 | 05m12s | -2722.96035 |   11.7733 |             0.4036 |   13.6691 |     16.8961 |            18.7605 |      0.5239 | \n",
      "Multiple eval metrics have been passed: 'test-mae' will be used for early stopping.\n",
      "\n",
      "Will train until test-mae hasn't improved in 5 rounds.\n",
      "    5 | 12m11s | -2698.59385 |   14.2520 |             0.9822 |   14.5623 |     17.1904 |             1.8815 |      0.7698 | \n",
      "Multiple eval metrics have been passed: 'test-mae' will be used for early stopping.\n",
      "\n",
      "Will train until test-mae hasn't improved in 5 rounds.\n",
      "    6 | 07m38s | \u001b[35m-2651.86562\u001b[0m | \u001b[32m   2.6907\u001b[0m | \u001b[32m            0.8854\u001b[0m | \u001b[32m   2.6135\u001b[0m | \u001b[32m    13.6612\u001b[0m | \u001b[32m            6.4131\u001b[0m | \u001b[32m     0.8625\u001b[0m | \n",
      "Multiple eval metrics have been passed: 'test-mae' will be used for early stopping.\n",
      "\n",
      "Will train until test-mae hasn't improved in 5 rounds.\n",
      "    7 | 03m41s | -2690.41899 |   12.7885 |             0.4748 |    9.4894 |     10.1566 |            15.1709 |      0.5776 | \n",
      "Multiple eval metrics have been passed: 'test-mae' will be used for early stopping.\n",
      "\n",
      "Will train until test-mae hasn't improved in 5 rounds.\n",
      "    8 | 05m56s | -2703.42656 |   11.5949 |             0.4843 |    0.6134 |     16.7963 |            11.1693 |      0.7261 | \n",
      "Multiple eval metrics have been passed: 'test-mae' will be used for early stopping.\n",
      "\n",
      "Will train until test-mae hasn't improved in 5 rounds.\n",
      "    9 | 04m42s | -2814.26533 |   11.2689 |             0.2982 |    2.9960 |     18.8604 |             6.2949 |      0.7063 | \n",
      "Multiple eval metrics have been passed: 'test-mae' will be used for early stopping.\n",
      "\n",
      "Will train until test-mae hasn't improved in 5 rounds.\n",
      "   10 | 03m18s | -2696.12402 |    3.1250 |             0.6298 |   13.9115 |      8.9950 |            10.0252 |      0.9152 | \n",
      "Multiple eval metrics have been passed: 'test-mae' will be used for early stopping.\n",
      "\n",
      "Will train until test-mae hasn't improved in 5 rounds.\n",
      "   11 | 05m16s | -2721.03774 |    4.6098 |             0.4153 |   13.2975 |     17.1712 |            11.8632 |      0.9491 | \n",
      "Multiple eval metrics have been passed: 'test-mae' will be used for early stopping.\n",
      "\n",
      "Will train until test-mae hasn't improved in 5 rounds.\n",
      "   12 | 04m50s | -2687.40010 |    6.9969 |             0.9984 |    5.5019 |      8.8494 |            11.7468 |      0.9170 | \n",
      "Multiple eval metrics have been passed: 'test-mae' will be used for early stopping.\n",
      "\n",
      "Will train until test-mae hasn't improved in 5 rounds.\n",
      "   13 | 03m02s | -2720.89976 |    8.3492 |             0.3124 |   10.2615 |     13.1898 |            15.4692 |      0.9912 | \n",
      "Multiple eval metrics have been passed: 'test-mae' will be used for early stopping.\n",
      "\n",
      "Will train until test-mae hasn't improved in 5 rounds.\n",
      "   14 | 03m25s | -2750.97993 |    9.5729 |             0.8321 |    1.2161 |      6.1050 |             1.6501 |      0.6489 | \n",
      "Multiple eval metrics have been passed: 'test-mae' will be used for early stopping.\n",
      "\n",
      "Will train until test-mae hasn't improved in 5 rounds.\n",
      "   15 | 06m11s | -2652.94028 |   10.2740 |             0.8377 |    3.4702 |     11.5068 |            15.6394 |      0.7512 | \n",
      "Multiple eval metrics have been passed: 'test-mae' will be used for early stopping.\n",
      "\n",
      "Will train until test-mae hasn't improved in 5 rounds.\n",
      "   16 | 03m52s | -2680.35322 |    4.4910 |             0.5288 |    5.9193 |     10.2996 |             9.6973 |      0.7037 | \n",
      "Multiple eval metrics have been passed: 'test-mae' will be used for early stopping.\n",
      "\n",
      "Will train until test-mae hasn't improved in 5 rounds.\n",
      "   17 | 03m16s | -2788.25024 |    8.5521 |             0.9375 |    2.2562 |      5.5803 |            15.9203 |      0.5383 | \n",
      "Multiple eval metrics have been passed: 'test-mae' will be used for early stopping.\n",
      "\n",
      "Will train until test-mae hasn't improved in 5 rounds.\n",
      "   18 | 11m48s | -2664.35757 |    2.7978 |             0.9573 |   13.7575 |     18.6227 |            12.8878 |      0.7839 | \n",
      "Multiple eval metrics have been passed: 'test-mae' will be used for early stopping.\n",
      "\n",
      "Will train until test-mae hasn't improved in 5 rounds.\n",
      "   19 | 07m06s | -2655.78994 |   12.5330 |             0.8664 |    9.1341 |     12.2684 |            11.0975 |      0.7069 | \n",
      "Multiple eval metrics have been passed: 'test-mae' will be used for early stopping.\n",
      "\n",
      "Will train until test-mae hasn't improved in 5 rounds.\n",
      "   20 | 02m31s | -2792.69521 |    6.2200 |             0.7542 |    2.5804 |      5.1080 |             9.6431 |      0.7565 | \n",
      "Multiple eval metrics have been passed: 'test-mae' will be used for early stopping.\n",
      "\n",
      "Will train until test-mae hasn't improved in 5 rounds.\n",
      "   21 | 03m04s | -2789.17593 |    2.1804 |             0.9655 |    1.7346 |      5.7268 |            12.9134 |      0.7709 | \n",
      "Multiple eval metrics have been passed: 'test-mae' will be used for early stopping.\n",
      "\n",
      "Will train until test-mae hasn't improved in 5 rounds.\n",
      "   22 | 03m10s | -2787.84312 |    1.9694 |             0.2571 |   14.8298 |     15.3166 |             9.0986 |      0.9596 | \n",
      "Multiple eval metrics have been passed: 'test-mae' will be used for early stopping.\n",
      "\n",
      "Will train until test-mae hasn't improved in 5 rounds.\n",
      "   23 | 04m05s | -2721.55332 |    6.2106 |             0.8180 |    2.6836 |      7.5609 |             2.0115 |      0.5326 | \n",
      "Multiple eval metrics have been passed: 'test-mae' will be used for early stopping.\n",
      "\n",
      "Will train until test-mae hasn't improved in 5 rounds.\n",
      "   24 | 09m26s | -2659.76108 |    3.3879 |             0.9181 |    8.4813 |     15.8536 |             5.3559 |      0.8431 | \n",
      "Multiple eval metrics have been passed: 'test-mae' will be used for early stopping.\n",
      "\n",
      "Will train until test-mae hasn't improved in 5 rounds.\n",
      "Stopping. Best iteration:\n",
      "[83]\ttrain-mae:1737.54+5.86594\ttest-mae:2681.3+8.66469\n",
      "\n",
      "   25 | 08m58s | -2681.30176 |   11.4094 |             0.7241 |    6.1195 |     19.7726 |            16.9985 |      0.5742 | \n",
      "\u001b[31mBayesian Optimization\u001b[0m\n",
      "\u001b[94m---------------------------------------------------------------------------------------------------------------------------\u001b[0m\n",
      " Step |   Time |      Value |     alpha |   colsample_bytree |     gamma |   max_depth |   min_child_weight |   subsample | \n",
      "Multiple eval metrics have been passed: 'test-mae' will be used for early stopping.\n",
      "\n",
      "Will train until test-mae hasn't improved in 5 rounds.\n",
      "   26 | 12m06s | -2654.16343 |    0.0000 |             1.0000 |    0.0000 |     20.0000 |            20.0000 |      1.0000 | \n",
      "Multiple eval metrics have been passed: 'test-mae' will be used for early stopping.\n",
      "\n",
      "Will train until test-mae hasn't improved in 5 rounds.\n",
      "Stopping. Best iteration:\n",
      "[87]\ttrain-mae:386.614+5.38874\ttest-mae:2733.94+12.6276\n",
      "\n",
      "   27 | 13m05s | -2733.94048 |    0.0000 |             1.0000 |    0.0000 |     20.0000 |             1.0000 |      1.0000 | \n",
      "Multiple eval metrics have been passed: 'test-mae' will be used for early stopping.\n",
      "\n",
      "Will train until test-mae hasn't improved in 5 rounds.\n"
     ]
    },
    {
     "name": "stdout",
     "output_type": "stream",
     "text": [
      "   28 | 02m48s | -2787.15928 |    0.0000 |             1.0000 |   15.0000 |      5.0000 |             1.0000 |      1.0000 | \n",
      "Multiple eval metrics have been passed: 'test-mae' will be used for early stopping.\n",
      "\n",
      "Will train until test-mae hasn't improved in 5 rounds.\n",
      "   29 | 02m47s | -2785.70298 |    0.0000 |             1.0000 |   15.0000 |      5.0000 |            20.0000 |      1.0000 | \n",
      "Multiple eval metrics have been passed: 'test-mae' will be used for early stopping.\n",
      "\n",
      "Will train until test-mae hasn't improved in 5 rounds.\n",
      "   30 | 12m36s | -2655.35845 |   15.0000 |             1.0000 |    0.0000 |     20.0000 |            20.0000 |      1.0000 | \n",
      "Multiple eval metrics have been passed: 'test-mae' will be used for early stopping.\n",
      "\n",
      "Will train until test-mae hasn't improved in 5 rounds.\n",
      "Stopping. Best iteration:\n",
      "[82]\ttrain-mae:1862.17+6.40526\ttest-mae:2675.09+9.95526\n",
      "\n",
      "   31 | 11m59s | -2675.09385 |    0.0000 |             1.0000 |   15.0000 |     20.0000 |            20.0000 |      0.5000 | \n",
      "Multiple eval metrics have been passed: 'test-mae' will be used for early stopping.\n",
      "\n",
      "Will train until test-mae hasn't improved in 5 rounds.\n",
      "   32 | 03m33s | -2791.75830 |   15.0000 |             1.0000 |   15.0000 |      5.0000 |             1.0000 |      0.5000 | \n",
      "Multiple eval metrics have been passed: 'test-mae' will be used for early stopping.\n",
      "\n",
      "Will train until test-mae hasn't improved in 5 rounds.\n",
      "   33 | 02m57s | -2785.70361 |   15.0000 |             1.0000 |   15.0000 |      5.0000 |            20.0000 |      1.0000 | \n",
      "Multiple eval metrics have been passed: 'test-mae' will be used for early stopping.\n",
      "\n",
      "Will train until test-mae hasn't improved in 5 rounds.\n",
      "Stopping. Best iteration:\n",
      "[75]\ttrain-mae:1885.29+5.70705\ttest-mae:2675.08+9.01654\n",
      "\n",
      "   34 | 11m14s | -2675.08257 |   15.0000 |             1.0000 |   15.0000 |     20.0000 |            20.0000 |      0.5000 | \n"
     ]
    },
    {
     "name": "stderr",
     "output_type": "stream",
     "text": [
      "/home/jairsan/Documents/dev/AlwaysLearningDeeper/Salesforce-Predictive-Modelling/venv/lib/python3.5/site-packages/sklearn/gaussian_process/gpr.py:457: UserWarning: fmin_l_bfgs_b terminated abnormally with the  state: {'nit': 3, 'warnflag': 2, 'funcalls': 49, 'grad': array([-2.83061967]), 'task': b'ABNORMAL_TERMINATION_IN_LNSRCH'}\n",
      "  \" state: %s\" % convergence_dict)\n"
     ]
    },
    {
     "name": "stdout",
     "output_type": "stream",
     "text": [
      "Multiple eval metrics have been passed: 'test-mae' will be used for early stopping.\n",
      "\n",
      "Will train until test-mae hasn't improved in 5 rounds.\n",
      "   35 | 07m46s | -2668.32959 |   15.0000 |             1.0000 |    0.0000 |     11.2433 |            16.5759 |      0.5000 | \n",
      "Multiple eval metrics have been passed: 'test-mae' will be used for early stopping.\n",
      "\n",
      "Will train until test-mae hasn't improved in 5 rounds.\n",
      "Stopping. Best iteration:\n",
      "[56]\ttrain-mae:1700.24+8.25707\ttest-mae:2695.32+9.4902\n",
      "\n",
      "   36 | 08m53s | -2695.31699 |    0.0000 |             1.0000 |    8.6014 |     20.0000 |            11.0022 |      0.5000 | \n",
      "Multiple eval metrics have been passed: 'test-mae' will be used for early stopping.\n",
      "\n",
      "Will train until test-mae hasn't improved in 5 rounds.\n",
      "Stopping. Best iteration:\n",
      "[80]\ttrain-mae:1026.42+11.3843\ttest-mae:2748.05+7.0834\n",
      "\n",
      "   37 | 13m32s | -2748.04595 |   15.0000 |             1.0000 |   15.0000 |     20.0000 |             1.0000 |      0.5000 | \n"
     ]
    },
    {
     "name": "stderr",
     "output_type": "stream",
     "text": [
      "/home/jairsan/Documents/dev/AlwaysLearningDeeper/Salesforce-Predictive-Modelling/venv/lib/python3.5/site-packages/sklearn/gaussian_process/gpr.py:457: UserWarning: fmin_l_bfgs_b terminated abnormally with the  state: {'nit': 4, 'warnflag': 2, 'funcalls': 49, 'grad': array([-3.37303771]), 'task': b'ABNORMAL_TERMINATION_IN_LNSRCH'}\n",
      "  \" state: %s\" % convergence_dict)\n"
     ]
    },
    {
     "name": "stdout",
     "output_type": "stream",
     "text": [
      "Multiple eval metrics have been passed: 'test-mae' will be used for early stopping.\n",
      "\n",
      "Will train until test-mae hasn't improved in 5 rounds.\n",
      "   38 | 02m51s | -2787.15928 |    0.0000 |             1.0000 |    0.0000 |      5.0000 |             1.0000 |      1.0000 | \n"
     ]
    },
    {
     "name": "stderr",
     "output_type": "stream",
     "text": [
      "/home/jairsan/Documents/dev/AlwaysLearningDeeper/Salesforce-Predictive-Modelling/venv/lib/python3.5/site-packages/sklearn/gaussian_process/gpr.py:457: UserWarning: fmin_l_bfgs_b terminated abnormally with the  state: {'nit': 4, 'warnflag': 2, 'funcalls': 54, 'grad': array([-4.65460886]), 'task': b'ABNORMAL_TERMINATION_IN_LNSRCH'}\n",
      "  \" state: %s\" % convergence_dict)\n"
     ]
    },
    {
     "name": "stdout",
     "output_type": "stream",
     "text": [
      "Multiple eval metrics have been passed: 'test-mae' will be used for early stopping.\n",
      "\n",
      "Will train until test-mae hasn't improved in 5 rounds.\n",
      "   39 | 08m43s | -2672.04448 |    5.6087 |             1.0000 |    6.5406 |     12.8245 |             5.5884 |      0.5000 | \n",
      "Multiple eval metrics have been passed: 'test-mae' will be used for early stopping.\n",
      "\n",
      "Will train until test-mae hasn't improved in 5 rounds.\n",
      "Stopping. Best iteration:\n",
      "[91]\ttrain-mae:1121.21+8.2171\ttest-mae:2666.36+9.48642\n",
      "\n",
      "   40 | 12m31s | -2666.36050 |    3.4790 |             1.0000 |   15.0000 |     20.0000 |            14.6203 |      1.0000 | \n",
      "Multiple eval metrics have been passed: 'test-mae' will be used for early stopping.\n",
      "\n",
      "Will train until test-mae hasn't improved in 5 rounds.\n",
      "   41 | 09m59s | -2667.49980 |    8.1387 |             1.0000 |    0.0000 |     14.1760 |            14.9432 |      0.5000 | \n",
      "Multiple eval metrics have been passed: 'test-mae' will be used for early stopping.\n",
      "\n",
      "Will train until test-mae hasn't improved in 5 rounds.\n",
      "   42 | 08m07s | \u001b[35m-2649.15151\u001b[0m | \u001b[32m   1.1904\u001b[0m | \u001b[32m            1.0000\u001b[0m | \u001b[32m   5.6907\u001b[0m | \u001b[32m    13.7922\u001b[0m | \u001b[32m            5.8549\u001b[0m | \u001b[32m     1.0000\u001b[0m | \n",
      "Multiple eval metrics have been passed: 'test-mae' will be used for early stopping.\n",
      "\n",
      "Will train until test-mae hasn't improved in 5 rounds.\n",
      "   43 | 07m16s | \u001b[35m-2641.30825\u001b[0m | \u001b[32m  10.6165\u001b[0m | \u001b[32m            1.0000\u001b[0m | \u001b[32m   3.6482\u001b[0m | \u001b[32m    12.6111\u001b[0m | \u001b[32m           13.6972\u001b[0m | \u001b[32m     1.0000\u001b[0m | \n",
      "Multiple eval metrics have been passed: 'test-mae' will be used for early stopping.\n",
      "\n",
      "Will train until test-mae hasn't improved in 5 rounds.\n",
      "   44 | 08m32s | -2663.32158 |   10.5103 |             1.0000 |    3.7105 |     12.5768 |            14.1275 |      0.5000 | \n",
      "Multiple eval metrics have been passed: 'test-mae' will be used for early stopping.\n",
      "\n",
      "Will train until test-mae hasn't improved in 5 rounds.\n",
      "   45 | 02m58s | -2785.70361 |   15.0000 |             1.0000 |    0.0000 |      5.0000 |            20.0000 |      1.0000 | \n",
      "Multiple eval metrics have been passed: 'test-mae' will be used for early stopping.\n",
      "\n",
      "Will train until test-mae hasn't improved in 5 rounds.\n",
      "   46 | 06m38s | -2644.80527 |   15.0000 |             1.0000 |    9.9068 |     11.6367 |            11.0952 |      1.0000 | \n",
      "Multiple eval metrics have been passed: 'test-mae' will be used for early stopping.\n",
      "\n",
      "Will train until test-mae hasn't improved in 5 rounds.\n",
      "   47 | 07m12s | -2641.91733 |   11.6254 |             1.0000 |    0.0000 |     12.5116 |            14.9854 |      1.0000 | \n",
      "Multiple eval metrics have been passed: 'test-mae' will be used for early stopping.\n",
      "\n",
      "Will train until test-mae hasn't improved in 5 rounds.\n",
      "   48 | 12m35s | -2667.85063 |    0.0000 |             1.0000 |   13.7759 |     20.0000 |            13.5454 |      1.0000 | \n",
      "Multiple eval metrics have been passed: 'test-mae' will be used for early stopping.\n",
      "\n",
      "Will train until test-mae hasn't improved in 5 rounds.\n",
      "   49 | 07m50s | \u001b[35m-2639.87119\u001b[0m | \u001b[32m  11.4680\u001b[0m | \u001b[32m            1.0000\u001b[0m | \u001b[32m   2.8790\u001b[0m | \u001b[32m    12.0074\u001b[0m | \u001b[32m           15.0521\u001b[0m | \u001b[32m     1.0000\u001b[0m | \n",
      "Multiple eval metrics have been passed: 'test-mae' will be used for early stopping.\n",
      "\n",
      "Will train until test-mae hasn't improved in 5 rounds.\n",
      "   50 | 01m28s | -3027.97466 |   15.0000 |             0.1000 |    0.0000 |     12.3634 |            13.9233 |      1.0000 | \n",
      "Multiple eval metrics have been passed: 'test-mae' will be used for early stopping.\n",
      "\n",
      "Will train until test-mae hasn't improved in 5 rounds.\n",
      "   51 | 06m35s | -2644.91206 |   13.3800 |             1.0000 |    0.0000 |     11.9625 |            20.0000 |      1.0000 | \n",
      "Multiple eval metrics have been passed: 'test-mae' will be used for early stopping.\n",
      "\n",
      "Will train until test-mae hasn't improved in 5 rounds.\n",
      "Stopping. Best iteration:\n",
      "[91]\ttrain-mae:380.992+1.70352\ttest-mae:2733.71+12.5557\n",
      "\n",
      "   52 | 14m17s | -2733.71484 |    0.0000 |             1.0000 |   15.0000 |     20.0000 |             1.0000 |      1.0000 | \n",
      "Multiple eval metrics have been passed: 'test-mae' will be used for early stopping.\n",
      "\n",
      "Will train until test-mae hasn't improved in 5 rounds.\n",
      "   53 | 13m14s | -2672.57080 |    9.1607 |             1.0000 |    0.0000 |     20.0000 |            11.3242 |      1.0000 | \n",
      "Multiple eval metrics have been passed: 'test-mae' will be used for early stopping.\n",
      "\n",
      "Will train until test-mae hasn't improved in 5 rounds.\n",
      "   54 | 02m56s | -2785.70298 |    0.0000 |             1.0000 |    0.0000 |      5.0000 |            20.0000 |      1.0000 | \n",
      "Multiple eval metrics have been passed: 'test-mae' will be used for early stopping.\n",
      "\n",
      "Will train until test-mae hasn't improved in 5 rounds.\n"
     ]
    }
   ],
   "source": [
    "f_train_df = process_df(shuffled_data,1,train = True)\n",
    "\n",
    "X_train = f_train_df.drop(labels=[\"Poder_Adquisitivo\"],axis=1).as_matrix()\n",
    "y_train = f_train_df[\"Poder_Adquisitivo\"].as_matrix()\n",
    "\n",
    "xgtrain = xgb.DMatrix(X_train, label=y_train)\n",
    "\n",
    "\n",
    "def xgb_evaluate(min_child_weight,\n",
    "                 colsample_bytree,\n",
    "                 max_depth,\n",
    "                 subsample,\n",
    "                 gamma,\n",
    "                 alpha):\n",
    "\n",
    "    params['min_child_weight'] = int(min_child_weight)\n",
    "    params['colsample_bytree'] = max(min(colsample_bytree, 1), 0)\n",
    "    params['max_depth'] = int(max_depth)\n",
    "    params['subsample'] = max(min(subsample, 1), 0)\n",
    "    params['gamma'] = max(gamma, 0)\n",
    "    params['alpha'] = max(alpha, 0)\n",
    "\n",
    "\n",
    "    cv_result = xgb.cv(params, xgtrain, num_boost_round=100, nfold=5,\n",
    "             seed=random_state,\n",
    "             callbacks=[xgb.callback.early_stop(5)])\n",
    "\n",
    "    return -cv_result['test-mae-mean'].values[-1]\n",
    "\n",
    "\n",
    "\n",
    "\n",
    "\n",
    "random_state = SEED\n",
    "num_iter = 50\n",
    "init_points = 25\n",
    "params = {\n",
    "    'eta': 0.1,\n",
    "    'silent': 1,\n",
    "    'eval_metric': 'mae',\n",
    "    'verbose_eval': True,\n",
    "    'seed': random_state\n",
    "}\n",
    "\n",
    "xgbBO = BayesianOptimization(xgb_evaluate, {'min_child_weight': (1, 20),\n",
    "                                            'colsample_bytree': (0.1, 1),\n",
    "                                            'max_depth': (5, 20),\n",
    "                                            'subsample': (0.5, 1),\n",
    "                                            'gamma': (0, 15),\n",
    "                                            'alpha': (0, 15),\n",
    "                                            })\n",
    "\n",
    "xgbBO.maximize(init_points=init_points, n_iter=num_iter)\n",
    "\n",
    "print(xgbBO.res['max'])"
   ]
  },
  {
   "cell_type": "code",
   "execution_count": null,
   "metadata": {},
   "outputs": [
    {
     "name": "stdout",
     "output_type": "stream",
     "text": [
      "\u001b[31mInitialization\u001b[0m\n",
      "\u001b[94m--------------------------------------------------------------------------------------------------\u001b[0m\n",
      " Step |   Time |      Value |   max_depth |   max_features |   min_samples_leaf |   n_estimators | \n",
      "    1 | 11m14s | \u001b[35m-4540.52871\u001b[0m | \u001b[32m    17.0218\u001b[0m | \u001b[32m        0.9320\u001b[0m | \u001b[32m          103.5466\u001b[0m | \u001b[32m       54.4305\u001b[0m | \n",
      "    2 | 07m41s | \u001b[35m-4503.09581\u001b[0m | \u001b[32m    23.4898\u001b[0m | \u001b[32m        0.5071\u001b[0m | \u001b[32m           83.1047\u001b[0m | \u001b[32m       69.7376\u001b[0m | \n",
      "    3 | 04m07s | -4580.16193 |     22.8209 |         0.2464 |           103.2144 |        78.8343 | \n",
      "    4 | 03m39s | -4528.24184 |     22.3052 |         0.4413 |            90.0890 |        39.1441 | \n",
      "    5 | 10m42s | -4552.34505 |     19.9747 |         0.9336 |           119.2446 |        60.3089 | \n",
      "    6 | 05m07s | -4599.02453 |     21.2158 |         0.5243 |           172.4681 |        51.8122 | \n",
      "    7 | 02m20s | -4623.57257 |     17.2960 |         0.1798 |            78.1636 |        57.5126 | \n",
      "    8 | 05m31s | -4577.53616 |     18.0877 |         0.5204 |           142.5153 |        55.5656 | \n",
      "    9 | 04m40s | -4603.25372 |     20.1827 |         0.4844 |           179.2365 |        49.5111 | \n",
      "   10 | 02m43s | -4585.55772 |     15.3432 |         0.1765 |             5.6190 |        68.1789 | \n",
      "   11 | 09m26s | -4523.53399 |     21.0923 |         0.6958 |           100.0528 |        70.8282 | \n",
      "   12 | 02m42s | -4657.49318 |     21.5539 |         0.2570 |           195.7303 |        53.4871 | \n",
      "   13 | 05m54s | -4535.24014 |     19.5434 |         0.8917 |           102.4235 |        34.3785 | \n",
      "   14 | 05m37s | -4530.15989 |     20.4098 |         0.2922 |            77.9043 |        93.0941 | \n",
      "   15 | 07m11s | \u001b[35m-4395.22624\u001b[0m | \u001b[32m    18.3667\u001b[0m | \u001b[32m        0.3770\u001b[0m | \u001b[32m           14.5371\u001b[0m | \u001b[32m       84.4568\u001b[0m | \n"
     ]
    },
    {
     "name": "stderr",
     "output_type": "stream",
     "text": [
      "/home/jairsan/Documents/dev/AlwaysLearningDeeper/Salesforce-Predictive-Modelling/venv/lib/python3.5/site-packages/sklearn/gaussian_process/gpr.py:457: UserWarning: fmin_l_bfgs_b terminated abnormally with the  state: {'grad': array([-3.07055435]), 'warnflag': 2, 'funcalls': 50, 'nit': 2, 'task': b'ABNORMAL_TERMINATION_IN_LNSRCH'}\n",
      "  \" state: %s\" % convergence_dict)\n"
     ]
    },
    {
     "name": "stdout",
     "output_type": "stream",
     "text": [
      "\u001b[31mBayesian Optimization\u001b[0m\n",
      "\u001b[94m--------------------------------------------------------------------------------------------------\u001b[0m\n",
      " Step |   Time |      Value |   max_depth |   max_features |   min_samples_leaf |   n_estimators | \n",
      "   16 | 26m30s | -4413.12744 |     25.0000 |         1.0000 |             1.0000 |       100.0000 | \n",
      "   17 | 19m25s | -4451.26574 |     15.0000 |         1.0000 |            31.1330 |       100.0000 | \n",
      "   18 | 17m12s | -4640.22519 |     15.0000 |         1.0000 |           200.0000 |       100.0000 | \n",
      "   19 | 05m31s | -4633.62321 |     25.0000 |         1.0000 |           200.0000 |        30.0000 | \n",
      "   20 | 02m23s | -4605.37147 |     25.0000 |         0.1000 |            22.6283 |        86.5670 | \n",
      "   21 | 20m48s | -4554.21702 |     15.0000 |         1.0000 |             1.0000 |       100.0000 | \n",
      "   22 | 08m22s | -4475.91075 |     25.0000 |         1.0000 |             1.0000 |        30.0000 | \n",
      "   23 | 17m06s | -4448.54053 |     15.0000 |         1.0000 |            13.5032 |        85.5221 | \n",
      "   24 | 02m39s | -4551.99161 |     25.0000 |         0.1000 |             1.0000 |        81.0455 | \n",
      "   25 | 17m44s | -4593.61620 |     15.0000 |         1.0000 |           137.9526 |       100.0000 | \n",
      "   26 | 00m48s | -4898.62525 |     15.0000 |         0.1000 |           149.9114 |        30.0000 | \n",
      "   27 | 00m50s | -4803.91059 |     15.0000 |         0.1000 |            43.9639 |        30.0000 | \n",
      "   28 | 02m20s | -4795.71938 |     15.0000 |         0.1000 |            77.5412 |       100.0000 | \n",
      "   29 | 02m10s | -4736.49577 |     25.0000 |         0.1000 |            78.0953 |        87.5171 | \n",
      "   30 | 14m18s | -4543.16465 |     15.0000 |         1.0000 |            85.4746 |        77.0464 | \n",
      "   31 | 06m00s | -4522.91107 |     25.0000 |         1.0000 |            89.8271 |        30.0000 | \n",
      "   32 | 11m19s | -4522.12263 |     25.0000 |         1.0000 |            91.8999 |        59.1837 | \n",
      "   33 | 02m20s | -4820.96748 |     25.0000 |         0.1000 |           159.0382 |       100.0000 | \n",
      "   34 | 02m07s | -4644.93923 |     18.4238 |         0.1000 |            15.2706 |        80.1014 | \n",
      "   35 | 02m47s | -4579.36130 |     25.0000 |         0.1000 |            16.0051 |       100.0000 | \n",
      "   36 | 00m52s | -4836.56581 |     15.0000 |         0.1000 |             1.0000 |        30.0000 | \n",
      "   37 | 02m26s | -4596.98876 |     21.3073 |         0.1000 |            13.1457 |        88.7862 | \n"
     ]
    },
    {
     "name": "stderr",
     "output_type": "stream",
     "text": [
      "/home/jairsan/Documents/dev/AlwaysLearningDeeper/Salesforce-Predictive-Modelling/venv/lib/python3.5/site-packages/sklearn/gaussian_process/gpr.py:457: UserWarning: fmin_l_bfgs_b terminated abnormally with the  state: {'grad': array([-35.99402618]), 'warnflag': 2, 'funcalls': 49, 'nit': 4, 'task': b'ABNORMAL_TERMINATION_IN_LNSRCH'}\n",
      "  \" state: %s\" % convergence_dict)\n"
     ]
    },
    {
     "name": "stdout",
     "output_type": "stream",
     "text": [
      "   38 | 18m36s | -4545.29629 |     25.0000 |         1.0000 |           112.2086 |       100.0000 | \n",
      "   39 | 13m13s | -4560.85757 |     15.0000 |         1.0000 |             1.0000 |        63.9616 | \n",
      "   40 | 00m48s | -4862.79507 |     15.0000 |         0.1000 |           115.8828 |        30.0000 | \n"
     ]
    },
    {
     "name": "stderr",
     "output_type": "stream",
     "text": [
      "/home/jairsan/Documents/dev/AlwaysLearningDeeper/Salesforce-Predictive-Modelling/venv/lib/python3.5/site-packages/sklearn/gaussian_process/gpr.py:457: UserWarning: fmin_l_bfgs_b terminated abnormally with the  state: {'grad': array([15.71963441]), 'warnflag': 2, 'funcalls': 55, 'nit': 4, 'task': b'ABNORMAL_TERMINATION_IN_LNSRCH'}\n",
      "  \" state: %s\" % convergence_dict)\n"
     ]
    },
    {
     "name": "stdout",
     "output_type": "stream",
     "text": [
      "   41 | 01m31s | -4896.38496 |     15.0000 |         0.1000 |           200.0000 |        66.6198 | \n",
      "   42 | 20m19s | -4421.97114 |     25.0000 |         1.0000 |            46.8251 |       100.0000 | \n",
      "   43 | 00m48s | -4841.19216 |     15.0000 |         0.1000 |            90.1040 |        30.0000 | \n",
      "   44 | 07m31s | -4537.07890 |     25.0000 |         1.0000 |           101.5087 |        39.6810 | \n",
      "   45 | 01m52s | -4773.12275 |     15.0000 |         0.1000 |             1.0000 |        73.6999 | \n",
      "   46 | 02m02s | -4569.00121 |     25.0000 |         0.1000 |             1.0000 |        61.5207 | \n",
      "   47 | 17m35s | -4420.05119 |     16.6826 |         1.0000 |            18.5095 |        87.0044 | \n"
     ]
    },
    {
     "name": "stderr",
     "output_type": "stream",
     "text": [
      "/home/jairsan/Documents/dev/AlwaysLearningDeeper/Salesforce-Predictive-Modelling/venv/lib/python3.5/site-packages/sklearn/gaussian_process/gpr.py:457: UserWarning: fmin_l_bfgs_b terminated abnormally with the  state: {'grad': array([-58.59802675]), 'warnflag': 2, 'funcalls': 54, 'nit': 5, 'task': b'ABNORMAL_TERMINATION_IN_LNSRCH'}\n",
      "  \" state: %s\" % convergence_dict)\n"
     ]
    },
    {
     "name": "stdout",
     "output_type": "stream",
     "text": [
      "   48 | 00m47s | -4903.09589 |     15.0000 |         0.1000 |           176.9519 |        30.0000 | \n",
      "   49 | 21m01s | \u001b[35m-4381.25574\u001b[0m | \u001b[32m    25.0000\u001b[0m | \u001b[32m        1.0000\u001b[0m | \u001b[32m           31.3392\u001b[0m | \u001b[32m      100.0000\u001b[0m | \n",
      "   50 | 02m19s | -4853.64287 |     25.0000 |         0.1000 |           200.0000 |       100.0000 | \n",
      "   51 | 12m15s | -4594.31543 |     15.0000 |         1.0000 |           134.2039 |        68.8224 | \n",
      "   52 | 18m11s | -4382.53311 |     18.1039 |         1.0000 |            15.5307 |        85.4920 | \n",
      "   53 | 21m09s | -4381.25574 |     25.0000 |         1.0000 |            31.1587 |       100.0000 | \n",
      "   54 | 20m58s | -4381.41963 |     25.0000 |         1.0000 |            31.2362 |       100.0000 | \n"
     ]
    },
    {
     "name": "stderr",
     "output_type": "stream",
     "text": [
      "/home/jairsan/Documents/dev/AlwaysLearningDeeper/Salesforce-Predictive-Modelling/venv/lib/python3.5/site-packages/sklearn/gaussian_process/gpr.py:457: UserWarning: fmin_l_bfgs_b terminated abnormally with the  state: {'grad': array([-104.96731758]), 'warnflag': 2, 'funcalls': 99, 'nit': 10, 'task': b'ABNORMAL_TERMINATION_IN_LNSRCH'}\n",
      "  \" state: %s\" % convergence_dict)\n",
      "/home/jairsan/Documents/dev/AlwaysLearningDeeper/Salesforce-Predictive-Modelling/venv/lib/python3.5/site-packages/sklearn/gaussian_process/gpr.py:457: UserWarning: fmin_l_bfgs_b terminated abnormally with the  state: {'grad': array([-3214.91754675]), 'warnflag': 2, 'funcalls': 85, 'nit': 5, 'task': b'ABNORMAL_TERMINATION_IN_LNSRCH'}\n",
      "  \" state: %s\" % convergence_dict)\n",
      "/home/jairsan/Documents/dev/AlwaysLearningDeeper/Salesforce-Predictive-Modelling/venv/lib/python3.5/site-packages/sklearn/gaussian_process/gpr.py:457: UserWarning: fmin_l_bfgs_b terminated abnormally with the  state: {'grad': array([-3019598.07799578]), 'warnflag': 2, 'funcalls': 38, 'nit': 3, 'task': b'ABNORMAL_TERMINATION_IN_LNSRCH'}\n",
      "  \" state: %s\" % convergence_dict)\n",
      "/home/jairsan/Documents/dev/AlwaysLearningDeeper/Salesforce-Predictive-Modelling/venv/lib/python3.5/site-packages/sklearn/gaussian_process/gpr.py:457: UserWarning: fmin_l_bfgs_b terminated abnormally with the  state: {'grad': array([16447.47192192]), 'warnflag': 2, 'funcalls': 92, 'nit': 4, 'task': b'ABNORMAL_TERMINATION_IN_LNSRCH'}\n",
      "  \" state: %s\" % convergence_dict)\n",
      "/home/jairsan/Documents/dev/AlwaysLearningDeeper/Salesforce-Predictive-Modelling/venv/lib/python3.5/site-packages/sklearn/gaussian_process/gpr.py:457: UserWarning: fmin_l_bfgs_b terminated abnormally with the  state: {'grad': array([8933.68773413]), 'warnflag': 2, 'funcalls': 63, 'nit': 3, 'task': b'ABNORMAL_TERMINATION_IN_LNSRCH'}\n",
      "  \" state: %s\" % convergence_dict)\n",
      "/home/jairsan/Documents/dev/AlwaysLearningDeeper/Salesforce-Predictive-Modelling/venv/lib/python3.5/site-packages/sklearn/gaussian_process/gpr.py:457: UserWarning: fmin_l_bfgs_b terminated abnormally with the  state: {'grad': array([-122.72269106]), 'warnflag': 2, 'funcalls': 57, 'nit': 8, 'task': b'ABNORMAL_TERMINATION_IN_LNSRCH'}\n",
      "  \" state: %s\" % convergence_dict)\n",
      "/home/jairsan/Documents/dev/AlwaysLearningDeeper/Salesforce-Predictive-Modelling/venv/lib/python3.5/site-packages/sklearn/gaussian_process/gpr.py:335: UserWarning: Predicted variances smaller than 0. Setting those variances to 0.\n",
      "  warnings.warn(\"Predicted variances smaller than 0. \"\n"
     ]
    },
    {
     "name": "stdout",
     "output_type": "stream",
     "text": [
      "   55 | 06m19s | -4481.37980 |     25.0000 |         1.0000 |            63.7970 |        30.0000 | \n"
     ]
    },
    {
     "name": "stderr",
     "output_type": "stream",
     "text": [
      "/home/jairsan/Documents/dev/AlwaysLearningDeeper/Salesforce-Predictive-Modelling/venv/lib/python3.5/site-packages/sklearn/gaussian_process/gpr.py:457: UserWarning: fmin_l_bfgs_b terminated abnormally with the  state: {'grad': array([-162.25976562]), 'warnflag': 2, 'funcalls': 87, 'nit': 8, 'task': b'ABNORMAL_TERMINATION_IN_LNSRCH'}\n",
      "  \" state: %s\" % convergence_dict)\n",
      "/home/jairsan/Documents/dev/AlwaysLearningDeeper/Salesforce-Predictive-Modelling/venv/lib/python3.5/site-packages/sklearn/gaussian_process/gpr.py:457: UserWarning: fmin_l_bfgs_b terminated abnormally with the  state: {'grad': array([-13450949.75390625]), 'warnflag': 2, 'funcalls': 48, 'nit': 2, 'task': b'ABNORMAL_TERMINATION_IN_LNSRCH'}\n",
      "  \" state: %s\" % convergence_dict)\n",
      "/home/jairsan/Documents/dev/AlwaysLearningDeeper/Salesforce-Predictive-Modelling/venv/lib/python3.5/site-packages/sklearn/gaussian_process/gpr.py:457: UserWarning: fmin_l_bfgs_b terminated abnormally with the  state: {'grad': array([-167.64257812]), 'warnflag': 2, 'funcalls': 139, 'nit': 10, 'task': b'ABNORMAL_TERMINATION_IN_LNSRCH'}\n",
      "  \" state: %s\" % convergence_dict)\n",
      "/home/jairsan/Documents/dev/AlwaysLearningDeeper/Salesforce-Predictive-Modelling/venv/lib/python3.5/site-packages/sklearn/gaussian_process/gpr.py:457: UserWarning: fmin_l_bfgs_b terminated abnormally with the  state: {'grad': array([-140.59179688]), 'warnflag': 2, 'funcalls': 72, 'nit': 5, 'task': b'ABNORMAL_TERMINATION_IN_LNSRCH'}\n",
      "  \" state: %s\" % convergence_dict)\n",
      "/home/jairsan/Documents/dev/AlwaysLearningDeeper/Salesforce-Predictive-Modelling/venv/lib/python3.5/site-packages/sklearn/gaussian_process/gpr.py:457: UserWarning: fmin_l_bfgs_b terminated abnormally with the  state: {'grad': array([-66.48046875]), 'warnflag': 2, 'funcalls': 69, 'nit': 5, 'task': b'ABNORMAL_TERMINATION_IN_LNSRCH'}\n",
      "  \" state: %s\" % convergence_dict)\n",
      "/home/jairsan/Documents/dev/AlwaysLearningDeeper/Salesforce-Predictive-Modelling/venv/lib/python3.5/site-packages/sklearn/gaussian_process/gpr.py:457: UserWarning: fmin_l_bfgs_b terminated abnormally with the  state: {'grad': array([-274.03710938]), 'warnflag': 2, 'funcalls': 53, 'nit': 3, 'task': b'ABNORMAL_TERMINATION_IN_LNSRCH'}\n",
      "  \" state: %s\" % convergence_dict)\n",
      "/home/jairsan/Documents/dev/AlwaysLearningDeeper/Salesforce-Predictive-Modelling/venv/lib/python3.5/site-packages/sklearn/gaussian_process/gpr.py:457: UserWarning: fmin_l_bfgs_b terminated abnormally with the  state: {'grad': array([-70.4765625]), 'warnflag': 2, 'funcalls': 71, 'nit': 7, 'task': b'ABNORMAL_TERMINATION_IN_LNSRCH'}\n",
      "  \" state: %s\" % convergence_dict)\n",
      "/home/jairsan/Documents/dev/AlwaysLearningDeeper/Salesforce-Predictive-Modelling/venv/lib/python3.5/site-packages/sklearn/gaussian_process/gpr.py:457: UserWarning: fmin_l_bfgs_b terminated abnormally with the  state: {'grad': array([-140.46679688]), 'warnflag': 2, 'funcalls': 50, 'nit': 5, 'task': b'ABNORMAL_TERMINATION_IN_LNSRCH'}\n",
      "  \" state: %s\" % convergence_dict)\n",
      "/home/jairsan/Documents/dev/AlwaysLearningDeeper/Salesforce-Predictive-Modelling/venv/lib/python3.5/site-packages/sklearn/gaussian_process/gpr.py:457: UserWarning: fmin_l_bfgs_b terminated abnormally with the  state: {'grad': array([-258.078125]), 'warnflag': 2, 'funcalls': 79, 'nit': 4, 'task': b'ABNORMAL_TERMINATION_IN_LNSRCH'}\n",
      "  \" state: %s\" % convergence_dict)\n",
      "/home/jairsan/Documents/dev/AlwaysLearningDeeper/Salesforce-Predictive-Modelling/venv/lib/python3.5/site-packages/sklearn/gaussian_process/gpr.py:457: UserWarning: fmin_l_bfgs_b terminated abnormally with the  state: {'grad': array([-7829.7421875]), 'warnflag': 2, 'funcalls': 72, 'nit': 3, 'task': b'ABNORMAL_TERMINATION_IN_LNSRCH'}\n",
      "  \" state: %s\" % convergence_dict)\n",
      "/home/jairsan/Documents/dev/AlwaysLearningDeeper/Salesforce-Predictive-Modelling/venv/lib/python3.5/site-packages/sklearn/gaussian_process/gpr.py:457: UserWarning: fmin_l_bfgs_b terminated abnormally with the  state: {'grad': array([30945.68554688]), 'warnflag': 2, 'funcalls': 67, 'nit': 4, 'task': b'ABNORMAL_TERMINATION_IN_LNSRCH'}\n",
      "  \" state: %s\" % convergence_dict)\n",
      "/home/jairsan/Documents/dev/AlwaysLearningDeeper/Salesforce-Predictive-Modelling/venv/lib/python3.5/site-packages/sklearn/gaussian_process/gpr.py:457: UserWarning: fmin_l_bfgs_b terminated abnormally with the  state: {'grad': array([-73.64453125]), 'warnflag': 2, 'funcalls': 68, 'nit': 7, 'task': b'ABNORMAL_TERMINATION_IN_LNSRCH'}\n",
      "  \" state: %s\" % convergence_dict)\n",
      "/home/jairsan/Documents/dev/AlwaysLearningDeeper/Salesforce-Predictive-Modelling/venv/lib/python3.5/site-packages/sklearn/gaussian_process/gpr.py:457: UserWarning: fmin_l_bfgs_b terminated abnormally with the  state: {'grad': array([-7982.85351562]), 'warnflag': 2, 'funcalls': 68, 'nit': 5, 'task': b'ABNORMAL_TERMINATION_IN_LNSRCH'}\n",
      "  \" state: %s\" % convergence_dict)\n",
      "/home/jairsan/Documents/dev/AlwaysLearningDeeper/Salesforce-Predictive-Modelling/venv/lib/python3.5/site-packages/sklearn/gaussian_process/gpr.py:335: UserWarning: Predicted variances smaller than 0. Setting those variances to 0.\n",
      "  warnings.warn(\"Predicted variances smaller than 0. \"\n"
     ]
    },
    {
     "name": "stdout",
     "output_type": "stream",
     "text": [
      "   56 | 20m14s | -4410.87160 |     25.0000 |         1.0000 |            41.4808 |       100.0000 | \n"
     ]
    },
    {
     "name": "stderr",
     "output_type": "stream",
     "text": [
      "/home/jairsan/Documents/dev/AlwaysLearningDeeper/Salesforce-Predictive-Modelling/venv/lib/python3.5/site-packages/sklearn/gaussian_process/gpr.py:457: UserWarning: fmin_l_bfgs_b terminated abnormally with the  state: {'grad': array([-125.14624023]), 'warnflag': 2, 'funcalls': 58, 'nit': 4, 'task': b'ABNORMAL_TERMINATION_IN_LNSRCH'}\n",
      "  \" state: %s\" % convergence_dict)\n",
      "/home/jairsan/Documents/dev/AlwaysLearningDeeper/Salesforce-Predictive-Modelling/venv/lib/python3.5/site-packages/sklearn/gaussian_process/gpr.py:457: UserWarning: fmin_l_bfgs_b terminated abnormally with the  state: {'grad': array([7104.13757324]), 'warnflag': 2, 'funcalls': 85, 'nit': 4, 'task': b'ABNORMAL_TERMINATION_IN_LNSRCH'}\n",
      "  \" state: %s\" % convergence_dict)\n",
      "/home/jairsan/Documents/dev/AlwaysLearningDeeper/Salesforce-Predictive-Modelling/venv/lib/python3.5/site-packages/sklearn/gaussian_process/gpr.py:457: UserWarning: fmin_l_bfgs_b terminated abnormally with the  state: {'grad': array([-63.06018066]), 'warnflag': 2, 'funcalls': 70, 'nit': 7, 'task': b'ABNORMAL_TERMINATION_IN_LNSRCH'}\n",
      "  \" state: %s\" % convergence_dict)\n",
      "/home/jairsan/Documents/dev/AlwaysLearningDeeper/Salesforce-Predictive-Modelling/venv/lib/python3.5/site-packages/sklearn/gaussian_process/gpr.py:457: UserWarning: fmin_l_bfgs_b terminated abnormally with the  state: {'grad': array([71.18066406]), 'warnflag': 2, 'funcalls': 51, 'nit': 5, 'task': b'ABNORMAL_TERMINATION_IN_LNSRCH'}\n",
      "  \" state: %s\" % convergence_dict)\n",
      "/home/jairsan/Documents/dev/AlwaysLearningDeeper/Salesforce-Predictive-Modelling/venv/lib/python3.5/site-packages/sklearn/gaussian_process/gpr.py:457: UserWarning: fmin_l_bfgs_b terminated abnormally with the  state: {'grad': array([-411131.3840332]), 'warnflag': 2, 'funcalls': 45, 'nit': 5, 'task': b'ABNORMAL_TERMINATION_IN_LNSRCH'}\n",
      "  \" state: %s\" % convergence_dict)\n",
      "/home/jairsan/Documents/dev/AlwaysLearningDeeper/Salesforce-Predictive-Modelling/venv/lib/python3.5/site-packages/sklearn/gaussian_process/gpr.py:457: UserWarning: fmin_l_bfgs_b terminated abnormally with the  state: {'grad': array([49.07043457]), 'warnflag': 2, 'funcalls': 67, 'nit': 5, 'task': b'ABNORMAL_TERMINATION_IN_LNSRCH'}\n",
      "  \" state: %s\" % convergence_dict)\n",
      "/home/jairsan/Documents/dev/AlwaysLearningDeeper/Salesforce-Predictive-Modelling/venv/lib/python3.5/site-packages/sklearn/gaussian_process/gpr.py:457: UserWarning: fmin_l_bfgs_b terminated abnormally with the  state: {'grad': array([511.25939941]), 'warnflag': 2, 'funcalls': 99, 'nit': 5, 'task': b'ABNORMAL_TERMINATION_IN_LNSRCH'}\n",
      "  \" state: %s\" % convergence_dict)\n",
      "/home/jairsan/Documents/dev/AlwaysLearningDeeper/Salesforce-Predictive-Modelling/venv/lib/python3.5/site-packages/sklearn/gaussian_process/gpr.py:457: UserWarning: fmin_l_bfgs_b terminated abnormally with the  state: {'grad': array([-167.78588867]), 'warnflag': 2, 'funcalls': 58, 'nit': 4, 'task': b'ABNORMAL_TERMINATION_IN_LNSRCH'}\n",
      "  \" state: %s\" % convergence_dict)\n",
      "/home/jairsan/Documents/dev/AlwaysLearningDeeper/Salesforce-Predictive-Modelling/venv/lib/python3.5/site-packages/sklearn/gaussian_process/gpr.py:335: UserWarning: Predicted variances smaller than 0. Setting those variances to 0.\n",
      "  warnings.warn(\"Predicted variances smaller than 0. \"\n"
     ]
    },
    {
     "name": "stdout",
     "output_type": "stream",
     "text": [
      "   57 | 19m50s | -4467.61924 |     25.0000 |         1.0000 |            62.0486 |       100.0000 | \n"
     ]
    },
    {
     "name": "stderr",
     "output_type": "stream",
     "text": [
      "/home/jairsan/Documents/dev/AlwaysLearningDeeper/Salesforce-Predictive-Modelling/venv/lib/python3.5/site-packages/sklearn/gaussian_process/gpr.py:457: UserWarning: fmin_l_bfgs_b terminated abnormally with the  state: {'grad': array([-71.05078125]), 'warnflag': 2, 'funcalls': 76, 'nit': 5, 'task': b'ABNORMAL_TERMINATION_IN_LNSRCH'}\n",
      "  \" state: %s\" % convergence_dict)\n",
      "/home/jairsan/Documents/dev/AlwaysLearningDeeper/Salesforce-Predictive-Modelling/venv/lib/python3.5/site-packages/sklearn/gaussian_process/gpr.py:457: UserWarning: fmin_l_bfgs_b terminated abnormally with the  state: {'grad': array([-1280.29882812]), 'warnflag': 2, 'funcalls': 76, 'nit': 7, 'task': b'ABNORMAL_TERMINATION_IN_LNSRCH'}\n",
      "  \" state: %s\" % convergence_dict)\n",
      "/home/jairsan/Documents/dev/AlwaysLearningDeeper/Salesforce-Predictive-Modelling/venv/lib/python3.5/site-packages/sklearn/gaussian_process/gpr.py:457: UserWarning: fmin_l_bfgs_b terminated abnormally with the  state: {'grad': array([-75008.71875]), 'warnflag': 2, 'funcalls': 55, 'nit': 6, 'task': b'ABNORMAL_TERMINATION_IN_LNSRCH'}\n",
      "  \" state: %s\" % convergence_dict)\n",
      "/home/jairsan/Documents/dev/AlwaysLearningDeeper/Salesforce-Predictive-Modelling/venv/lib/python3.5/site-packages/sklearn/gaussian_process/gpr.py:457: UserWarning: fmin_l_bfgs_b terminated abnormally with the  state: {'grad': array([-21933.65429688]), 'warnflag': 2, 'funcalls': 87, 'nit': 5, 'task': b'ABNORMAL_TERMINATION_IN_LNSRCH'}\n",
      "  \" state: %s\" % convergence_dict)\n",
      "/home/jairsan/Documents/dev/AlwaysLearningDeeper/Salesforce-Predictive-Modelling/venv/lib/python3.5/site-packages/sklearn/gaussian_process/gpr.py:457: UserWarning: fmin_l_bfgs_b terminated abnormally with the  state: {'grad': array([12594.375]), 'warnflag': 2, 'funcalls': 75, 'nit': 4, 'task': b'ABNORMAL_TERMINATION_IN_LNSRCH'}\n",
      "  \" state: %s\" % convergence_dict)\n",
      "/home/jairsan/Documents/dev/AlwaysLearningDeeper/Salesforce-Predictive-Modelling/venv/lib/python3.5/site-packages/sklearn/gaussian_process/gpr.py:457: UserWarning: fmin_l_bfgs_b terminated abnormally with the  state: {'grad': array([38737.95898438]), 'warnflag': 2, 'funcalls': 73, 'nit': 9, 'task': b'ABNORMAL_TERMINATION_IN_LNSRCH'}\n",
      "  \" state: %s\" % convergence_dict)\n",
      "/home/jairsan/Documents/dev/AlwaysLearningDeeper/Salesforce-Predictive-Modelling/venv/lib/python3.5/site-packages/sklearn/gaussian_process/gpr.py:335: UserWarning: Predicted variances smaller than 0. Setting those variances to 0.\n",
      "  warnings.warn(\"Predicted variances smaller than 0. \"\n"
     ]
    },
    {
     "name": "stdout",
     "output_type": "stream",
     "text": [
      "   58 | 12m34s | -4441.85456 |     25.0000 |         1.0000 |            53.3486 |        61.0618 | \n"
     ]
    },
    {
     "name": "stderr",
     "output_type": "stream",
     "text": [
      "/home/jairsan/Documents/dev/AlwaysLearningDeeper/Salesforce-Predictive-Modelling/venv/lib/python3.5/site-packages/sklearn/gaussian_process/gpr.py:457: UserWarning: fmin_l_bfgs_b terminated abnormally with the  state: {'grad': array([-15016592.21717875]), 'warnflag': 2, 'funcalls': 30, 'nit': 1, 'task': b'ABNORMAL_TERMINATION_IN_LNSRCH'}\n",
      "  \" state: %s\" % convergence_dict)\n",
      "/home/jairsan/Documents/dev/AlwaysLearningDeeper/Salesforce-Predictive-Modelling/venv/lib/python3.5/site-packages/sklearn/gaussian_process/gpr.py:457: UserWarning: fmin_l_bfgs_b terminated abnormally with the  state: {'grad': array([3128.04262193]), 'warnflag': 2, 'funcalls': 57, 'nit': 3, 'task': b'ABNORMAL_TERMINATION_IN_LNSRCH'}\n",
      "  \" state: %s\" % convergence_dict)\n",
      "/home/jairsan/Documents/dev/AlwaysLearningDeeper/Salesforce-Predictive-Modelling/venv/lib/python3.5/site-packages/sklearn/gaussian_process/gpr.py:457: UserWarning: fmin_l_bfgs_b terminated abnormally with the  state: {'grad': array([-3.56999081]), 'warnflag': 2, 'funcalls': 54, 'nit': 3, 'task': b'ABNORMAL_TERMINATION_IN_LNSRCH'}\n",
      "  \" state: %s\" % convergence_dict)\n",
      "/home/jairsan/Documents/dev/AlwaysLearningDeeper/Salesforce-Predictive-Modelling/venv/lib/python3.5/site-packages/sklearn/gaussian_process/gpr.py:457: UserWarning: fmin_l_bfgs_b terminated abnormally with the  state: {'grad': array([-197.71277669]), 'warnflag': 2, 'funcalls': 73, 'nit': 5, 'task': b'ABNORMAL_TERMINATION_IN_LNSRCH'}\n",
      "  \" state: %s\" % convergence_dict)\n",
      "/home/jairsan/Documents/dev/AlwaysLearningDeeper/Salesforce-Predictive-Modelling/venv/lib/python3.5/site-packages/sklearn/gaussian_process/gpr.py:457: UserWarning: fmin_l_bfgs_b terminated abnormally with the  state: {'grad': array([19555.23793895]), 'warnflag': 2, 'funcalls': 58, 'nit': 4, 'task': b'ABNORMAL_TERMINATION_IN_LNSRCH'}\n",
      "  \" state: %s\" % convergence_dict)\n",
      "/home/jairsan/Documents/dev/AlwaysLearningDeeper/Salesforce-Predictive-Modelling/venv/lib/python3.5/site-packages/sklearn/gaussian_process/gpr.py:335: UserWarning: Predicted variances smaller than 0. Setting those variances to 0.\n",
      "  warnings.warn(\"Predicted variances smaller than 0. \"\n"
     ]
    },
    {
     "name": "stdout",
     "output_type": "stream",
     "text": [
      "   59 | 06m49s | -4384.87485 |     25.0000 |         1.0000 |            26.1014 |        30.0000 | \n"
     ]
    },
    {
     "name": "stderr",
     "output_type": "stream",
     "text": [
      "/home/jairsan/Documents/dev/AlwaysLearningDeeper/Salesforce-Predictive-Modelling/venv/lib/python3.5/site-packages/sklearn/gaussian_process/gpr.py:457: UserWarning: fmin_l_bfgs_b terminated abnormally with the  state: {'grad': array([-11843997.3203125]), 'warnflag': 2, 'funcalls': 43, 'nit': 3, 'task': b'ABNORMAL_TERMINATION_IN_LNSRCH'}\n",
      "  \" state: %s\" % convergence_dict)\n",
      "/home/jairsan/Documents/dev/AlwaysLearningDeeper/Salesforce-Predictive-Modelling/venv/lib/python3.5/site-packages/sklearn/gaussian_process/gpr.py:457: UserWarning: fmin_l_bfgs_b terminated abnormally with the  state: {'grad': array([-367.19726562]), 'warnflag': 2, 'funcalls': 75, 'nit': 7, 'task': b'ABNORMAL_TERMINATION_IN_LNSRCH'}\n",
      "  \" state: %s\" % convergence_dict)\n",
      "/home/jairsan/Documents/dev/AlwaysLearningDeeper/Salesforce-Predictive-Modelling/venv/lib/python3.5/site-packages/sklearn/gaussian_process/gpr.py:457: UserWarning: fmin_l_bfgs_b terminated abnormally with the  state: {'grad': array([6427.203125]), 'warnflag': 2, 'funcalls': 56, 'nit': 3, 'task': b'ABNORMAL_TERMINATION_IN_LNSRCH'}\n",
      "  \" state: %s\" % convergence_dict)\n",
      "/home/jairsan/Documents/dev/AlwaysLearningDeeper/Salesforce-Predictive-Modelling/venv/lib/python3.5/site-packages/sklearn/gaussian_process/gpr.py:457: UserWarning: fmin_l_bfgs_b terminated abnormally with the  state: {'grad': array([-4687.69335938]), 'warnflag': 2, 'funcalls': 50, 'nit': 4, 'task': b'ABNORMAL_TERMINATION_IN_LNSRCH'}\n",
      "  \" state: %s\" % convergence_dict)\n",
      "/home/jairsan/Documents/dev/AlwaysLearningDeeper/Salesforce-Predictive-Modelling/venv/lib/python3.5/site-packages/sklearn/gaussian_process/gpr.py:457: UserWarning: fmin_l_bfgs_b terminated abnormally with the  state: {'grad': array([990.11914062]), 'warnflag': 2, 'funcalls': 75, 'nit': 4, 'task': b'ABNORMAL_TERMINATION_IN_LNSRCH'}\n",
      "  \" state: %s\" % convergence_dict)\n",
      "/home/jairsan/Documents/dev/AlwaysLearningDeeper/Salesforce-Predictive-Modelling/venv/lib/python3.5/site-packages/sklearn/gaussian_process/gpr.py:457: UserWarning: fmin_l_bfgs_b terminated abnormally with the  state: {'grad': array([-10415.91992188]), 'warnflag': 2, 'funcalls': 80, 'nit': 7, 'task': b'ABNORMAL_TERMINATION_IN_LNSRCH'}\n",
      "  \" state: %s\" % convergence_dict)\n",
      "/home/jairsan/Documents/dev/AlwaysLearningDeeper/Salesforce-Predictive-Modelling/venv/lib/python3.5/site-packages/sklearn/gaussian_process/gpr.py:457: UserWarning: fmin_l_bfgs_b terminated abnormally with the  state: {'grad': array([-124.0625]), 'warnflag': 2, 'funcalls': 70, 'nit': 5, 'task': b'ABNORMAL_TERMINATION_IN_LNSRCH'}\n",
      "  \" state: %s\" % convergence_dict)\n",
      "/home/jairsan/Documents/dev/AlwaysLearningDeeper/Salesforce-Predictive-Modelling/venv/lib/python3.5/site-packages/sklearn/gaussian_process/gpr.py:335: UserWarning: Predicted variances smaller than 0. Setting those variances to 0.\n",
      "  warnings.warn(\"Predicted variances smaller than 0. \"\n"
     ]
    },
    {
     "name": "stdout",
     "output_type": "stream",
     "text": [
      "   60 | 03m39s | -4523.67206 |     24.3765 |         0.1394 |            24.8970 |        99.8920 | \n"
     ]
    },
    {
     "name": "stderr",
     "output_type": "stream",
     "text": [
      "/home/jairsan/Documents/dev/AlwaysLearningDeeper/Salesforce-Predictive-Modelling/venv/lib/python3.5/site-packages/sklearn/gaussian_process/gpr.py:457: UserWarning: fmin_l_bfgs_b terminated abnormally with the  state: {'grad': array([-103789.9005127]), 'warnflag': 2, 'funcalls': 49, 'nit': 3, 'task': b'ABNORMAL_TERMINATION_IN_LNSRCH'}\n",
      "  \" state: %s\" % convergence_dict)\n",
      "/home/jairsan/Documents/dev/AlwaysLearningDeeper/Salesforce-Predictive-Modelling/venv/lib/python3.5/site-packages/sklearn/gaussian_process/gpr.py:457: UserWarning: fmin_l_bfgs_b terminated abnormally with the  state: {'grad': array([-9103624.19458008]), 'warnflag': 2, 'funcalls': 35, 'nit': 2, 'task': b'ABNORMAL_TERMINATION_IN_LNSRCH'}\n",
      "  \" state: %s\" % convergence_dict)\n",
      "/home/jairsan/Documents/dev/AlwaysLearningDeeper/Salesforce-Predictive-Modelling/venv/lib/python3.5/site-packages/sklearn/gaussian_process/gpr.py:457: UserWarning: fmin_l_bfgs_b terminated abnormally with the  state: {'grad': array([-293.99523926]), 'warnflag': 2, 'funcalls': 87, 'nit': 7, 'task': b'ABNORMAL_TERMINATION_IN_LNSRCH'}\n",
      "  \" state: %s\" % convergence_dict)\n",
      "/home/jairsan/Documents/dev/AlwaysLearningDeeper/Salesforce-Predictive-Modelling/venv/lib/python3.5/site-packages/sklearn/gaussian_process/gpr.py:457: UserWarning: fmin_l_bfgs_b terminated abnormally with the  state: {'grad': array([-128.58679199]), 'warnflag': 2, 'funcalls': 62, 'nit': 5, 'task': b'ABNORMAL_TERMINATION_IN_LNSRCH'}\n",
      "  \" state: %s\" % convergence_dict)\n",
      "/home/jairsan/Documents/dev/AlwaysLearningDeeper/Salesforce-Predictive-Modelling/venv/lib/python3.5/site-packages/sklearn/gaussian_process/gpr.py:457: UserWarning: fmin_l_bfgs_b terminated abnormally with the  state: {'grad': array([-39.15112305]), 'warnflag': 2, 'funcalls': 54, 'nit': 6, 'task': b'ABNORMAL_TERMINATION_IN_LNSRCH'}\n",
      "  \" state: %s\" % convergence_dict)\n",
      "/home/jairsan/Documents/dev/AlwaysLearningDeeper/Salesforce-Predictive-Modelling/venv/lib/python3.5/site-packages/sklearn/gaussian_process/gpr.py:457: UserWarning: fmin_l_bfgs_b terminated abnormally with the  state: {'grad': array([-220.62158203]), 'warnflag': 2, 'funcalls': 49, 'nit': 4, 'task': b'ABNORMAL_TERMINATION_IN_LNSRCH'}\n",
      "  \" state: %s\" % convergence_dict)\n",
      "/home/jairsan/Documents/dev/AlwaysLearningDeeper/Salesforce-Predictive-Modelling/venv/lib/python3.5/site-packages/sklearn/gaussian_process/gpr.py:457: UserWarning: fmin_l_bfgs_b terminated abnormally with the  state: {'grad': array([-17839.66064453]), 'warnflag': 2, 'funcalls': 70, 'nit': 5, 'task': b'ABNORMAL_TERMINATION_IN_LNSRCH'}\n",
      "  \" state: %s\" % convergence_dict)\n",
      "/home/jairsan/Documents/dev/AlwaysLearningDeeper/Salesforce-Predictive-Modelling/venv/lib/python3.5/site-packages/sklearn/gaussian_process/gpr.py:335: UserWarning: Predicted variances smaller than 0. Setting those variances to 0.\n",
      "  warnings.warn(\"Predicted variances smaller than 0. \"\n"
     ]
    },
    {
     "name": "stdout",
     "output_type": "stream",
     "text": [
      "   61 | 12m12s | -4600.48569 |     25.0000 |         1.0000 |           160.2383 |        67.0591 | \n"
     ]
    },
    {
     "name": "stderr",
     "output_type": "stream",
     "text": [
      "/home/jairsan/Documents/dev/AlwaysLearningDeeper/Salesforce-Predictive-Modelling/venv/lib/python3.5/site-packages/sklearn/gaussian_process/gpr.py:457: UserWarning: fmin_l_bfgs_b terminated abnormally with the  state: {'grad': array([-82388.17578125]), 'warnflag': 2, 'funcalls': 55, 'nit': 2, 'task': b'ABNORMAL_TERMINATION_IN_LNSRCH'}\n",
      "  \" state: %s\" % convergence_dict)\n",
      "/home/jairsan/Documents/dev/AlwaysLearningDeeper/Salesforce-Predictive-Modelling/venv/lib/python3.5/site-packages/sklearn/gaussian_process/gpr.py:457: UserWarning: fmin_l_bfgs_b terminated abnormally with the  state: {'grad': array([12.3046875]), 'warnflag': 2, 'funcalls': 54, 'nit': 4, 'task': b'ABNORMAL_TERMINATION_IN_LNSRCH'}\n",
      "  \" state: %s\" % convergence_dict)\n",
      "/home/jairsan/Documents/dev/AlwaysLearningDeeper/Salesforce-Predictive-Modelling/venv/lib/python3.5/site-packages/sklearn/gaussian_process/gpr.py:457: UserWarning: fmin_l_bfgs_b terminated abnormally with the  state: {'grad': array([-1183.34765625]), 'warnflag': 2, 'funcalls': 55, 'nit': 4, 'task': b'ABNORMAL_TERMINATION_IN_LNSRCH'}\n",
      "  \" state: %s\" % convergence_dict)\n",
      "/home/jairsan/Documents/dev/AlwaysLearningDeeper/Salesforce-Predictive-Modelling/venv/lib/python3.5/site-packages/sklearn/gaussian_process/gpr.py:457: UserWarning: fmin_l_bfgs_b terminated abnormally with the  state: {'grad': array([-303.203125]), 'warnflag': 2, 'funcalls': 49, 'nit': 3, 'task': b'ABNORMAL_TERMINATION_IN_LNSRCH'}\n",
      "  \" state: %s\" % convergence_dict)\n",
      "/home/jairsan/Documents/dev/AlwaysLearningDeeper/Salesforce-Predictive-Modelling/venv/lib/python3.5/site-packages/sklearn/gaussian_process/gpr.py:457: UserWarning: fmin_l_bfgs_b terminated abnormally with the  state: {'grad': array([-3572167.09375]), 'warnflag': 2, 'funcalls': 55, 'nit': 2, 'task': b'ABNORMAL_TERMINATION_IN_LNSRCH'}\n",
      "  \" state: %s\" % convergence_dict)\n",
      "/home/jairsan/Documents/dev/AlwaysLearningDeeper/Salesforce-Predictive-Modelling/venv/lib/python3.5/site-packages/sklearn/gaussian_process/gpr.py:457: UserWarning: fmin_l_bfgs_b terminated abnormally with the  state: {'grad': array([162490.890625]), 'warnflag': 2, 'funcalls': 54, 'nit': 4, 'task': b'ABNORMAL_TERMINATION_IN_LNSRCH'}\n",
      "  \" state: %s\" % convergence_dict)\n",
      "/home/jairsan/Documents/dev/AlwaysLearningDeeper/Salesforce-Predictive-Modelling/venv/lib/python3.5/site-packages/sklearn/gaussian_process/gpr.py:457: UserWarning: fmin_l_bfgs_b terminated abnormally with the  state: {'grad': array([-85.7890625]), 'warnflag': 2, 'funcalls': 56, 'nit': 8, 'task': b'ABNORMAL_TERMINATION_IN_LNSRCH'}\n",
      "  \" state: %s\" % convergence_dict)\n",
      "/home/jairsan/Documents/dev/AlwaysLearningDeeper/Salesforce-Predictive-Modelling/venv/lib/python3.5/site-packages/sklearn/gaussian_process/gpr.py:457: UserWarning: fmin_l_bfgs_b terminated abnormally with the  state: {'grad': array([1155.7734375]), 'warnflag': 2, 'funcalls': 96, 'nit': 4, 'task': b'ABNORMAL_TERMINATION_IN_LNSRCH'}\n",
      "  \" state: %s\" % convergence_dict)\n",
      "/home/jairsan/Documents/dev/AlwaysLearningDeeper/Salesforce-Predictive-Modelling/venv/lib/python3.5/site-packages/sklearn/gaussian_process/gpr.py:457: UserWarning: fmin_l_bfgs_b terminated abnormally with the  state: {'grad': array([-172.453125]), 'warnflag': 2, 'funcalls': 64, 'nit': 5, 'task': b'ABNORMAL_TERMINATION_IN_LNSRCH'}\n",
      "  \" state: %s\" % convergence_dict)\n",
      "/home/jairsan/Documents/dev/AlwaysLearningDeeper/Salesforce-Predictive-Modelling/venv/lib/python3.5/site-packages/sklearn/gaussian_process/gpr.py:335: UserWarning: Predicted variances smaller than 0. Setting those variances to 0.\n",
      "  warnings.warn(\"Predicted variances smaller than 0. \"\n"
     ]
    },
    {
     "name": "stdout",
     "output_type": "stream",
     "text": [
      "   62 | 19m09s | -4515.69147 |     25.0000 |         1.0000 |            89.5018 |       100.0000 | \n"
     ]
    },
    {
     "name": "stderr",
     "output_type": "stream",
     "text": [
      "/home/jairsan/Documents/dev/AlwaysLearningDeeper/Salesforce-Predictive-Modelling/venv/lib/python3.5/site-packages/sklearn/gaussian_process/gpr.py:457: UserWarning: fmin_l_bfgs_b terminated abnormally with the  state: {'grad': array([-19719.24030368]), 'warnflag': 2, 'funcalls': 54, 'nit': 4, 'task': b'ABNORMAL_TERMINATION_IN_LNSRCH'}\n",
      "  \" state: %s\" % convergence_dict)\n",
      "/home/jairsan/Documents/dev/AlwaysLearningDeeper/Salesforce-Predictive-Modelling/venv/lib/python3.5/site-packages/sklearn/gaussian_process/gpr.py:457: UserWarning: fmin_l_bfgs_b terminated abnormally with the  state: {'grad': array([1459.65958224]), 'warnflag': 2, 'funcalls': 71, 'nit': 4, 'task': b'ABNORMAL_TERMINATION_IN_LNSRCH'}\n",
      "  \" state: %s\" % convergence_dict)\n",
      "/home/jairsan/Documents/dev/AlwaysLearningDeeper/Salesforce-Predictive-Modelling/venv/lib/python3.5/site-packages/sklearn/gaussian_process/gpr.py:457: UserWarning: fmin_l_bfgs_b terminated abnormally with the  state: {'grad': array([-1811.25525859]), 'warnflag': 2, 'funcalls': 49, 'nit': 5, 'task': b'ABNORMAL_TERMINATION_IN_LNSRCH'}\n",
      "  \" state: %s\" % convergence_dict)\n",
      "/home/jairsan/Documents/dev/AlwaysLearningDeeper/Salesforce-Predictive-Modelling/venv/lib/python3.5/site-packages/sklearn/gaussian_process/gpr.py:457: UserWarning: fmin_l_bfgs_b terminated abnormally with the  state: {'grad': array([-12101805.63390366]), 'warnflag': 2, 'funcalls': 29, 'nit': 1, 'task': b'ABNORMAL_TERMINATION_IN_LNSRCH'}\n",
      "  \" state: %s\" % convergence_dict)\n",
      "/home/jairsan/Documents/dev/AlwaysLearningDeeper/Salesforce-Predictive-Modelling/venv/lib/python3.5/site-packages/sklearn/gaussian_process/gpr.py:457: UserWarning: fmin_l_bfgs_b terminated abnormally with the  state: {'grad': array([-88.57601483]), 'warnflag': 2, 'funcalls': 58, 'nit': 6, 'task': b'ABNORMAL_TERMINATION_IN_LNSRCH'}\n",
      "  \" state: %s\" % convergence_dict)\n",
      "/home/jairsan/Documents/dev/AlwaysLearningDeeper/Salesforce-Predictive-Modelling/venv/lib/python3.5/site-packages/sklearn/gaussian_process/gpr.py:457: UserWarning: fmin_l_bfgs_b terminated abnormally with the  state: {'grad': array([-100.97964415]), 'warnflag': 2, 'funcalls': 49, 'nit': 4, 'task': b'ABNORMAL_TERMINATION_IN_LNSRCH'}\n",
      "  \" state: %s\" % convergence_dict)\n",
      "/home/jairsan/Documents/dev/AlwaysLearningDeeper/Salesforce-Predictive-Modelling/venv/lib/python3.5/site-packages/sklearn/gaussian_process/gpr.py:457: UserWarning: fmin_l_bfgs_b terminated abnormally with the  state: {'grad': array([-121727.90442974]), 'warnflag': 2, 'funcalls': 55, 'nit': 2, 'task': b'ABNORMAL_TERMINATION_IN_LNSRCH'}\n",
      "  \" state: %s\" % convergence_dict)\n",
      "/home/jairsan/Documents/dev/AlwaysLearningDeeper/Salesforce-Predictive-Modelling/venv/lib/python3.5/site-packages/sklearn/gaussian_process/gpr.py:457: UserWarning: fmin_l_bfgs_b terminated abnormally with the  state: {'grad': array([-180259.36695853]), 'warnflag': 2, 'funcalls': 48, 'nit': 1, 'task': b'ABNORMAL_TERMINATION_IN_LNSRCH'}\n",
      "  \" state: %s\" % convergence_dict)\n",
      "/home/jairsan/Documents/dev/AlwaysLearningDeeper/Salesforce-Predictive-Modelling/venv/lib/python3.5/site-packages/sklearn/gaussian_process/gpr.py:457: UserWarning: fmin_l_bfgs_b terminated abnormally with the  state: {'grad': array([592.11817521]), 'warnflag': 2, 'funcalls': 58, 'nit': 4, 'task': b'ABNORMAL_TERMINATION_IN_LNSRCH'}\n",
      "  \" state: %s\" % convergence_dict)\n",
      "/home/jairsan/Documents/dev/AlwaysLearningDeeper/Salesforce-Predictive-Modelling/venv/lib/python3.5/site-packages/sklearn/gaussian_process/gpr.py:457: UserWarning: fmin_l_bfgs_b terminated abnormally with the  state: {'grad': array([-158.26778552]), 'warnflag': 2, 'funcalls': 56, 'nit': 6, 'task': b'ABNORMAL_TERMINATION_IN_LNSRCH'}\n",
      "  \" state: %s\" % convergence_dict)\n",
      "/home/jairsan/Documents/dev/AlwaysLearningDeeper/Salesforce-Predictive-Modelling/venv/lib/python3.5/site-packages/sklearn/gaussian_process/gpr.py:335: UserWarning: Predicted variances smaller than 0. Setting those variances to 0.\n",
      "  warnings.warn(\"Predicted variances smaller than 0. \"\n"
     ]
    },
    {
     "name": "stdout",
     "output_type": "stream",
     "text": [
      "   63 | 14m03s | -4492.46127 |     15.0000 |         1.0000 |            55.5765 |        73.7182 | \n"
     ]
    },
    {
     "name": "stderr",
     "output_type": "stream",
     "text": [
      "/home/jairsan/Documents/dev/AlwaysLearningDeeper/Salesforce-Predictive-Modelling/venv/lib/python3.5/site-packages/sklearn/gaussian_process/gpr.py:457: UserWarning: fmin_l_bfgs_b terminated abnormally with the  state: {'grad': array([-16025.66015625]), 'warnflag': 2, 'funcalls': 52, 'nit': 2, 'task': b'ABNORMAL_TERMINATION_IN_LNSRCH'}\n",
      "  \" state: %s\" % convergence_dict)\n",
      "/home/jairsan/Documents/dev/AlwaysLearningDeeper/Salesforce-Predictive-Modelling/venv/lib/python3.5/site-packages/sklearn/gaussian_process/gpr.py:457: UserWarning: fmin_l_bfgs_b terminated abnormally with the  state: {'grad': array([-97.703125]), 'warnflag': 2, 'funcalls': 50, 'nit': 6, 'task': b'ABNORMAL_TERMINATION_IN_LNSRCH'}\n",
      "  \" state: %s\" % convergence_dict)\n",
      "/home/jairsan/Documents/dev/AlwaysLearningDeeper/Salesforce-Predictive-Modelling/venv/lib/python3.5/site-packages/sklearn/gaussian_process/gpr.py:457: UserWarning: fmin_l_bfgs_b terminated abnormally with the  state: {'grad': array([-232.74609375]), 'warnflag': 2, 'funcalls': 67, 'nit': 4, 'task': b'ABNORMAL_TERMINATION_IN_LNSRCH'}\n",
      "  \" state: %s\" % convergence_dict)\n",
      "/home/jairsan/Documents/dev/AlwaysLearningDeeper/Salesforce-Predictive-Modelling/venv/lib/python3.5/site-packages/sklearn/gaussian_process/gpr.py:457: UserWarning: fmin_l_bfgs_b terminated abnormally with the  state: {'grad': array([-185.6171875]), 'warnflag': 2, 'funcalls': 80, 'nit': 6, 'task': b'ABNORMAL_TERMINATION_IN_LNSRCH'}\n",
      "  \" state: %s\" % convergence_dict)\n",
      "/home/jairsan/Documents/dev/AlwaysLearningDeeper/Salesforce-Predictive-Modelling/venv/lib/python3.5/site-packages/sklearn/gaussian_process/gpr.py:335: UserWarning: Predicted variances smaller than 0. Setting those variances to 0.\n",
      "  warnings.warn(\"Predicted variances smaller than 0. \"\n"
     ]
    },
    {
     "name": "stdout",
     "output_type": "stream",
     "text": [
      "   64 | 21m17s | -4393.63405 |     25.0000 |         1.0000 |            35.7299 |       100.0000 | \n"
     ]
    },
    {
     "name": "stderr",
     "output_type": "stream",
     "text": [
      "/home/jairsan/Documents/dev/AlwaysLearningDeeper/Salesforce-Predictive-Modelling/venv/lib/python3.5/site-packages/sklearn/gaussian_process/gpr.py:457: UserWarning: fmin_l_bfgs_b terminated abnormally with the  state: {'grad': array([-1225.39233398]), 'warnflag': 2, 'funcalls': 51, 'nit': 3, 'task': b'ABNORMAL_TERMINATION_IN_LNSRCH'}\n",
      "  \" state: %s\" % convergence_dict)\n",
      "/home/jairsan/Documents/dev/AlwaysLearningDeeper/Salesforce-Predictive-Modelling/venv/lib/python3.5/site-packages/sklearn/gaussian_process/gpr.py:457: UserWarning: fmin_l_bfgs_b terminated abnormally with the  state: {'grad': array([-71.46948242]), 'warnflag': 2, 'funcalls': 73, 'nit': 6, 'task': b'ABNORMAL_TERMINATION_IN_LNSRCH'}\n",
      "  \" state: %s\" % convergence_dict)\n",
      "/home/jairsan/Documents/dev/AlwaysLearningDeeper/Salesforce-Predictive-Modelling/venv/lib/python3.5/site-packages/sklearn/gaussian_process/gpr.py:457: UserWarning: fmin_l_bfgs_b terminated abnormally with the  state: {'grad': array([-119.87402344]), 'warnflag': 2, 'funcalls': 75, 'nit': 6, 'task': b'ABNORMAL_TERMINATION_IN_LNSRCH'}\n",
      "  \" state: %s\" % convergence_dict)\n",
      "/home/jairsan/Documents/dev/AlwaysLearningDeeper/Salesforce-Predictive-Modelling/venv/lib/python3.5/site-packages/sklearn/gaussian_process/gpr.py:457: UserWarning: fmin_l_bfgs_b terminated abnormally with the  state: {'grad': array([-510.89624023]), 'warnflag': 2, 'funcalls': 71, 'nit': 5, 'task': b'ABNORMAL_TERMINATION_IN_LNSRCH'}\n",
      "  \" state: %s\" % convergence_dict)\n",
      "/home/jairsan/Documents/dev/AlwaysLearningDeeper/Salesforce-Predictive-Modelling/venv/lib/python3.5/site-packages/sklearn/gaussian_process/gpr.py:457: UserWarning: fmin_l_bfgs_b terminated abnormally with the  state: {'grad': array([-386.93164062]), 'warnflag': 2, 'funcalls': 54, 'nit': 3, 'task': b'ABNORMAL_TERMINATION_IN_LNSRCH'}\n",
      "  \" state: %s\" % convergence_dict)\n",
      "/home/jairsan/Documents/dev/AlwaysLearningDeeper/Salesforce-Predictive-Modelling/venv/lib/python3.5/site-packages/sklearn/gaussian_process/gpr.py:457: UserWarning: fmin_l_bfgs_b terminated abnormally with the  state: {'grad': array([-360.6940918]), 'warnflag': 2, 'funcalls': 70, 'nit': 5, 'task': b'ABNORMAL_TERMINATION_IN_LNSRCH'}\n",
      "  \" state: %s\" % convergence_dict)\n",
      "/home/jairsan/Documents/dev/AlwaysLearningDeeper/Salesforce-Predictive-Modelling/venv/lib/python3.5/site-packages/sklearn/gaussian_process/gpr.py:457: UserWarning: fmin_l_bfgs_b terminated abnormally with the  state: {'grad': array([-357.10620117]), 'warnflag': 2, 'funcalls': 54, 'nit': 5, 'task': b'ABNORMAL_TERMINATION_IN_LNSRCH'}\n",
      "  \" state: %s\" % convergence_dict)\n",
      "/home/jairsan/Documents/dev/AlwaysLearningDeeper/Salesforce-Predictive-Modelling/venv/lib/python3.5/site-packages/sklearn/gaussian_process/gpr.py:457: UserWarning: fmin_l_bfgs_b terminated abnormally with the  state: {'grad': array([-113.78637695]), 'warnflag': 2, 'funcalls': 93, 'nit': 8, 'task': b'ABNORMAL_TERMINATION_IN_LNSRCH'}\n",
      "  \" state: %s\" % convergence_dict)\n",
      "/home/jairsan/Documents/dev/AlwaysLearningDeeper/Salesforce-Predictive-Modelling/venv/lib/python3.5/site-packages/sklearn/gaussian_process/gpr.py:457: UserWarning: fmin_l_bfgs_b terminated abnormally with the  state: {'grad': array([-533.01171875]), 'warnflag': 2, 'funcalls': 72, 'nit': 5, 'task': b'ABNORMAL_TERMINATION_IN_LNSRCH'}\n",
      "  \" state: %s\" % convergence_dict)\n",
      "/home/jairsan/Documents/dev/AlwaysLearningDeeper/Salesforce-Predictive-Modelling/venv/lib/python3.5/site-packages/sklearn/gaussian_process/gpr.py:457: UserWarning: fmin_l_bfgs_b terminated abnormally with the  state: {'grad': array([-161.50170898]), 'warnflag': 2, 'funcalls': 50, 'nit': 5, 'task': b'ABNORMAL_TERMINATION_IN_LNSRCH'}\n",
      "  \" state: %s\" % convergence_dict)\n",
      "/home/jairsan/Documents/dev/AlwaysLearningDeeper/Salesforce-Predictive-Modelling/venv/lib/python3.5/site-packages/sklearn/gaussian_process/gpr.py:457: UserWarning: fmin_l_bfgs_b terminated abnormally with the  state: {'grad': array([-211.84204102]), 'warnflag': 2, 'funcalls': 53, 'nit': 3, 'task': b'ABNORMAL_TERMINATION_IN_LNSRCH'}\n",
      "  \" state: %s\" % convergence_dict)\n"
     ]
    },
    {
     "name": "stdout",
     "output_type": "stream",
     "text": [
      "   65 | 18m39s | -4623.48373 |     15.0000 |         1.0000 |           174.5441 |       100.0000 | \n"
     ]
    },
    {
     "name": "stderr",
     "output_type": "stream",
     "text": [
      "/home/jairsan/Documents/dev/AlwaysLearningDeeper/Salesforce-Predictive-Modelling/venv/lib/python3.5/site-packages/sklearn/gaussian_process/gpr.py:457: UserWarning: fmin_l_bfgs_b terminated abnormally with the  state: {'grad': array([-480.83203125]), 'warnflag': 2, 'funcalls': 57, 'nit': 4, 'task': b'ABNORMAL_TERMINATION_IN_LNSRCH'}\n",
      "  \" state: %s\" % convergence_dict)\n",
      "/home/jairsan/Documents/dev/AlwaysLearningDeeper/Salesforce-Predictive-Modelling/venv/lib/python3.5/site-packages/sklearn/gaussian_process/gpr.py:457: UserWarning: fmin_l_bfgs_b terminated abnormally with the  state: {'grad': array([-191.8046875]), 'warnflag': 2, 'funcalls': 69, 'nit': 6, 'task': b'ABNORMAL_TERMINATION_IN_LNSRCH'}\n",
      "  \" state: %s\" % convergence_dict)\n",
      "/home/jairsan/Documents/dev/AlwaysLearningDeeper/Salesforce-Predictive-Modelling/venv/lib/python3.5/site-packages/sklearn/gaussian_process/gpr.py:457: UserWarning: fmin_l_bfgs_b terminated abnormally with the  state: {'grad': array([6915.34375]), 'warnflag': 2, 'funcalls': 80, 'nit': 6, 'task': b'ABNORMAL_TERMINATION_IN_LNSRCH'}\n",
      "  \" state: %s\" % convergence_dict)\n",
      "/home/jairsan/Documents/dev/AlwaysLearningDeeper/Salesforce-Predictive-Modelling/venv/lib/python3.5/site-packages/sklearn/gaussian_process/gpr.py:457: UserWarning: fmin_l_bfgs_b terminated abnormally with the  state: {'grad': array([-18934.79296875]), 'warnflag': 2, 'funcalls': 40, 'nit': 3, 'task': b'ABNORMAL_TERMINATION_IN_LNSRCH'}\n",
      "  \" state: %s\" % convergence_dict)\n",
      "/home/jairsan/Documents/dev/AlwaysLearningDeeper/Salesforce-Predictive-Modelling/venv/lib/python3.5/site-packages/sklearn/gaussian_process/gpr.py:457: UserWarning: fmin_l_bfgs_b terminated abnormally with the  state: {'grad': array([-11468981.609375]), 'warnflag': 2, 'funcalls': 30, 'nit': 1, 'task': b'ABNORMAL_TERMINATION_IN_LNSRCH'}\n",
      "  \" state: %s\" % convergence_dict)\n",
      "/home/jairsan/Documents/dev/AlwaysLearningDeeper/Salesforce-Predictive-Modelling/venv/lib/python3.5/site-packages/sklearn/gaussian_process/gpr.py:335: UserWarning: Predicted variances smaller than 0. Setting those variances to 0.\n",
      "  warnings.warn(\"Predicted variances smaller than 0. \"\n"
     ]
    },
    {
     "name": "stdout",
     "output_type": "stream",
     "text": [
      "{'max_params': {'max_features': 1.0, 'max_depth': 25.0, 'min_samples_leaf': 31.339168438211956, 'n_estimators': 100.0}, 'max_val': -4381.255735854744}\n"
     ]
    }
   ],
   "source": [
    "f_train_df = process_df(shuffled_data,0,train = True)\n",
    "\n",
    "X_train = f_train_df.drop(labels=[\"Poder_Adquisitivo\"],axis=1).as_matrix()\n",
    "y_train = f_train_df[\"Poder_Adquisitivo\"].as_matrix()\n",
    "\n",
    "def model_evaluate(n_estimators,\n",
    "                 max_depth,\n",
    "                max_features,\n",
    "                 min_samples_leaf,\n",
    "                  ):\n",
    "\n",
    "    n_estimators = int(n_estimators)\n",
    "    max_depth = int(max_depth)\n",
    "    min_samples_leaf = int(min_samples_leaf)\n",
    "    max_features = max(min(max_features, 1), 0.1)\n",
    "\n",
    "    model = RandomForestRegressor(n_estimators=n_estimators,\n",
    "                 max_depth=max_depth,\n",
    "                max_features=max_features,\n",
    "                 min_samples_leaf=min_samples_leaf,\n",
    "                                 n_jobs=4,random_state=SEED)\n",
    "\n",
    "    cv_result = cross_val_score(model,X_train,y_train,cv=kf,scoring=\"neg_mean_absolute_error\")\n",
    "\n",
    "    return np.mean(cv_result)\n",
    "\n",
    "\n",
    "num_iter = 50\n",
    "init_points = 15\n",
    "\n",
    "\n",
    "modelBO = BayesianOptimization(model_evaluate, {'n_estimators': (30, 100),\n",
    "                                            'max_depth': (15, 25),\n",
    "                                            'min_samples_leaf': (1, 200),\n",
    "                                                'max_features' :(0.1,1),\n",
    "                                            })\n",
    "\n",
    "modelBO.maximize(init_points=init_points, n_iter=num_iter)\n",
    "\n",
    "print(modelBO.res['max'])"
   ]
  },
  {
   "cell_type": "code",
   "execution_count": 10,
   "metadata": {},
   "outputs": [
    {
     "name": "stdout",
     "output_type": "stream",
     "text": [
      "RMSE: 18958.802741\n",
      "MAE: 4409.980381\n",
      "MAD: 2103.408127\n",
      "CPU times: user 1h 20min 7s, sys: 7.76 s, total: 1h 20min 15s\n",
      "Wall time: 22min 25s\n"
     ]
    }
   ],
   "source": [
    "%%time \n",
    "model = RandomForestRegressor(n_estimators=100,\n",
    "                 max_depth=25,\n",
    "                max_features=1.0,\n",
    "                 min_samples_leaf=31,\n",
    "                                 n_jobs=4,random_state=SEED)\n",
    "\n",
    "scores_rmse,scores_mae,scores_mad = train_and_evaluate(model,splits)\n",
    "\n",
    "\n",
    "print(\"RMSE: %f\" % np.mean(scores_rmse))\n",
    "print(\"MAE: %f\" % np.mean(scores_mae))\n",
    "print(\"MAD: %f\" % np.mean(scores_mad))\n",
    "record_scores('bla',np.mean(scores_rmse),np.mean(scores_mae),np.mean(scores_mad))"
   ]
  },
  {
   "cell_type": "code",
   "execution_count": null,
   "metadata": {},
   "outputs": [],
   "source": [
    "49 | 21m01s | -4381.25574 |     25.0000 |         1.0000 |            31.3392 |       100.0000"
   ]
  },
  {
   "cell_type": "code",
   "execution_count": null,
   "metadata": {},
   "outputs": [
    {
     "name": "stdout",
     "output_type": "stream",
     "text": [
      "\u001b[31mInitialization\u001b[0m\n",
      "\u001b[94m--------------------------------------------------------------------------------------------------\u001b[0m\n",
      " Step |   Time |      Value |   max_depth |   max_features |   min_samples_leaf |   n_estimators | \n",
      "    1 | 07m52s | \u001b[35m-2168.04828\u001b[0m | \u001b[32m    18.5297\u001b[0m | \u001b[32m        0.5234\u001b[0m | \u001b[32m           82.4791\u001b[0m | \u001b[32m       62.5091\u001b[0m | \n",
      "    2 | 09m30s | -2197.43612 |     19.8388 |         0.5903 |           144.9095 |        73.5402 | \n",
      "    3 | 06m20s | \u001b[35m-2065.98203\u001b[0m | \u001b[32m    26.1318\u001b[0m | \u001b[32m        0.8311\u001b[0m | \u001b[32m           22.6423\u001b[0m | \u001b[32m       31.2765\u001b[0m | \n",
      "    4 | 12m17s | -2155.39113 |     25.9128 |         0.7063 |           106.3561 |        88.9783 | \n",
      "    5 | 04m48s | -2161.64365 |     22.9905 |         0.7064 |           107.5878 |        33.0676 | \n",
      "    6 | 15m34s | \u001b[35m-2059.42279\u001b[0m | \u001b[32m    26.2037\u001b[0m | \u001b[32m        0.7990\u001b[0m | \u001b[32m           24.6675\u001b[0m | \u001b[32m       86.9009\u001b[0m | \n",
      "    7 | 03m57s | -2102.27661 |     21.4343 |         0.5095 |            25.8859 |        33.3919 | \n",
      "    8 | 09m08s | -2188.91449 |     19.1931 |         0.7059 |           147.5431 |        68.2398 | \n",
      "    9 | 10m38s | -2175.19562 |     24.1306 |         0.6152 |           118.7434 |        90.7373 | \n",
      "   10 | 10m49s | -2144.54956 |     17.9530 |         0.7696 |            74.7336 |        72.4123 | \n",
      "\u001b[31mBayesian Optimization\u001b[0m\n",
      "\u001b[94m--------------------------------------------------------------------------------------------------\u001b[0m\n",
      " Step |   Time |      Value |   max_depth |   max_features |   min_samples_leaf |   n_estimators | \n",
      "   11 | 05m33s | -2205.34044 |     27.0000 |         1.0000 |           200.0000 |        30.0000 | \n",
      "   12 | 25m07s | \u001b[35m-2034.13458\u001b[0m | \u001b[32m    27.0000\u001b[0m | \u001b[32m        1.0000\u001b[0m | \u001b[32m            5.0000\u001b[0m | \u001b[32m      100.0000\u001b[0m | \n",
      "   13 | 07m51s | -2051.99325 |     27.0000 |         1.0000 |             5.0000 |        30.0000 | \n"
     ]
    },
    {
     "name": "stderr",
     "output_type": "stream",
     "text": [
      "/home/jairsan/Documents/dev/AlwaysLearningDeeper/Salesforce-Predictive-Modelling/venv/lib/python3.5/site-packages/sklearn/gaussian_process/gpr.py:457: UserWarning: fmin_l_bfgs_b terminated abnormally with the  state: {'task': b'ABNORMAL_TERMINATION_IN_LNSRCH', 'funcalls': 53, 'nit': 6, 'warnflag': 2, 'grad': array([-1.95004798])}\n",
      "  \" state: %s\" % convergence_dict)\n"
     ]
    },
    {
     "name": "stdout",
     "output_type": "stream",
     "text": [
      "   14 | 20m48s | -2080.09373 |     27.0000 |         1.0000 |            42.0589 |       100.0000 | \n",
      "   15 | 17m32s | -2208.06224 |     17.0000 |         1.0000 |           200.0000 |       100.0000 | \n",
      "   16 | 25m00s | -2034.34135 |     27.0000 |         1.0000 |             5.0000 |       100.0000 | \n",
      "   17 | 08m18s | -2159.08020 |     18.7570 |         0.7100 |           100.1012 |        60.9053 | \n"
     ]
    },
    {
     "name": "stderr",
     "output_type": "stream",
     "text": [
      "/home/jairsan/Documents/dev/AlwaysLearningDeeper/Salesforce-Predictive-Modelling/venv/lib/python3.5/site-packages/sklearn/gaussian_process/gpr.py:457: UserWarning: fmin_l_bfgs_b terminated abnormally with the  state: {'task': b'ABNORMAL_TERMINATION_IN_LNSRCH', 'funcalls': 75, 'nit': 7, 'warnflag': 2, 'grad': array([-122.67559534])}\n",
      "  \" state: %s\" % convergence_dict)\n",
      "/home/jairsan/Documents/dev/AlwaysLearningDeeper/Salesforce-Predictive-Modelling/venv/lib/python3.5/site-packages/sklearn/gaussian_process/gpr.py:457: UserWarning: fmin_l_bfgs_b terminated abnormally with the  state: {'task': b'ABNORMAL_TERMINATION_IN_LNSRCH', 'funcalls': 50, 'nit': 2, 'warnflag': 2, 'grad': array([-29443.27204963])}\n",
      "  \" state: %s\" % convergence_dict)\n"
     ]
    },
    {
     "name": "stdout",
     "output_type": "stream",
     "text": [
      "   18 | 05m35s | -2129.09630 |     19.3064 |         0.7107 |            63.1006 |        39.8425 | \n"
     ]
    },
    {
     "name": "stderr",
     "output_type": "stream",
     "text": [
      "/home/jairsan/Documents/dev/AlwaysLearningDeeper/Salesforce-Predictive-Modelling/venv/lib/python3.5/site-packages/sklearn/gaussian_process/gpr.py:457: UserWarning: fmin_l_bfgs_b terminated abnormally with the  state: {'task': b'ABNORMAL_TERMINATION_IN_LNSRCH', 'funcalls': 109, 'nit': 5, 'warnflag': 2, 'grad': array([-352.90437809])}\n",
      "  \" state: %s\" % convergence_dict)\n",
      "/home/jairsan/Documents/dev/AlwaysLearningDeeper/Salesforce-Predictive-Modelling/venv/lib/python3.5/site-packages/sklearn/gaussian_process/gpr.py:457: UserWarning: fmin_l_bfgs_b terminated abnormally with the  state: {'task': b'ABNORMAL_TERMINATION_IN_LNSRCH', 'funcalls': 67, 'nit': 8, 'warnflag': 2, 'grad': array([0.01862529])}\n",
      "  \" state: %s\" % convergence_dict)\n",
      "/home/jairsan/Documents/dev/AlwaysLearningDeeper/Salesforce-Predictive-Modelling/venv/lib/python3.5/site-packages/sklearn/gaussian_process/gpr.py:457: UserWarning: fmin_l_bfgs_b terminated abnormally with the  state: {'task': b'ABNORMAL_TERMINATION_IN_LNSRCH', 'funcalls': 50, 'nit': 2, 'warnflag': 2, 'grad': array([-43925.14302627])}\n",
      "  \" state: %s\" % convergence_dict)\n"
     ]
    },
    {
     "name": "stdout",
     "output_type": "stream",
     "text": [
      "   19 | 10m37s | -2054.92068 |     24.5705 |         0.6669 |             6.5524 |        64.3135 | \n"
     ]
    },
    {
     "name": "stderr",
     "output_type": "stream",
     "text": [
      "/home/jairsan/Documents/dev/AlwaysLearningDeeper/Salesforce-Predictive-Modelling/venv/lib/python3.5/site-packages/sklearn/gaussian_process/gpr.py:457: UserWarning: fmin_l_bfgs_b terminated abnormally with the  state: {'task': b'ABNORMAL_TERMINATION_IN_LNSRCH', 'funcalls': 69, 'nit': 5, 'warnflag': 2, 'grad': array([-53.51443224])}\n",
      "  \" state: %s\" % convergence_dict)\n",
      "/home/jairsan/Documents/dev/AlwaysLearningDeeper/Salesforce-Predictive-Modelling/venv/lib/python3.5/site-packages/sklearn/gaussian_process/gpr.py:457: UserWarning: fmin_l_bfgs_b terminated abnormally with the  state: {'task': b'ABNORMAL_TERMINATION_IN_LNSRCH', 'funcalls': 50, 'nit': 3, 'warnflag': 2, 'grad': array([-883.62634687])}\n",
      "  \" state: %s\" % convergence_dict)\n",
      "/home/jairsan/Documents/dev/AlwaysLearningDeeper/Salesforce-Predictive-Modelling/venv/lib/python3.5/site-packages/sklearn/gaussian_process/gpr.py:457: UserWarning: fmin_l_bfgs_b terminated abnormally with the  state: {'task': b'ABNORMAL_TERMINATION_IN_LNSRCH', 'funcalls': 48, 'nit': 5, 'warnflag': 2, 'grad': array([-5345.91650776])}\n",
      "  \" state: %s\" % convergence_dict)\n"
     ]
    },
    {
     "name": "stdout",
     "output_type": "stream",
     "text": [
      "   20 | 05m42s | -2147.86735 |     17.8081 |         0.8182 |            78.4415 |        35.6403 | \n"
     ]
    },
    {
     "name": "stderr",
     "output_type": "stream",
     "text": [
      "/home/jairsan/Documents/dev/AlwaysLearningDeeper/Salesforce-Predictive-Modelling/venv/lib/python3.5/site-packages/sklearn/gaussian_process/gpr.py:457: UserWarning: fmin_l_bfgs_b terminated abnormally with the  state: {'task': b'ABNORMAL_TERMINATION_IN_LNSRCH', 'funcalls': 61, 'nit': 5, 'warnflag': 2, 'grad': array([-4234.60860348])}\n",
      "  \" state: %s\" % convergence_dict)\n",
      "/home/jairsan/Documents/dev/AlwaysLearningDeeper/Salesforce-Predictive-Modelling/venv/lib/python3.5/site-packages/sklearn/gaussian_process/gpr.py:457: UserWarning: fmin_l_bfgs_b terminated abnormally with the  state: {'task': b'ABNORMAL_TERMINATION_IN_LNSRCH', 'funcalls': 71, 'nit': 8, 'warnflag': 2, 'grad': array([0.02546104])}\n",
      "  \" state: %s\" % convergence_dict)\n"
     ]
    },
    {
     "name": "stdout",
     "output_type": "stream",
     "text": [
      "   21 | 04m22s | -2145.46767 |     20.1712 |         0.5506 |            63.1687 |        34.9330 | \n"
     ]
    },
    {
     "name": "stderr",
     "output_type": "stream",
     "text": [
      "/home/jairsan/Documents/dev/AlwaysLearningDeeper/Salesforce-Predictive-Modelling/venv/lib/python3.5/site-packages/sklearn/gaussian_process/gpr.py:457: UserWarning: fmin_l_bfgs_b terminated abnormally with the  state: {'task': b'ABNORMAL_TERMINATION_IN_LNSRCH', 'funcalls': 84, 'nit': 5, 'warnflag': 2, 'grad': array([-302.00755119])}\n",
      "  \" state: %s\" % convergence_dict)\n",
      "/home/jairsan/Documents/dev/AlwaysLearningDeeper/Salesforce-Predictive-Modelling/venv/lib/python3.5/site-packages/sklearn/gaussian_process/gpr.py:457: UserWarning: fmin_l_bfgs_b terminated abnormally with the  state: {'task': b'ABNORMAL_TERMINATION_IN_LNSRCH', 'funcalls': 53, 'nit': 4, 'warnflag': 2, 'grad': array([-3438.22931707])}\n",
      "  \" state: %s\" % convergence_dict)\n"
     ]
    },
    {
     "name": "stdout",
     "output_type": "stream",
     "text": [
      "   22 | 06m19s | -2105.34391 |     21.0832 |         0.6531 |            45.7324 |        41.4895 | \n"
     ]
    },
    {
     "name": "stderr",
     "output_type": "stream",
     "text": [
      "/home/jairsan/Documents/dev/AlwaysLearningDeeper/Salesforce-Predictive-Modelling/venv/lib/python3.5/site-packages/sklearn/gaussian_process/gpr.py:457: UserWarning: fmin_l_bfgs_b terminated abnormally with the  state: {'task': b'ABNORMAL_TERMINATION_IN_LNSRCH', 'funcalls': 52, 'nit': 4, 'warnflag': 2, 'grad': array([-27555.84500343])}\n",
      "  \" state: %s\" % convergence_dict)\n",
      "/home/jairsan/Documents/dev/AlwaysLearningDeeper/Salesforce-Predictive-Modelling/venv/lib/python3.5/site-packages/sklearn/gaussian_process/gpr.py:457: UserWarning: fmin_l_bfgs_b terminated abnormally with the  state: {'task': b'ABNORMAL_TERMINATION_IN_LNSRCH', 'funcalls': 113, 'nit': 8, 'warnflag': 2, 'grad': array([-1334.26857213])}\n",
      "  \" state: %s\" % convergence_dict)\n"
     ]
    }
   ],
   "source": [
    "f_train_df = process_df(shuffled_data,0,train = True)\n",
    "\n",
    "X_train = f_train_df.drop(labels=[\"Poder_Adquisitivo\"],axis=1).as_matrix()\n",
    "y_train = f_train_df[\"Poder_Adquisitivo\"].as_matrix()\n",
    "\n",
    "def model_evaluate(n_estimators,\n",
    "                 max_depth,\n",
    "                max_features,\n",
    "                 min_samples_leaf,\n",
    "                  ):\n",
    "\n",
    "    n_estimators = int(n_estimators)\n",
    "    max_depth = int(max_depth)\n",
    "    min_samples_leaf = int(min_samples_leaf)\n",
    "    max_features = max(min(max_features, 1), 0.1)\n",
    "\n",
    "    model = RandomForestRegressor(n_estimators=n_estimators,\n",
    "                 max_depth=max_depth,\n",
    "                max_features=max_features,\n",
    "                 min_samples_leaf=min_samples_leaf,\n",
    "                                 n_jobs=4,random_state=SEED)\n",
    "\n",
    "    cv_result = cross_val_score(model,X_train,y_train,cv=kf,scoring=\"neg_median_absolute_error\")\n",
    "\n",
    "    return np.mean(cv_result)\n",
    "\n",
    "\n",
    "num_iter = 50\n",
    "init_points = 10\n",
    "\n",
    "\n",
    "modelBO_2 = BayesianOptimization(model_evaluate, {'n_estimators': (30, 100),\n",
    "                                            'max_depth': (17, 27),\n",
    "                                            'min_samples_leaf': (5, 200),\n",
    "                                                'max_features' :(0.5,1),\n",
    "                                            })\n",
    "\n",
    "modelBO_2.maximize(init_points=init_points, n_iter=num_iter)\n",
    "\n",
    "print(modelBO_2.res['max'])"
   ]
  },
  {
   "cell_type": "code",
   "execution_count": 9,
   "metadata": {},
   "outputs": [
    {
     "name": "stdout",
     "output_type": "stream",
     "text": [
      "RMSE: 18550.904712\n",
      "MAE: 4379.727630\n",
      "MAD: 2076.957982\n",
      "CPU times: user 1h 38min 13s, sys: 8.36 s, total: 1h 38min 22s\n",
      "Wall time: 27min 15s\n"
     ]
    }
   ],
   "source": [
    "%%time \n",
    "model = RandomForestRegressor(n_estimators=100,\n",
    "                 max_depth=27,\n",
    "                max_features=1.0,\n",
    "                 min_samples_leaf=5,\n",
    "                                 n_jobs=4,random_state=SEED)\n",
    "\n",
    "scores_rmse,scores_mae,scores_mad = train_and_evaluate(model,splits)\n",
    "\n",
    "\n",
    "print(\"RMSE: %f\" % np.mean(scores_rmse))\n",
    "print(\"MAE: %f\" % np.mean(scores_mae))\n",
    "print(\"MAD: %f\" % np.mean(scores_mad))\n",
    "record_scores('bla',np.mean(scores_rmse),np.mean(scores_mae),np.mean(scores_mad))"
   ]
  },
  {
   "cell_type": "code",
   "execution_count": 8,
   "metadata": {},
   "outputs": [],
   "source": [
    "splits = []\n",
    "splits = get_splits(kf,0)"
   ]
  },
  {
   "cell_type": "code",
   "execution_count": 10,
   "metadata": {},
   "outputs": [
    {
     "name": "stdout",
     "output_type": "stream",
     "text": [
      "RMSE: 19757.804962\n",
      "MAE: 4396.969544\n",
      "MAD: 2097.510848\n",
      "CPU times: user 11min 34s, sys: 2.86 s, total: 11min 36s\n",
      "Wall time: 3min 19s\n"
     ]
    }
   ],
   "source": [
    "%%time\n",
    "model = xgb.XGBRegressor(max_depth=15, learning_rate=0.1, alpha=10,n_estimators=30, silent=True, objective='reg:linear', \n",
    "                         n_jobs=4, subsample=1.0,colsample_bytree=1.0,min_child_weight=1.0,random_state=SEED )\n",
    "\n",
    "scores_rmse,scores_mae,scores_mad = train_and_evaluate(model,splits)\n",
    "\n",
    "\n",
    "print(\"RMSE: %f\" % np.mean(scores_rmse))\n",
    "print(\"MAE: %f\" % np.mean(scores_mae))\n",
    "print(\"MAD: %f\" % np.mean(scores_mad))\n",
    "record_scores('bla',np.mean(scores_rmse),np.mean(scores_mae),np.mean(scores_mad))"
   ]
  },
  {
   "cell_type": "code",
   "execution_count": 9,
   "metadata": {},
   "outputs": [
    {
     "name": "stdout",
     "output_type": "stream",
     "text": [
      "RMSE: 19118.545240\n",
      "MAE: 4397.943756\n",
      "MAD: 2068.395546\n",
      "CPU times: user 15min 17s, sys: 2.26 s, total: 15min 19s\n",
      "Wall time: 4min 13s\n"
     ]
    }
   ],
   "source": [
    "%%time\n",
    "model = xgb.XGBRegressor(max_depth=20, learning_rate=0.1, alpha=0,n_estimators=30, silent=True, objective='reg:linear', \n",
    "                         n_jobs=4, subsample=1.0,colsample_bytree=1.0,min_child_weight=20.0,random_state=SEED )\n",
    "\n",
    "scores_rmse,scores_mae,scores_mad = train_and_evaluate(model,splits)\n",
    "\n",
    "\n",
    "print(\"RMSE: %f\" % np.mean(scores_rmse))\n",
    "print(\"MAE: %f\" % np.mean(scores_mae))\n",
    "print(\"MAD: %f\" % np.mean(scores_mad))\n",
    "record_scores('bla',np.mean(scores_rmse),np.mean(scores_mae),np.mean(scores_mad))"
   ]
  },
  {
   "cell_type": "code",
   "execution_count": 10,
   "metadata": {},
   "outputs": [],
   "source": [
    "splits = []"
   ]
  },
  {
   "cell_type": "code",
   "execution_count": 41,
   "metadata": {},
   "outputs": [
    {
     "name": "stdout",
     "output_type": "stream",
     "text": [
      "RMSE: 19743.195506\n",
      "MAE: 4716.346445\n",
      "MAD: 2434.435083\n",
      "CPU times: user 44min 4s, sys: 736 ms, total: 44min 5s\n",
      "Wall time: 44min 9s\n"
     ]
    }
   ],
   "source": [
    "\"\"\"\n",
    "%%time\n",
    "params =  {'max_depth': 9, 'eta': 0.01, 'silent': 1, 'objective': 'reg:linear', 'eval_metric':'rmse','seed':SEED}\n",
    "model = XGBoostModel(params,500)\n",
    "scores_rmse,scores_mae,scores_mad = train_and_evaluate(model,splits)\n",
    "\n",
    "\n",
    "print(\"RMSE: %f\" % np.mean(scores_rmse))\n",
    "print(\"MAE: %f\" % np.mean(scores_mae))\n",
    "print(\"MAD: %f\" % np.mean(scores_mad))\n",
    "record_scores('raw_XGB_d9_eta0.01_n500',np.mean(scores_rmse),np.mean(scores_mae),np.mean(scores_mad))\n",
    "\"\"\""
   ]
  },
  {
   "cell_type": "markdown",
   "metadata": {},
   "source": [
    "## Stacking ml-ens"
   ]
  },
  {
   "cell_type": "code",
   "execution_count": 12,
   "metadata": {},
   "outputs": [],
   "source": [
    "X_train = process_df(stk_train_df,0).drop(labels=[\"Poder_Adquisitivo\"],axis=1).as_matrix()\n",
    "y_train = process_df(stk_train_df,0)[\"Poder_Adquisitivo\"].as_matrix()\n",
    "\n",
    "X_test = process_df(stk_test_df,0).drop(labels=[\"Poder_Adquisitivo\"],axis=1).as_matrix()\n",
    "y_ts = process_df(stk_test_df,0)[\"Poder_Adquisitivo\"].as_matrix()\n"
   ]
  },
  {
   "cell_type": "code",
   "execution_count": 20,
   "metadata": {},
   "outputs": [
    {
     "name": "stdout",
     "output_type": "stream",
     "text": [
      "\n",
      "Fitting 2 layers\n",
      "Processing layer-1             done | 00:09:35\n",
      "Processing layer-2             done | 00:00:07\n",
      "Fit complete                        | 00:09:43\n",
      "\n",
      "Predicting 2 layers\n",
      "Processing layer-1             done | 00:00:01\n",
      "Processing layer-2             done | 00:00:00\n",
      "Predict complete                    | 00:00:01\n"
     ]
    }
   ],
   "source": [
    "\n",
    "ensemble = BlendEnsemble(verbose=2)\n",
    "\n",
    "ensemble.add([LinearRegression(),\n",
    "          DecisionTreeRegressor(min_samples_split=200, min_samples_leaf=50, random_state=SEED),\n",
    "          GradientBoostingRegressor(random_state=SEED,min_samples_leaf=5),\n",
    "          RandomForestRegressor(n_estimators=50,\n",
    "                                       criterion='mse', max_depth=23, max_features='auto',n_jobs=1,\n",
    "                                       min_samples_leaf=5,random_state=SEED)])\n",
    "\n",
    "ensemble.add_meta(GradientBoostingRegressor(random_state=SEED,min_samples_leaf=5))\n",
    "\n",
    "ensemble.fit(X_train, y_train)\n",
    "y_hat = ensemble.predict(X_test)\n",
    "\n",
    "rmse = math.sqrt(mean_squared_error(y_true=y_ts, y_pred=y_hat))\n",
    "mae = mean_absolute_error(y_true=y_ts,y_pred=y_hat)\n",
    "mad = median_absolute_error(y_true=y_ts,y_pred=y_hat)\n",
    "    \n",
    "print(\"RMSE: %f\" % rmse)\n",
    "print(\"MAE: %f\" % mae)\n",
    "print(\"MAD: %f\" % mad)\n",
    "\n",
    "\"\"\"\n",
    "RMSE: 18314.671966\n",
    "MAE: 4393.416766\n",
    "MAD: 2169.596094\n",
    "\n",
    "\"\"\""
   ]
  },
  {
   "cell_type": "code",
   "execution_count": 22,
   "metadata": {},
   "outputs": [
    {
     "name": "stdout",
     "output_type": "stream",
     "text": [
      "\n",
      "Fitting 2 layers\n",
      "Processing layer-1             done | 00:07:56\n",
      "Processing layer-2             done | 00:00:02\n",
      "Fit complete                        | 00:07:59\n",
      "\n",
      "Predicting 2 layers\n",
      "Processing layer-1             done | 00:00:00\n",
      "Processing layer-2             done | 00:00:00\n",
      "Predict complete                    | 00:00:01\n"
     ]
    }
   ],
   "source": [
    "ensemble = BlendEnsemble(test_size=0.2,verbose=2)\n",
    "\n",
    "ensemble.add([LinearRegression(),\n",
    "          DecisionTreeRegressor(min_samples_split=200, min_samples_leaf=50, random_state=SEED),\n",
    "          GradientBoostingRegressor(random_state=SEED,min_samples_leaf=5),\n",
    "          RandomForestRegressor(n_estimators=50,criterion='mse', max_depth=23, max_features='auto',n_jobs=4,\n",
    "                                       min_samples_leaf=5,random_state=SEED)])\n",
    "\n",
    "ensemble.add_meta(GradientBoostingRegressor(random_state=SEED,min_samples_leaf=5))\n",
    "\n",
    "ensemble.fit(X_train, y_train)\n",
    "y_hat = ensemble.predict(X_test)\n",
    "\n",
    "rmse = math.sqrt(mean_squared_error(y_true=y_ts, y_pred=y_hat))\n",
    "mae = mean_absolute_error(y_true=y_ts,y_pred=y_hat)\n",
    "mad = median_absolute_error(y_true=y_ts,y_pred=y_hat)\n",
    "\n",
    "print(\"RMSE: %f\" % rmse)\n",
    "print(\"MAE: %f\" % mae)\n",
    "print(\"MAD: %f\" % mad)\n"
   ]
  },
  {
   "cell_type": "code",
   "execution_count": 16,
   "metadata": {},
   "outputs": [
    {
     "name": "stdout",
     "output_type": "stream",
     "text": [
      "\n",
      "Fitting 2 layers\n",
      "Processing layer-1             done | 00:06:55\n",
      "Processing layer-2             done | 00:00:01\n",
      "Fit complete                        | 00:07:07\n",
      "\n",
      "Predicting 2 layers\n",
      "Processing layer-1             done | 00:00:01\n",
      "Processing layer-2             done | 00:00:00\n",
      "Predict complete                    | 00:00:01\n",
      "RMSE: 18679.121035\n",
      "MAE: 4538.505710\n",
      "MAD: 2262.846875\n"
     ]
    }
   ],
   "source": [
    "ensemble = BlendEnsemble(verbose=2)\n",
    "\n",
    "ensemble.add([LinearRegression(),\n",
    "          DecisionTreeRegressor(min_samples_split=200, min_samples_leaf=50, random_state=SEED),\n",
    "          xgb.XGBRegressor(max_depth=15, learning_rate=0.1, alpha=10,n_estimators=30, silent=True, objective='reg:linear', \n",
    "                         n_jobs=4, subsample=1.0,colsample_bytree=1.0,min_child_weight=1.0,random_state=SEED),\n",
    "          GradientBoostingRegressor(random_state=SEED,min_samples_leaf=5),\n",
    "          RandomForestRegressor(n_estimators=50,\n",
    "                                       criterion='mse', max_depth=23, max_features='auto',n_jobs=4,\n",
    "                                       min_samples_leaf=5,random_state=SEED)])\n",
    "\n",
    "ensemble.add_meta(LinearRegression(fit_intercept=False))\n",
    "\n",
    "ensemble.fit(X_train, y_train)\n",
    "y_hat = ensemble.predict(X_test)\n",
    "\n",
    "rmse = math.sqrt(mean_squared_error(y_true=y_ts, y_pred=y_hat))\n",
    "mae = mean_absolute_error(y_true=y_ts,y_pred=y_hat)\n",
    "mad = median_absolute_error(y_true=y_ts,y_pred=y_hat)\n",
    "    \n",
    "print(\"RMSE: %f\" % rmse)\n",
    "print(\"MAE: %f\" % mae)\n",
    "print(\"MAD: %f\" % mad)\n"
   ]
  },
  {
   "cell_type": "code",
   "execution_count": 17,
   "metadata": {},
   "outputs": [
    {
     "data": {
      "text/plain": [
       "146"
      ]
     },
     "execution_count": 17,
     "metadata": {},
     "output_type": "execute_result"
    }
   ],
   "source": [
    "n"
   ]
  },
  {
   "cell_type": "code",
   "execution_count": 13,
   "metadata": {},
   "outputs": [
    {
     "name": "stdout",
     "output_type": "stream",
     "text": [
      "\n",
      "Fitting 2 layers\n",
      "Processing layer-1             done | 00:04:38\n",
      "Processing layer-2             done | 00:00:03\n",
      "Fit complete                        | 00:04:42\n",
      "\n",
      "Predicting 2 layers\n",
      "Processing layer-1             done | 00:00:00\n",
      "Processing layer-2             done | 00:00:00\n",
      "Predict complete                    | 00:00:01\n",
      "RMSE: 18249.474884\n",
      "MAE: 4329.212485\n",
      "MAD: 2037.292422\n"
     ]
    }
   ],
   "source": [
    "ensemble = BlendEnsemble(verbose=2)\n",
    "\n",
    "ensemble.add([DecisionTreeRegressor(min_samples_split=200, min_samples_leaf=50, random_state=SEED),\n",
    "          xgb.XGBRegressor(max_depth=15, learning_rate=0.1, alpha=10,n_estimators=30, silent=True, objective='reg:linear', \n",
    "                         n_jobs=4, subsample=1.0,colsample_bytree=1.0,min_child_weight=1.0,random_state=SEED),\n",
    "          RandomForestRegressor(n_estimators=50,\n",
    "                                       criterion='mse', max_depth=23, max_features='auto',n_jobs=4,\n",
    "                                       min_samples_leaf=5,random_state=SEED)])\n",
    "\n",
    "ensemble.add_meta(RandomForestRegressor(n_estimators=50,\n",
    "                                       criterion='mse', max_depth=10, max_features='auto',n_jobs=4,\n",
    "                                       min_samples_leaf=5,random_state=SEED))\n",
    "\n",
    "ensemble.fit(X_train, y_train)\n",
    "y_hat = ensemble.predict(X_test)\n",
    "\n",
    "rmse = math.sqrt(mean_squared_error(y_true=y_ts, y_pred=y_hat))\n",
    "mae = mean_absolute_error(y_true=y_ts,y_pred=y_hat)\n",
    "mad = median_absolute_error(y_true=y_ts,y_pred=y_hat)\n",
    "    \n",
    "print(\"RMSE: %f\" % rmse)\n",
    "print(\"MAE: %f\" % mae)\n",
    "print(\"MAD: %f\" % mad)"
   ]
  },
  {
   "cell_type": "code",
   "execution_count": 18,
   "metadata": {},
   "outputs": [
    {
     "name": "stdout",
     "output_type": "stream",
     "text": [
      "\n",
      "Fitting 2 layers\n",
      "Processing layer-1             done | 00:07:01\n",
      "Processing layer-2             done | 00:00:51\n",
      "Fit complete                        | 00:07:53\n",
      "\n",
      "Predicting 2 layers\n",
      "Processing layer-1             done | 00:00:00\n",
      "Processing layer-2             done | 00:00:00\n",
      "Predict complete                    | 00:00:01\n",
      "RMSE: 18006.999025\n",
      "MAE: 4303.961435\n",
      "MAD: 2038.379492\n"
     ]
    }
   ],
   "source": [
    "ensemble = BlendEnsemble(verbose=2)\n",
    "\n",
    "n = X_train.shape[1]\n",
    "\n",
    "ensemble.add([LinearRegression(),\n",
    "          DecisionTreeRegressor(min_samples_split=200, min_samples_leaf=50, random_state=SEED),\n",
    "          GradientBoostingRegressor(random_state=SEED,min_samples_leaf=5),\n",
    "          xgb.XGBRegressor(max_depth=15, learning_rate=0.1, alpha=10,n_estimators=30, silent=True, objective='reg:linear', \n",
    "                         n_jobs=4, subsample=1.0,colsample_bytree=1.0,min_child_weight=1.0,random_state=SEED),\n",
    "          RandomForestRegressor(n_estimators=50,\n",
    "                                       criterion='mse', max_depth=23, max_features='auto',n_jobs=4,\n",
    "                                       min_samples_leaf=5,random_state=SEED)],propagate_features=[i for i in range(n)])\n",
    "\n",
    "ensemble.add_meta(RandomForestRegressor(n_estimators=50,\n",
    "                                       criterion='mse', max_depth=10, max_features='auto',n_jobs=4,\n",
    "                                       min_samples_leaf=5,random_state=SEED))\n",
    "\n",
    "ensemble.fit(X_train, y_train)\n",
    "y_hat = ensemble.predict(X_test)\n",
    "\n",
    "rmse = math.sqrt(mean_squared_error(y_true=y_ts, y_pred=y_hat))\n",
    "mae = mean_absolute_error(y_true=y_ts,y_pred=y_hat)\n",
    "mad = median_absolute_error(y_true=y_ts,y_pred=y_hat)\n",
    "    \n",
    "print(\"RMSE: %f\" % rmse)\n",
    "print(\"MAE: %f\" % mae)\n",
    "print(\"MAD: %f\" % mad)"
   ]
  },
  {
   "cell_type": "code",
   "execution_count": 19,
   "metadata": {},
   "outputs": [
    {
     "name": "stdout",
     "output_type": "stream",
     "text": [
      "\n",
      "Fitting 2 layers\n",
      "Processing layer-1             done | 00:06:46\n",
      "Processing layer-2             done | 00:01:12\n",
      "Fit complete                        | 00:07:58\n",
      "\n",
      "Predicting 2 layers\n",
      "Processing layer-1             done | 00:00:00\n",
      "Processing layer-2             done | 00:00:00\n",
      "Predict complete                    | 00:00:01\n",
      "RMSE: 18022.051573\n",
      "MAE: 4316.927428\n",
      "MAD: 2038.034687\n"
     ]
    }
   ],
   "source": [
    "ensemble = BlendEnsemble(verbose=2)\n",
    "\n",
    "n = X_train.shape[1]\n",
    "\n",
    "ensemble.add([LinearRegression(),\n",
    "          DecisionTreeRegressor(min_samples_split=200, min_samples_leaf=50, random_state=SEED),\n",
    "          GradientBoostingRegressor(random_state=SEED,min_samples_leaf=5),\n",
    "          xgb.XGBRegressor(max_depth=15, learning_rate=0.1, alpha=10,n_estimators=30, silent=True, objective='reg:linear', \n",
    "                         n_jobs=4, subsample=1.0,colsample_bytree=1.0,min_child_weight=1.0,random_state=SEED),\n",
    "          RandomForestRegressor(n_estimators=50,\n",
    "                                       criterion='mse', max_depth=23, max_features='auto',n_jobs=4,\n",
    "                                       min_samples_leaf=5,random_state=SEED)],propagate_features=[i for i in range(n)])\n",
    "\n",
    "ensemble.add_meta(RandomForestRegressor(n_estimators=50,\n",
    "                                       criterion='mse', max_depth=17, max_features='auto',n_jobs=4,\n",
    "                                       min_samples_leaf=5,random_state=SEED))\n",
    "\n",
    "ensemble.fit(X_train, y_train)\n",
    "y_hat = ensemble.predict(X_test)\n",
    "\n",
    "rmse = math.sqrt(mean_squared_error(y_true=y_ts, y_pred=y_hat))\n",
    "mae = mean_absolute_error(y_true=y_ts,y_pred=y_hat)\n",
    "mad = median_absolute_error(y_true=y_ts,y_pred=y_hat)\n",
    "    \n",
    "print(\"RMSE: %f\" % rmse)\n",
    "print(\"MAE: %f\" % mae)\n",
    "print(\"MAD: %f\" % mad)"
   ]
  },
  {
   "cell_type": "code",
   "execution_count": 20,
   "metadata": {},
   "outputs": [
    {
     "name": "stdout",
     "output_type": "stream",
     "text": [
      "\n",
      "Fitting 2 layers\n",
      "Processing layer-1             done | 00:09:13\n",
      "Processing layer-2             done | 00:02:55\n",
      "Fit complete                        | 00:12:10\n",
      "\n",
      "Predicting 2 layers\n",
      "Processing layer-1             done | 00:00:01\n",
      "Processing layer-2             done | 00:00:00\n",
      "Predict complete                    | 00:00:01\n",
      "RMSE: 17682.881074\n",
      "MAE: 4320.502853\n",
      "MAD: 2029.441035\n"
     ]
    }
   ],
   "source": [
    "ensemble = SuperLearner(verbose=2)\n",
    "\n",
    "n = X_train.shape[1]\n",
    "\n",
    "ensemble.add([LinearRegression(),\n",
    "          DecisionTreeRegressor(min_samples_split=200, min_samples_leaf=50, random_state=SEED),\n",
    "          GradientBoostingRegressor(random_state=SEED,min_samples_leaf=5),\n",
    "          xgb.XGBRegressor(max_depth=15, learning_rate=0.1, alpha=10,n_estimators=30, silent=True, objective='reg:linear', \n",
    "                         n_jobs=4, subsample=1.0,colsample_bytree=1.0,min_child_weight=1.0,random_state=SEED),\n",
    "          RandomForestRegressor(n_estimators=50,\n",
    "                                       criterion='mse', max_depth=23, max_features='auto',n_jobs=4,\n",
    "                                       min_samples_leaf=5,random_state=SEED)],propagate_features=[i for i in range(n)])\n",
    "\n",
    "ensemble.add_meta(RandomForestRegressor(n_estimators=50,\n",
    "                                       criterion='mse', max_depth=17, max_features='auto',n_jobs=4,\n",
    "                                       min_samples_leaf=5,random_state=SEED))\n",
    "\n",
    "ensemble.fit(X_train, y_train)\n",
    "y_hat = ensemble.predict(X_test)\n",
    "\n",
    "rmse = math.sqrt(mean_squared_error(y_true=y_ts, y_pred=y_hat))\n",
    "mae = mean_absolute_error(y_true=y_ts,y_pred=y_hat)\n",
    "mad = median_absolute_error(y_true=y_ts,y_pred=y_hat)\n",
    "    \n",
    "print(\"RMSE: %f\" % rmse)\n",
    "print(\"MAE: %f\" % mae)\n",
    "print(\"MAD: %f\" % mad)"
   ]
  },
  {
   "cell_type": "code",
   "execution_count": 21,
   "metadata": {},
   "outputs": [
    {
     "name": "stdout",
     "output_type": "stream",
     "text": [
      "\n",
      "Fitting 2 layers\n",
      "Processing layer-1             done | 00:09:34\n",
      "Processing layer-2             done | 00:03:10\n",
      "Fit complete                        | 00:12:48\n",
      "\n",
      "Predicting 2 layers\n",
      "Processing layer-1             done | 00:00:01\n",
      "Processing layer-2             done | 00:00:00\n",
      "Predict complete                    | 00:00:01\n",
      "\n",
      "Fitting 2 layers\n",
      "Processing layer-1             done | 00:10:13\n",
      "Processing layer-2             done | 00:03:16\n",
      "Fit complete                        | 00:13:31\n",
      "\n",
      "Predicting 2 layers\n",
      "Processing layer-1             done | 00:00:01\n",
      "Processing layer-2             done | 00:00:00\n",
      "Predict complete                    | 00:00:02\n",
      "\n",
      "Fitting 2 layers\n",
      "Processing layer-1             done | 00:09:46\n",
      "Processing layer-2             done | 00:02:42\n",
      "Fit complete                        | 00:12:29\n",
      "\n",
      "Predicting 2 layers\n",
      "Processing layer-1             done | 00:00:00\n",
      "Processing layer-2             done | 00:00:00\n",
      "Predict complete                    | 00:00:01\n",
      "\n",
      "Fitting 2 layers\n",
      "Processing layer-1             done | 00:09:19\n",
      "Processing layer-2             done | 00:02:59\n",
      "Fit complete                        | 00:12:20\n",
      "\n",
      "Predicting 2 layers\n",
      "Processing layer-1             done | 00:00:00\n",
      "Processing layer-2             done | 00:00:00\n",
      "Predict complete                    | 00:00:01\n",
      "\n",
      "Fitting 2 layers\n",
      "Processing layer-1             done | 00:09:33\n",
      "Processing layer-2             done | 00:03:10\n",
      "Fit complete                        | 00:12:44\n",
      "\n",
      "Predicting 2 layers\n",
      "Processing layer-1             done | 00:00:00\n",
      "Processing layer-2             done | 00:00:00\n",
      "Predict complete                    | 00:00:01\n",
      "RMSE: 18796.434666\n",
      "MAE: 4427.269911\n",
      "MAD: 2081.981076\n"
     ]
    }
   ],
   "source": [
    "splits = []\n",
    "splits = get_splits(kf,0)\n",
    "\n",
    "ensemble = SuperLearner(verbose=2)\n",
    "\n",
    "n = 146\n",
    "\n",
    "ensemble.add([LinearRegression(),\n",
    "          DecisionTreeRegressor(min_samples_split=200, min_samples_leaf=50, random_state=SEED),\n",
    "          GradientBoostingRegressor(random_state=SEED,min_samples_leaf=5),\n",
    "          xgb.XGBRegressor(max_depth=15, learning_rate=0.1, alpha=10,n_estimators=30, silent=True, objective='reg:linear', \n",
    "                         n_jobs=4, subsample=1.0,colsample_bytree=1.0,min_child_weight=1.0,random_state=SEED),\n",
    "          RandomForestRegressor(n_estimators=50,\n",
    "                                       criterion='mse', max_depth=23, max_features='auto',n_jobs=4,\n",
    "                                       min_samples_leaf=5,random_state=SEED)],propagate_features=[i for i in range(n)])\n",
    "\n",
    "ensemble.add_meta(RandomForestRegressor(n_estimators=50,\n",
    "                                       criterion='mse', max_depth=17, max_features='auto',n_jobs=4,\n",
    "                                       min_samples_leaf=5,random_state=SEED))\n",
    "\n",
    "scores_rmse,scores_mae,scores_mad = train_and_evaluate(ensemble,splits)\n",
    "\n",
    "\n",
    "print(\"RMSE: %f\" % np.mean(scores_rmse))\n",
    "print(\"MAE: %f\" % np.mean(scores_mae))\n",
    "print(\"MAD: %f\" % np.mean(scores_mad))\n",
    "\n",
    "record_scores('alpha_ensemble',np.mean(scores_rmse),np.mean(scores_mae),np.mean(scores_mad))"
   ]
  },
  {
   "cell_type": "code",
   "execution_count": 16,
   "metadata": {},
   "outputs": [],
   "source": [
    "class WeightedEnsemble:\n",
    "    def __init__(self,models,weights):\n",
    "        self.models = models\n",
    "        self.weights = weights\n",
    "        \n",
    "    def fit(self,X,y):\n",
    "        for model in self.models:\n",
    "            model.fit(X,y)\n",
    "            \n",
    "    def predict(self,X):\n",
    "        y = np.zeros((X.shape[0]))\n",
    "        for i in range(len(self.models)):\n",
    "            y += (self.models[i].predict(X) * self.weights[i])\n",
    "        return y\n",
    "        "
   ]
  },
  {
   "cell_type": "code",
   "execution_count": 17,
   "metadata": {},
   "outputs": [
    {
     "name": "stdout",
     "output_type": "stream",
     "text": [
      "RMSE: 21969.581886\n",
      "MAE: 5403.210624\n",
      "MAD: 2720.750850\n"
     ]
    }
   ],
   "source": [
    "ensemble = WeightedEnsemble([LinearRegression(),DecisionTreeRegressor()],[0.5,0.5])\n",
    "\n",
    "scores_rmse,scores_mae,scores_mad = train_and_evaluate(ensemble,splits)\n",
    "\n",
    "\n",
    "print(\"RMSE: %f\" % np.mean(scores_rmse))\n",
    "print(\"MAE: %f\" % np.mean(scores_mae))\n",
    "print(\"MAD: %f\" % np.mean(scores_mad))\n",
    "\n",
    "record_scores('alpha_ensemble',np.mean(scores_rmse),np.mean(scores_mae),np.mean(scores_mad))"
   ]
  },
  {
   "cell_type": "code",
   "execution_count": 19,
   "metadata": {},
   "outputs": [
    {
     "name": "stdout",
     "output_type": "stream",
     "text": [
      "RMSE: 18799.688457\n",
      "MAE: 4337.823104\n",
      "MAD: 2062.911431\n"
     ]
    }
   ],
   "source": [
    "%%time\n",
    "ensemble = WeightedEnsemble([xgb.XGBRegressor(max_depth=15, learning_rate=0.1, alpha=10,n_estimators=30, silent=True, objective='reg:linear', \n",
    "                         n_jobs=4, subsample=1.0,colsample_bytree=1.0,min_child_weight=1.0,random_state=SEED),\n",
    "                            RandomForestRegressor(n_estimators=50,\n",
    "                                       criterion='mse', max_depth=23, max_features='auto',n_jobs=4,\n",
    "                                       min_samples_leaf=5,random_state=SEED)],\n",
    "                            [0.5,0.5])\n",
    "\n",
    "scores_rmse,scores_mae,scores_mad = train_and_evaluate(ensemble,splits)\n",
    "\n",
    "print(\"RMSE: %f\" % np.mean(scores_rmse))\n",
    "print(\"MAE: %f\" % np.mean(scores_mae))\n",
    "print(\"MAD: %f\" % np.mean(scores_mad))\n",
    "\n",
    "record_scores('beta_ensemble',np.mean(scores_rmse),np.mean(scores_mae),np.mean(scores_mad))"
   ]
  },
  {
   "cell_type": "code",
   "execution_count": 20,
   "metadata": {},
   "outputs": [
    {
     "name": "stdout",
     "output_type": "stream",
     "text": [
      "RMSE: 18736.576591\n",
      "MAE: 4343.120189\n",
      "MAD: 2051.152324\n",
      "CPU times: user 1h 1min 37s, sys: 10.1 s, total: 1h 1min 47s\n",
      "Wall time: 17min 31s\n"
     ]
    }
   ],
   "source": [
    "%%time\n",
    "ensemble = WeightedEnsemble([xgb.XGBRegressor(max_depth=20, learning_rate=0.1, alpha=0,n_estimators=30, silent=True, objective='reg:linear', \n",
    "                         n_jobs=4, subsample=1.0,colsample_bytree=1.0,min_child_weight=20.0,random_state=SEED ),\n",
    "                            RandomForestRegressor(n_estimators=50,\n",
    "                                       criterion='mse', max_depth=23, max_features='auto',n_jobs=4,\n",
    "                                       min_samples_leaf=5,random_state=SEED)],\n",
    "                            [0.5,0.5])\n",
    "\n",
    "scores_rmse,scores_mae,scores_mad = train_and_evaluate(ensemble,splits)\n",
    "\n",
    "print(\"RMSE: %f\" % np.mean(scores_rmse))\n",
    "print(\"MAE: %f\" % np.mean(scores_mae))\n",
    "print(\"MAD: %f\" % np.mean(scores_mad))\n",
    "\n",
    "record_scores('beta_ensemble',np.mean(scores_rmse),np.mean(scores_mae),np.mean(scores_mad))"
   ]
  },
  {
   "cell_type": "code",
   "execution_count": 6,
   "metadata": {},
   "outputs": [],
   "source": [
    "def process_df(df,processing_type,train = True):\n",
    "    if processing_type == 1:\n",
    "        return process_df_1(df,train)\n",
    "    elif processing_type==2:\n",
    "        return process_df_2(df,train)\n",
    "    elif processing_type==3:\n",
    "        return process_df_3(df,train)\n",
    "    else:\n",
    "        return process_df_1(df,False)\n",
    "    \n",
    "def process_df_1(df,train = True):\n",
    "    df = df.drop(labels=[\"ID_Customer\"],axis=1)\n",
    "    \n",
    "    if train:\n",
    "        # Eliminamos los outliers solo en el caso de que estemos entrenando\n",
    "        q1 = df[\"Poder_Adquisitivo\"].quantile(0.25)\n",
    "        q3 = df[\"Poder_Adquisitivo\"].quantile(0.75)\n",
    "        iqr = q3 - q1\n",
    "        fence_low  = q1 - 1.5 * iqr\n",
    "        fence_high = q3 + 1.5 * iqr\n",
    "\n",
    "        df = df.loc[(df[\"Poder_Adquisitivo\"] > fence_low) & (df[\"Poder_Adquisitivo\"] < fence_high)]\n",
    "    \n",
    "        \n",
    "    \n",
    "    # Convertimos las variables a one-hot\n",
    "\n",
    "    # Socio_Demo_01\n",
    "    \n",
    "    topk_socio_01 = df[\"Socio_Demo_01\"].value_counts()[:10]\n",
    "    socio_01_keys = list(topk_socio_01.keys())\n",
    "    \n",
    "    for key in socio_01_keys:\n",
    "        on = df[\"Socio_Demo_01\"] == key\n",
    "        df.insert(loc=len(df.columns), column=\"Socio_Demo_01_\"+str(key), value=on.astype(int))\n",
    "    \n",
    "    # El resto lso agrupamos en 'Other'\n",
    "    condition_array = [False] * len(df[\"Socio_Demo_01\"])\n",
    "    for i in range(len(condition_array)):\n",
    "        condition_array[i] = str(df[\"Socio_Demo_01\"].iloc[i]) not in socio_01_keys\n",
    "    df.insert(loc=len(df.columns), column=\"Socio_Demo_01_Other\", value=condition_array)\n",
    "    df[\"Socio_Demo_01_Other\"] = df[\"Socio_Demo_01_Other\"].astype(int)\n",
    "    \n",
    "    df = df.drop(axis=1, columns=[\"Socio_Demo_01\"])\n",
    "    \n",
    "    # Socio_Demo_02\n",
    "    c1=df[\"Socio_Demo_02\"] == 1\n",
    "    c2=df[\"Socio_Demo_02\"] == 2\n",
    "    df.insert(loc=len(df.columns), column=\"Socio_Demo_02_01\", value=c1.astype(int))\n",
    "    df.insert(loc=len(df.columns), column=\"Socio_Demo_02_02\", value=c2.astype(int))\n",
    "    \n",
    "    df = df.drop(axis=1, columns=[\"Socio_Demo_02\"])\n",
    "\n",
    "    \n",
    "    # Convertimos todas las columnas Ind_prod a one-hot\n",
    "    \n",
    "    for i in range(1,25):\n",
    "        column_name = \"Ind_Prod_\" + str(i).zfill(2)\n",
    "        c0=df[column_name] == 0\n",
    "        c1=df[column_name] == 1\n",
    "        c2=df[column_name] == 2\n",
    "        \n",
    "        df.insert(loc=len(df.columns), column=column_name + \"_00\", value=c0.astype(int))\n",
    "        df.insert(loc=len(df.columns), column=column_name + \"_01\", value=c1.astype(int))\n",
    "        df.insert(loc=len(df.columns), column=column_name + \"_02\", value=c2.astype(int))\n",
    "    \n",
    "        df = df.drop(axis=1, columns=[column_name])\n",
    "    \n",
    "    \n",
    "    \n",
    "    return df\n",
    "\n",
    "def process_df_2(df,train = True):\n",
    "    # Remove outliers not explained by a RF model\n",
    "    df = process_df(df,0)\n",
    "    \n",
    "   \n",
    "    if train==True:\n",
    "        \n",
    "        X = df.drop(labels=[\"Poder_Adquisitivo\"],axis=1).as_matrix()\n",
    "        y = df[\"Poder_Adquisitivo\"].as_matrix()\n",
    "\n",
    "        filtering_model = RandomForestRegressor(n_estimators=50,criterion='mse', max_depth=23, max_features='auto',n_jobs=4,min_samples_leaf=5,random_state=SEED)\n",
    "\n",
    "        filtering_model.fit(X,y)\n",
    "\n",
    "        residuals = filtering_model.predict(X) - y\n",
    "        \n",
    "        abs_residuals = np.absolute(residuals)\n",
    "        \n",
    "        threshold = np.percentile(abs_residuals,99)\n",
    "        \n",
    "        keep_indexes = abs_residuals < threshold\n",
    "        \n",
    "        \n",
    "        df = df.iloc[keep_indexes]\n",
    "        \n",
    "        \n",
    "    \n",
    "    \n",
    "    return df\n",
    "\n",
    "def process_df_3(df,train = True):\n",
    "        df = df.drop(labels=[\"ID_Customer\"],axis=1)\n",
    "    \n",
    "    if train:\n",
    "        # Eliminamos los outliers solo en el caso de que estemos entrenando\n",
    "        q1 = df[\"Poder_Adquisitivo\"].quantile(0.25)\n",
    "        q3 = df[\"Poder_Adquisitivo\"].quantile(0.75)\n",
    "        iqr = q3 - q1\n",
    "        fence_low  = q1 - 1.5 * iqr\n",
    "        fence_high = q3 + 1.5 * iqr\n",
    "\n",
    "        df = df.loc[(df[\"Poder_Adquisitivo\"] > fence_low) & (df[\"Poder_Adquisitivo\"] < fence_high)]\n",
    "    \n",
    "        \n",
    "    \n",
    "    # Convertimos las variables a one-hot\n",
    "\n",
    "    # Socio_Demo_01\n",
    "    \n",
    "    topk_socio_01 = df[\"Socio_Demo_01\"].value_counts()[:15]\n",
    "    socio_01_keys = list(topk_socio_01.keys())\n",
    "    \n",
    "    for key in socio_01_keys:\n",
    "        on = df[\"Socio_Demo_01\"] == key\n",
    "        df.insert(loc=len(df.columns), column=\"Socio_Demo_01_\"+str(key), value=on.astype(int))\n",
    "    \n",
    "    # El resto lso agrupamos en 'Other'\n",
    "    condition_array = [False] * len(df[\"Socio_Demo_01\"])\n",
    "    for i in range(len(condition_array)):\n",
    "        condition_array[i] = str(df[\"Socio_Demo_01\"].iloc[i]) not in socio_01_keys\n",
    "    df.insert(loc=len(df.columns), column=\"Socio_Demo_01_Other\", value=condition_array)\n",
    "    df[\"Socio_Demo_01_Other\"] = df[\"Socio_Demo_01_Other\"].astype(int)\n",
    "    \n",
    "    df = df.drop(axis=1, columns=[\"Socio_Demo_01\"])\n",
    "    \n",
    "    # Socio_Demo_02\n",
    "    c1=df[\"Socio_Demo_02\"] == 1\n",
    "    c2=df[\"Socio_Demo_02\"] == 2\n",
    "    df.insert(loc=len(df.columns), column=\"Socio_Demo_02_01\", value=c1.astype(int))\n",
    "    df.insert(loc=len(df.columns), column=\"Socio_Demo_02_02\", value=c2.astype(int))\n",
    "    \n",
    "    df = df.drop(axis=1, columns=[\"Socio_Demo_02\"])\n",
    "\n",
    "    \n",
    "    # Convertimos todas las columnas Ind_prod a one-hot\n",
    "    \n",
    "    for i in range(1,25):\n",
    "        column_name = \"Ind_Prod_\" + str(i).zfill(2)\n",
    "        c0=df[column_name] == 0\n",
    "        c1=df[column_name] == 1\n",
    "        c2=df[column_name] == 2\n",
    "        \n",
    "        df.insert(loc=len(df.columns), column=column_name + \"_00\", value=c0.astype(int))\n",
    "        df.insert(loc=len(df.columns), column=column_name + \"_01\", value=c1.astype(int))\n",
    "        df.insert(loc=len(df.columns), column=column_name + \"_02\", value=c2.astype(int))\n",
    "    \n",
    "        df = df.drop(axis=1, columns=[column_name])\n",
    "    \n",
    "    \n",
    "    \n",
    "    return df\n",
    "    \n",
    "    \n",
    "    \n",
    "    \n",
    "    "
   ]
  },
  {
   "cell_type": "code",
   "execution_count": 12,
   "metadata": {},
   "outputs": [],
   "source": [
    "splits = []\n",
    "splits = get_splits(kf,3)"
   ]
  },
  {
   "cell_type": "code",
   "execution_count": null,
   "metadata": {},
   "outputs": [],
   "source": [
    "%%time\n",
    "model = RandomForestRegressor(n_estimators=50,\n",
    "                                       criterion='mse', max_depth=23, max_features='auto',n_jobs=4,\n",
    "                                       min_samples_leaf=5,random_state=SEED)\n",
    "\n",
    "scores_rmse,scores_mae,scores_mad = train_and_evaluate(model,splits)\n",
    "\n",
    "print(\"RMSE: %f\" % np.mean(scores_rmse))\n",
    "print(\"MAE: %f\" % np.mean(scores_mae))\n",
    "print(\"MAD: %f\" % np.mean(scores_mad))\n",
    "\n",
    "record_scores('beta_ensemble',np.mean(scores_rmse),np.mean(scores_mae),np.mean(scores_mad))"
   ]
  },
  {
   "cell_type": "code",
   "execution_count": null,
   "metadata": {},
   "outputs": [
    {
     "name": "stdout",
     "output_type": "stream",
     "text": [
      "RMSE: 19118.545240\n",
      "MAE: 4397.943756\n",
      "MAD: 2068.395546\n",
      "CPU times: user 15min 5s, sys: 4.91 s, total: 15min 10s\n",
      "Wall time: 4min 30s\n"
     ]
    }
   ],
   "source": [
    "%%time\n",
    "model = xgb.XGBRegressor(max_depth=20, learning_rate=0.1, alpha=0,n_estimators=30, silent=True, objective='reg:linear', \n",
    "                         n_jobs=4, subsample=1.0,colsample_bytree=1.0,min_child_weight=20.0,random_state=SEED)\n",
    "scores_rmse,scores_mae,scores_mad = train_and_evaluate(model,splits)\n",
    "\n",
    "print(\"RMSE: %f\" % np.mean(scores_rmse))\n",
    "print(\"MAE: %f\" % np.mean(scores_mae))\n",
    "print(\"MAD: %f\" % np.mean(scores_mad))\n",
    "\n",
    "record_scores('beta_ensemble',np.mean(scores_rmse),np.mean(scores_mae),np.mean(scores_mad))"
   ]
  },
  {
   "cell_type": "code",
   "execution_count": null,
   "metadata": {},
   "outputs": [],
   "source": [
    "residuals_result = process_df(shuffled_data,2,True)"
   ]
  },
  {
   "cell_type": "code",
   "execution_count": 32,
   "metadata": {},
   "outputs": [
    {
     "data": {
      "text/plain": [
       "<matplotlib.axes._subplots.AxesSubplot at 0x7fb5d096d908>"
      ]
     },
     "execution_count": 32,
     "metadata": {},
     "output_type": "execute_result"
    },
    {
     "data": {
      "image/png": "[encoded data removed]",
      "text/plain": [
       "<matplotlib.figure.Figure at 0x7fb5d09be588>"
      ]
     },
     "metadata": {},
     "output_type": "display_data"
    }
   ],
   "source": [
    "sns.boxplot(residuals_result)"
   ]
  },
  {
   "cell_type": "code",
   "execution_count": 31,
   "metadata": {},
   "outputs": [
    {
     "data": {
      "text/html": [
       "<div>\n",
       "<style scoped>\n",
       "    .dataframe tbody tr th:only-of-type {\n",
       "        vertical-align: middle;\n",
       "    }\n",
       "\n",
       "    .dataframe tbody tr th {\n",
       "        vertical-align: top;\n",
       "    }\n",
       "\n",
       "    .dataframe thead th {\n",
       "        text-align: right;\n",
       "    }\n",
       "</style>\n",
       "<table border=\"1\" class=\"dataframe\">\n",
       "  <thead>\n",
       "    <tr style=\"text-align: right;\">\n",
       "      <th></th>\n",
       "      <th>0</th>\n",
       "    </tr>\n",
       "  </thead>\n",
       "  <tbody>\n",
       "    <tr>\n",
       "      <th>count</th>\n",
       "      <td>3.638340e+05</td>\n",
       "    </tr>\n",
       "    <tr>\n",
       "      <th>mean</th>\n",
       "      <td>3.142650e+03</td>\n",
       "    </tr>\n",
       "    <tr>\n",
       "      <th>std</th>\n",
       "      <td>1.371999e+04</td>\n",
       "    </tr>\n",
       "    <tr>\n",
       "      <th>min</th>\n",
       "      <td>1.208288e-03</td>\n",
       "    </tr>\n",
       "    <tr>\n",
       "      <th>25%</th>\n",
       "      <td>6.248883e+02</td>\n",
       "    </tr>\n",
       "    <tr>\n",
       "      <th>50%</th>\n",
       "      <td>1.538610e+03</td>\n",
       "    </tr>\n",
       "    <tr>\n",
       "      <th>75%</th>\n",
       "      <td>3.215312e+03</td>\n",
       "    </tr>\n",
       "    <tr>\n",
       "      <th>max</th>\n",
       "      <td>4.095259e+06</td>\n",
       "    </tr>\n",
       "  </tbody>\n",
       "</table>\n",
       "</div>"
      ],
      "text/plain": [
       "                  0\n",
       "count  3.638340e+05\n",
       "mean   3.142650e+03\n",
       "std    1.371999e+04\n",
       "min    1.208288e-03\n",
       "25%    6.248883e+02\n",
       "50%    1.538610e+03\n",
       "75%    3.215312e+03\n",
       "max    4.095259e+06"
      ]
     },
     "execution_count": 31,
     "metadata": {},
     "output_type": "execute_result"
    }
   ],
   "source": [
    "residuals = np.absolute(residuals_result)\n",
    "residuals_df = pd.DataFrame(residuals)\n",
    "residuals_df.describe()"
   ]
  },
  {
   "cell_type": "code",
   "execution_count": 36,
   "metadata": {},
   "outputs": [
    {
     "data": {
      "text/plain": [
       "0    24389.578586\n",
       "Name: 0.99, dtype: float64"
      ]
     },
     "execution_count": 36,
     "metadata": {},
     "output_type": "execute_result"
    }
   ],
   "source": [
    "residuals_df.quantile(0.99)"
   ]
  },
  {
   "cell_type": "code",
   "execution_count": 7,
   "metadata": {},
   "outputs": [
    {
     "name": "stdout",
     "output_type": "stream",
     "text": [
      "363834\n",
      "360195\n",
      "360195\n"
     ]
    }
   ],
   "source": [
    "cleaned_data = process_df(shuffled_data,2,True)"
   ]
  },
  {
   "cell_type": "code",
   "execution_count": null,
   "metadata": {},
   "outputs": [],
   "source": []
  },
  {
   "cell_type": "code",
   "execution_count": null,
   "metadata": {},
   "outputs": [],
   "source": []
  }
 ],
 "metadata": {
  "kernelspec": {
   "display_name": "Python 3",
   "language": "python",
   "name": "python3"
  },
  "language_info": {
   "codemirror_mode": {
    "name": "ipython",
    "version": 3
   },
   "file_extension": ".py",
   "mimetype": "text/x-python",
   "name": "python",
   "nbconvert_exporter": "python",
   "pygments_lexer": "ipython3",
   "version": "3.5.2"
  }
 },
 "nbformat": 4,
 "nbformat_minor": 1
}
